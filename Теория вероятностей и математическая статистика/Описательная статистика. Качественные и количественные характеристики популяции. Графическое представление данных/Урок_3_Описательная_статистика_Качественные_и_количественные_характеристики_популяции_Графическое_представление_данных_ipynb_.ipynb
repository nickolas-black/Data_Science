{
  "nbformat": 4,
  "nbformat_minor": 0,
  "metadata": {
    "kernelspec": {
      "display_name": "Python 3",
      "language": "python",
      "name": "python3"
    },
    "language_info": {
      "codemirror_mode": {
        "name": "ipython",
        "version": 3
      },
      "file_extension": ".py",
      "mimetype": "text/x-python",
      "name": "python",
      "nbconvert_exporter": "python",
      "pygments_lexer": "ipython3",
      "version": "3.7.4"
    },
    "colab": {
      "name": "Урок 3. Описательная статистика. Качественные и количественные характеристики популяции. Графическое представление данных.ipynb\"",
      "provenance": [],
      "collapsed_sections": []
    }
  },
  "cells": [
    {
      "cell_type": "markdown",
      "metadata": {
        "id": "zdSh1_KRIs2e",
        "colab_type": "text"
      },
      "source": [
        "# Урок 3. Описательная статистика. Качественные и количественные характеристики популяции. Графическое представление данных\n",
        "\n",
        "## Выполнил - Колеганов Н.Д."
      ]
    },
    {
      "cell_type": "markdown",
      "metadata": {
        "id": "NcMjC8TKJvaf",
        "colab_type": "text"
      },
      "source": [
        "# Задание\n",
        "**Задача 1**\n",
        "\n",
        "Даны значения зарплат из выборки выпускников:\n",
        "\n",
        "100, 80, 75, 77, 89, 33, 45, 25, 65, 17, 30, 230, 24, 57, 55, 70, 75, 65, 84, 90, 150\n",
        "\n",
        "Используя только встроенные питоновские функции и структуры данных (т.е. без библиотек numpy, pandas и др.) посчитать среднее арифметическое, смещённую и несмещённую оценки дисперсии, среднее квадратичное отклонение для данной выборки.\n",
        "\n",
        "Можно затем посчитать те же значения с использованием библиотек, чтобы проверить себя.\n",
        "\n",
        "**Задача 2**\n",
        "\n",
        "Для выборки из задачи 1 найти (также без использования библиотек):\n",
        "1. медиану, первый и третий квартили, интерквартильное расстояние,\n",
        "2. выборсы в выборке (используя для этого метод как при построении \"усов\" из boxplot).\n",
        "\n",
        "Возможные неоднозначности в вычислении квантилей можно разрешать любым способом.\n",
        "\n",
        "**Задача 3**\n",
        "\n",
        "В университет на факультеты A и B поступило равное количество студентов, а на факультет C студентов поступило столько же, сколько на A и B вместе. Вероятность того, что студент факультета A сдаст первую сессию, равна 0.8. Для студента факультета B эта вероятность равна 0.7, а для студента факультета C - 0.9. Студент сдал первую сессию. Какова вероятность, что он учится: a) на факультете A? б) на факультете B? в) на факультете C?\n",
        "\n",
        "Замечание: да, эта задача не на тему описательных статистик, но тема важная, и её стоит иногда освежать в памяти."
      ]
    },
    {
      "cell_type": "code",
      "metadata": {
        "id": "h6dIVf5ZIs2f",
        "colab_type": "code",
        "colab": {}
      },
      "source": [
        "import numpy as np\n",
        "import math\n",
        "import numpy as np"
      ],
      "execution_count": 1,
      "outputs": []
    },
    {
      "cell_type": "markdown",
      "metadata": {
        "id": "ZjGfVKvbIs2k",
        "colab_type": "text"
      },
      "source": [
        "### **Задача 1**"
      ]
    },
    {
      "cell_type": "markdown",
      "metadata": {
        "id": "CCdTvurGIs2m",
        "colab_type": "text"
      },
      "source": [
        "Даны значения зарплат из выборки выпускников:\n",
        "\n",
        "100, 80, 75, 77, 89, 33, 45, 25, 65, 17, 30, 230, 24, 57, 55, 70, 75, 65, 84, 90, 150\n",
        "\n",
        "Используя только встроенные питоновские функции и структуры данных (т.е. без библиотек numpy, pandas и др.) посчитать среднее арифметическое, смещённую и несмещённую оценки дисперсии, среднее квадратичное отклонение для данной выборки.\n",
        "\n",
        "Можно затем посчитать те же значения с использованием библиотек, чтобы проверить себя."
      ]
    },
    {
      "cell_type": "markdown",
      "metadata": {
        "id": "oeOBSr7fKAxi",
        "colab_type": "text"
      },
      "source": [
        "## *Решение*"
      ]
    },
    {
      "cell_type": "code",
      "metadata": {
        "id": "zJoVtZ1DqZks",
        "colab_type": "code",
        "colab": {}
      },
      "source": [
        "data = [100, 80, 75, 77, 89, 33, 45, 25, 65, 17, 30, 230, 24, 57, 55, 70, 75, 65, 84, 90, 150]"
      ],
      "execution_count": 2,
      "outputs": []
    },
    {
      "cell_type": "markdown",
      "metadata": {
        "id": "sBlz7CpsIs2t",
        "colab_type": "text"
      },
      "source": [
        "среднее"
      ]
    },
    {
      "cell_type": "code",
      "metadata": {
        "id": "r1qt-KK1qhER",
        "colab_type": "code",
        "colab": {}
      },
      "source": [
        "def average(values):\n",
        "    result = 0\n",
        "    for i in range(len(values)):\n",
        "        result += values[i]\n",
        "    return result / len(values)"
      ],
      "execution_count": 3,
      "outputs": []
    },
    {
      "cell_type": "code",
      "metadata": {
        "id": "zKu-LxXhIs2t",
        "colab_type": "code",
        "colab": {
          "base_uri": "https://localhost:8080/",
          "height": 34
        },
        "outputId": "560bb303-6226-41cc-9b6b-07421a2b1b49"
      },
      "source": [
        "print(average(data))"
      ],
      "execution_count": 4,
      "outputs": [
        {
          "output_type": "stream",
          "text": [
            "73.14285714285714\n"
          ],
          "name": "stdout"
        }
      ]
    },
    {
      "cell_type": "markdown",
      "metadata": {
        "id": "QIjTr-1JqqT5",
        "colab_type": "text"
      },
      "source": [
        "дисперсия"
      ]
    },
    {
      "cell_type": "code",
      "metadata": {
        "id": "tKpbxraVqs4x",
        "colab_type": "code",
        "colab": {}
      },
      "source": [
        "def dispersion(values):\n",
        "    avr = average(values)\n",
        "    result = 0\n",
        "    for i in range(len(values)):\n",
        "        result += (values[i] - avr)**2\n",
        "    return result / len(values)"
      ],
      "execution_count": 5,
      "outputs": []
    },
    {
      "cell_type": "code",
      "metadata": {
        "id": "wxHOo2q4qt0S",
        "colab_type": "code",
        "colab": {
          "base_uri": "https://localhost:8080/",
          "height": 34
        },
        "outputId": "daef4cc0-5db4-453f-e8be-b39128b7b643"
      },
      "source": [
        "print(dispersion(data))"
      ],
      "execution_count": 6,
      "outputs": [
        {
          "output_type": "stream",
          "text": [
            "2135.074829931973\n"
          ],
          "name": "stdout"
        }
      ]
    },
    {
      "cell_type": "markdown",
      "metadata": {
        "id": "QSgPDSgvqwYB",
        "colab_type": "text"
      },
      "source": [
        "\n",
        "Несмещенная дисперсия"
      ]
    },
    {
      "cell_type": "code",
      "metadata": {
        "id": "lYI3M1a7q2Ys",
        "colab_type": "code",
        "colab": {}
      },
      "source": [
        "def unbiased_dispersion(values):\n",
        "    avr = average(values)\n",
        "    result = 0\n",
        "    for i in range(len(values)):\n",
        "        result += (values[i] - avr)**2\n",
        "    return result / (len(values) - 1)"
      ],
      "execution_count": 7,
      "outputs": []
    },
    {
      "cell_type": "code",
      "metadata": {
        "id": "xOqgbnghq7PJ",
        "colab_type": "code",
        "colab": {
          "base_uri": "https://localhost:8080/",
          "height": 34
        },
        "outputId": "08bac338-652a-4449-8624-cf1d179053a9"
      },
      "source": [
        "print(unbiased_dispersion(data))"
      ],
      "execution_count": 8,
      "outputs": [
        {
          "output_type": "stream",
          "text": [
            "2241.8285714285716\n"
          ],
          "name": "stdout"
        }
      ]
    },
    {
      "cell_type": "markdown",
      "metadata": {
        "id": "3PZfYLOXq-FR",
        "colab_type": "text"
      },
      "source": [
        "Среднеквадратичное отклонение"
      ]
    },
    {
      "cell_type": "code",
      "metadata": {
        "id": "n9Qkrqw4rANY",
        "colab_type": "code",
        "colab": {}
      },
      "source": [
        "def standard_deviation(values):\n",
        "    return math.sqrt(dispersion(values))"
      ],
      "execution_count": 9,
      "outputs": []
    },
    {
      "cell_type": "code",
      "metadata": {
        "id": "FINYAgysrJmC",
        "colab_type": "code",
        "colab": {
          "base_uri": "https://localhost:8080/",
          "height": 34
        },
        "outputId": "70fdc056-e7f3-4ff7-f116-a422a959292f"
      },
      "source": [
        "print(standard_deviation(data))"
      ],
      "execution_count": 10,
      "outputs": [
        {
          "output_type": "stream",
          "text": [
            "46.20686994302874\n"
          ],
          "name": "stdout"
        }
      ]
    },
    {
      "cell_type": "markdown",
      "metadata": {
        "id": "R3igRVVcrL9R",
        "colab_type": "text"
      },
      "source": [
        "\n",
        "Несмещенная среднеквадратичное отклонение"
      ]
    },
    {
      "cell_type": "code",
      "metadata": {
        "id": "yN_AjCNlrSrd",
        "colab_type": "code",
        "colab": {}
      },
      "source": [
        "def unbiased_standard_deviation(values):\n",
        "    return math.sqrt(unbiased_dispersion(values))"
      ],
      "execution_count": 11,
      "outputs": []
    },
    {
      "cell_type": "code",
      "metadata": {
        "id": "M7acDAamrVvx",
        "colab_type": "code",
        "colab": {
          "base_uri": "https://localhost:8080/",
          "height": 34
        },
        "outputId": "1c45f65e-68e4-420d-ed22-5cac18f7ed88"
      },
      "source": [
        "print(unbiased_standard_deviation(data))"
      ],
      "execution_count": 12,
      "outputs": [
        {
          "output_type": "stream",
          "text": [
            "47.34795213553139\n"
          ],
          "name": "stdout"
        }
      ]
    },
    {
      "cell_type": "markdown",
      "metadata": {
        "id": "W3tIw1skIs2x",
        "colab_type": "text"
      },
      "source": [
        "### **Задача 2**"
      ]
    },
    {
      "cell_type": "markdown",
      "metadata": {
        "id": "_S1dSEocIs2y",
        "colab_type": "text"
      },
      "source": [
        "\n",
        "Для выборки из задачи 1 найти (также без использования библиотек):\n",
        "\n",
        "медиану, первый и третий квартили, интерквартильное расстояние,\n",
        "выборсы в выборке (используя для этого метод как при построении \"усов\" из boxplot)."
      ]
    },
    {
      "cell_type": "markdown",
      "metadata": {
        "id": "Pa8T4wA3KOuV",
        "colab_type": "text"
      },
      "source": [
        "## *Решение*"
      ]
    },
    {
      "cell_type": "markdown",
      "metadata": {
        "id": "aswF-AgsIs2y",
        "colab_type": "text"
      },
      "source": [
        "\n",
        "Предполагаем, что все исходы равновероятны.\n",
        "\n",
        "Квантиль"
      ]
    },
    {
      "cell_type": "code",
      "metadata": {
        "id": "tdhcgw21Is24",
        "colab_type": "code",
        "colab": {}
      },
      "source": [
        "def quantile(values, value):\n",
        "    values = sorted(values)\n",
        "    return values[int(value * len(values))]"
      ],
      "execution_count": 13,
      "outputs": []
    },
    {
      "cell_type": "code",
      "metadata": {
        "id": "Vc_IFZJvsMN2",
        "colab_type": "code",
        "colab": {
          "base_uri": "https://localhost:8080/",
          "height": 34
        },
        "outputId": "440d2d9e-312e-45e4-ba18-c0188e5f423c"
      },
      "source": [
        "print(quantile(data, 0.5))"
      ],
      "execution_count": 14,
      "outputs": [
        {
          "output_type": "stream",
          "text": [
            "70\n"
          ],
          "name": "stdout"
        }
      ]
    },
    {
      "cell_type": "markdown",
      "metadata": {
        "id": "3BaLMTVIIs28",
        "colab_type": "text"
      },
      "source": [
        "Первый квантиль"
      ]
    },
    {
      "cell_type": "code",
      "metadata": {
        "id": "tx-chGfasbup",
        "colab_type": "code",
        "colab": {}
      },
      "source": [
        "def quantile_1(values):\n",
        "    return quantile(values, 0.25)"
      ],
      "execution_count": 15,
      "outputs": []
    },
    {
      "cell_type": "code",
      "metadata": {
        "id": "KhUyvUlvseLJ",
        "colab_type": "code",
        "colab": {
          "base_uri": "https://localhost:8080/",
          "height": 34
        },
        "outputId": "a6786646-d61c-459f-94ef-ae4c26246704"
      },
      "source": [
        "print(quantile_1(data))"
      ],
      "execution_count": 16,
      "outputs": [
        {
          "output_type": "stream",
          "text": [
            "45\n"
          ],
          "name": "stdout"
        }
      ]
    },
    {
      "cell_type": "markdown",
      "metadata": {
        "id": "grnQMkFWsgCY",
        "colab_type": "text"
      },
      "source": [
        "Медиана"
      ]
    },
    {
      "cell_type": "code",
      "metadata": {
        "id": "-K-IUJhHsjNC",
        "colab_type": "code",
        "colab": {}
      },
      "source": [
        "def median(values):\n",
        "    return quantile(values, 0.5)"
      ],
      "execution_count": 17,
      "outputs": []
    },
    {
      "cell_type": "code",
      "metadata": {
        "id": "dNNSerhkspOY",
        "colab_type": "code",
        "colab": {
          "base_uri": "https://localhost:8080/",
          "height": 34
        },
        "outputId": "9e1c5b84-457e-4f8b-c1ff-311fd30f73a5"
      },
      "source": [
        "print(median(data))"
      ],
      "execution_count": 18,
      "outputs": [
        {
          "output_type": "stream",
          "text": [
            "70\n"
          ],
          "name": "stdout"
        }
      ]
    },
    {
      "cell_type": "markdown",
      "metadata": {
        "id": "LUXLHBKMsst3",
        "colab_type": "text"
      },
      "source": [
        "Третий квантиль"
      ]
    },
    {
      "cell_type": "code",
      "metadata": {
        "id": "NjnruW6HstZA",
        "colab_type": "code",
        "colab": {}
      },
      "source": [
        "def quantile_3(values):\n",
        "    return quantile(values, 0.75)"
      ],
      "execution_count": 19,
      "outputs": []
    },
    {
      "cell_type": "code",
      "metadata": {
        "id": "zXiHt2aAswt4",
        "colab_type": "code",
        "colab": {
          "base_uri": "https://localhost:8080/",
          "height": 34
        },
        "outputId": "9305f261-dfca-4159-ab76-9f14c55cea5e"
      },
      "source": [
        "print(quantile_3(data))"
      ],
      "execution_count": 20,
      "outputs": [
        {
          "output_type": "stream",
          "text": [
            "84\n"
          ],
          "name": "stdout"
        }
      ]
    },
    {
      "cell_type": "markdown",
      "metadata": {
        "id": "IQCW0MhEs18e",
        "colab_type": "text"
      },
      "source": [
        "Интерквартильное расстояние"
      ]
    },
    {
      "cell_type": "code",
      "metadata": {
        "id": "S8L9OW9Os4RI",
        "colab_type": "code",
        "colab": {}
      },
      "source": [
        "def interquartile_distance(values):\n",
        "    return quantile_3(values) - quantile_1(values)"
      ],
      "execution_count": 21,
      "outputs": []
    },
    {
      "cell_type": "code",
      "metadata": {
        "id": "nt6JzzaptCVx",
        "colab_type": "code",
        "colab": {
          "base_uri": "https://localhost:8080/",
          "height": 34
        },
        "outputId": "21777ed9-e065-4808-9f01-534fa5cecf63"
      },
      "source": [
        "print(interquartile_distance(data))"
      ],
      "execution_count": 22,
      "outputs": [
        {
          "output_type": "stream",
          "text": [
            "39\n"
          ],
          "name": "stdout"
        }
      ]
    },
    {
      "cell_type": "markdown",
      "metadata": {
        "id": "bXWvPYeVtFT5",
        "colab_type": "text"
      },
      "source": [
        "Выбросы в выборке"
      ]
    },
    {
      "cell_type": "code",
      "metadata": {
        "id": "O_0YZaHwtHcL",
        "colab_type": "code",
        "colab": {}
      },
      "source": [
        "def clear_ejection(values):\n",
        "    id = interquartile_distance(values)\n",
        "    min_mustache = quantile_1(values) - 1.5 * id\n",
        "    max_mustache = quantile_3(values) + 1.5 * id\n",
        "    result = []\n",
        "    for item in values:\n",
        "        if (item < min_mustache or item > max_mustache):\n",
        "            result.append(item)\n",
        "    return result"
      ],
      "execution_count": 23,
      "outputs": []
    },
    {
      "cell_type": "code",
      "metadata": {
        "id": "uUaUJtwLtLYS",
        "colab_type": "code",
        "colab": {
          "base_uri": "https://localhost:8080/",
          "height": 34
        },
        "outputId": "7e3e9c21-d678-487f-b4c6-83e3a1636b53"
      },
      "source": [
        "print(clear_ejection(data))"
      ],
      "execution_count": 24,
      "outputs": [
        {
          "output_type": "stream",
          "text": [
            "[230, 150]\n"
          ],
          "name": "stdout"
        }
      ]
    },
    {
      "cell_type": "markdown",
      "metadata": {
        "id": "sZdVG1flt8sq",
        "colab_type": "text"
      },
      "source": [
        "### **Задача 3**"
      ]
    },
    {
      "cell_type": "markdown",
      "metadata": {
        "id": "4eJT37dCt9B8",
        "colab_type": "text"
      },
      "source": [
        "В университет на факультеты A и B поступило равное количество студентов, а на факультет C студентов поступило столько же, сколько на A и B вместе. Вероятность того, что студент факультета A сдаст первую сессию, равна 0.8. Для студента факультета B эта вероятность равна 0.7, а для студента факультета C - 0.9. Студент сдал первую сессию. Какова вероятность, что он учится: a) на факультете A? б) на факультете B? в) на факультете C?\n",
        "\n",
        "Замечание: да, эта задача не на тему описательных статистик, но тема важная, и её стоит иногда освежать в памяти."
      ]
    },
    {
      "cell_type": "markdown",
      "metadata": {
        "id": "RQReFR6NKTRo",
        "colab_type": "text"
      },
      "source": [
        "## *Решение*"
      ]
    },
    {
      "cell_type": "markdown",
      "metadata": {
        "id": "RK4uXJ4yIs3I",
        "colab_type": "text"
      },
      "source": [
        "\n",
        "Событие B студент поступил. Событие A сдал сессию.\n",
        "\n",
        "Предположим, что на факультет A поступило $n$ человек, тогда на факультет B тоже поступило $n$ человек, а на факультет C поступило $2n$ человек. Всего поступило $N = n + n + 2n = 4n$, тогда вероятность того, что студент поступил на факультеты A и B равна $\\frac{n}{4n} = \\frac{1}{4}$, а на факультет C $\\frac{2n}{4n} = \\frac{1}{2}$\n",
        "\n",
        "$$P(B_A) = P(B_B) = \\frac{1}{4}, P(B_C) = \\frac{1}{2}$$\n",
        "Тогда по формуле полной вероятности\n",
        "\n",
        "$$P(A) = \\frac{1}{4} \\cdot 0,8 + \\frac{1}{4} \\cdot 0,7 + \\frac{1}{2} \\cdot 0,9 = 0,825$$\n",
        "a) на факультете A\n",
        "\n",
        "$$P(A|B_A) = \\dfrac{0,25 \\cdot 0,8}{0,825} = 0,2424$$\n",
        "б) на факультете B\n",
        "\n",
        "$$P(A|B_B) = \\dfrac{0,25 \\cdot 0,7}{0,825} = 0.2121$$\n",
        "в) на факультете C\n",
        "\n",
        "$$P(A|B_C) = \\dfrac{0,5 \\cdot 0,9}{0,825} = 0.5455$$"
      ]
    }
  ]
}