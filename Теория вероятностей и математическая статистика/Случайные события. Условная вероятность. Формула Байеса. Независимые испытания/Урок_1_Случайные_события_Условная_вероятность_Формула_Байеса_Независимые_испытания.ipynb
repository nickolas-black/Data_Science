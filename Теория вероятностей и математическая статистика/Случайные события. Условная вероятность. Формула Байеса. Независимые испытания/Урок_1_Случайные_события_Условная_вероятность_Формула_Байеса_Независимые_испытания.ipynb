{
  "nbformat": 4,
  "nbformat_minor": 0,
  "metadata": {
    "kernelspec": {
      "display_name": "Python 3",
      "language": "python",
      "name": "python3"
    },
    "language_info": {
      "codemirror_mode": {
        "name": "ipython",
        "version": 3
      },
      "file_extension": ".py",
      "mimetype": "text/x-python",
      "name": "python",
      "nbconvert_exporter": "python",
      "pygments_lexer": "ipython3",
      "version": "3.7.4"
    },
    "colab": {
      "name": "Урок 1. Случайные события. Условная вероятность. Формула Байеса. Независимые испытания.ipynb",
      "provenance": [],
      "collapsed_sections": []
    }
  },
  "cells": [
    {
      "cell_type": "markdown",
      "metadata": {
        "id": "p0RqzbWbXU78",
        "colab_type": "text"
      },
      "source": [
        "# Урок 1. Случайные события. Условная вероятность. Формула Байеса. Независимые испытания\n",
        "\n",
        "## Выполнил - Колеганов Н.Д."
      ]
    },
    {
      "cell_type": "markdown",
      "metadata": {
        "id": "Vs5C0HtOX639",
        "colab_type": "text"
      },
      "source": [
        "# Задание\n",
        "**Задача 1**\n",
        "\n",
        "Имеется колода в 52 карты. Найти число возможностей вытянуть из неё 4 карты так, чтобы среди них был хотя бы один туз.\n",
        "\n",
        "**Задача 2**\n",
        "\n",
        "Семь человек рассаживаются наудачу на скамейке. Какова вероятность того, что рядом будут сидеть: а) два определённых человека? б) три определённых человека?\n",
        "\n",
        "**Задача 3**\n",
        "\n",
        "Из 60 вопросов, входящих в экзаменационные билеты, студент знает 50. Какова вероятность того, что среди трёх наугад выбранных вопросов студент знает: а) все? б) два?\n",
        "\n",
        "**Задача 4**\n",
        "\n",
        "Бросается игральная кость. Пусть событие A - появление чётного числа, событие B - появление числа больше трёх. Являются ли эти события независимыми?\n",
        "\n",
        "**Задача 5**\n",
        "\n",
        "Допустим, имеется некоторая очень редкая болезнь (поражает 0.1% населения). Вы приходите к врачу, вам делают тест на эту болезнь, и тест оказывается положительным. Врач говорит вам, что этот тест верно выявляет 99% больных этой болезнью и всего лишь в 1% случаев даёт ложный положительный ответ.\n",
        "\n",
        "Вопрос: какова вероятность, что вы действительно больны ей?\n"
      ]
    },
    {
      "cell_type": "code",
      "metadata": {
        "id": "mzswLGoCXU7-",
        "colab_type": "code",
        "colab": {}
      },
      "source": [
        "import numpy as np"
      ],
      "execution_count": 1,
      "outputs": []
    },
    {
      "cell_type": "code",
      "metadata": {
        "id": "9j-3NzP0XU8H",
        "colab_type": "code",
        "colab": {}
      },
      "source": [
        "# Число размещений\n",
        "def arrangements(n: int, k: int) -> int:\n",
        "    return np.math.factorial(n) // np.math.factorial(n - k)"
      ],
      "execution_count": 2,
      "outputs": []
    },
    {
      "cell_type": "code",
      "metadata": {
        "id": "j9OStd8aXU8N",
        "colab_type": "code",
        "colab": {}
      },
      "source": [
        "# Число перестановок\n",
        "def permutations(n: int) -> int:\n",
        "    return np.math.factorial(n)"
      ],
      "execution_count": 3,
      "outputs": []
    },
    {
      "cell_type": "code",
      "metadata": {
        "id": "qm3c4Sj6XU8S",
        "colab_type": "code",
        "colab": {}
      },
      "source": [
        "# Число сочетаний\n",
        "def combinations(n: int, k: int) -> int:\n",
        "    return np.math.factorial(n) // (np.math.factorial(k) * np.math.factorial(n - k))"
      ],
      "execution_count": 4,
      "outputs": []
    },
    {
      "cell_type": "markdown",
      "metadata": {
        "id": "-BsUQw5fXU8X",
        "colab_type": "text"
      },
      "source": [
        "### **Задача 1**"
      ]
    },
    {
      "cell_type": "markdown",
      "metadata": {
        "id": "IUCvyOhtXU8Y",
        "colab_type": "text"
      },
      "source": [
        "Из колоды в 52 карты вынимают случайным образом 4 карты. Найти число исходов, соответствующих тому, что был вытянут хотя бы один туз."
      ]
    },
    {
      "cell_type": "markdown",
      "metadata": {
        "id": "pMUxO0MUY8NT",
        "colab_type": "text"
      },
      "source": [
        "## *Решение*"
      ]
    },
    {
      "cell_type": "markdown",
      "metadata": {
        "id": "xpZr2_xgXU8Z",
        "colab_type": "text"
      },
      "source": [
        "Искомое число можно найти по частям.\n",
        "Фраза **\"был вытянут хотя бы один туз\"** означает, что может быть вытянут или 1 или 2 или 3 или 4 туза:\n",
        "\n",
        "- Пусть число $a$ соответствует ситуации, когда среди $4$ вытянутых карт $1$ туз.\n",
        "\n",
        "- Пусть число $b$ соответствует ситуации, когда среди $4$ вытянутых карт $2$ туза.\n",
        "\n",
        "- Пусть число $c$ соответствует ситуации, когда среди $4$ вытянутых карт $3$ туза.\n",
        "\n",
        "- Пусть число $d$ соответствует ситуации, когда среди $4$ вытянутых карт $4$ туза.\n",
        "\n",
        "\n",
        "Итак, рассмотрим первую ситуацию: среди $4$ вытянутых карт $1$ туз. Это означает, что\n",
        "1. тузы вытягиваются случайно из множества, содержащего $4$ туза,\n",
        "2. оставшиеся карты вытягиваются случайно из множества, содержащего оставшиеся $32$ карты (всё кроме тузов)."
      ]
    },
    {
      "cell_type": "markdown",
      "metadata": {
        "id": "wlKi7z4tXU8b",
        "colab_type": "text"
      },
      "source": [
        "Рассмотрим ситуацию, когда всего $1$ туз (число a). Соответственно, из оставшихся $32$ карт мы вытягиваем $3$ карты."
      ]
    },
    {
      "cell_type": "code",
      "metadata": {
        "id": "pCUJLPf2XU8c",
        "colab_type": "code",
        "colab": {
          "base_uri": "https://localhost:8080/",
          "height": 34
        },
        "outputId": "6289ee98-255d-4a19-d009-052bfc401810"
      },
      "source": [
        "a = combinations(4, 1) * combinations(32, 3)\n",
        "print(a)"
      ],
      "execution_count": 5,
      "outputs": [
        {
          "output_type": "stream",
          "text": [
            "19840\n"
          ],
          "name": "stdout"
        }
      ]
    },
    {
      "cell_type": "markdown",
      "metadata": {
        "id": "Qpha9e6rXU8j",
        "colab_type": "text"
      },
      "source": [
        "Рассмотрим ситуацию, когда тузов $2$ (число b). Соответственно, из оставшихся $32$ карт мы вытягиваем $2$."
      ]
    },
    {
      "cell_type": "code",
      "metadata": {
        "id": "FMjgg6yfXU8k",
        "colab_type": "code",
        "colab": {
          "base_uri": "https://localhost:8080/",
          "height": 34
        },
        "outputId": "98a47df8-2e0c-4fb3-f649-ff9a4df7f0a6"
      },
      "source": [
        "b = combinations(4, 2) * combinations(32, 2)\n",
        "print(b)"
      ],
      "execution_count": 6,
      "outputs": [
        {
          "output_type": "stream",
          "text": [
            "2976\n"
          ],
          "name": "stdout"
        }
      ]
    },
    {
      "cell_type": "markdown",
      "metadata": {
        "id": "9GLkoqOiXU8r",
        "colab_type": "text"
      },
      "source": [
        "Рассмотрим ситуацию, когда тузов $3$ (число c). Соответственно, из оставшихся $32$ карт мы вытягиваем $1$."
      ]
    },
    {
      "cell_type": "code",
      "metadata": {
        "id": "NOTrqiOoXU8t",
        "colab_type": "code",
        "colab": {
          "base_uri": "https://localhost:8080/",
          "height": 34
        },
        "outputId": "0d79240b-6724-4b61-8988-25fd457f0b2c"
      },
      "source": [
        "c = combinations(4, 3) * combinations(32, 1)\n",
        "print(c)"
      ],
      "execution_count": 7,
      "outputs": [
        {
          "output_type": "stream",
          "text": [
            "128\n"
          ],
          "name": "stdout"
        }
      ]
    },
    {
      "cell_type": "markdown",
      "metadata": {
        "id": "XGRIK7DvXU8y",
        "colab_type": "text"
      },
      "source": [
        "Рассмотрим ситуацию, когда тузов $4$ (число d). Соответственно, из оставшихся $32$ карт мы ничего не вытягиваем."
      ]
    },
    {
      "cell_type": "code",
      "metadata": {
        "id": "sp73WVbqXU8z",
        "colab_type": "code",
        "colab": {
          "base_uri": "https://localhost:8080/",
          "height": 34
        },
        "outputId": "54a2a329-e4de-4df2-9c4c-76c9924f65db"
      },
      "source": [
        "d = combinations(4, 4) * combinations(32, 0)\n",
        "print(d)"
      ],
      "execution_count": 8,
      "outputs": [
        {
          "output_type": "stream",
          "text": [
            "1\n"
          ],
          "name": "stdout"
        }
      ]
    },
    {
      "cell_type": "markdown",
      "metadata": {
        "id": "NKT1s5LUXU84",
        "colab_type": "text"
      },
      "source": [
        "Искомое число способов:"
      ]
    },
    {
      "cell_type": "code",
      "metadata": {
        "id": "WuZfbkwPXU85",
        "colab_type": "code",
        "colab": {
          "base_uri": "https://localhost:8080/",
          "height": 34
        },
        "outputId": "9ee280a3-1529-4ad4-db97-2f3ac2caa184"
      },
      "source": [
        "a + b + c + d"
      ],
      "execution_count": 9,
      "outputs": [
        {
          "output_type": "execute_result",
          "data": {
            "text/plain": [
              "22945"
            ]
          },
          "metadata": {
            "tags": []
          },
          "execution_count": 9
        }
      ]
    },
    {
      "cell_type": "markdown",
      "metadata": {
        "id": "IHYIUIcvXU8_",
        "colab_type": "text"
      },
      "source": [
        "### **Задача 2**"
      ]
    },
    {
      "cell_type": "markdown",
      "metadata": {
        "id": "l6w6meZEXU9A",
        "colab_type": "text"
      },
      "source": [
        "Семь человек рассаживаются наудачу на скамейке. Какова вероятность того, что рядом будут сидеть: а) два определённых человека? б) три определённых человека?"
      ]
    },
    {
      "cell_type": "markdown",
      "metadata": {
        "colab_type": "text",
        "id": "IOIaenGcZzCy"
      },
      "source": [
        "## *Решение*"
      ]
    },
    {
      "cell_type": "markdown",
      "metadata": {
        "id": "Rruppeh3XU9D",
        "colab_type": "text"
      },
      "source": [
        "a) Рассадить всех можно $7!$ способами. Допустим посадили одного определенного человека, тогда остальных человек можно рассадить $6!$ способами. Каждая пара может сесть двумя различными способами."
      ]
    },
    {
      "cell_type": "markdown",
      "metadata": {
        "id": "8k6-VvimXU9F",
        "colab_type": "text"
      },
      "source": [
        "$$n = {7!}, m = {2}\\cdot{6!}$$"
      ]
    },
    {
      "cell_type": "markdown",
      "metadata": {
        "id": "lQH6dkVhXU9H",
        "colab_type": "text"
      },
      "source": [
        "$$P = \\frac{m}{n} = \\frac{{2}\\cdot{6!}}{7!} = \\frac{2}{7} ≈ 0,29$$"
      ]
    },
    {
      "cell_type": "markdown",
      "metadata": {
        "id": "oAldGzx4XU9I",
        "colab_type": "text"
      },
      "source": [
        "б) Рассадить всех можно $7!$ способами. Допустим посадили двух определенных человек, тогда остальных человек можно рассадить $5!$ способами. Каждая тройка может сесть $3!$ различными способами."
      ]
    },
    {
      "cell_type": "markdown",
      "metadata": {
        "id": "frHXLvPTXU9J",
        "colab_type": "text"
      },
      "source": [
        "$$n = {7!}, m = {5!}\\cdot{3!} = 720$$"
      ]
    },
    {
      "cell_type": "markdown",
      "metadata": {
        "id": "bOn2L9FxXU9L",
        "colab_type": "text"
      },
      "source": [
        "$$P = \\frac{m}{n} = \\frac{720}{7!} = \\frac{1}{7} ≈ 0,142857$$"
      ]
    },
    {
      "cell_type": "markdown",
      "metadata": {
        "id": "gd-h2nuCXU9M",
        "colab_type": "text"
      },
      "source": [
        "### **Задача 3**"
      ]
    },
    {
      "cell_type": "markdown",
      "metadata": {
        "id": "R7ogZTpYXU9N",
        "colab_type": "text"
      },
      "source": [
        "Из 60 вопросов, входящих в экзаменационные билеты, студент знает 50. Какова вероятность того, что среди трёх наугад выбранных вопросов студент знает: а) все? б) два?"
      ]
    },
    {
      "cell_type": "markdown",
      "metadata": {
        "colab_type": "text",
        "id": "0VCsF6tGZ6FS"
      },
      "source": [
        "## *Решение*"
      ]
    },
    {
      "cell_type": "markdown",
      "metadata": {
        "id": "w5tTo-Z0XU9O",
        "colab_type": "text"
      },
      "source": [
        "Всего сочетаний по $3$ вопроса из $60$ будет"
      ]
    },
    {
      "cell_type": "markdown",
      "metadata": {
        "id": "NdxjRWH9XU9Q",
        "colab_type": "text"
      },
      "source": [
        "$$n = C_{60}^3 = \\frac{60!}{3! \\cdot (60 - 3)!} = \\frac{60!}{3! \\cdot 57!} = \\frac{58 \\cdot 59 \\cdot 60}{1 \\cdot 2 \\cdot 3} = 34220$$"
      ]
    },
    {
      "cell_type": "markdown",
      "metadata": {
        "id": "G753SvkxXU9R",
        "colab_type": "text"
      },
      "source": [
        "a) Всего сочетаний по $3$ вопроса из $50$ знакомых вопросов будет"
      ]
    },
    {
      "cell_type": "markdown",
      "metadata": {
        "id": "vlaD4zf3XU9S",
        "colab_type": "text"
      },
      "source": [
        "$$m = C_{50}^3 = \\frac{50!}{3! \\cdot (50 - 3)!} = \\frac{50!}{3! \\cdot 47!} = \\frac{48 \\cdot 49 \\cdot 50}{1 \\cdot 2 \\cdot 3} = 19600$$"
      ]
    },
    {
      "cell_type": "markdown",
      "metadata": {
        "id": "72jx4lh2XU9T",
        "colab_type": "text"
      },
      "source": [
        "Тогда"
      ]
    },
    {
      "cell_type": "markdown",
      "metadata": {
        "id": "pgqiFkiPXU9U",
        "colab_type": "text"
      },
      "source": [
        "$$P = \\frac{m}{n} = \\frac{19600}{34220} ≈ 0,57277$$"
      ]
    },
    {
      "cell_type": "markdown",
      "metadata": {
        "id": "853zQFq8XU9V",
        "colab_type": "text"
      },
      "source": [
        "б) Всего сочетаний по $2$ вопроса из $50$ знакомых вопросов будет"
      ]
    },
    {
      "cell_type": "markdown",
      "metadata": {
        "id": "x-Pi3nwUXU9W",
        "colab_type": "text"
      },
      "source": [
        "$$m_1 = C_{50}^2 = \\frac{50!}{2! \\cdot (50 - 2)!} = \\frac{50!}{2! \\cdot 48!} = \\frac{49 \\cdot 50}{1 \\cdot 2} = 1225$$"
      ]
    },
    {
      "cell_type": "markdown",
      "metadata": {
        "id": "cbE-aJs9XU9X",
        "colab_type": "text"
      },
      "source": [
        "Всего по одному вопросу из $10$ незнакомых будет"
      ]
    },
    {
      "cell_type": "markdown",
      "metadata": {
        "id": "PZvhiskJXU9Y",
        "colab_type": "text"
      },
      "source": [
        "$$m_1 = C_{10}^1 = \\frac{10!}{1! \\cdot (10 - 1)!} = \\frac{10!}{1! \\cdot 9!} = 10$$"
      ]
    },
    {
      "cell_type": "markdown",
      "metadata": {
        "id": "4QzUtTkxXU9Z",
        "colab_type": "text"
      },
      "source": [
        "Таким образом общее количество сочетаний 1 неизвестного вопроса и 2-х известных"
      ]
    },
    {
      "cell_type": "markdown",
      "metadata": {
        "id": "Y0ng5vCfXU9b",
        "colab_type": "text"
      },
      "source": [
        "$$m = m_1 \\cdot m_2 = 1225 \\cdot 10 = 12250$$"
      ]
    },
    {
      "cell_type": "markdown",
      "metadata": {
        "id": "5a936d9wXU9c",
        "colab_type": "text"
      },
      "source": [
        "Тогда"
      ]
    },
    {
      "cell_type": "markdown",
      "metadata": {
        "id": "CfmRBdm-XU9d",
        "colab_type": "text"
      },
      "source": [
        "$$P = \\frac{m}{n} = \\frac{12250}{34220} ≈ 0,35798$$"
      ]
    },
    {
      "cell_type": "markdown",
      "metadata": {
        "id": "CeoUzlO6XU9e",
        "colab_type": "text"
      },
      "source": [
        "### **Задача 4**"
      ]
    },
    {
      "cell_type": "markdown",
      "metadata": {
        "id": "K0C77jWSXU9f",
        "colab_type": "text"
      },
      "source": [
        "Бросается игральная кость. Пусть событие `A` - появление чётного числа, событие `B` - появление числа больше трёх. Являются ли эти события независимыми?"
      ]
    },
    {
      "cell_type": "markdown",
      "metadata": {
        "colab_type": "text",
        "id": "5E5lsDW_Z8s3"
      },
      "source": [
        "## *Решение*"
      ]
    },
    {
      "cell_type": "markdown",
      "metadata": {
        "id": "_K4BLq0UXU9g",
        "colab_type": "text"
      },
      "source": [
        "Очевидно, что количество четных чисел и чисел больших трех равны в половину всех чисел, отсюда $P(A) = P(B) = 1/2$. Посчитаем совместную вероятность $P(AB)$. Событие $AB$ соответствует выпадению одновременно четного числа и числа большего трёх (это числа $4$ и $6$, т.е. два числа из шести) $P(AB) = 2/6 = 1/3$."
      ]
    },
    {
      "cell_type": "markdown",
      "metadata": {
        "id": "XtUuudL6XU9h",
        "colab_type": "text"
      },
      "source": [
        "$$P(A|B) = \\dfrac{P(AB)}{P(B)} = \\dfrac{\\frac{1}{3}}{\\frac{1}{2}} = \\dfrac{2}{3}.$$"
      ]
    },
    {
      "cell_type": "markdown",
      "metadata": {
        "id": "RmTpvTd7XU9i",
        "colab_type": "text"
      },
      "source": [
        "$$\\dfrac{2}{3} ≠ \\dfrac{1}{2}$$"
      ]
    },
    {
      "cell_type": "markdown",
      "metadata": {
        "id": "Ej9aEc_YXU9j",
        "colab_type": "text"
      },
      "source": [
        "События не являются независимыми."
      ]
    },
    {
      "cell_type": "markdown",
      "metadata": {
        "id": "f9CU0z3KXU9k",
        "colab_type": "text"
      },
      "source": [
        "### **Задача 5**"
      ]
    },
    {
      "cell_type": "markdown",
      "metadata": {
        "id": "LCi4gzDeXU9m",
        "colab_type": "text"
      },
      "source": [
        "Допустим, имеется некоторая очень редкая болезнь (поражает 0.1% населения). Вы приходите к врачу, вам делают тест на эту болезнь, и тест оказывается положительным. Врач говорит вам, что этот тест верно выявляет 99% больных этой болезнью и всего лишь в 1% случаев даёт ложный положительный ответ.\n",
        "\n",
        "_Вопрос_: какова вероятность, что вы действительно больны ей?\n",
        "\n",
        "_Подсказка_: вновь используйте формулу Байеса с раскрытием знаменателя с помощью формулы полной вероятности."
      ]
    },
    {
      "cell_type": "markdown",
      "metadata": {
        "colab_type": "text",
        "id": "idoTKdnfaAVH"
      },
      "source": [
        "## *Решение*"
      ]
    },
    {
      "cell_type": "markdown",
      "metadata": {
        "id": "WIlFSHEHXU9n",
        "colab_type": "text"
      },
      "source": [
        "Событие $A$ заключается в том, что человек заболел с вероятностью $0.1%$, событие же $B_1$ заключается в том, что тест верно выявил болезнь с вероятностью $99%$, а $B_2$ заключается в том, что тест дал ошибку в $1%$."
      ]
    },
    {
      "cell_type": "markdown",
      "metadata": {
        "id": "wi2G1XJcXU9p",
        "colab_type": "text"
      },
      "source": [
        "Вероятность того, что человек заболел $P(B_1) =  0,1$."
      ]
    },
    {
      "cell_type": "markdown",
      "metadata": {
        "id": "2DP9HehcXU9q",
        "colab_type": "text"
      },
      "source": [
        "Вероятность того, что человек не заболел $P(B_2) =  0,9$."
      ]
    },
    {
      "cell_type": "markdown",
      "metadata": {
        "id": "-AGuTRUkXU9r",
        "colab_type": "text"
      },
      "source": [
        "$$P(A|B_1) = 0,99$$\n",
        "$$P(A|B_2) = 0,01$$"
      ]
    },
    {
      "cell_type": "markdown",
      "metadata": {
        "id": "Mf-rtkt-XU9t",
        "colab_type": "text"
      },
      "source": [
        "Полная вероятность прохождения теста"
      ]
    },
    {
      "cell_type": "markdown",
      "metadata": {
        "id": "P5bsqgcdXU9u",
        "colab_type": "text"
      },
      "source": [
        "$$P(A) = P(A | B_1) \\cdot P(B_1) + P(A | B_2) \\cdot P(B_2)$$"
      ]
    },
    {
      "cell_type": "markdown",
      "metadata": {
        "id": "Pf0okfHJXU9v",
        "colab_type": "text"
      },
      "source": [
        "$$P(A) = 0,99 \\cdot 0,001 + 0,01 \\cdot 0,999 = 0,01098$$"
      ]
    },
    {
      "cell_type": "markdown",
      "metadata": {
        "id": "ORkUJWNtXU9x",
        "colab_type": "text"
      },
      "source": [
        "$$P(B_1|A) = \\dfrac{0,99 \\cdot 0,001}{0,01098} = 0,0901$$"
      ]
    },
    {
      "cell_type": "markdown",
      "metadata": {
        "id": "8Rs79YYEXU9y",
        "colab_type": "text"
      },
      "source": [
        "Вероятность того, что действительно больны $0,0901$"
      ]
    }
  ]
}