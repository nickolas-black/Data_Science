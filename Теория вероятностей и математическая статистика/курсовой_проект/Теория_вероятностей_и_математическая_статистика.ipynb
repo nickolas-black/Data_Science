{
  "nbformat": 4,
  "nbformat_minor": 0,
  "metadata": {
    "colab": {
      "name": "Теория вероятностей и математическая статистика",
      "provenance": [],
      "collapsed_sections": []
    },
    "kernelspec": {
      "name": "python3",
      "display_name": "Python 3"
    },
    "accelerator": "GPU"
  },
  "cells": [
    {
      "cell_type": "markdown",
      "metadata": {
        "id": "Ah7dy1kFL2H9",
        "colab_type": "text"
      },
      "source": [
        "#**Теория вероятностей и математическая статистика**\n",
        "##Курсовая работа\n"
      ]
    },
    {
      "cell_type": "markdown",
      "metadata": {
        "id": "KEfNdOlEYJDx",
        "colab_type": "text"
      },
      "source": [
        "Исследовать корреляционную зависимость и выявить методами парной регрессии зависимость для динамической вязкости нефтяной эмульсии от обводненности при различных плотностях нефти и различных значениях температуры и давления для различных степеней деспергирования нефти в воде или воды в нефти. Исследовать инверсию фаз.\n",
        "\n",
        "Для исследования желательно следующие данные:\n",
        "\n",
        "* вязкость эмульсии\n",
        "* обводненность эмульсии\n",
        "* плотность нефти\n",
        "* плотность воды\n",
        "* вязкость воды\n",
        "* вязкость чистой нефти\n",
        "* температура эмульсии\n",
        "* давление при котором происходить измерение\n",
        "* размер зерна несомой фазы (воды в нефти или нефти в воде)\n",
        "\n",
        "Данные подготовлены по работе Miss Sarin Wutthisirisart \"ANALYSIS OF VISCOSITY OF LIGHT OIL AND ITSEMULSION FROM AN OILFIELD IN THAILAND\", Chulalongkorn University, 2014.\n"
      ]
    },
    {
      "cell_type": "markdown",
      "metadata": {
        "id": "WCtNCKpgY-9p",
        "colab_type": "text"
      },
      "source": [
        "Заданы следующие параметры:\n",
        "\n",
        "* плотность нефти $828  \\dfrac{kg}{m^3}$\n",
        "*дисперсность не определена, предполагается, что она постоянная для всех экспериментов.\n",
        "\n",
        "Остальные параметры предполагается соответствуют нормальным условиям."
      ]
    },
    {
      "cell_type": "markdown",
      "metadata": {
        "id": "KltLSoBsZWIO",
        "colab_type": "text"
      },
      "source": [
        "## Используемые библиотеки"
      ]
    },
    {
      "cell_type": "code",
      "metadata": {
        "id": "qrfd6FzSLrE2",
        "colab_type": "code",
        "colab": {
          "base_uri": "https://localhost:8080/",
          "height": 51
        },
        "outputId": "b6c4e148-0d6f-40dc-a919-147899fd676c"
      },
      "source": [
        "from matplotlib import cm\n",
        "from matplotlib import pyplot as plt\n",
        "from matplotlib.ticker import LinearLocator, FormatStrFormatter\n",
        "from mpl_toolkits.mplot3d import Axes3D\n",
        "from scipy import stats\n",
        "from google.colab import files\n",
        "from statsmodels.stats.diagnostic import lilliefors\n",
        "import numpy as np\n",
        "import pandas as pd\n",
        "import seaborn as sns\n",
        "import warnings\n",
        "\n",
        "warnings.filterwarnings('ignore')\n",
        "plt.style.use('seaborn-whitegrid')"
      ],
      "execution_count": 1,
      "outputs": [
        {
          "output_type": "stream",
          "text": [
            "/usr/local/lib/python3.6/dist-packages/statsmodels/tools/_testing.py:19: FutureWarning: pandas.util.testing is deprecated. Use the functions in the public API at pandas.testing instead.\n",
            "  import pandas.util.testing as tm\n"
          ],
          "name": "stderr"
        }
      ]
    },
    {
      "cell_type": "markdown",
      "metadata": {
        "id": "Jesfk6UXZcPv",
        "colab_type": "text"
      },
      "source": [
        "## Вспомогательные функции"
      ]
    },
    {
      "cell_type": "code",
      "metadata": {
        "id": "iik0Ed2aZpI4",
        "colab_type": "code",
        "colab": {}
      },
      "source": [
        "def emissions(data):\n",
        "    # Считаем диапазон за границами которого все выброс.    \n",
        "    q1 = data.quantile(0.25)\n",
        "    q3 = data.quantile(0.75)\n",
        "    iqr = q3 - q1\n",
        "    return (q1 - 1.5 * iqr, q3 + 1.5 * iqr)"
      ],
      "execution_count": 2,
      "outputs": []
    },
    {
      "cell_type": "code",
      "metadata": {
        "id": "wo99dBlxZqLJ",
        "colab_type": "code",
        "colab": {}
      },
      "source": [
        "def pair_regression(x, y):\n",
        "    # Решаем методом парной регрессии.    \n",
        "    b1 = np.cov(x, y, ddof=1)[0, 1] / np.var(x, ddof=1)\n",
        "    return (y.mean() - b1 * x.mean(), b1)"
      ],
      "execution_count": 3,
      "outputs": []
    },
    {
      "cell_type": "code",
      "metadata": {
        "id": "Rr5fahGYZsUM",
        "colab_type": "code",
        "colab": {}
      },
      "source": [
        "def regression_plot(x, y, b0, b1, xlabel, ylabel, show_scatter=True):\n",
        "    # Отрисовали графики по методу парной регрессии.    \n",
        "    ox = np.array(sorted(list(set(x))))\n",
        "    # восстановили y, так как ранее логарифмировали переменную y.\n",
        "    oy = np.exp(b0 + b1 * ox)\n",
        "\n",
        "    if (show_scatter):\n",
        "        plt.scatter(x, y)\n",
        "    plt.plot(ox, oy, color='red', alpha=0.5)\n",
        "\n",
        "    plt.xlabel(xlabel)\n",
        "    plt.ylabel(ylabel);"
      ],
      "execution_count": 4,
      "outputs": []
    },
    {
      "cell_type": "code",
      "metadata": {
        "id": "eEm6EIMGZu2B",
        "colab_type": "code",
        "colab": {}
      },
      "source": [
        "def least_square_method(x, y):\n",
        "    # Метод наименьших квадратов.\n",
        "    XTX = x.T.dot(x)\n",
        "    XTX_inv = np.linalg.inv(XTX)\n",
        "    return XTX_inv.dot(x.T).dot(y)"
      ],
      "execution_count": 5,
      "outputs": []
    },
    {
      "cell_type": "markdown",
      "metadata": {
        "id": "ZmdEl8g7ZxNi",
        "colab_type": "text"
      },
      "source": [
        "# Загружаем данные"
      ]
    },
    {
      "cell_type": "code",
      "metadata": {
        "id": "I-NaMxtxZzjy",
        "colab_type": "code",
        "colab": {
          "resources": {
            "http://localhost:8080/nbextensions/google.colab/files.js": {
              "data": "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",
              "ok": true,
              "headers": [
                [
                  "content-type",
                  "application/javascript"
                ]
              ],
              "status": 200,
              "status_text": ""
            }
          },
          "base_uri": "https://localhost:8080/",
          "height": 72
        },
        "outputId": "97d87670-49af-472e-d53f-6d84c716c421"
      },
      "source": [
        "file = files.upload()"
      ],
      "execution_count": 6,
      "outputs": [
        {
          "output_type": "display_data",
          "data": {
            "text/html": [
              "\n",
              "     <input type=\"file\" id=\"files-e8cceb03-1fea-4897-bab4-10137d89260a\" name=\"files[]\" multiple disabled\n",
              "        style=\"border:none\" />\n",
              "     <output id=\"result-e8cceb03-1fea-4897-bab4-10137d89260a\">\n",
              "      Upload widget is only available when the cell has been executed in the\n",
              "      current browser session. Please rerun this cell to enable.\n",
              "      </output>\n",
              "      <script src=\"/nbextensions/google.colab/files.js\"></script> "
            ],
            "text/plain": [
              "<IPython.core.display.HTML object>"
            ]
          },
          "metadata": {
            "tags": []
          }
        },
        {
          "output_type": "stream",
          "text": [
            "Saving ds_001.csv to ds_001.csv\n"
          ],
          "name": "stdout"
        }
      ]
    },
    {
      "cell_type": "code",
      "metadata": {
        "id": "mzvNX1PrZ_LB",
        "colab_type": "code",
        "colab": {
          "base_uri": "https://localhost:8080/",
          "height": 34
        },
        "outputId": "612590b1-6c05-4460-bffc-12fd48e1c20f"
      },
      "source": [
        "!ls"
      ],
      "execution_count": 7,
      "outputs": [
        {
          "output_type": "stream",
          "text": [
            "ds_001.csv  sample_data\n"
          ],
          "name": "stdout"
        }
      ]
    },
    {
      "cell_type": "code",
      "metadata": {
        "id": "Eg0Oj_zDZ_dt",
        "colab_type": "code",
        "colab": {}
      },
      "source": [
        "df = pd.read_csv('ds_001.csv', encoding='UTF-8')"
      ],
      "execution_count": 8,
      "outputs": []
    },
    {
      "cell_type": "code",
      "metadata": {
        "id": "nk10Genlg8ST",
        "colab_type": "code",
        "colab": {
          "base_uri": "https://localhost:8080/",
          "height": 204
        },
        "outputId": "e3fec566-50e9-468f-e919-a32381fcc803"
      },
      "source": [
        "df.head()"
      ],
      "execution_count": 10,
      "outputs": [
        {
          "output_type": "execute_result",
          "data": {
            "text/html": [
              "<div>\n",
              "<style scoped>\n",
              "    .dataframe tbody tr th:only-of-type {\n",
              "        vertical-align: middle;\n",
              "    }\n",
              "\n",
              "    .dataframe tbody tr th {\n",
              "        vertical-align: top;\n",
              "    }\n",
              "\n",
              "    .dataframe thead th {\n",
              "        text-align: right;\n",
              "    }\n",
              "</style>\n",
              "<table border=\"1\" class=\"dataframe\">\n",
              "  <thead>\n",
              "    <tr style=\"text-align: right;\">\n",
              "      <th></th>\n",
              "      <th>watercut</th>\n",
              "      <th>temperature</th>\n",
              "      <th>angularvelocity</th>\n",
              "      <th>viscosity</th>\n",
              "    </tr>\n",
              "  </thead>\n",
              "  <tbody>\n",
              "    <tr>\n",
              "      <th>0</th>\n",
              "      <td>0</td>\n",
              "      <td>30</td>\n",
              "      <td>1</td>\n",
              "      <td>29192.100</td>\n",
              "    </tr>\n",
              "    <tr>\n",
              "      <th>1</th>\n",
              "      <td>0</td>\n",
              "      <td>30</td>\n",
              "      <td>5</td>\n",
              "      <td>84660.000</td>\n",
              "    </tr>\n",
              "    <tr>\n",
              "      <th>2</th>\n",
              "      <td>0</td>\n",
              "      <td>30</td>\n",
              "      <td>15</td>\n",
              "      <td>3557.889</td>\n",
              "    </tr>\n",
              "    <tr>\n",
              "      <th>3</th>\n",
              "      <td>0</td>\n",
              "      <td>30</td>\n",
              "      <td>25</td>\n",
              "      <td>1886.586</td>\n",
              "    </tr>\n",
              "    <tr>\n",
              "      <th>4</th>\n",
              "      <td>0</td>\n",
              "      <td>30</td>\n",
              "      <td>35</td>\n",
              "      <td>1371.674</td>\n",
              "    </tr>\n",
              "  </tbody>\n",
              "</table>\n",
              "</div>"
            ],
            "text/plain": [
              "   watercut  temperature  angularvelocity  viscosity\n",
              "0         0           30                1  29192.100\n",
              "1         0           30                5  84660.000\n",
              "2         0           30               15   3557.889\n",
              "3         0           30               25   1886.586\n",
              "4         0           30               35   1371.674"
            ]
          },
          "metadata": {
            "tags": []
          },
          "execution_count": 10
        }
      ]
    },
    {
      "cell_type": "markdown",
      "metadata": {
        "id": "SMw9hJAWaRuY",
        "colab_type": "text"
      },
      "source": [
        "Здесь:\n",
        "\n",
        "* watercut – обводненность в долях %;\n",
        "* temperature – температура, °C;\n",
        "* angularvelocity – угловая скорость измерительного цилиндра вискозиметра, об/мин;\n",
        "* viscosity – динамическая вязкость водонефтяной эмульсии, сП;"
      ]
    },
    {
      "cell_type": "markdown",
      "metadata": {
        "id": "HSLZhw3IacGv",
        "colab_type": "text"
      },
      "source": [
        "# **Первичная обработка данных**"
      ]
    },
    {
      "cell_type": "markdown",
      "metadata": {
        "id": "mmucwEBUaioo",
        "colab_type": "text"
      },
      "source": [
        "# Сортируем"
      ]
    },
    {
      "cell_type": "code",
      "metadata": {
        "id": "4o0v-2FoafN2",
        "colab_type": "code",
        "colab": {}
      },
      "source": [
        "df = df.sort_values(by=['viscosity'])"
      ],
      "execution_count": 11,
      "outputs": []
    },
    {
      "cell_type": "markdown",
      "metadata": {
        "id": "z6TeFDQ2aqHo",
        "colab_type": "text"
      },
      "source": [
        "Посмотрели статистику"
      ]
    },
    {
      "cell_type": "code",
      "metadata": {
        "id": "ugKYEQE1asSX",
        "colab_type": "code",
        "colab": {
          "base_uri": "https://localhost:8080/",
          "height": 297
        },
        "outputId": "d9814924-686a-4916-9b64-bac8ba87b49c"
      },
      "source": [
        "df.describe()"
      ],
      "execution_count": 12,
      "outputs": [
        {
          "output_type": "execute_result",
          "data": {
            "text/html": [
              "<div>\n",
              "<style scoped>\n",
              "    .dataframe tbody tr th:only-of-type {\n",
              "        vertical-align: middle;\n",
              "    }\n",
              "\n",
              "    .dataframe tbody tr th {\n",
              "        vertical-align: top;\n",
              "    }\n",
              "\n",
              "    .dataframe thead th {\n",
              "        text-align: right;\n",
              "    }\n",
              "</style>\n",
              "<table border=\"1\" class=\"dataframe\">\n",
              "  <thead>\n",
              "    <tr style=\"text-align: right;\">\n",
              "      <th></th>\n",
              "      <th>watercut</th>\n",
              "      <th>temperature</th>\n",
              "      <th>angularvelocity</th>\n",
              "      <th>viscosity</th>\n",
              "    </tr>\n",
              "  </thead>\n",
              "  <tbody>\n",
              "    <tr>\n",
              "      <th>count</th>\n",
              "      <td>252.000000</td>\n",
              "      <td>252.000000</td>\n",
              "      <td>252.000000</td>\n",
              "      <td>243.000000</td>\n",
              "    </tr>\n",
              "    <tr>\n",
              "      <th>mean</th>\n",
              "      <td>30.000000</td>\n",
              "      <td>56.666667</td>\n",
              "      <td>23.500000</td>\n",
              "      <td>1786.347825</td>\n",
              "    </tr>\n",
              "    <tr>\n",
              "      <th>std</th>\n",
              "      <td>20.039801</td>\n",
              "      <td>19.759510</td>\n",
              "      <td>19.987546</td>\n",
              "      <td>8022.352488</td>\n",
              "    </tr>\n",
              "    <tr>\n",
              "      <th>min</th>\n",
              "      <td>0.000000</td>\n",
              "      <td>30.000000</td>\n",
              "      <td>1.000000</td>\n",
              "      <td>1.200000</td>\n",
              "    </tr>\n",
              "    <tr>\n",
              "      <th>25%</th>\n",
              "      <td>10.000000</td>\n",
              "      <td>40.000000</td>\n",
              "      <td>5.000000</td>\n",
              "      <td>4.649400</td>\n",
              "    </tr>\n",
              "    <tr>\n",
              "      <th>50%</th>\n",
              "      <td>30.000000</td>\n",
              "      <td>55.000000</td>\n",
              "      <td>20.000000</td>\n",
              "      <td>6.366700</td>\n",
              "    </tr>\n",
              "    <tr>\n",
              "      <th>75%</th>\n",
              "      <td>50.000000</td>\n",
              "      <td>70.000000</td>\n",
              "      <td>35.000000</td>\n",
              "      <td>22.375350</td>\n",
              "    </tr>\n",
              "    <tr>\n",
              "      <th>max</th>\n",
              "      <td>60.000000</td>\n",
              "      <td>90.000000</td>\n",
              "      <td>60.000000</td>\n",
              "      <td>84660.000000</td>\n",
              "    </tr>\n",
              "  </tbody>\n",
              "</table>\n",
              "</div>"
            ],
            "text/plain": [
              "         watercut  temperature  angularvelocity     viscosity\n",
              "count  252.000000   252.000000       252.000000    243.000000\n",
              "mean    30.000000    56.666667        23.500000   1786.347825\n",
              "std     20.039801    19.759510        19.987546   8022.352488\n",
              "min      0.000000    30.000000         1.000000      1.200000\n",
              "25%     10.000000    40.000000         5.000000      4.649400\n",
              "50%     30.000000    55.000000        20.000000      6.366700\n",
              "75%     50.000000    70.000000        35.000000     22.375350\n",
              "max     60.000000    90.000000        60.000000  84660.000000"
            ]
          },
          "metadata": {
            "tags": []
          },
          "execution_count": 12
        }
      ]
    },
    {
      "cell_type": "code",
      "metadata": {
        "id": "1Qxy7BPmavi_",
        "colab_type": "code",
        "colab": {
          "base_uri": "https://localhost:8080/",
          "height": 297
        },
        "outputId": "4f391bad-c5b7-4c6c-fe07-c7f5cae3fc40"
      },
      "source": [
        "df.head(8)"
      ],
      "execution_count": 13,
      "outputs": [
        {
          "output_type": "execute_result",
          "data": {
            "text/html": [
              "<div>\n",
              "<style scoped>\n",
              "    .dataframe tbody tr th:only-of-type {\n",
              "        vertical-align: middle;\n",
              "    }\n",
              "\n",
              "    .dataframe tbody tr th {\n",
              "        vertical-align: top;\n",
              "    }\n",
              "\n",
              "    .dataframe thead th {\n",
              "        text-align: right;\n",
              "    }\n",
              "</style>\n",
              "<table border=\"1\" class=\"dataframe\">\n",
              "  <thead>\n",
              "    <tr style=\"text-align: right;\">\n",
              "      <th></th>\n",
              "      <th>watercut</th>\n",
              "      <th>temperature</th>\n",
              "      <th>angularvelocity</th>\n",
              "      <th>viscosity</th>\n",
              "    </tr>\n",
              "  </thead>\n",
              "  <tbody>\n",
              "    <tr>\n",
              "      <th>246</th>\n",
              "      <td>60</td>\n",
              "      <td>90</td>\n",
              "      <td>1</td>\n",
              "      <td>1.2000</td>\n",
              "    </tr>\n",
              "    <tr>\n",
              "      <th>210</th>\n",
              "      <td>50</td>\n",
              "      <td>90</td>\n",
              "      <td>1</td>\n",
              "      <td>1.2365</td>\n",
              "    </tr>\n",
              "    <tr>\n",
              "      <th>247</th>\n",
              "      <td>60</td>\n",
              "      <td>90</td>\n",
              "      <td>5</td>\n",
              "      <td>1.2540</td>\n",
              "    </tr>\n",
              "    <tr>\n",
              "      <th>211</th>\n",
              "      <td>50</td>\n",
              "      <td>90</td>\n",
              "      <td>5</td>\n",
              "      <td>1.4613</td>\n",
              "    </tr>\n",
              "    <tr>\n",
              "      <th>248</th>\n",
              "      <td>60</td>\n",
              "      <td>90</td>\n",
              "      <td>15</td>\n",
              "      <td>1.5268</td>\n",
              "    </tr>\n",
              "    <tr>\n",
              "      <th>240</th>\n",
              "      <td>60</td>\n",
              "      <td>70</td>\n",
              "      <td>1</td>\n",
              "      <td>1.5600</td>\n",
              "    </tr>\n",
              "    <tr>\n",
              "      <th>249</th>\n",
              "      <td>60</td>\n",
              "      <td>90</td>\n",
              "      <td>25</td>\n",
              "      <td>1.5794</td>\n",
              "    </tr>\n",
              "    <tr>\n",
              "      <th>250</th>\n",
              "      <td>60</td>\n",
              "      <td>90</td>\n",
              "      <td>35</td>\n",
              "      <td>1.6547</td>\n",
              "    </tr>\n",
              "  </tbody>\n",
              "</table>\n",
              "</div>"
            ],
            "text/plain": [
              "     watercut  temperature  angularvelocity  viscosity\n",
              "246        60           90                1     1.2000\n",
              "210        50           90                1     1.2365\n",
              "247        60           90                5     1.2540\n",
              "211        50           90                5     1.4613\n",
              "248        60           90               15     1.5268\n",
              "240        60           70                1     1.5600\n",
              "249        60           90               25     1.5794\n",
              "250        60           90               35     1.6547"
            ]
          },
          "metadata": {
            "tags": []
          },
          "execution_count": 13
        }
      ]
    },
    {
      "cell_type": "code",
      "metadata": {
        "id": "vtdgti64ayc-",
        "colab_type": "code",
        "colab": {
          "base_uri": "https://localhost:8080/",
          "height": 297
        },
        "outputId": "0397b200-7e1d-4af1-f086-deb105df8ef2"
      },
      "source": [
        "df.tail(8)"
      ],
      "execution_count": 14,
      "outputs": [
        {
          "output_type": "execute_result",
          "data": {
            "text/html": [
              "<div>\n",
              "<style scoped>\n",
              "    .dataframe tbody tr th:only-of-type {\n",
              "        vertical-align: middle;\n",
              "    }\n",
              "\n",
              "    .dataframe tbody tr th {\n",
              "        vertical-align: top;\n",
              "    }\n",
              "\n",
              "    .dataframe thead th {\n",
              "        text-align: right;\n",
              "    }\n",
              "</style>\n",
              "<table border=\"1\" class=\"dataframe\">\n",
              "  <thead>\n",
              "    <tr style=\"text-align: right;\">\n",
              "      <th></th>\n",
              "      <th>watercut</th>\n",
              "      <th>temperature</th>\n",
              "      <th>angularvelocity</th>\n",
              "      <th>viscosity</th>\n",
              "    </tr>\n",
              "  </thead>\n",
              "  <tbody>\n",
              "    <tr>\n",
              "      <th>11</th>\n",
              "      <td>0</td>\n",
              "      <td>40</td>\n",
              "      <td>60</td>\n",
              "      <td>NaN</td>\n",
              "    </tr>\n",
              "    <tr>\n",
              "      <th>46</th>\n",
              "      <td>10</td>\n",
              "      <td>40</td>\n",
              "      <td>35</td>\n",
              "      <td>NaN</td>\n",
              "    </tr>\n",
              "    <tr>\n",
              "      <th>47</th>\n",
              "      <td>10</td>\n",
              "      <td>40</td>\n",
              "      <td>60</td>\n",
              "      <td>NaN</td>\n",
              "    </tr>\n",
              "    <tr>\n",
              "      <th>82</th>\n",
              "      <td>20</td>\n",
              "      <td>40</td>\n",
              "      <td>35</td>\n",
              "      <td>NaN</td>\n",
              "    </tr>\n",
              "    <tr>\n",
              "      <th>83</th>\n",
              "      <td>20</td>\n",
              "      <td>40</td>\n",
              "      <td>60</td>\n",
              "      <td>NaN</td>\n",
              "    </tr>\n",
              "    <tr>\n",
              "      <th>118</th>\n",
              "      <td>30</td>\n",
              "      <td>40</td>\n",
              "      <td>35</td>\n",
              "      <td>NaN</td>\n",
              "    </tr>\n",
              "    <tr>\n",
              "      <th>119</th>\n",
              "      <td>30</td>\n",
              "      <td>40</td>\n",
              "      <td>60</td>\n",
              "      <td>NaN</td>\n",
              "    </tr>\n",
              "    <tr>\n",
              "      <th>155</th>\n",
              "      <td>40</td>\n",
              "      <td>40</td>\n",
              "      <td>60</td>\n",
              "      <td>NaN</td>\n",
              "    </tr>\n",
              "  </tbody>\n",
              "</table>\n",
              "</div>"
            ],
            "text/plain": [
              "     watercut  temperature  angularvelocity  viscosity\n",
              "11          0           40               60        NaN\n",
              "46         10           40               35        NaN\n",
              "47         10           40               60        NaN\n",
              "82         20           40               35        NaN\n",
              "83         20           40               60        NaN\n",
              "118        30           40               35        NaN\n",
              "119        30           40               60        NaN\n",
              "155        40           40               60        NaN"
            ]
          },
          "metadata": {
            "tags": []
          },
          "execution_count": 14
        }
      ]
    },
    {
      "cell_type": "markdown",
      "metadata": {
        "id": "VRyOmX4ba1pl",
        "colab_type": "text"
      },
      "source": [
        "Информация о данных"
      ]
    },
    {
      "cell_type": "code",
      "metadata": {
        "id": "0UkCxIBebFVN",
        "colab_type": "code",
        "colab": {
          "base_uri": "https://localhost:8080/",
          "height": 204
        },
        "outputId": "9953d620-d2a3-4360-e135-7ae26d01f5b0"
      },
      "source": [
        "df.info()"
      ],
      "execution_count": 15,
      "outputs": [
        {
          "output_type": "stream",
          "text": [
            "<class 'pandas.core.frame.DataFrame'>\n",
            "Int64Index: 252 entries, 246 to 155\n",
            "Data columns (total 4 columns):\n",
            " #   Column           Non-Null Count  Dtype  \n",
            "---  ------           --------------  -----  \n",
            " 0   watercut         252 non-null    int64  \n",
            " 1   temperature      252 non-null    int64  \n",
            " 2   angularvelocity  252 non-null    int64  \n",
            " 3   viscosity        243 non-null    float64\n",
            "dtypes: float64(1), int64(3)\n",
            "memory usage: 9.8 KB\n"
          ],
          "name": "stdout"
        }
      ]
    },
    {
      "cell_type": "markdown",
      "metadata": {
        "id": "CSxAqWJnbIjO",
        "colab_type": "text"
      },
      "source": [
        "**Есть пустые значения, удалим их из выборки**"
      ]
    },
    {
      "cell_type": "code",
      "metadata": {
        "id": "AV1XdwuBbKN1",
        "colab_type": "code",
        "colab": {
          "base_uri": "https://localhost:8080/",
          "height": 102
        },
        "outputId": "3d06d7b9-78e5-478e-c543-fbded9dde25a"
      },
      "source": [
        "len(df) - df.count()"
      ],
      "execution_count": 16,
      "outputs": [
        {
          "output_type": "execute_result",
          "data": {
            "text/plain": [
              "watercut           0\n",
              "temperature        0\n",
              "angularvelocity    0\n",
              "viscosity          9\n",
              "dtype: int64"
            ]
          },
          "metadata": {
            "tags": []
          },
          "execution_count": 16
        }
      ]
    },
    {
      "cell_type": "code",
      "metadata": {
        "id": "iRZlwA1PbN9O",
        "colab_type": "code",
        "colab": {}
      },
      "source": [
        "df = df.dropna()"
      ],
      "execution_count": 17,
      "outputs": []
    },
    {
      "cell_type": "code",
      "metadata": {
        "id": "f5IppmKWbQpt",
        "colab_type": "code",
        "colab": {
          "base_uri": "https://localhost:8080/",
          "height": 102
        },
        "outputId": "8b7279eb-0c28-4d87-ae6a-12cf5111c5cf"
      },
      "source": [
        "len(df) - df.count()"
      ],
      "execution_count": 18,
      "outputs": [
        {
          "output_type": "execute_result",
          "data": {
            "text/plain": [
              "watercut           0\n",
              "temperature        0\n",
              "angularvelocity    0\n",
              "viscosity          0\n",
              "dtype: int64"
            ]
          },
          "metadata": {
            "tags": []
          },
          "execution_count": 18
        }
      ]
    },
    {
      "cell_type": "markdown",
      "metadata": {
        "id": "qysP7K7WbTjk",
        "colab_type": "text"
      },
      "source": [
        "**Есть очень большие значения, которые либо не сильно влияют на выборку, либо являются выбросами**"
      ]
    },
    {
      "cell_type": "code",
      "metadata": {
        "id": "onPmZCa2bWOu",
        "colab_type": "code",
        "colab": {
          "base_uri": "https://localhost:8080/",
          "height": 262
        },
        "outputId": "359157bc-6b6e-49c9-cc5a-60ee4e242b53"
      },
      "source": [
        "df['viscosity'].hist();"
      ],
      "execution_count": 20,
      "outputs": [
        {
          "output_type": "display_data",
          "data": {
            "image/png": "[encoded data removed]",
            "text/plain": [
              "<Figure size 432x288 with 1 Axes>"
            ]
          },
          "metadata": {
            "tags": [],
            "needs_background": "light"
          }
        }
      ]
    },
    {
      "cell_type": "markdown",
      "metadata": {
        "id": "V8GS4LRVbaRF",
        "colab_type": "text"
      },
      "source": [
        "**Данные слишком ассиметричны, поэтому прологарифмируем вязкость**"
      ]
    },
    {
      "cell_type": "code",
      "metadata": {
        "id": "zn2qHf9JbdQ0",
        "colab_type": "code",
        "colab": {}
      },
      "source": [
        "df['viscosity_log'] = np.log(df['viscosity'])"
      ],
      "execution_count": 21,
      "outputs": []
    },
    {
      "cell_type": "code",
      "metadata": {
        "id": "Qq-1AKofbfDo",
        "colab_type": "code",
        "colab": {
          "base_uri": "https://localhost:8080/",
          "height": 297
        },
        "outputId": "f397955c-7adf-4cfd-ce49-20ab16b8605b"
      },
      "source": [
        "df.describe()"
      ],
      "execution_count": 22,
      "outputs": [
        {
          "output_type": "execute_result",
          "data": {
            "text/html": [
              "<div>\n",
              "<style scoped>\n",
              "    .dataframe tbody tr th:only-of-type {\n",
              "        vertical-align: middle;\n",
              "    }\n",
              "\n",
              "    .dataframe tbody tr th {\n",
              "        vertical-align: top;\n",
              "    }\n",
              "\n",
              "    .dataframe thead th {\n",
              "        text-align: right;\n",
              "    }\n",
              "</style>\n",
              "<table border=\"1\" class=\"dataframe\">\n",
              "  <thead>\n",
              "    <tr style=\"text-align: right;\">\n",
              "      <th></th>\n",
              "      <th>watercut</th>\n",
              "      <th>temperature</th>\n",
              "      <th>angularvelocity</th>\n",
              "      <th>viscosity</th>\n",
              "      <th>viscosity_log</th>\n",
              "    </tr>\n",
              "  </thead>\n",
              "  <tbody>\n",
              "    <tr>\n",
              "      <th>count</th>\n",
              "      <td>243.000000</td>\n",
              "      <td>243.000000</td>\n",
              "      <td>243.000000</td>\n",
              "      <td>243.000000</td>\n",
              "      <td>243.000000</td>\n",
              "    </tr>\n",
              "    <tr>\n",
              "      <th>mean</th>\n",
              "      <td>30.452675</td>\n",
              "      <td>57.283951</td>\n",
              "      <td>22.559671</td>\n",
              "      <td>1786.347825</td>\n",
              "      <td>2.986229</td>\n",
              "    </tr>\n",
              "    <tr>\n",
              "      <th>std</th>\n",
              "      <td>20.108200</td>\n",
              "      <td>19.855616</td>\n",
              "      <td>19.589790</td>\n",
              "      <td>8022.352488</td>\n",
              "      <td>2.612025</td>\n",
              "    </tr>\n",
              "    <tr>\n",
              "      <th>min</th>\n",
              "      <td>0.000000</td>\n",
              "      <td>30.000000</td>\n",
              "      <td>1.000000</td>\n",
              "      <td>1.200000</td>\n",
              "      <td>0.182322</td>\n",
              "    </tr>\n",
              "    <tr>\n",
              "      <th>25%</th>\n",
              "      <td>10.000000</td>\n",
              "      <td>40.000000</td>\n",
              "      <td>5.000000</td>\n",
              "      <td>4.649400</td>\n",
              "      <td>1.536738</td>\n",
              "    </tr>\n",
              "    <tr>\n",
              "      <th>50%</th>\n",
              "      <td>30.000000</td>\n",
              "      <td>60.000000</td>\n",
              "      <td>15.000000</td>\n",
              "      <td>6.366700</td>\n",
              "      <td>1.851081</td>\n",
              "    </tr>\n",
              "    <tr>\n",
              "      <th>75%</th>\n",
              "      <td>50.000000</td>\n",
              "      <td>70.000000</td>\n",
              "      <td>35.000000</td>\n",
              "      <td>22.375350</td>\n",
              "      <td>3.107958</td>\n",
              "    </tr>\n",
              "    <tr>\n",
              "      <th>max</th>\n",
              "      <td>60.000000</td>\n",
              "      <td>90.000000</td>\n",
              "      <td>60.000000</td>\n",
              "      <td>84660.000000</td>\n",
              "      <td>11.346399</td>\n",
              "    </tr>\n",
              "  </tbody>\n",
              "</table>\n",
              "</div>"
            ],
            "text/plain": [
              "         watercut  temperature  angularvelocity     viscosity  viscosity_log\n",
              "count  243.000000   243.000000       243.000000    243.000000     243.000000\n",
              "mean    30.452675    57.283951        22.559671   1786.347825       2.986229\n",
              "std     20.108200    19.855616        19.589790   8022.352488       2.612025\n",
              "min      0.000000    30.000000         1.000000      1.200000       0.182322\n",
              "25%     10.000000    40.000000         5.000000      4.649400       1.536738\n",
              "50%     30.000000    60.000000        15.000000      6.366700       1.851081\n",
              "75%     50.000000    70.000000        35.000000     22.375350       3.107958\n",
              "max     60.000000    90.000000        60.000000  84660.000000      11.346399"
            ]
          },
          "metadata": {
            "tags": []
          },
          "execution_count": 22
        }
      ]
    },
    {
      "cell_type": "markdown",
      "metadata": {
        "id": "pqBFGy3qbiAp",
        "colab_type": "text"
      },
      "source": [
        "**Посчитаем выбросы**"
      ]
    },
    {
      "cell_type": "code",
      "metadata": {
        "id": "af7IM2Jwbjdl",
        "colab_type": "code",
        "colab": {
          "base_uri": "https://localhost:8080/",
          "height": 262
        },
        "outputId": "2ae05516-47a3-49f5-b9a3-e76b24094b35"
      },
      "source": [
        "df['viscosity_log'].hist();"
      ],
      "execution_count": 23,
      "outputs": [
        {
          "output_type": "display_data",
          "data": {
            "image/png": "[encoded data removed]",
            "text/plain": [
              "<Figure size 432x288 with 1 Axes>"
            ]
          },
          "metadata": {
            "tags": [],
            "needs_background": "light"
          }
        }
      ]
    },
    {
      "cell_type": "code",
      "metadata": {
        "id": "j4frXDCJbm5M",
        "colab_type": "code",
        "colab": {
          "base_uri": "https://localhost:8080/",
          "height": 262
        },
        "outputId": "95ef085b-eb14-4281-eed1-8e5863d71273"
      },
      "source": [
        "df[['viscosity_log']].boxplot();"
      ],
      "execution_count": 24,
      "outputs": [
        {
          "output_type": "display_data",
          "data": {
            "image/png": "[encoded data removed]",
            "text/plain": [
              "<Figure size 432x288 with 1 Axes>"
            ]
          },
          "metadata": {
            "tags": [],
            "needs_background": "light"
          }
        }
      ]
    },
    {
      "cell_type": "markdown",
      "metadata": {
        "id": "2ZtAraszbqDc",
        "colab_type": "text"
      },
      "source": [
        "**Как видно выбросы располагаются в области больших значений**\n",
        "\n",
        "**Удаляем лишнее**"
      ]
    },
    {
      "cell_type": "code",
      "metadata": {
        "id": "fz4EB5PLbtur",
        "colab_type": "code",
        "colab": {
          "base_uri": "https://localhost:8080/",
          "height": 34
        },
        "outputId": "3dba2e0a-1d1e-422b-8438-f0b8d120d5f1"
      },
      "source": [
        "r_1, r_2 = emissions(df['viscosity_log'])\n",
        "(r_1, r_2)"
      ],
      "execution_count": 25,
      "outputs": [
        {
          "output_type": "execute_result",
          "data": {
            "text/plain": [
              "(-0.8200916294713674, 5.464787755588469)"
            ]
          },
          "metadata": {
            "tags": []
          },
          "execution_count": 25
        }
      ]
    },
    {
      "cell_type": "code",
      "metadata": {
        "id": "vaVWngeAbyD9",
        "colab_type": "code",
        "colab": {}
      },
      "source": [
        "df = df.loc[(r_1 < df['viscosity_log']) & (df['viscosity_log'] < r_2)]"
      ],
      "execution_count": 26,
      "outputs": []
    },
    {
      "cell_type": "code",
      "metadata": {
        "id": "e_sq1Hggbz3r",
        "colab_type": "code",
        "colab": {
          "base_uri": "https://localhost:8080/",
          "height": 262
        },
        "outputId": "a400d50a-325b-4120-ab6f-c2d0af96d334"
      },
      "source": [
        "df['viscosity_log'].hist(bins=20);"
      ],
      "execution_count": 27,
      "outputs": [
        {
          "output_type": "display_data",
          "data": {
            "image/png": "[encoded data removed]",
            "text/plain": [
              "<Figure size 432x288 with 1 Axes>"
            ]
          },
          "metadata": {
            "tags": [],
            "needs_background": "light"
          }
        }
      ]
    },
    {
      "cell_type": "code",
      "metadata": {
        "id": "SXpuCXxtb1w3",
        "colab_type": "code",
        "colab": {
          "base_uri": "https://localhost:8080/",
          "height": 297
        },
        "outputId": "b7ac6e6f-6264-4ae2-d4ba-acfaa27f7a92"
      },
      "source": [
        "df.describe()"
      ],
      "execution_count": 28,
      "outputs": [
        {
          "output_type": "execute_result",
          "data": {
            "text/html": [
              "<div>\n",
              "<style scoped>\n",
              "    .dataframe tbody tr th:only-of-type {\n",
              "        vertical-align: middle;\n",
              "    }\n",
              "\n",
              "    .dataframe tbody tr th {\n",
              "        vertical-align: top;\n",
              "    }\n",
              "\n",
              "    .dataframe thead th {\n",
              "        text-align: right;\n",
              "    }\n",
              "</style>\n",
              "<table border=\"1\" class=\"dataframe\">\n",
              "  <thead>\n",
              "    <tr style=\"text-align: right;\">\n",
              "      <th></th>\n",
              "      <th>watercut</th>\n",
              "      <th>temperature</th>\n",
              "      <th>angularvelocity</th>\n",
              "      <th>viscosity</th>\n",
              "      <th>viscosity_log</th>\n",
              "    </tr>\n",
              "  </thead>\n",
              "  <tbody>\n",
              "    <tr>\n",
              "      <th>count</th>\n",
              "      <td>199.000000</td>\n",
              "      <td>199.000000</td>\n",
              "      <td>199.000000</td>\n",
              "      <td>199.000000</td>\n",
              "      <td>199.000000</td>\n",
              "    </tr>\n",
              "    <tr>\n",
              "      <th>mean</th>\n",
              "      <td>30.502513</td>\n",
              "      <td>63.216080</td>\n",
              "      <td>22.577889</td>\n",
              "      <td>11.471040</td>\n",
              "      <td>1.851991</td>\n",
              "    </tr>\n",
              "    <tr>\n",
              "      <th>std</th>\n",
              "      <td>20.219721</td>\n",
              "      <td>16.898644</td>\n",
              "      <td>19.487181</td>\n",
              "      <td>25.201753</td>\n",
              "      <td>0.853375</td>\n",
              "    </tr>\n",
              "    <tr>\n",
              "      <th>min</th>\n",
              "      <td>0.000000</td>\n",
              "      <td>40.000000</td>\n",
              "      <td>1.000000</td>\n",
              "      <td>1.200000</td>\n",
              "      <td>0.182322</td>\n",
              "    </tr>\n",
              "    <tr>\n",
              "      <th>25%</th>\n",
              "      <td>10.000000</td>\n",
              "      <td>50.000000</td>\n",
              "      <td>5.000000</td>\n",
              "      <td>4.295350</td>\n",
              "      <td>1.457515</td>\n",
              "    </tr>\n",
              "    <tr>\n",
              "      <th>50%</th>\n",
              "      <td>30.000000</td>\n",
              "      <td>60.000000</td>\n",
              "      <td>15.000000</td>\n",
              "      <td>5.891000</td>\n",
              "      <td>1.773426</td>\n",
              "    </tr>\n",
              "    <tr>\n",
              "      <th>75%</th>\n",
              "      <td>50.000000</td>\n",
              "      <td>70.000000</td>\n",
              "      <td>35.000000</td>\n",
              "      <td>8.109200</td>\n",
              "      <td>2.092999</td>\n",
              "    </tr>\n",
              "    <tr>\n",
              "      <th>max</th>\n",
              "      <td>60.000000</td>\n",
              "      <td>90.000000</td>\n",
              "      <td>60.000000</td>\n",
              "      <td>193.412000</td>\n",
              "      <td>5.264823</td>\n",
              "    </tr>\n",
              "  </tbody>\n",
              "</table>\n",
              "</div>"
            ],
            "text/plain": [
              "         watercut  temperature  angularvelocity   viscosity  viscosity_log\n",
              "count  199.000000   199.000000       199.000000  199.000000     199.000000\n",
              "mean    30.502513    63.216080        22.577889   11.471040       1.851991\n",
              "std     20.219721    16.898644        19.487181   25.201753       0.853375\n",
              "min      0.000000    40.000000         1.000000    1.200000       0.182322\n",
              "25%     10.000000    50.000000         5.000000    4.295350       1.457515\n",
              "50%     30.000000    60.000000        15.000000    5.891000       1.773426\n",
              "75%     50.000000    70.000000        35.000000    8.109200       2.092999\n",
              "max     60.000000    90.000000        60.000000  193.412000       5.264823"
            ]
          },
          "metadata": {
            "tags": []
          },
          "execution_count": 28
        }
      ]
    },
    {
      "cell_type": "code",
      "metadata": {
        "id": "xytb3zQPb3wz",
        "colab_type": "code",
        "colab": {
          "base_uri": "https://localhost:8080/",
          "height": 34
        },
        "outputId": "70ff1c63-d865-4868-bb0b-0d9e74107f2a"
      },
      "source": [
        "print((100/252)*199, '%')"
      ],
      "execution_count": 29,
      "outputs": [
        {
          "output_type": "stream",
          "text": [
            "78.96825396825396 %\n"
          ],
          "name": "stdout"
        }
      ]
    },
    {
      "cell_type": "markdown",
      "metadata": {
        "id": "ti6K2m04b6GN",
        "colab_type": "text"
      },
      "source": [
        "**График вязкости**"
      ]
    },
    {
      "cell_type": "code",
      "metadata": {
        "id": "ooF2nYIrb_qO",
        "colab_type": "code",
        "colab": {
          "base_uri": "https://localhost:8080/",
          "height": 291
        },
        "outputId": "f068c52b-d281-4cb5-f785-da45c331eac9"
      },
      "source": [
        "sns.distplot(df['viscosity_log'])\n",
        "plt.title('Вязкость')\n",
        "plt.show()"
      ],
      "execution_count": 30,
      "outputs": [
        {
          "output_type": "display_data",
          "data": {
            "image/png": "[encoded data removed]",
            "text/plain": [
              "<Figure size 432x288 with 1 Axes>"
            ]
          },
          "metadata": {
            "tags": [],
            "needs_background": "light"
          }
        }
      ]
    },
    {
      "cell_type": "code",
      "metadata": {
        "id": "F9l1XZkMcB9U",
        "colab_type": "code",
        "colab": {
          "base_uri": "https://localhost:8080/",
          "height": 297
        },
        "outputId": "4b80801c-2a7e-455f-f553-11b961db03f7"
      },
      "source": [
        "df.describe()"
      ],
      "execution_count": 31,
      "outputs": [
        {
          "output_type": "execute_result",
          "data": {
            "text/html": [
              "<div>\n",
              "<style scoped>\n",
              "    .dataframe tbody tr th:only-of-type {\n",
              "        vertical-align: middle;\n",
              "    }\n",
              "\n",
              "    .dataframe tbody tr th {\n",
              "        vertical-align: top;\n",
              "    }\n",
              "\n",
              "    .dataframe thead th {\n",
              "        text-align: right;\n",
              "    }\n",
              "</style>\n",
              "<table border=\"1\" class=\"dataframe\">\n",
              "  <thead>\n",
              "    <tr style=\"text-align: right;\">\n",
              "      <th></th>\n",
              "      <th>watercut</th>\n",
              "      <th>temperature</th>\n",
              "      <th>angularvelocity</th>\n",
              "      <th>viscosity</th>\n",
              "      <th>viscosity_log</th>\n",
              "    </tr>\n",
              "  </thead>\n",
              "  <tbody>\n",
              "    <tr>\n",
              "      <th>count</th>\n",
              "      <td>199.000000</td>\n",
              "      <td>199.000000</td>\n",
              "      <td>199.000000</td>\n",
              "      <td>199.000000</td>\n",
              "      <td>199.000000</td>\n",
              "    </tr>\n",
              "    <tr>\n",
              "      <th>mean</th>\n",
              "      <td>30.502513</td>\n",
              "      <td>63.216080</td>\n",
              "      <td>22.577889</td>\n",
              "      <td>11.471040</td>\n",
              "      <td>1.851991</td>\n",
              "    </tr>\n",
              "    <tr>\n",
              "      <th>std</th>\n",
              "      <td>20.219721</td>\n",
              "      <td>16.898644</td>\n",
              "      <td>19.487181</td>\n",
              "      <td>25.201753</td>\n",
              "      <td>0.853375</td>\n",
              "    </tr>\n",
              "    <tr>\n",
              "      <th>min</th>\n",
              "      <td>0.000000</td>\n",
              "      <td>40.000000</td>\n",
              "      <td>1.000000</td>\n",
              "      <td>1.200000</td>\n",
              "      <td>0.182322</td>\n",
              "    </tr>\n",
              "    <tr>\n",
              "      <th>25%</th>\n",
              "      <td>10.000000</td>\n",
              "      <td>50.000000</td>\n",
              "      <td>5.000000</td>\n",
              "      <td>4.295350</td>\n",
              "      <td>1.457515</td>\n",
              "    </tr>\n",
              "    <tr>\n",
              "      <th>50%</th>\n",
              "      <td>30.000000</td>\n",
              "      <td>60.000000</td>\n",
              "      <td>15.000000</td>\n",
              "      <td>5.891000</td>\n",
              "      <td>1.773426</td>\n",
              "    </tr>\n",
              "    <tr>\n",
              "      <th>75%</th>\n",
              "      <td>50.000000</td>\n",
              "      <td>70.000000</td>\n",
              "      <td>35.000000</td>\n",
              "      <td>8.109200</td>\n",
              "      <td>2.092999</td>\n",
              "    </tr>\n",
              "    <tr>\n",
              "      <th>max</th>\n",
              "      <td>60.000000</td>\n",
              "      <td>90.000000</td>\n",
              "      <td>60.000000</td>\n",
              "      <td>193.412000</td>\n",
              "      <td>5.264823</td>\n",
              "    </tr>\n",
              "  </tbody>\n",
              "</table>\n",
              "</div>"
            ],
            "text/plain": [
              "         watercut  temperature  angularvelocity   viscosity  viscosity_log\n",
              "count  199.000000   199.000000       199.000000  199.000000     199.000000\n",
              "mean    30.502513    63.216080        22.577889   11.471040       1.851991\n",
              "std     20.219721    16.898644        19.487181   25.201753       0.853375\n",
              "min      0.000000    40.000000         1.000000    1.200000       0.182322\n",
              "25%     10.000000    50.000000         5.000000    4.295350       1.457515\n",
              "50%     30.000000    60.000000        15.000000    5.891000       1.773426\n",
              "75%     50.000000    70.000000        35.000000    8.109200       2.092999\n",
              "max     60.000000    90.000000        60.000000  193.412000       5.264823"
            ]
          },
          "metadata": {
            "tags": []
          },
          "execution_count": 31
        }
      ]
    },
    {
      "cell_type": "markdown",
      "metadata": {
        "id": "TC42Wr-ccFD0",
        "colab_type": "text"
      },
      "source": [
        "**Вполне приемлемо**"
      ]
    },
    {
      "cell_type": "markdown",
      "metadata": {
        "id": "cKLD4G25cIlz",
        "colab_type": "text"
      },
      "source": [
        "# Проведем корелляционный анализ"
      ]
    },
    {
      "cell_type": "markdown",
      "metadata": {
        "id": "S7X2dZThcP0p",
        "colab_type": "text"
      },
      "source": [
        "### **Рассмотрим корреляцию динамической вязкости водонефтяной эмульсии от обводнености, температуры и угловой скорости вращения вискозиметра**"
      ]
    },
    {
      "cell_type": "markdown",
      "metadata": {
        "id": "AcmIQiXbcWuy",
        "colab_type": "text"
      },
      "source": [
        "## Пирсон"
      ]
    },
    {
      "cell_type": "code",
      "metadata": {
        "id": "uOPjyYv3cd-q",
        "colab_type": "code",
        "colab": {
          "base_uri": "https://localhost:8080/",
          "height": 173
        },
        "outputId": "0278fb4f-f5d7-45b5-8f14-eea03670d21a"
      },
      "source": [
        "df[['watercut', 'temperature', 'angularvelocity', 'viscosity_log']].corr(method='pearson')"
      ],
      "execution_count": 32,
      "outputs": [
        {
          "output_type": "execute_result",
          "data": {
            "text/html": [
              "<div>\n",
              "<style scoped>\n",
              "    .dataframe tbody tr th:only-of-type {\n",
              "        vertical-align: middle;\n",
              "    }\n",
              "\n",
              "    .dataframe tbody tr th {\n",
              "        vertical-align: top;\n",
              "    }\n",
              "\n",
              "    .dataframe thead th {\n",
              "        text-align: right;\n",
              "    }\n",
              "</style>\n",
              "<table border=\"1\" class=\"dataframe\">\n",
              "  <thead>\n",
              "    <tr style=\"text-align: right;\">\n",
              "      <th></th>\n",
              "      <th>watercut</th>\n",
              "      <th>temperature</th>\n",
              "      <th>angularvelocity</th>\n",
              "      <th>viscosity_log</th>\n",
              "    </tr>\n",
              "  </thead>\n",
              "  <tbody>\n",
              "    <tr>\n",
              "      <th>watercut</th>\n",
              "      <td>1.000000</td>\n",
              "      <td>-0.034316</td>\n",
              "      <td>0.036302</td>\n",
              "      <td>-0.373060</td>\n",
              "    </tr>\n",
              "    <tr>\n",
              "      <th>temperature</th>\n",
              "      <td>-0.034316</td>\n",
              "      <td>1.000000</td>\n",
              "      <td>0.065337</td>\n",
              "      <td>-0.690215</td>\n",
              "    </tr>\n",
              "    <tr>\n",
              "      <th>angularvelocity</th>\n",
              "      <td>0.036302</td>\n",
              "      <td>0.065337</td>\n",
              "      <td>1.000000</td>\n",
              "      <td>-0.180820</td>\n",
              "    </tr>\n",
              "    <tr>\n",
              "      <th>viscosity_log</th>\n",
              "      <td>-0.373060</td>\n",
              "      <td>-0.690215</td>\n",
              "      <td>-0.180820</td>\n",
              "      <td>1.000000</td>\n",
              "    </tr>\n",
              "  </tbody>\n",
              "</table>\n",
              "</div>"
            ],
            "text/plain": [
              "                 watercut  temperature  angularvelocity  viscosity_log\n",
              "watercut         1.000000    -0.034316         0.036302      -0.373060\n",
              "temperature     -0.034316     1.000000         0.065337      -0.690215\n",
              "angularvelocity  0.036302     0.065337         1.000000      -0.180820\n",
              "viscosity_log   -0.373060    -0.690215        -0.180820       1.000000"
            ]
          },
          "metadata": {
            "tags": []
          },
          "execution_count": 32
        }
      ]
    },
    {
      "cell_type": "markdown",
      "metadata": {
        "id": "ZItHLKZ5cgyy",
        "colab_type": "text"
      },
      "source": [
        "## Кендал"
      ]
    },
    {
      "cell_type": "code",
      "metadata": {
        "id": "jDykRzfpckK5",
        "colab_type": "code",
        "colab": {
          "base_uri": "https://localhost:8080/",
          "height": 173
        },
        "outputId": "5e9540b6-aac0-4d47-95c5-20e948a359a1"
      },
      "source": [
        "df[['watercut', 'temperature', 'angularvelocity', 'viscosity_log']].corr(method='kendall')"
      ],
      "execution_count": 33,
      "outputs": [
        {
          "output_type": "execute_result",
          "data": {
            "text/html": [
              "<div>\n",
              "<style scoped>\n",
              "    .dataframe tbody tr th:only-of-type {\n",
              "        vertical-align: middle;\n",
              "    }\n",
              "\n",
              "    .dataframe tbody tr th {\n",
              "        vertical-align: top;\n",
              "    }\n",
              "\n",
              "    .dataframe thead th {\n",
              "        text-align: right;\n",
              "    }\n",
              "</style>\n",
              "<table border=\"1\" class=\"dataframe\">\n",
              "  <thead>\n",
              "    <tr style=\"text-align: right;\">\n",
              "      <th></th>\n",
              "      <th>watercut</th>\n",
              "      <th>temperature</th>\n",
              "      <th>angularvelocity</th>\n",
              "      <th>viscosity_log</th>\n",
              "    </tr>\n",
              "  </thead>\n",
              "  <tbody>\n",
              "    <tr>\n",
              "      <th>watercut</th>\n",
              "      <td>1.000000</td>\n",
              "      <td>-0.029323</td>\n",
              "      <td>0.028159</td>\n",
              "      <td>-0.340963</td>\n",
              "    </tr>\n",
              "    <tr>\n",
              "      <th>temperature</th>\n",
              "      <td>-0.029323</td>\n",
              "      <td>1.000000</td>\n",
              "      <td>0.046851</td>\n",
              "      <td>-0.625108</td>\n",
              "    </tr>\n",
              "    <tr>\n",
              "      <th>angularvelocity</th>\n",
              "      <td>0.028159</td>\n",
              "      <td>0.046851</td>\n",
              "      <td>1.000000</td>\n",
              "      <td>-0.093547</td>\n",
              "    </tr>\n",
              "    <tr>\n",
              "      <th>viscosity_log</th>\n",
              "      <td>-0.340963</td>\n",
              "      <td>-0.625108</td>\n",
              "      <td>-0.093547</td>\n",
              "      <td>1.000000</td>\n",
              "    </tr>\n",
              "  </tbody>\n",
              "</table>\n",
              "</div>"
            ],
            "text/plain": [
              "                 watercut  temperature  angularvelocity  viscosity_log\n",
              "watercut         1.000000    -0.029323         0.028159      -0.340963\n",
              "temperature     -0.029323     1.000000         0.046851      -0.625108\n",
              "angularvelocity  0.028159     0.046851         1.000000      -0.093547\n",
              "viscosity_log   -0.340963    -0.625108        -0.093547       1.000000"
            ]
          },
          "metadata": {
            "tags": []
          },
          "execution_count": 33
        }
      ]
    },
    {
      "cell_type": "markdown",
      "metadata": {
        "id": "zDoVBTStcoGQ",
        "colab_type": "text"
      },
      "source": [
        "## Спирман"
      ]
    },
    {
      "cell_type": "code",
      "metadata": {
        "id": "lVG5270Bcq_I",
        "colab_type": "code",
        "colab": {
          "base_uri": "https://localhost:8080/",
          "height": 173
        },
        "outputId": "150ebceb-a9b2-4ebd-9ebc-c84a67089ec3"
      },
      "source": [
        "df[['watercut', 'temperature', 'angularvelocity', 'viscosity_log']].corr(method='spearman')"
      ],
      "execution_count": 34,
      "outputs": [
        {
          "output_type": "execute_result",
          "data": {
            "text/html": [
              "<div>\n",
              "<style scoped>\n",
              "    .dataframe tbody tr th:only-of-type {\n",
              "        vertical-align: middle;\n",
              "    }\n",
              "\n",
              "    .dataframe tbody tr th {\n",
              "        vertical-align: top;\n",
              "    }\n",
              "\n",
              "    .dataframe thead th {\n",
              "        text-align: right;\n",
              "    }\n",
              "</style>\n",
              "<table border=\"1\" class=\"dataframe\">\n",
              "  <thead>\n",
              "    <tr style=\"text-align: right;\">\n",
              "      <th></th>\n",
              "      <th>watercut</th>\n",
              "      <th>temperature</th>\n",
              "      <th>angularvelocity</th>\n",
              "      <th>viscosity_log</th>\n",
              "    </tr>\n",
              "  </thead>\n",
              "  <tbody>\n",
              "    <tr>\n",
              "      <th>watercut</th>\n",
              "      <td>1.000000</td>\n",
              "      <td>-0.037526</td>\n",
              "      <td>0.036346</td>\n",
              "      <td>-0.458701</td>\n",
              "    </tr>\n",
              "    <tr>\n",
              "      <th>temperature</th>\n",
              "      <td>-0.037526</td>\n",
              "      <td>1.000000</td>\n",
              "      <td>0.059334</td>\n",
              "      <td>-0.763955</td>\n",
              "    </tr>\n",
              "    <tr>\n",
              "      <th>angularvelocity</th>\n",
              "      <td>0.036346</td>\n",
              "      <td>0.059334</td>\n",
              "      <td>1.000000</td>\n",
              "      <td>-0.129203</td>\n",
              "    </tr>\n",
              "    <tr>\n",
              "      <th>viscosity_log</th>\n",
              "      <td>-0.458701</td>\n",
              "      <td>-0.763955</td>\n",
              "      <td>-0.129203</td>\n",
              "      <td>1.000000</td>\n",
              "    </tr>\n",
              "  </tbody>\n",
              "</table>\n",
              "</div>"
            ],
            "text/plain": [
              "                 watercut  temperature  angularvelocity  viscosity_log\n",
              "watercut         1.000000    -0.037526         0.036346      -0.458701\n",
              "temperature     -0.037526     1.000000         0.059334      -0.763955\n",
              "angularvelocity  0.036346     0.059334         1.000000      -0.129203\n",
              "viscosity_log   -0.458701    -0.763955        -0.129203       1.000000"
            ]
          },
          "metadata": {
            "tags": []
          },
          "execution_count": 34
        }
      ]
    },
    {
      "cell_type": "markdown",
      "metadata": {
        "id": "gDD2medsd8kT",
        "colab_type": "text"
      },
      "source": [
        "**Видно, что вязкость достаточно сильно зависит от температуры, причем зависимость эта обратная, т.е. чем выше температура образца, тем меньше вязкость. Менее сильно зависит вязкость от обводненности и слабо зависит от начальной угловой скорости сдвига. Везде связь обратная.**"
      ]
    },
    {
      "cell_type": "markdown",
      "metadata": {
        "id": "RBLocbk5eAab",
        "colab_type": "text"
      },
      "source": [
        "## Визуализируем"
      ]
    },
    {
      "cell_type": "code",
      "metadata": {
        "id": "8shk2z6FeCzx",
        "colab_type": "code",
        "colab": {
          "base_uri": "https://localhost:8080/",
          "height": 603
        },
        "outputId": "23338d20-bfac-4939-c1c0-a36bff68feaa"
      },
      "source": [
        "g = sns.pairplot(df[['watercut', 'temperature', 'angularvelocity', 'viscosity_log']], diag_kind=\"kde\", markers=\"+\",\n",
        "                 plot_kws=dict(s=50, edgecolor=\"b\", linewidth=1),\n",
        "                 diag_kws=dict(shade=True), height=2)"
      ],
      "execution_count": 35,
      "outputs": [
        {
          "output_type": "display_data",
          "data": {
            "image/png": "[encoded data removed]",
            "text/plain": [
              "<Figure size 576x576 with 20 Axes>"
            ]
          },
          "metadata": {
            "tags": [],
            "needs_background": "light"
          }
        }
      ]
    },
    {
      "cell_type": "markdown",
      "metadata": {
        "id": "qjEDD_1NeI_F",
        "colab_type": "text"
      },
      "source": [
        "## Ковариации"
      ]
    },
    {
      "cell_type": "code",
      "metadata": {
        "id": "r-mTtWrteLCj",
        "colab_type": "code",
        "colab": {
          "base_uri": "https://localhost:8080/",
          "height": 51
        },
        "outputId": "1d4b3bf2-7db3-4820-f266-86e44f532f3b"
      },
      "source": [
        "np.cov(df['temperature'], df['viscosity_log'])"
      ],
      "execution_count": 36,
      "outputs": [
        {
          "output_type": "execute_result",
          "data": {
            "text/plain": [
              "array([[285.56418456,  -9.95350719],\n",
              "       [ -9.95350719,   0.72824814]])"
            ]
          },
          "metadata": {
            "tags": []
          },
          "execution_count": 36
        }
      ]
    },
    {
      "cell_type": "code",
      "metadata": {
        "id": "TsHuIiOPePBD",
        "colab_type": "code",
        "colab": {
          "base_uri": "https://localhost:8080/",
          "height": 51
        },
        "outputId": "863c8a49-3f22-437f-ed92-7e6a79cabf23"
      },
      "source": [
        "np.cov(df['watercut'], df['viscosity_log'])"
      ],
      "execution_count": 37,
      "outputs": [
        {
          "output_type": "execute_result",
          "data": {
            "text/plain": [
              "array([[408.83711487,  -6.4371498 ],\n",
              "       [ -6.4371498 ,   0.72824814]])"
            ]
          },
          "metadata": {
            "tags": []
          },
          "execution_count": 37
        }
      ]
    },
    {
      "cell_type": "code",
      "metadata": {
        "id": "nH-9NO_heQ6r",
        "colab_type": "code",
        "colab": {
          "base_uri": "https://localhost:8080/",
          "height": 51
        },
        "outputId": "d969c85a-f601-4de7-c64a-7101d40826ee"
      },
      "source": [
        "np.cov(df['angularvelocity'], df['viscosity_log'])"
      ],
      "execution_count": 38,
      "outputs": [
        {
          "output_type": "execute_result",
          "data": {
            "text/plain": [
              "array([[379.75021573,  -3.00700501],\n",
              "       [ -3.00700501,   0.72824814]])"
            ]
          },
          "metadata": {
            "tags": []
          },
          "execution_count": 38
        }
      ]
    },
    {
      "cell_type": "markdown",
      "metadata": {
        "id": "mJPorPbXeUrs",
        "colab_type": "text"
      },
      "source": [
        "## Проведем проверку на нормальность"
      ]
    },
    {
      "cell_type": "code",
      "metadata": {
        "id": "qf9Tw-RiebvP",
        "colab_type": "code",
        "colab": {
          "base_uri": "https://localhost:8080/",
          "height": 34
        },
        "outputId": "4040b8c8-ef33-4260-d0a2-c9aacf968c6c"
      },
      "source": [
        "stats.kstest(df['viscosity_log'], 'norm')"
      ],
      "execution_count": 39,
      "outputs": [
        {
          "output_type": "execute_result",
          "data": {
            "text/plain": [
              "KstestResult(statistic=0.7645949131524361, pvalue=3.961434375644388e-122)"
            ]
          },
          "metadata": {
            "tags": []
          },
          "execution_count": 39
        }
      ]
    },
    {
      "cell_type": "code",
      "metadata": {
        "id": "3tscwqZhee5p",
        "colab_type": "code",
        "colab": {
          "base_uri": "https://localhost:8080/",
          "height": 34
        },
        "outputId": "aded9af1-46f6-4789-f752-cbdec31ace93"
      },
      "source": [
        "stats.kstest(df['temperature'], 'norm')"
      ],
      "execution_count": 40,
      "outputs": [
        {
          "output_type": "execute_result",
          "data": {
            "text/plain": [
              "KstestResult(statistic=1.0, pvalue=0.0)"
            ]
          },
          "metadata": {
            "tags": []
          },
          "execution_count": 40
        }
      ]
    },
    {
      "cell_type": "code",
      "metadata": {
        "id": "t9xzAtHmegq5",
        "colab_type": "code",
        "colab": {
          "base_uri": "https://localhost:8080/",
          "height": 34
        },
        "outputId": "79dfed3b-5013-42c3-e254-82821c6ef03c"
      },
      "source": [
        "stats.kstest(df['watercut'], 'norm')"
      ],
      "execution_count": 41,
      "outputs": [
        {
          "output_type": "execute_result",
          "data": {
            "text/plain": [
              "KstestResult(statistic=0.8592964824120604, pvalue=1.5133500746786172e-169)"
            ]
          },
          "metadata": {
            "tags": []
          },
          "execution_count": 41
        }
      ]
    },
    {
      "cell_type": "code",
      "metadata": {
        "id": "XZkg70hnel7Z",
        "colab_type": "code",
        "colab": {
          "base_uri": "https://localhost:8080/",
          "height": 34
        },
        "outputId": "b7cc73ea-214f-4760-c818-24cee997026c"
      },
      "source": [
        "stats.kstest(df['angularvelocity'], 'norm')"
      ],
      "execution_count": 42,
      "outputs": [
        {
          "output_type": "execute_result",
          "data": {
            "text/plain": [
              "KstestResult(statistic=0.8413447460685429, pvalue=7.876876369036086e-159)"
            ]
          },
          "metadata": {
            "tags": []
          },
          "execution_count": 42
        }
      ]
    },
    {
      "cell_type": "code",
      "metadata": {
        "id": "4GsclRBueovW",
        "colab_type": "code",
        "colab": {
          "base_uri": "https://localhost:8080/",
          "height": 35
        },
        "outputId": "67403da2-4de1-4912-f183-9fdb889cb674"
      },
      "source": [
        "\"Не нормально\" if stats.kstest(df['viscosity_log'], 'norm').statistic < stats.ksone.ppf(0.95, n=df.shape[0]) else \"Нормально\""
      ],
      "execution_count": 43,
      "outputs": [
        {
          "output_type": "execute_result",
          "data": {
            "application/vnd.google.colaboratory.intrinsic+json": {
              "type": "string"
            },
            "text/plain": [
              "'Нормально'"
            ]
          },
          "metadata": {
            "tags": []
          },
          "execution_count": 43
        }
      ]
    },
    {
      "cell_type": "code",
      "metadata": {
        "id": "60ABHvfEerej",
        "colab_type": "code",
        "colab": {
          "base_uri": "https://localhost:8080/",
          "height": 35
        },
        "outputId": "859ccf1d-09bf-4bcd-bfc6-a166bef0b7b7"
      },
      "source": [
        "\"Не нормально\" if stats.kstest(df['temperature'], 'norm').statistic < stats.ksone.ppf(0.95, n=df.shape[0]) else \"Нормально\""
      ],
      "execution_count": 44,
      "outputs": [
        {
          "output_type": "execute_result",
          "data": {
            "application/vnd.google.colaboratory.intrinsic+json": {
              "type": "string"
            },
            "text/plain": [
              "'Нормально'"
            ]
          },
          "metadata": {
            "tags": []
          },
          "execution_count": 44
        }
      ]
    },
    {
      "cell_type": "code",
      "metadata": {
        "id": "Wc2qIDVsetzw",
        "colab_type": "code",
        "colab": {
          "base_uri": "https://localhost:8080/",
          "height": 35
        },
        "outputId": "43bdad29-de25-44da-c0ee-d699855a2abe"
      },
      "source": [
        "\"Не нормально\" if stats.kstest(df['watercut'], 'norm').statistic < stats.ksone.ppf(0.95, n=df.shape[0]) else \"Нормально\""
      ],
      "execution_count": 45,
      "outputs": [
        {
          "output_type": "execute_result",
          "data": {
            "application/vnd.google.colaboratory.intrinsic+json": {
              "type": "string"
            },
            "text/plain": [
              "'Нормально'"
            ]
          },
          "metadata": {
            "tags": []
          },
          "execution_count": 45
        }
      ]
    },
    {
      "cell_type": "code",
      "metadata": {
        "id": "3hX3iqMdevpy",
        "colab_type": "code",
        "colab": {
          "base_uri": "https://localhost:8080/",
          "height": 35
        },
        "outputId": "d4f3af55-8545-458e-e8e6-43a2ef5e2a0b"
      },
      "source": [
        "\"Не нормально\" if stats.kstest(df['angularvelocity'], 'norm').statistic < stats.ksone.ppf(0.95, n=df.shape[0]) else \"Нормально\""
      ],
      "execution_count": 46,
      "outputs": [
        {
          "output_type": "execute_result",
          "data": {
            "application/vnd.google.colaboratory.intrinsic+json": {
              "type": "string"
            },
            "text/plain": [
              "'Нормально'"
            ]
          },
          "metadata": {
            "tags": []
          },
          "execution_count": 46
        }
      ]
    },
    {
      "cell_type": "markdown",
      "metadata": {
        "id": "9Ajd3VNheyEA",
        "colab_type": "text"
      },
      "source": [
        "**Принимаем нормальность нашей выборки**"
      ]
    },
    {
      "cell_type": "markdown",
      "metadata": {
        "id": "4MTs-x7xe17I",
        "colab_type": "text"
      },
      "source": [
        "## Посчитаем парную регрессию"
      ]
    },
    {
      "cell_type": "code",
      "metadata": {
        "id": "RxO00VVOe5sS",
        "colab_type": "code",
        "colab": {
          "base_uri": "https://localhost:8080/",
          "height": 277
        },
        "outputId": "215dee86-ca56-484d-a9b6-da86c8a7f401"
      },
      "source": [
        "b0, b1 = pair_regression(df['temperature'], df['viscosity_log'])\n",
        "regression_plot(df['temperature'], df['viscosity'], b0, b1, 'Температура', 'Вязкость')"
      ],
      "execution_count": 47,
      "outputs": [
        {
          "output_type": "display_data",
          "data": {
            "image/png": "[encoded data removed]",
            "text/plain": [
              "<Figure size 432x288 with 1 Axes>"
            ]
          },
          "metadata": {
            "tags": [],
            "needs_background": "light"
          }
        }
      ]
    },
    {
      "cell_type": "code",
      "metadata": {
        "id": "fcBSrv0Qe7-o",
        "colab_type": "code",
        "colab": {
          "base_uri": "https://localhost:8080/",
          "height": 276
        },
        "outputId": "f942b5ca-9ad5-4b74-fb58-4b6b658ae564"
      },
      "source": [
        "regression_plot(df['temperature'], df['viscosity'], b0, b1, 'Температура', 'Вязкость', False)"
      ],
      "execution_count": 48,
      "outputs": [
        {
          "output_type": "display_data",
          "data": {
            "image/png": "[encoded data removed]",
            "text/plain": [
              "<Figure size 432x288 with 1 Axes>"
            ]
          },
          "metadata": {
            "tags": [],
            "needs_background": "light"
          }
        }
      ]
    },
    {
      "cell_type": "code",
      "metadata": {
        "id": "7PdIKhz4e-EY",
        "colab_type": "code",
        "colab": {
          "base_uri": "https://localhost:8080/",
          "height": 277
        },
        "outputId": "1c7b3e89-5556-4631-a814-9ae7fa1678d4"
      },
      "source": [
        "b0, b1 = pair_regression(df['watercut'], df['viscosity_log'])\n",
        "regression_plot(df['watercut'], df['viscosity'], b0, b1, 'Обводненность', 'Вязкость')"
      ],
      "execution_count": 49,
      "outputs": [
        {
          "output_type": "display_data",
          "data": {
            "image/png": "[encoded data removed]",
            "text/plain": [
              "<Figure size 432x288 with 1 Axes>"
            ]
          },
          "metadata": {
            "tags": [],
            "needs_background": "light"
          }
        }
      ]
    },
    {
      "cell_type": "code",
      "metadata": {
        "id": "jqoEXYU-fAPB",
        "colab_type": "code",
        "colab": {
          "base_uri": "https://localhost:8080/",
          "height": 276
        },
        "outputId": "f39b090b-f8aa-4d81-d21d-4ac44d1a5214"
      },
      "source": [
        "regression_plot(df['watercut'], df['viscosity'], b0, b1, 'Обводненность', 'Вязкость', False)"
      ],
      "execution_count": 50,
      "outputs": [
        {
          "output_type": "display_data",
          "data": {
            "image/png": "[encoded data removed]",
            "text/plain": [
              "<Figure size 432x288 with 1 Axes>"
            ]
          },
          "metadata": {
            "tags": [],
            "needs_background": "light"
          }
        }
      ]
    },
    {
      "cell_type": "code",
      "metadata": {
        "id": "47NOiRnBfCl5",
        "colab_type": "code",
        "colab": {
          "base_uri": "https://localhost:8080/",
          "height": 277
        },
        "outputId": "5e0f7fe7-106f-4b0b-d0f2-9326d5c86ac1"
      },
      "source": [
        "b0, b1 = pair_regression(df['angularvelocity'], df['viscosity_log'])\n",
        "regression_plot(df['angularvelocity'], df['viscosity'], b0, b1, 'Угловая скорость', 'Вязкость')"
      ],
      "execution_count": 51,
      "outputs": [
        {
          "output_type": "display_data",
          "data": {
            "image/png": "[encoded data removed]",
            "text/plain": [
              "<Figure size 432x288 with 1 Axes>"
            ]
          },
          "metadata": {
            "tags": [],
            "needs_background": "light"
          }
        }
      ]
    },
    {
      "cell_type": "code",
      "metadata": {
        "id": "_P6CWwlsfEoL",
        "colab_type": "code",
        "colab": {
          "base_uri": "https://localhost:8080/",
          "height": 276
        },
        "outputId": "ef48bb14-ee9c-4a68-edd9-9e1a4b264b7a"
      },
      "source": [
        "regression_plot(df['angularvelocity'], df['viscosity'], b0, b1, 'Угловая скорость', 'Вязкость', False)"
      ],
      "execution_count": 52,
      "outputs": [
        {
          "output_type": "display_data",
          "data": {
            "image/png": "[encoded data removed]",
            "text/plain": [
              "<Figure size 432x288 with 1 Axes>"
            ]
          },
          "metadata": {
            "tags": [],
            "needs_background": "light"
          }
        }
      ]
    },
    {
      "cell_type": "code",
      "metadata": {
        "id": "bh7IJpOTfG1P",
        "colab_type": "code",
        "colab": {
          "base_uri": "https://localhost:8080/",
          "height": 51
        },
        "outputId": "bd9cf463-9fa0-4f80-c977-19fcd525a7bd"
      },
      "source": [
        "np.corrcoef(df['temperature'], df['viscosity_log']) ** 2"
      ],
      "execution_count": 53,
      "outputs": [
        {
          "output_type": "execute_result",
          "data": {
            "text/plain": [
              "array([[1.        , 0.47639715],\n",
              "       [0.47639715, 1.        ]])"
            ]
          },
          "metadata": {
            "tags": []
          },
          "execution_count": 53
        }
      ]
    },
    {
      "cell_type": "markdown",
      "metadata": {
        "id": "084r9AMafI61",
        "colab_type": "text"
      },
      "source": [
        "Коэффициент детерминации, равный 0.4764 , означает, что 48% дисперсии вязкости учитывается или объясняется моделью. Оставшиеся 52% обусловлены какими-то ещё факторами, которые модель не учла."
      ]
    },
    {
      "cell_type": "code",
      "metadata": {
        "id": "ToFiBcuofLJw",
        "colab_type": "code",
        "colab": {
          "base_uri": "https://localhost:8080/",
          "height": 51
        },
        "outputId": "d5ab0cb4-a0a8-4ee4-99d7-184ceb170ded"
      },
      "source": [
        "np.corrcoef(df['watercut'], df['viscosity_log']) ** 2"
      ],
      "execution_count": 54,
      "outputs": [
        {
          "output_type": "execute_result",
          "data": {
            "text/plain": [
              "array([[1.        , 0.13917382],\n",
              "       [0.13917382, 1.        ]])"
            ]
          },
          "metadata": {
            "tags": []
          },
          "execution_count": 54
        }
      ]
    },
    {
      "cell_type": "markdown",
      "metadata": {
        "id": "erVWcAG_fNH8",
        "colab_type": "text"
      },
      "source": [
        "Коэффициент детерминации, равный 0.1392 , означает, что 13% дисперсии вязкости учитывается или объясняется моделью. Оставшиеся 87% обусловлены какими-то ещё факторами, которые модель не учла."
      ]
    },
    {
      "cell_type": "code",
      "metadata": {
        "id": "iSQagjrafP7n",
        "colab_type": "code",
        "colab": {
          "base_uri": "https://localhost:8080/",
          "height": 51
        },
        "outputId": "293a03e2-cb79-4caf-92d8-5270ecb3aaf1"
      },
      "source": [
        "np.corrcoef(df['angularvelocity'], df['viscosity_log']) ** 2"
      ],
      "execution_count": 55,
      "outputs": [
        {
          "output_type": "execute_result",
          "data": {
            "text/plain": [
              "array([[1.        , 0.03269572],\n",
              "       [0.03269572, 1.        ]])"
            ]
          },
          "metadata": {
            "tags": []
          },
          "execution_count": 55
        }
      ]
    },
    {
      "cell_type": "markdown",
      "metadata": {
        "id": "eGX4av-afSS6",
        "colab_type": "text"
      },
      "source": [
        "Коэффициент детерминации, равный 0.0327 , означает, что 3% дисперсии вязкости учитывается или объясняется моделью. Оставшиеся 97% обусловлены какими-то ещё факторами, которые модель не учла. В дальнейшем этот фактор можно не учитвать."
      ]
    },
    {
      "cell_type": "markdown",
      "metadata": {
        "id": "gkEALa_CfVAX",
        "colab_type": "text"
      },
      "source": [
        "**Как видно, парная регрессия не полностью объясняет дисперсию**"
      ]
    },
    {
      "cell_type": "markdown",
      "metadata": {
        "id": "C84yqVGKfawm",
        "colab_type": "text"
      },
      "source": [
        "## Метод наименьших квадратов"
      ]
    },
    {
      "cell_type": "code",
      "metadata": {
        "id": "01HkhSpKfeJY",
        "colab_type": "code",
        "colab": {}
      },
      "source": [
        "x = df[['temperature', 'watercut']].values\n",
        "y = df['viscosity_log'].values.reshape(-1, 1)"
      ],
      "execution_count": 56,
      "outputs": []
    },
    {
      "cell_type": "markdown",
      "metadata": {
        "id": "7ATBaL2ofgag",
        "colab_type": "text"
      },
      "source": [
        "Добавим столбец единиц"
      ]
    },
    {
      "cell_type": "code",
      "metadata": {
        "id": "hfYNiNaVfiNG",
        "colab_type": "code",
        "colab": {}
      },
      "source": [
        "x = np.hstack((np.ones((x.shape[0], 1)), x))"
      ],
      "execution_count": 57,
      "outputs": []
    },
    {
      "cell_type": "code",
      "metadata": {
        "id": "6tAhkFxefkHe",
        "colab_type": "code",
        "colab": {
          "base_uri": "https://localhost:8080/",
          "height": 68
        },
        "outputId": "2be967a1-c266-4f7f-b61e-535a1c58d575"
      },
      "source": [
        "b = least_square_method(x, y)\n",
        "b"
      ],
      "execution_count": 58,
      "outputs": [
        {
          "output_type": "execute_result",
          "data": {
            "text/plain": [
              "array([[ 4.61029623],\n",
              "       [-0.03554393],\n",
              "       [-0.01676441]])"
            ]
          },
          "metadata": {
            "tags": []
          },
          "execution_count": 58
        }
      ]
    },
    {
      "cell_type": "markdown",
      "metadata": {
        "id": "BrDAijDJfod3",
        "colab_type": "text"
      },
      "source": [
        "Модель регрессии имеет вид:$$y = 4,61029623 - 0,03554393 \\cdot x_1 - 0,01676441 \\cdot x_2,$$где $x_1$ — температура, $x_2$ — обводненность.\n",
        "\n",
        "Проверим несмещенность модели"
      ]
    },
    {
      "cell_type": "code",
      "metadata": {
        "id": "ewg3e0KWfrB2",
        "colab_type": "code",
        "colab": {
          "base_uri": "https://localhost:8080/",
          "height": 34
        },
        "outputId": "9af533c6-d0f9-4228-a8b8-63d5679087f8"
      },
      "source": [
        "x.dot(b).mean(), y.mean()"
      ],
      "execution_count": 59,
      "outputs": [
        {
          "output_type": "execute_result",
          "data": {
            "text/plain": [
              "(1.8519913680305569, 1.8519913680305529)"
            ]
          },
          "metadata": {
            "tags": []
          },
          "execution_count": 59
        }
      ]
    },
    {
      "cell_type": "markdown",
      "metadata": {
        "id": "CIiTh2nofwX8",
        "colab_type": "text"
      },
      "source": [
        "**Наша модель несмещенная**"
      ]
    },
    {
      "cell_type": "markdown",
      "metadata": {
        "id": "OZkf3RGDf0Ik",
        "colab_type": "text"
      },
      "source": [
        "## Оценим уравнение регрессии"
      ]
    },
    {
      "cell_type": "code",
      "metadata": {
        "id": "YlSH4ApTf3gj",
        "colab_type": "code",
        "colab": {
          "base_uri": "https://localhost:8080/",
          "height": 51
        },
        "outputId": "de9df508-6442-4a2b-af2d-481059aa6316"
      },
      "source": [
        "z = x.dot(b)\n",
        "\n",
        "print(f'real: {y[:6].T}')\n",
        "print(f'pred: {z[:6].T}')"
      ],
      "execution_count": 60,
      "outputs": [
        {
          "output_type": "stream",
          "text": [
            "real: [[0.18232156 0.21228481 0.22633844 0.37932645 0.42317404 0.44468582]]\n",
            "pred: [[0.40547751 0.57312161 0.40547751 0.57312161 0.40547751 1.11635621]]\n"
          ],
          "name": "stdout"
        }
      ]
    },
    {
      "cell_type": "code",
      "metadata": {
        "id": "pnkI-GlIf5pV",
        "colab_type": "code",
        "colab": {
          "base_uri": "https://localhost:8080/",
          "height": 34
        },
        "outputId": "eefd24cc-f17f-478b-c05b-dc8939f04af4"
      },
      "source": [
        "R = 1 - (z - y).var() / y.var()\n",
        "R"
      ],
      "execution_count": 61,
      "outputs": [
        {
          "output_type": "execute_result",
          "data": {
            "text/plain": [
              "0.6339897155862436"
            ]
          },
          "metadata": {
            "tags": []
          },
          "execution_count": 61
        }
      ]
    },
    {
      "cell_type": "code",
      "metadata": {
        "id": "pU2komM0f8ZY",
        "colab_type": "code",
        "colab": {
          "base_uri": "https://localhost:8080/",
          "height": 34
        },
        "outputId": "40350d3a-ccaa-4556-e1aa-d5ab4a5c4aaf"
      },
      "source": [
        "z.var(), y.var()"
      ],
      "execution_count": 62,
      "outputs": [
        {
          "output_type": "execute_result",
          "data": {
            "text/plain": [
              "(0.4593817186111686, 0.7245885971295051)"
            ]
          },
          "metadata": {
            "tags": []
          },
          "execution_count": 62
        }
      ]
    },
    {
      "cell_type": "markdown",
      "metadata": {
        "id": "N8MHE8VKf_NR",
        "colab_type": "text"
      },
      "source": [
        "**Коэффициент детерминации для модели оказался лучше чем для парной регрессии, что вобщем-то неплохо.**"
      ]
    },
    {
      "cell_type": "markdown",
      "metadata": {
        "id": "Vq4MVnOmgEBl",
        "colab_type": "text"
      },
      "source": [
        "## Рассчитаем среднюю ошибку аппроксимации"
      ]
    },
    {
      "cell_type": "code",
      "metadata": {
        "id": "U1a0pIVYgI0f",
        "colab_type": "code",
        "colab": {
          "base_uri": "https://localhost:8080/",
          "height": 34
        },
        "outputId": "8505e102-75b2-43a7-d544-76567d70edc7"
      },
      "source": [
        "np.abs((y - z) / y).mean()"
      ],
      "execution_count": 63,
      "outputs": [
        {
          "output_type": "execute_result",
          "data": {
            "text/plain": [
              "0.21509591648964738"
            ]
          },
          "metadata": {
            "tags": []
          },
          "execution_count": 63
        }
      ]
    },
    {
      "cell_type": "markdown",
      "metadata": {
        "id": "NAfNULOhgKrs",
        "colab_type": "text"
      },
      "source": [
        "## Оценим значимость уравнения линейной регрессии"
      ]
    },
    {
      "cell_type": "code",
      "metadata": {
        "id": "2zhK0PpZgMbd",
        "colab_type": "code",
        "colab": {
          "base_uri": "https://localhost:8080/",
          "height": 34
        },
        "outputId": "273df954-b1d2-41f6-d1f3-b2fe2cbb0051"
      },
      "source": [
        "# Два фактора\n",
        "k = 2\n",
        "# Количество измерений\n",
        "n = x.shape[0]\n",
        "k1 = k\n",
        "k2 = n - k - 1\n",
        "\n",
        "F = (R / k1) / ((1 - R) / k2)\n",
        "F"
      ],
      "execution_count": 64,
      "outputs": [
        {
          "output_type": "execute_result",
          "data": {
            "text/plain": [
              "169.752039145479"
            ]
          },
          "metadata": {
            "tags": []
          },
          "execution_count": 64
        }
      ]
    },
    {
      "cell_type": "code",
      "metadata": {
        "id": "32_x5jeWgRVT",
        "colab_type": "code",
        "colab": {
          "base_uri": "https://localhost:8080/",
          "height": 34
        },
        "outputId": "c56c5883-af34-422c-a733-36542197c9b1"
      },
      "source": [
        "F_crit = stats.f.ppf(0.95, k1, k2)\n",
        "F_crit"
      ],
      "execution_count": 65,
      "outputs": [
        {
          "output_type": "execute_result",
          "data": {
            "text/plain": [
              "3.0419902345156493"
            ]
          },
          "metadata": {
            "tags": []
          },
          "execution_count": 65
        }
      ]
    },
    {
      "cell_type": "code",
      "metadata": {
        "id": "Sk5UfHK6gT_A",
        "colab_type": "code",
        "colab": {
          "base_uri": "https://localhost:8080/",
          "height": 34
        },
        "outputId": "0ea8ec03-af09-4daf-ac12-a2eacb8db9ec"
      },
      "source": [
        "F > F_crit"
      ],
      "execution_count": 66,
      "outputs": [
        {
          "output_type": "execute_result",
          "data": {
            "text/plain": [
              "True"
            ]
          },
          "metadata": {
            "tags": []
          },
          "execution_count": 66
        }
      ]
    },
    {
      "cell_type": "markdown",
      "metadata": {
        "id": "A-eRCi0NgYjT",
        "colab_type": "text"
      },
      "source": [
        "Имеем F &gt; F_{crit}, поэтому уравнение регрессии статистически значимо."
      ]
    },
    {
      "cell_type": "markdown",
      "metadata": {
        "id": "F_XGeptmghbd",
        "colab_type": "text"
      },
      "source": [
        "## Отрисуем полученный результат"
      ]
    },
    {
      "cell_type": "code",
      "metadata": {
        "id": "SLf8MTAfglbf",
        "colab_type": "code",
        "colab": {
          "base_uri": "https://localhost:8080/",
          "height": 248
        },
        "outputId": "335090f1-d495-4c6d-cb5c-4b815c7cdf48"
      },
      "source": [
        "fig = plt.figure()\n",
        "ax = fig.gca(projection='3d')\n",
        "# ax = fig.add_subplot(111, projection='3d')\n",
        "\n",
        "# Посчитали.\n",
        "X = np.arange(40, 90, 2.5)\n",
        "Y = np.arange(0, 60, 3)\n",
        "X, Y = np.meshgrid(X, Y)\n",
        "Z = np.exp(4.61029623 - 0.03554393 * X - 0.01676441 * Y)\n",
        "\n",
        "xs = np.array(df['temperature'].values)\n",
        "ys = np.array(df['watercut'].values)\n",
        "zs = np.array(df['viscosity'].values)\n",
        "\n",
        "# Отрисовали.\n",
        "surf = ax.plot_surface(X, Y, Z, cmap=cm.coolwarm, linewidth=0, antialiased=False)\n",
        "ax.scatter(xs, ys, zs, marker='^')\n",
        "\n",
        "# Настроили отображение.\n",
        "ax.set_zlim(1, 10)\n",
        "ax.zaxis.set_major_locator(LinearLocator(10))\n",
        "ax.zaxis.set_major_formatter(FormatStrFormatter('%.02f'))\n",
        "ax.set_xlabel('Температура')\n",
        "ax.set_ylabel('Обводненость')\n",
        "ax.set_zlabel('Вязкость')\n",
        "\n",
        "# Добавили цветной градиент.\n",
        "fig.colorbar(surf, shrink=0.5, aspect=5)\n",
        "\n",
        "plt.show()"
      ],
      "execution_count": 67,
      "outputs": [
        {
          "output_type": "display_data",
          "data": {
            "image/png": "[encoded data removed]",
            "text/plain": [
              "<Figure size 432x288 with 2 Axes>"
            ]
          },
          "metadata": {
            "tags": [],
            "needs_background": "light"
          }
        }
      ]
    },
    {
      "cell_type": "markdown",
      "metadata": {
        "id": "U-3G-jFAgpyU",
        "colab_type": "text"
      },
      "source": [
        "Полная модель регрессии имеет вид:$$\\mu = e^{4,6103 - 0,0355 \\cdot T - 0,0168 \\cdot W}$$где $\\mu$ — вязкость, $T$ — температура, $W$ — обводненность."
      ]
    }
  ]
}