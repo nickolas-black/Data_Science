{
  "nbformat": 4,
  "nbformat_minor": 0,
  "metadata": {
    "kernelspec": {
      "display_name": "Python 3",
      "language": "python",
      "name": "python3"
    },
    "language_info": {
      "codemirror_mode": {
        "name": "ipython",
        "version": 3
      },
      "file_extension": ".py",
      "mimetype": "text/x-python",
      "name": "python",
      "nbconvert_exporter": "python",
      "pygments_lexer": "ipython3",
      "version": "3.7.4"
    },
    "colab": {
      "name": "Урок 5. Проверка статистических гипотез. P-значения. Доверительные интервалы. A/B-тестирование.ipynb",
      "provenance": [],
      "collapsed_sections": []
    }
  },
  "cells": [
    {
      "cell_type": "markdown",
      "metadata": {
        "id": "zdSh1_KRIs2e",
        "colab_type": "text"
      },
      "source": [
        "# Урок 5. Проверка статистических гипотез. P-значения. Доверительные интервалы. A/B-тестирование\n",
        "\n",
        "## Выполнил - Колеганов Н.Д."
      ]
    },
    {
      "cell_type": "markdown",
      "metadata": {
        "id": "NcMjC8TKJvaf",
        "colab_type": "text"
      },
      "source": [
        "# Задание\n",
        "\n",
        "**Задача 1**\n",
        "\n",
        "Известно, что генеральная совокупность распределена нормально с известным средним квадратическим отклонением 16. Найти доверительный интервал для оценки математического ожидания mu с надёжностью 0.95, если выборочное среднее равно 80, а объём равен 256.\n",
        "\n",
        "**Задача 2**\n",
        "\n",
        "Продавец утверждает, что средний вес пачки печенья составляет 200 г. Из партии извлечена выборка из 10 пачек. Вес каждой пачки составляет:\n",
        "\n",
        "202, 203, 199, 197, 195, 201, 200, 204, 194, 190\n",
        "\n",
        "Известно, что их веса распределены нормально.\n",
        "1. Верно ли утверждение продавца, если учитывать, что уровень значимости равен 1%?\n",
        "2. Найдите P-значение для данного теста.\n",
        "\n",
        "**Задача 3**\n",
        "\n",
        "Дана выборка диаметров подшипников из примера 1 с занятия 5:\n",
        "\n",
        "samples = [0.6603, 0.9466, 0.5968, 1.3792, 1.5481, 0.7515, 1.0681, 1.1134,\n",
        "1.2088, 1.701 , 1.0282, 1.3579, 1.0191, 1.1784, 1.1168, 1.1372,\n",
        "0.7273, 1.3958, 0.8665, 1.5112, 1.161 , 1.0232, 1.0865, 1.02 ]\n",
        "\n",
        "Предполагая, что диаметры подшипников распределены нормально, проверьте гипотезу о том, что дисперсия случайной величины равна 0.0625 при уровне значимости alpha = 0.05. Что для этого нужно знать:\n",
        "1. Альтернативная гипотеза двухсторонняя.\n",
        "2. Статистика для теста: H = (n - 1) * sample_variance / variance, где n - число элементов в выборке, sample_variance - несмещённая оценка дисперсии, variance - утверждаемая нулевой гипотезой дисперсия.\n",
        "3. Эта статистика в предположении верности нулевой гипотезы имеет распределение хи-квадрат с параметром df = n - 1. Её квантили можно найти с помощью функции scipy.stats.chi2.ppf."
      ]
    },
    {
      "cell_type": "code",
      "metadata": {
        "id": "h6dIVf5ZIs2f",
        "colab_type": "code",
        "colab": {}
      },
      "source": [
        "import numpy as np\n",
        "from scipy import stats\n",
        "import math"
      ],
      "execution_count": 4,
      "outputs": []
    },
    {
      "cell_type": "markdown",
      "metadata": {
        "id": "ZjGfVKvbIs2k",
        "colab_type": "text"
      },
      "source": [
        "### **Задача 1**"
      ]
    },
    {
      "cell_type": "markdown",
      "metadata": {
        "id": "CCdTvurGIs2m",
        "colab_type": "text"
      },
      "source": [
        "Известно, что генеральная совокупность распределена нормально с известным средним квадратическим отклонением 16. Найти доверительный интервал для оценки математического ожидания mu с надёжностью 0.95, если выборочное среднее равно 80, а объём равен 256."
      ]
    },
    {
      "cell_type": "markdown",
      "metadata": {
        "id": "oeOBSr7fKAxi",
        "colab_type": "text"
      },
      "source": [
        "## *Решение*"
      ]
    },
    {
      "cell_type": "markdown",
      "metadata": {
        "id": "QSgPDSgvqwYB",
        "colab_type": "text"
      },
      "source": [
        "Среднеквадратичное отклонение генеральной совокупности $\\sigma = 16$\n",
        "\n",
        "Величина выборки $n = 256$\n",
        "\n",
        "Выборочное среднее $\\overline{X} = 80$\n",
        "\n",
        "Доверительная вероятность $0,95$, откуда $\\alpha = 0,05$\n",
        "\n",
        "Поскольку распределение нормальное, то"
      ]
    },
    {
      "cell_type": "code",
      "metadata": {
        "id": "krG7gtAgT5BA",
        "colab_type": "code",
        "colab": {
          "base_uri": "https://localhost:8080/",
          "height": 34
        },
        "outputId": "7cca3113-50ad-47a3-b20b-e4cc896d7861"
      },
      "source": [
        "stats.norm.ppf(0.05 / 2)"
      ],
      "execution_count": 5,
      "outputs": [
        {
          "output_type": "execute_result",
          "data": {
            "text/plain": [
              "-1.9599639845400545"
            ]
          },
          "metadata": {
            "tags": []
          },
          "execution_count": 5
        }
      ]
    },
    {
      "cell_type": "code",
      "metadata": {
        "id": "LFdmmINOT6Ex",
        "colab_type": "code",
        "colab": {
          "base_uri": "https://localhost:8080/",
          "height": 34
        },
        "outputId": "b72372f1-4d2d-4053-d6dd-452fad99c202"
      },
      "source": [
        "stats.norm.ppf(1 - 0.05 / 2)"
      ],
      "execution_count": 6,
      "outputs": [
        {
          "output_type": "execute_result",
          "data": {
            "text/plain": [
              "1.959963984540054"
            ]
          },
          "metadata": {
            "tags": []
          },
          "execution_count": 6
        }
      ]
    },
    {
      "cell_type": "markdown",
      "metadata": {
        "id": "sMYjXxiv-f_-",
        "colab_type": "text"
      },
      "source": [
        "$$t_{\\alpha/2} = -1,96$$$$t_{1-\\alpha/2} = 1,96$$\n",
        "$$\n",
        "P \\left(\n",
        "    \\overline{X} - t_{1 - \\alpha / 2} \\cdot \\dfrac{\\sigma}{\\sqrt{n}}\n",
        "    \\leq a \\leq \n",
        "    \\overline{X} + t_{1 - \\alpha / 2} \\cdot \\dfrac{\\sigma}{\\sqrt{n}}\n",
        "\\right)\n",
        "$$\n",
        "$$t_{1 - \\alpha / 2} \\cdot \\dfrac{\\sigma}{\\sqrt{n}} = 1,96 \\cdot \\dfrac{16}{\\sqrt{256}} = 1,96 \\cdot \\dfrac{16}{16} = 1,96$$\n",
        "$$\n",
        "P \\left(\n",
        "    \\overline{X} - t_{1 - \\alpha / 2} \\cdot \\dfrac{\\sigma}{\\sqrt{n}}\n",
        "    \\leq a \\leq \n",
        "    \\overline{X} + t_{1 - \\alpha / 2} \\cdot \\dfrac{\\sigma}{\\sqrt{n}}\n",
        "\\right)\n",
        "= P \\left(80 - 1,96 \\leq a \\leq 80 + 1,96 \\right)\n",
        "= P \\left(78,04 \\leq a \\leq 81,96 \\right)\n",
        "$$\n",
        "Доверительный интервал$$P \\left(78,04 \\leq a \\leq 81,96 \\right)$$"
      ]
    },
    {
      "cell_type": "markdown",
      "metadata": {
        "id": "W3tIw1skIs2x",
        "colab_type": "text"
      },
      "source": [
        "### **Задача 2**"
      ]
    },
    {
      "cell_type": "markdown",
      "metadata": {
        "id": "_S1dSEocIs2y",
        "colab_type": "text"
      },
      "source": [
        "Продавец утверждает, что средний вес пачки печенья составляет 200 г. Из партии извлечена выборка из 10 пачек. Вес каждой пачки составляет:\n",
        "\n",
        "202, 203, 199, 197, 195, 201, 200, 204, 194, 190\n",
        "\n",
        "Известно, что их веса распределены нормально.\n",
        "\n",
        "Верно ли утверждение продавца, если учитывать, что уровень значимости равен 1%?\n",
        "Найдите P-значение для данного теста."
      ]
    },
    {
      "cell_type": "markdown",
      "metadata": {
        "id": "Pa8T4wA3KOuV",
        "colab_type": "text"
      },
      "source": [
        "## *Решение*"
      ]
    },
    {
      "cell_type": "code",
      "metadata": {
        "id": "tdhcgw21Is24",
        "colab_type": "code",
        "colab": {}
      },
      "source": [
        "samples = np.array([202, 203, 199, 197, 195, 201, 200, 204, 194, 190])"
      ],
      "execution_count": 7,
      "outputs": []
    },
    {
      "cell_type": "markdown",
      "metadata": {
        "id": "V61fDXFp-_S4",
        "colab_type": "text"
      },
      "source": [
        "\n",
        "Поскольку в задаче не указано, что распределение нормальное, то используем стьюдента.\n",
        "\n",
        "Нулевая гипотеза: $H_0: a = 200$, альтернативная гипотеза $H_1: a ≠ 17$\n",
        "Статистика:"
      ]
    },
    {
      "cell_type": "code",
      "metadata": {
        "id": "Vc_IFZJvsMN2",
        "colab_type": "code",
        "colab": {
          "base_uri": "https://localhost:8080/",
          "height": 34
        },
        "outputId": "5c9e7857-081a-48d2-fc3a-701e1f8a2786"
      },
      "source": [
        "n = samples.shape[0]\n",
        "mean = samples.mean()\n",
        "std = samples.std(ddof=1)\n",
        "\n",
        "n, mean, std"
      ],
      "execution_count": 8,
      "outputs": [
        {
          "output_type": "execute_result",
          "data": {
            "text/plain": [
              "(10, 198.5, 4.453463071962462)"
            ]
          },
          "metadata": {
            "tags": []
          },
          "execution_count": 8
        }
      ]
    },
    {
      "cell_type": "markdown",
      "metadata": {
        "id": "grnQMkFWsgCY",
        "colab_type": "text"
      },
      "source": [
        "$$T(X) = \\dfrac{\\overline{X} - 200}{4,4535 / \\sqrt{10}}$$\n",
        "Уровень значимости $\\alpha = 0,01$ для двухсторонней критической области $\\Omega_\\alpha = (-\\infty, t_{\\alpha/2}) \\cup (t_{1 - \\alpha/2}, \\infty)$\n",
        "Определяем критическую область $\\Omega_\\alpha$"
      ]
    },
    {
      "cell_type": "code",
      "metadata": {
        "id": "-K-IUJhHsjNC",
        "colab_type": "code",
        "colab": {
          "base_uri": "https://localhost:8080/",
          "height": 34
        },
        "outputId": "85ae1e9b-d11c-4e14-a935-36bc50a37eb0"
      },
      "source": [
        "alpha = 0.01\n",
        "t_l = stats.t.ppf(alpha / 2, df=n - 1)\n",
        "t_r = stats.t.ppf(1 - alpha / 2, df=n - 1)\n",
        "t_l, t_r"
      ],
      "execution_count": 9,
      "outputs": [
        {
          "output_type": "execute_result",
          "data": {
            "text/plain": [
              "(-3.24983554401537, 3.2498355440153697)"
            ]
          },
          "metadata": {
            "tags": []
          },
          "execution_count": 9
        }
      ]
    },
    {
      "cell_type": "markdown",
      "metadata": {
        "id": "0wvAsFne_ZnO",
        "colab_type": "text"
      },
      "source": [
        "\n",
        "$\\Omega_\\alpha = (-\\infty; -3,2498) \\cup (3,2498; \\infty)$\n",
        "Проводим статистический тест\n",
        "$$T(X) = \\dfrac{198,5 - 200}{4,4535 / \\sqrt{10}}$$"
      ]
    },
    {
      "cell_type": "code",
      "metadata": {
        "id": "laNTi__E_cno",
        "colab_type": "code",
        "colab": {
          "base_uri": "https://localhost:8080/",
          "height": 34
        },
        "outputId": "42a3c35f-53ff-4306-9b60-3d48734e4e00"
      },
      "source": [
        "T_x = math.sqrt(n) * (mean - 200) / std\n",
        "T_x"
      ],
      "execution_count": 10,
      "outputs": [
        {
          "output_type": "execute_result",
          "data": {
            "text/plain": [
              "-1.0651074037450896"
            ]
          },
          "metadata": {
            "tags": []
          },
          "execution_count": 10
        }
      ]
    },
    {
      "cell_type": "markdown",
      "metadata": {
        "id": "q7jy80Cm_gmq",
        "colab_type": "text"
      },
      "source": [
        "$$T(X) = -1,0651$$\n",
        "\n",
        "\n",
        "-3,2498 &lt; T(X) = −1,0651 &lt; 3,2498 \n",
        "\n",
        "В принципе можно утверждать, что продавец не врет."
      ]
    },
    {
      "cell_type": "markdown",
      "metadata": {
        "id": "sZdVG1flt8sq",
        "colab_type": "text"
      },
      "source": [
        "### **Задача 3**"
      ]
    },
    {
      "cell_type": "markdown",
      "metadata": {
        "id": "4eJT37dCt9B8",
        "colab_type": "text"
      },
      "source": [
        "Дана выборка диаметров подшипников из примера 1 с занятия 5:\n",
        "\n",
        "samples = [0.6603, 0.9466, 0.5968, 1.3792, 1.5481, 0.7515, 1.0681, 1.1134,\n",
        "1.2088, 1.701 , 1.0282, 1.3579, 1.0191, 1.1784, 1.1168, 1.1372,\n",
        "0.7273, 1.3958, 0.8665, 1.5112, 1.161 , 1.0232, 1.0865, 1.02 ]\n",
        "\n",
        "Предполагая, что диаметры подшипников распределены нормально, проверьте гипотезу о том, что дисперсия случайной величины равна 0.0625 при уровне значимости alpha = 0.05. Что для этого нужно знать:\n",
        "1. Альтернативная гипотеза двухсторонняя.\n",
        "2. Статистика для теста: H = (n - 1) * sample_variance / variance, где n - число элементов в выборке, sample_variance - несмещённая оценка дисперсии, variance - утверждаемая нулевой гипотезой дисперсия.\n",
        "3. Эта статистика в предположении верности нулевой гипотезы имеет распределение хи-квадрат с параметром df = n - 1. Её квантили можно найти с помощью функции scipy.stats.chi2.ppf."
      ]
    },
    {
      "cell_type": "markdown",
      "metadata": {
        "id": "RQReFR6NKTRo",
        "colab_type": "text"
      },
      "source": [
        "## *Решение*"
      ]
    },
    {
      "cell_type": "markdown",
      "metadata": {
        "id": "4vaEeib_Es6A",
        "colab_type": "text"
      },
      "source": [
        "$$H_0 \\quad \\mu = \\mu_0$$ $$H_1 \\quad \\mu > \\mu_0$$ $$Z_H = \\frac{\\overline{X} - \\mu_0}{\\sigma} \\cdot \\sqrt{n}$$ $$\\alpha = 0.05$$ $$Z_H = \\frac{17.5 - 17}{2} \\cdot \\sqrt{100} = 2.5$$ $$Z = 1.654$$ $$Z_H > Z \\quad \\text{верна гипотеза }H_1$$"
      ]
    }
  ]
}