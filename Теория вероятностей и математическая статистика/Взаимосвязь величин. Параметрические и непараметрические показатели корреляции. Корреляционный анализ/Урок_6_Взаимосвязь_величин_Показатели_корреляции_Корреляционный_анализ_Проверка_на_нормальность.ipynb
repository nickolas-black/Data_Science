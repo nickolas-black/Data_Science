{
  "nbformat": 4,
  "nbformat_minor": 0,
  "metadata": {
    "kernelspec": {
      "display_name": "Python 3",
      "language": "python",
      "name": "python3"
    },
    "language_info": {
      "codemirror_mode": {
        "name": "ipython",
        "version": 3
      },
      "file_extension": ".py",
      "mimetype": "text/x-python",
      "name": "python",
      "nbconvert_exporter": "python",
      "pygments_lexer": "ipython3",
      "version": "3.7.4"
    },
    "colab": {
      "name": "Урок 6. Взаимосвязь величин. Показатели корреляции. Корреляционный анализ. Проверка на нормальность",
      "provenance": [],
      "collapsed_sections": []
    }
  },
  "cells": [
    {
      "cell_type": "markdown",
      "metadata": {
        "id": "zdSh1_KRIs2e",
        "colab_type": "text"
      },
      "source": [
        "# Урок 6. Взаимосвязь величин. Показатели корреляции. Корреляционный анализ. Проверка на нормальность\n",
        "\n",
        "## Выполнил - Колеганов Н.Д."
      ]
    },
    {
      "cell_type": "markdown",
      "metadata": {
        "id": "NcMjC8TKJvaf",
        "colab_type": "text"
      },
      "source": [
        "# Задание\n",
        "\n",
        "**Задача 1**\n",
        "\n",
        "Даны значения величины заработной платы заемщиков банка (salary) и значения их поведенческого кредитного скоринга (scoring):\n",
        "\n",
        "salary = [35, 45, 190, 200, 40, 70, 54, 150, 120, 110]\n",
        "scoring = [401, 574, 874, 919, 459, 739, 653, 902, 746, 832]\n",
        "\n",
        "Используя только встроенные питоновские функции и структуры данных (т.е. без библиотек numpy, pandas и др.) найдите:\n",
        "1. ковариацию (смещённую и несмещённую) этих двух величин,\n",
        "2. коэффициент корреляции Пирсона.\n",
        "\n",
        "**Задача 2**\n",
        "\n",
        "Проведите тест на значимость коэффициента корреляции Пирсона, найденного в предыдущей задаче. Что для этого нужно знать:\n",
        "* Нулевая гипотеза: реальный коэффициент корреляции равен 0. Альтернативная гипотеза двухсторонняя.\n",
        "* Статистика: t = r * sqrt(n - 2) / sqrt(1 - r ** 2), где r - коэффициент корреляции Пирсона, посчитанный по выборке.\n",
        "* В предположении верности нулевой гипотезы эта статистика имеет распределение Стьюдента с параметром df = n - 2.\n",
        "\n",
        "**Задача 3**\n",
        "\n",
        "Измерены значения IQ выборки студентов, обучающихся в местных технических вузах:\n",
        "\n",
        "131, 125, 115, 122, 131, 115, 107, 99, 125, 111\n",
        "\n",
        "Известно, что в генеральной совокупности IQ  распределен нормально. Найдите доверительный интервал для математического ожидания с надежностью 0.95.\n",
        "\n",
        "**Задача 4**\n",
        "\n",
        "Выберите тему для проектной работы по курсу Теории вероятностей и математической статистики и напишите ее в комментарии к Практическому заданию."
      ]
    },
    {
      "cell_type": "code",
      "metadata": {
        "id": "h6dIVf5ZIs2f",
        "colab_type": "code",
        "colab": {}
      },
      "source": [
        "import numpy as np\n",
        "import pandas as pd\n",
        "import math\n",
        "from scipy import stats\n",
        "from itertools import combinations"
      ],
      "execution_count": 1,
      "outputs": []
    },
    {
      "cell_type": "markdown",
      "metadata": {
        "id": "ZjGfVKvbIs2k",
        "colab_type": "text"
      },
      "source": [
        "### **Задача 1 и Задача 2** "
      ]
    },
    {
      "cell_type": "code",
      "metadata": {
        "id": "krG7gtAgT5BA",
        "colab_type": "code",
        "colab": {}
      },
      "source": [
        "salary = [35, 45, 190, 200, 40, 70, 54, 150, 120, 110]\n",
        "scoring = [401, 574, 874, 919, 459, 739, 653, 902, 746, 832]"
      ],
      "execution_count": 2,
      "outputs": []
    },
    {
      "cell_type": "code",
      "metadata": {
        "id": "LFdmmINOT6Ex",
        "colab_type": "code",
        "colab": {}
      },
      "source": [
        "salary_s = np.array([35, 45, 190, 200, 40, 70, 54, 150, 120, 110])\n",
        "scoring_s = np.array([401, 574, 874, 919, 459, 739, 653, 902, 746, 832])"
      ],
      "execution_count": 3,
      "outputs": []
    },
    {
      "cell_type": "markdown",
      "metadata": {
        "id": "sp4TO_B7RzIK",
        "colab_type": "text"
      },
      "source": [
        "Математическое ожидание (улучшенная и упрощенная версия)"
      ]
    },
    {
      "cell_type": "code",
      "metadata": {
        "id": "Q6bi26y3Rz0u",
        "colab_type": "code",
        "colab": {}
      },
      "source": [
        "def mean(value):\n",
        "    return sum(value) / len(value)"
      ],
      "execution_count": 4,
      "outputs": []
    },
    {
      "cell_type": "code",
      "metadata": {
        "id": "3vv-nvKQR18d",
        "colab_type": "code",
        "colab": {
          "base_uri": "https://localhost:8080/",
          "height": 34
        },
        "outputId": "e6b4f21d-afa8-4a51-c855-ec2cf7040a07"
      },
      "source": [
        "mean(salary), salary_s.mean()"
      ],
      "execution_count": 5,
      "outputs": [
        {
          "output_type": "execute_result",
          "data": {
            "text/plain": [
              "(101.4, 101.4)"
            ]
          },
          "metadata": {
            "tags": []
          },
          "execution_count": 5
        }
      ]
    },
    {
      "cell_type": "code",
      "metadata": {
        "id": "9rbft8YmR7D8",
        "colab_type": "code",
        "colab": {
          "base_uri": "https://localhost:8080/",
          "height": 34
        },
        "outputId": "ddd7f41a-941a-46fd-b1c0-91378a440864"
      },
      "source": [
        "mean(scoring), scoring_s.mean()"
      ],
      "execution_count": 6,
      "outputs": [
        {
          "output_type": "execute_result",
          "data": {
            "text/plain": [
              "(709.9, 709.9)"
            ]
          },
          "metadata": {
            "tags": []
          },
          "execution_count": 6
        }
      ]
    },
    {
      "cell_type": "markdown",
      "metadata": {
        "id": "e4yw4tXoR9X8",
        "colab_type": "text"
      },
      "source": [
        "\n",
        "Ковариация"
      ]
    },
    {
      "cell_type": "code",
      "metadata": {
        "id": "PkdoxFEMR-Fu",
        "colab_type": "code",
        "colab": {}
      },
      "source": [
        "def cov(X, Y):\n",
        "    result = []\n",
        "    for i in range(len(X)):\n",
        "        result.append(X[i] * Y[i])\n",
        "    return mean(result) - mean(X) * mean(Y)"
      ],
      "execution_count": 8,
      "outputs": []
    },
    {
      "cell_type": "code",
      "metadata": {
        "id": "sW7DZcYOSFBE",
        "colab_type": "code",
        "colab": {
          "base_uri": "https://localhost:8080/",
          "height": 51
        },
        "outputId": "a7230878-4f44-49bb-ef13-7dc227cb35cc"
      },
      "source": [
        "cov(salary, scoring), np.cov(salary_s, scoring_s)"
      ],
      "execution_count": 9,
      "outputs": [
        {
          "output_type": "execute_result",
          "data": {
            "text/plain": [
              "(9157.839999999997, array([[ 3882.93333333, 10175.37777778],\n",
              "        [10175.37777778, 33854.32222222]]))"
            ]
          },
          "metadata": {
            "tags": []
          },
          "execution_count": 9
        }
      ]
    },
    {
      "cell_type": "markdown",
      "metadata": {
        "id": "Shvj5nZqSMI5",
        "colab_type": "text"
      },
      "source": [
        "Несмещенная ковариация"
      ]
    },
    {
      "cell_type": "code",
      "metadata": {
        "id": "sKaVJoarSMyb",
        "colab_type": "code",
        "colab": {}
      },
      "source": [
        "def ucov(X, Y):\n",
        "    result = []\n",
        "    for i in range(len(X)):\n",
        "        result.append(X[i] * Y[i])\n",
        "    return (mean(result) - mean(X) * mean(Y)) / (len(X) - 1)"
      ],
      "execution_count": 10,
      "outputs": []
    },
    {
      "cell_type": "code",
      "metadata": {
        "id": "tV5uIzblSPYh",
        "colab_type": "code",
        "colab": {
          "base_uri": "https://localhost:8080/",
          "height": 51
        },
        "outputId": "e634e894-9972-42c5-cb0c-30b15642762c"
      },
      "source": [
        "ucov(salary, scoring), np.cov(salary_s, scoring_s)"
      ],
      "execution_count": 11,
      "outputs": [
        {
          "output_type": "execute_result",
          "data": {
            "text/plain": [
              "(1017.5377777777774, array([[ 3882.93333333, 10175.37777778],\n",
              "        [10175.37777778, 33854.32222222]]))"
            ]
          },
          "metadata": {
            "tags": []
          },
          "execution_count": 11
        }
      ]
    },
    {
      "cell_type": "markdown",
      "metadata": {
        "id": "cGzRa0ojSTdz",
        "colab_type": "text"
      },
      "source": [
        "Дисперсия"
      ]
    },
    {
      "cell_type": "code",
      "metadata": {
        "id": "3Y3WS0SHSUAh",
        "colab_type": "code",
        "colab": {}
      },
      "source": [
        "def std(value):\n",
        "    avr = mean(value)\n",
        "    result = 0\n",
        "    for i in range(len(value)):\n",
        "        result += (value[i] - avr)**2\n",
        "    return math.sqrt(result / len(value))"
      ],
      "execution_count": 12,
      "outputs": []
    },
    {
      "cell_type": "code",
      "metadata": {
        "id": "8fOt3MxrSWeK",
        "colab_type": "code",
        "colab": {
          "base_uri": "https://localhost:8080/",
          "height": 34
        },
        "outputId": "c1886f4b-7408-45fb-b959-dc0e99574146"
      },
      "source": [
        "std(salary), salary_s.std()"
      ],
      "execution_count": 13,
      "outputs": [
        {
          "output_type": "execute_result",
          "data": {
            "text/plain": [
              "(59.115480206118605, 59.115480206118605)"
            ]
          },
          "metadata": {
            "tags": []
          },
          "execution_count": 13
        }
      ]
    },
    {
      "cell_type": "code",
      "metadata": {
        "id": "OlnXlbhPSYU5",
        "colab_type": "code",
        "colab": {
          "base_uri": "https://localhost:8080/",
          "height": 34
        },
        "outputId": "cef621e6-5f4b-445f-d640-beeedbaa9655"
      },
      "source": [
        "std(scoring), scoring_s.std()"
      ],
      "execution_count": 14,
      "outputs": [
        {
          "output_type": "execute_result",
          "data": {
            "text/plain": [
              "(174.55340157098058, 174.55340157098058)"
            ]
          },
          "metadata": {
            "tags": []
          },
          "execution_count": 14
        }
      ]
    },
    {
      "cell_type": "markdown",
      "metadata": {
        "id": "VBlrPEoVSaYS",
        "colab_type": "text"
      },
      "source": [
        "Несмещенная дисперсия"
      ]
    },
    {
      "cell_type": "code",
      "metadata": {
        "id": "b3IVraHJScST",
        "colab_type": "code",
        "colab": {}
      },
      "source": [
        "def ustd(value):\n",
        "    avr = mean(value)\n",
        "    result = 0\n",
        "    for i in range(len(value)):\n",
        "        result += (value[i] - avr)**2\n",
        "    return math.sqrt(result / (len(value) - 1))"
      ],
      "execution_count": 15,
      "outputs": []
    },
    {
      "cell_type": "code",
      "metadata": {
        "id": "BgE4xufzSfeR",
        "colab_type": "code",
        "colab": {
          "base_uri": "https://localhost:8080/",
          "height": 34
        },
        "outputId": "07fb5b1e-2121-400c-9829-0efc800294b6"
      },
      "source": [
        "ustd(salary), salary_s.std(ddof=1)"
      ],
      "execution_count": 16,
      "outputs": [
        {
          "output_type": "execute_result",
          "data": {
            "text/plain": [
              "(62.31318747531162, 62.31318747531162)"
            ]
          },
          "metadata": {
            "tags": []
          },
          "execution_count": 16
        }
      ]
    },
    {
      "cell_type": "code",
      "metadata": {
        "id": "ILDHc32BShby",
        "colab_type": "code",
        "colab": {
          "base_uri": "https://localhost:8080/",
          "height": 34
        },
        "outputId": "4beab5c6-668e-4fbf-9566-984af7da1b3b"
      },
      "source": [
        "ustd(scoring), scoring_s.std(ddof=1)"
      ],
      "execution_count": 17,
      "outputs": [
        {
          "output_type": "execute_result",
          "data": {
            "text/plain": [
              "(183.99544076477068, 183.99544076477068)"
            ]
          },
          "metadata": {
            "tags": []
          },
          "execution_count": 17
        }
      ]
    },
    {
      "cell_type": "markdown",
      "metadata": {
        "id": "XFP6FzuKSjgI",
        "colab_type": "text"
      },
      "source": [
        "Корреляция Пирсона"
      ]
    },
    {
      "cell_type": "code",
      "metadata": {
        "id": "9KmyUEnjSmpQ",
        "colab_type": "code",
        "colab": {}
      },
      "source": [
        "def corr(X, Y):\n",
        "    return cov(X, Y) / (std(X) * std(Y))"
      ],
      "execution_count": 18,
      "outputs": []
    },
    {
      "cell_type": "code",
      "metadata": {
        "id": "hg83OeO_SrW3",
        "colab_type": "code",
        "colab": {
          "base_uri": "https://localhost:8080/",
          "height": 51
        },
        "outputId": "0e136b7d-c434-48ec-c8d5-7bd744f298e3"
      },
      "source": [
        "corr(salary, scoring), np.corrcoef(salary_s, scoring_s)"
      ],
      "execution_count": 19,
      "outputs": [
        {
          "output_type": "execute_result",
          "data": {
            "text/plain": [
              "(0.8874900920739158, array([[1.        , 0.88749009],\n",
              "        [0.88749009, 1.        ]]))"
            ]
          },
          "metadata": {
            "tags": []
          },
          "execution_count": 19
        }
      ]
    },
    {
      "cell_type": "markdown",
      "metadata": {
        "id": "58TyitcASu4f",
        "colab_type": "text"
      },
      "source": [
        "Корреляция Кендалла"
      ]
    },
    {
      "cell_type": "code",
      "metadata": {
        "id": "YAqy7MH6SvbH",
        "colab_type": "code",
        "colab": {}
      },
      "source": [
        "def is_concordant(pair1, pair2):\n",
        "    return (pair1[0] - pair2[0]) * (pair1[1] - pair2[1]) > 0"
      ],
      "execution_count": 20,
      "outputs": []
    },
    {
      "cell_type": "code",
      "metadata": {
        "id": "xcVRg_gQSx4U",
        "colab_type": "code",
        "colab": {}
      },
      "source": [
        "def kcorr(X, Y):\n",
        "    P = 0\n",
        "    Q = 0\n",
        "    for pair1, pair2 in combinations(zip(X, Y), r=2):\n",
        "        if is_concordant(pair1, pair2):\n",
        "            P += 1\n",
        "        else:\n",
        "            Q += 1\n",
        "    return (P - Q) / (P + Q)"
      ],
      "execution_count": 21,
      "outputs": []
    },
    {
      "cell_type": "code",
      "metadata": {
        "id": "V7T89ocsS18X",
        "colab_type": "code",
        "colab": {
          "base_uri": "https://localhost:8080/",
          "height": 68
        },
        "outputId": "38168165-573c-4369-b668-3d83ad66f64f"
      },
      "source": [
        "kcorr(salary, scoring), pd.DataFrame({'x': salary_s, 'y': scoring_s}).corr(method='kendall')"
      ],
      "execution_count": 22,
      "outputs": [
        {
          "output_type": "execute_result",
          "data": {
            "text/plain": [
              "(0.9111111111111111,           x         y\n",
              " x  1.000000  0.911111\n",
              " y  0.911111  1.000000)"
            ]
          },
          "metadata": {
            "tags": []
          },
          "execution_count": 22
        }
      ]
    },
    {
      "cell_type": "markdown",
      "metadata": {
        "id": "sZdVG1flt8sq",
        "colab_type": "text"
      },
      "source": [
        "### **Задача 3**"
      ]
    },
    {
      "cell_type": "markdown",
      "metadata": {
        "id": "4eJT37dCt9B8",
        "colab_type": "text"
      },
      "source": [
        "Измерены значения IQ выборки студентов, обучающихся в местных технических вузах:\n",
        "\n",
        "131, 125, 115, 122, 131, 115, 107, 99, 125, 111\n",
        "\n",
        "Известно, что в генеральной совокупности IQ распределен нормально. Найдите доверительный интервал для математического ожидания с надежностью 0.95."
      ]
    },
    {
      "cell_type": "markdown",
      "metadata": {
        "id": "RQReFR6NKTRo",
        "colab_type": "text"
      },
      "source": [
        "## *Решение*"
      ]
    },
    {
      "cell_type": "code",
      "metadata": {
        "id": "3cSn4FOrTLwJ",
        "colab_type": "code",
        "colab": {
          "base_uri": "https://localhost:8080/",
          "height": 34
        },
        "outputId": "095df5fc-5d7e-432f-c418-5039b5315519"
      },
      "source": [
        "mean([131, 125, 115, 122, 131, 115, 107, 99, 125, 111])"
      ],
      "execution_count": 23,
      "outputs": [
        {
          "output_type": "execute_result",
          "data": {
            "text/plain": [
              "118.1"
            ]
          },
          "metadata": {
            "tags": []
          },
          "execution_count": 23
        }
      ]
    },
    {
      "cell_type": "code",
      "metadata": {
        "id": "5OjFDGQZTNvU",
        "colab_type": "code",
        "colab": {
          "base_uri": "https://localhost:8080/",
          "height": 34
        },
        "outputId": "3b4039ff-8cb3-415b-c63f-8966f99ce0ea"
      },
      "source": [
        "ustd([131, 125, 115, 122, 131, 115, 107, 99, 125, 111])"
      ],
      "execution_count": 24,
      "outputs": [
        {
          "output_type": "execute_result",
          "data": {
            "text/plain": [
              "10.54566788359614"
            ]
          },
          "metadata": {
            "tags": []
          },
          "execution_count": 24
        }
      ]
    },
    {
      "cell_type": "markdown",
      "metadata": {
        "id": "rsHQYSu5TQI0",
        "colab_type": "text"
      },
      "source": [
        "Величина выборки $n = 10$\n",
        "\n",
        "Среднеквадратичное отклонение $\\sigma = 10,5457$\n",
        "\n",
        "Выборочное среднее $\\overline{X} = 118,1$\n",
        "\n",
        "Доверительная вероятность $0,99$, откуда $\\alpha = 0,01$\n",
        "\n",
        "Поскольку распределение нормальное, то"
      ]
    },
    {
      "cell_type": "code",
      "metadata": {
        "id": "gHghQH3gTRLe",
        "colab_type": "code",
        "colab": {
          "base_uri": "https://localhost:8080/",
          "height": 34
        },
        "outputId": "0305b289-c2db-436e-d815-0875a39d20a1"
      },
      "source": [
        "stats.norm.ppf(1 - 0.01 / 2)"
      ],
      "execution_count": 25,
      "outputs": [
        {
          "output_type": "execute_result",
          "data": {
            "text/plain": [
              "2.5758293035489004"
            ]
          },
          "metadata": {
            "tags": []
          },
          "execution_count": 25
        }
      ]
    },
    {
      "cell_type": "markdown",
      "metadata": {
        "id": "nPtNAilKTTTG",
        "colab_type": "text"
      },
      "source": [
        "$$t_{1-\\alpha/2} = 2,5758$$\n",
        "$$t_{1 - \\alpha / 2} \\cdot \\dfrac{\\sigma}{\\sqrt{n}} = 2,5758 \\cdot \\dfrac{10,5457}{\\sqrt{10}} = 8,5899$$\n",
        "$$P \\left(118,1 - 8,5899 \\leq a \\leq 118,1 + 8,5899 \\right) = P \\left(109,5101 \\leq a \\leq 126,6899 \\right)$$\n",
        "Доверительный интервал$$P \\left(109,5101 \\leq a \\leq 126,6899 \\right)$$"
      ]
    },
    {
      "cell_type": "markdown",
      "metadata": {
        "id": "mlw_TY2-Uj4A",
        "colab_type": "text"
      },
      "source": [
        "### **Задача 4**\n",
        "\n",
        "Выберите тему для проектной работы по курсу Теории вероятностей и математической статистики и напишите ее в комментарии к Практическому заданию.\n",
        "\n",
        "Исследовать корреляционную зависимость и выявить методами парной регрессии зависимость для динамической вязкости нефтяной эмульсии от обводненности при различных плотностях нефти и различных значениях температуры и давления для различных степеней деспергирования нефти в воде или воды в нефти. Исследовать инверсию фаз.\n",
        "\n",
        "Для исследования желательно следующие данные:\n",
        "\n",
        "* вязкость эмульсии\n",
        "* обводненность эмульсии\n",
        "* плотность нефти\n",
        "* плотность воды\n",
        "* вязкость воды\n",
        "* вязкость чистой нефти\n",
        "* температура эмульсии\n",
        "* давление при котором происходить измерение\n",
        "* размер зерна несомой фазы (воды в нефти или нефти в воде)"
      ]
    }
  ]
}
