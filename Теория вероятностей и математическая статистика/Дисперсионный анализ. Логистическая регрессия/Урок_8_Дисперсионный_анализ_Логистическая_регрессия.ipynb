{
  "nbformat": 4,
  "nbformat_minor": 0,
  "metadata": {
    "kernelspec": {
      "display_name": "Python 3",
      "language": "python",
      "name": "python3"
    },
    "language_info": {
      "codemirror_mode": {
        "name": "ipython",
        "version": 3
      },
      "file_extension": ".py",
      "mimetype": "text/x-python",
      "name": "python",
      "nbconvert_exporter": "python",
      "pygments_lexer": "ipython3",
      "version": "3.7.4"
    },
    "colab": {
      "name": "Урок 8. Дисперсионный анализ. Логистическая регрессия",
      "provenance": [],
      "collapsed_sections": []
    }
  },
  "cells": [
    {
      "cell_type": "markdown",
      "metadata": {
        "id": "zdSh1_KRIs2e",
        "colab_type": "text"
      },
      "source": [
        "# Урок 8. Дисперсионный анализ. Логистическая регрессия\n",
        "\n",
        "## Выполнил - Колеганов Н.Д."
      ]
    },
    {
      "cell_type": "markdown",
      "metadata": {
        "id": "NcMjC8TKJvaf",
        "colab_type": "text"
      },
      "source": [
        "# Задание\n",
        "\n",
        "**Задача 1**\n",
        "\n",
        "Объясняемая переменная y зависит от двух категориальных факторов A и B, причём фактор A имеет 3 уровня, а фактор B - 4 уровня. Результаты наблюдений приведены в таблице:\n",
        "\n",
        "y = [\n",
        "    \n",
        "     [2.68, 3.29, 2.88, 4.45],\n",
        "\n",
        "     [4.12, 4.96, 5.09, 5.22],\n",
        "\n",
        "     [5.52, 4.50, 5.42, 5.29]\n",
        "     ]\n",
        "\n",
        "С помощью двухфакторного дисперсионного анализа проверьте влияние каждого из факторов на переменную y.\n",
        "\n",
        "**Задача 2**\n",
        "\n",
        "Прикрепите ссылку на курсовой проект на github (см. выбор темы в ДЗ к Уроку 6)."
      ]
    },
    {
      "cell_type": "code",
      "metadata": {
        "id": "h6dIVf5ZIs2f",
        "colab_type": "code",
        "colab": {}
      },
      "source": [
        "import numpy as np\n",
        "from scipy import stats"
      ],
      "execution_count": 1,
      "outputs": []
    },
    {
      "cell_type": "markdown",
      "metadata": {
        "id": "ZjGfVKvbIs2k",
        "colab_type": "text"
      },
      "source": [
        "### **Задача 1** "
      ]
    },
    {
      "cell_type": "markdown",
      "metadata": {
        "id": "LzI_t1YkvDSI",
        "colab_type": "text"
      },
      "source": [
        "Объясняемая переменная y зависит от двух категориальных факторов A и B, причём фактор A имеет 3 уровня, а фактор B - 4 уровня. Результаты наблюдений приведены в таблице:\n",
        "\n",
        "y = [\n",
        "\n",
        "  [2.68, 3.29, 2.88, 4.45],\n",
        "\n",
        "  [4.12, 4.96, 5.09, 5.22],\n",
        "\n",
        "  [5.52, 4.50, 5.42, 5.29]\n",
        "\n",
        "  ] \n",
        "  \n",
        "  С помощью двухфакторного дисперсионного анализа проверьте влияние каждого из факторов на переменную y."
      ]
    },
    {
      "cell_type": "markdown",
      "metadata": {
        "colab_type": "text",
        "id": "2uI9S-MOu5F3"
      },
      "source": [
        "## *Решение*"
      ]
    },
    {
      "cell_type": "code",
      "metadata": {
        "id": "g3ZQ1uhJ1-Sr",
        "colab_type": "code",
        "colab": {
          "base_uri": "https://localhost:8080/",
          "height": 68
        },
        "outputId": "61321c61-a7ee-4c90-9fe0-8488c36ecc19"
      },
      "source": [
        "m = 3\n",
        "k = 4\n",
        "y = [[2.68, 3.29, 2.88, 4.45], \n",
        "     [4.12, 4.96, 5.09, 5.22], \n",
        "     [5.52, 4.50, 5.42, 5.29]]\n",
        "Y = np.array(y)\n",
        "Y"
      ],
      "execution_count": 2,
      "outputs": [
        {
          "output_type": "execute_result",
          "data": {
            "text/plain": [
              "array([[2.68, 3.29, 2.88, 4.45],\n",
              "       [4.12, 4.96, 5.09, 5.22],\n",
              "       [5.52, 4.5 , 5.42, 5.29]])"
            ]
          },
          "metadata": {
            "tags": []
          },
          "execution_count": 2
        }
      ]
    },
    {
      "cell_type": "markdown",
      "metadata": {
        "id": "krabKkj-2E7P",
        "colab_type": "text"
      },
      "source": [
        "\n",
        "$\n",
        "H_{0a}: \\overline{Y_{1*}} = ... = \\overline{Y_{m*}},\\\\\n",
        "H_{0b}: \\overline{Y_{*1}} = ... = \\overline{Y_{*k}},\\\\\n",
        "H_{1a}: \\overline{Y_{1*}} \\neq ... \\neq \\overline{Y_{m*}},\\\\\n",
        "H_{1b}: \\overline{Y_{1*}} \\neq ... \\neq \\overline{Y_{m*}}\n",
        "$\n",
        "$\n",
        "SS_a = k \\cdot \\displaystyle\\sum_{i=1}^m \\left( \\overline{Y_{i \\ast}} - \\overline{Y} \\right)^2,\\\\\n",
        "SS_b = m \\cdot \\displaystyle\\sum_{j=1}^k \\left( \\overline{Y_{\\ast j}} - \\overline{Y} \\right)^2,\\\\\n",
        "SS_w = \\displaystyle\\sum_{i=1}^m \\displaystyle\\sum_{j=1}^k \\left( y_{ij} - \\overline{Y_{i \\ast}} - \\overline{Y_{\\ast j}} + \\overline{Y} \\right)^2\n",
        "$\n",
        "$\n",
        "\\sigma_a^2 = \\dfrac{SS_a}{m - 1}, \\\\ \n",
        "\\sigma_b^2 = \\dfrac{SS_b}{k - 1}, \\\\\n",
        "\\sigma_w^2 = \\dfrac{SS_w}{(k - 1) (m - 1)}\n",
        "$"
      ]
    },
    {
      "cell_type": "code",
      "metadata": {
        "id": "bwoi60Sr2GDZ",
        "colab_type": "code",
        "colab": {}
      },
      "source": [
        "def F_ab(Y: np.ndarray):\n",
        "    \n",
        "    k = Y.shape[1]\n",
        "    m = Y.shape[0]\n",
        "    \n",
        "    # Sum of squared deviations\n",
        "    SS_a = sum([(Y[i].mean() - Y.mean())**2 for i in range(m)])*k\n",
        "    SS_b = sum([(Y[:,j].mean() - Y.mean())**2 for j in range(k)])*m\n",
        "    \n",
        "    array = []\n",
        "    for i in range(m):\n",
        "        for j in range(k):\n",
        "            array.append((Y[i,j] - Y[i].mean() - Y[:,j].mean() + Y.mean())**2)\n",
        "            \n",
        "    SS_w = sum(array)\n",
        "    \n",
        "    # Variance estimates\n",
        "    sigma2_a = SS_a/(m-1)\n",
        "    sigma2_b = SS_b/(k-1)\n",
        "    sigma2_w = SS_w/((k-1)*(m-1))\n",
        "    \n",
        "    # statistic\n",
        "    F_a = sigma2_a/sigma2_w\n",
        "    F_b = sigma2_b/sigma2_w\n",
        "    \n",
        "    return F_a, F_b"
      ],
      "execution_count": 3,
      "outputs": []
    },
    {
      "cell_type": "markdown",
      "metadata": {
        "id": "am2wm6q22O0W",
        "colab_type": "text"
      },
      "source": [
        "$\n",
        "F_a = \\dfrac{\\sigma_a^2}{\\sigma_w^2},\\ F_b = \\dfrac{\\sigma_b^2}{\\sigma_w^2}\n",
        "$"
      ]
    },
    {
      "cell_type": "code",
      "metadata": {
        "id": "w5gYqlM62RhZ",
        "colab_type": "code",
        "colab": {
          "base_uri": "https://localhost:8080/",
          "height": 34
        },
        "outputId": "7cebb15e-62b3-40b3-988e-aec968982796"
      },
      "source": [
        "F_a = F_ab(Y)[0]\n",
        "F_b = F_ab(Y)[1]\n",
        "\n",
        "F_a, F_b"
      ],
      "execution_count": 4,
      "outputs": [
        {
          "output_type": "execute_result",
          "data": {
            "text/plain": [
              "(12.188379262995173, 1.386785038819275)"
            ]
          },
          "metadata": {
            "tags": []
          },
          "execution_count": 4
        }
      ]
    },
    {
      "cell_type": "markdown",
      "metadata": {
        "id": "LkBJ9wkb2YlI",
        "colab_type": "text"
      },
      "source": [
        "\n",
        "Распределение Фишера для:\n",
        "\n",
        "$\n",
        "H_{0a}:\\ k_{1a} = m - 1,\\ k_{2a} = n - m\\\\\n",
        "H_{0b}:\\ k_{1b} = k - 1,\\ k_{2b} = n - k\n",
        "$"
      ]
    },
    {
      "cell_type": "code",
      "metadata": {
        "id": "TRmLlRjg2Zhe",
        "colab_type": "code",
        "colab": {}
      },
      "source": [
        "n = Y.shape[0] * Y.shape[1]\n",
        "\n",
        "k_1a = m - 1\n",
        "k_2a = n - m\n",
        "\n",
        "k_1b = k - 1\n",
        "k_2b = n - k"
      ],
      "execution_count": 5,
      "outputs": []
    },
    {
      "cell_type": "markdown",
      "metadata": {
        "id": "sQYaNe9W2dOl",
        "colab_type": "text"
      },
      "source": [
        "$\\Omega_\\alpha = ( t_{1 - \\alpha, \\: k_1, k_2}, \\infty)$"
      ]
    },
    {
      "cell_type": "code",
      "metadata": {
        "id": "wQxq3knJHuFx",
        "colab_type": "code",
        "colab": {
          "base_uri": "https://localhost:8080/",
          "height": 34
        },
        "outputId": "4f4dc0f2-9f96-4695-99b4-141066515434"
      },
      "source": [
        "alpha = 0.05\n",
        "\n",
        "t_a = stats.f.ppf(1 - alpha, k_1a, k_2a)\n",
        "t_b = stats.f.ppf(1 - alpha, k_1b, k_2b)\n",
        "\n",
        "t_a, t_b"
      ],
      "execution_count": 6,
      "outputs": [
        {
          "output_type": "execute_result",
          "data": {
            "text/plain": [
              "(4.25649472909375, 4.06618055135116)"
            ]
          },
          "metadata": {
            "tags": []
          },
          "execution_count": 6
        }
      ]
    },
    {
      "cell_type": "markdown",
      "metadata": {
        "id": "etm-TjyeHwBy",
        "colab_type": "text"
      },
      "source": [
        "$\n",
        "\\Omega_\\alpha = (4,25, \\infty)\\\\\n",
        "\\Omega_\\beta = (4,06, \\infty)\n",
        "$"
      ]
    },
    {
      "cell_type": "code",
      "metadata": {
        "id": "pGGJlrwcHxBn",
        "colab_type": "code",
        "colab": {
          "base_uri": "https://localhost:8080/",
          "height": 34
        },
        "outputId": "75425507-800a-4d56-d16b-72e13a280a94"
      },
      "source": [
        "F_a >= t_a"
      ],
      "execution_count": 7,
      "outputs": [
        {
          "output_type": "execute_result",
          "data": {
            "text/plain": [
              "True"
            ]
          },
          "metadata": {
            "tags": []
          },
          "execution_count": 7
        }
      ]
    },
    {
      "cell_type": "markdown",
      "metadata": {
        "id": "jHywhmfeH6KS",
        "colab_type": "text"
      },
      "source": [
        "Фактор $A$ влияет на переменную $y$"
      ]
    },
    {
      "cell_type": "code",
      "metadata": {
        "id": "e57x84RxH7HP",
        "colab_type": "code",
        "colab": {
          "base_uri": "https://localhost:8080/",
          "height": 34
        },
        "outputId": "aa04c861-1b01-4189-c82a-c096cdc7fe21"
      },
      "source": [
        "F_b >= t_b"
      ],
      "execution_count": 8,
      "outputs": [
        {
          "output_type": "execute_result",
          "data": {
            "text/plain": [
              "False"
            ]
          },
          "metadata": {
            "tags": []
          },
          "execution_count": 8
        }
      ]
    },
    {
      "cell_type": "markdown",
      "metadata": {
        "id": "2c26uU9hIAEp",
        "colab_type": "text"
      },
      "source": [
        "Фактор $B$ не влияет на переменную $y$"
      ]
    },
    {
      "cell_type": "markdown",
      "metadata": {
        "colab_type": "text",
        "id": "sBRzcRJRu96e"
      },
      "source": [
        "### **Задача 2** "
      ]
    },
    {
      "cell_type": "markdown",
      "metadata": {
        "id": "hsTFOIvavHRh",
        "colab_type": "text"
      },
      "source": [
        "Прикрепите ссылку на курсовой проект на github (см. выбор темы в ДЗ к Уроку 6)."
      ]
    },
    {
      "cell_type": "markdown",
      "metadata": {
        "colab_type": "text",
        "id": "ITfmgSpyu96k"
      },
      "source": [
        "## *Решение*"
      ]
    },
    {
      "cell_type": "markdown",
      "metadata": {
        "id": "dqnkRLJ6IYao",
        "colab_type": "text"
      },
      "source": [
        ""
      ]
    }
  ]
}