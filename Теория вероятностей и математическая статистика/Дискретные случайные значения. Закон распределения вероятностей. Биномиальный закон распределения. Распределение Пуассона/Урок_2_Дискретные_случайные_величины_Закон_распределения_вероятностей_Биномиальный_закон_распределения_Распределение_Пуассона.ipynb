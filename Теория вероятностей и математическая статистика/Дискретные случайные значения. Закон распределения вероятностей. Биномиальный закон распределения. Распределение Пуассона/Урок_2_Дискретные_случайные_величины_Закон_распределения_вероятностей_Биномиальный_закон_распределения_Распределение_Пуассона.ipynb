{
  "nbformat": 4,
  "nbformat_minor": 0,
  "metadata": {
    "kernelspec": {
      "display_name": "Python 3",
      "language": "python",
      "name": "python3"
    },
    "language_info": {
      "codemirror_mode": {
        "name": "ipython",
        "version": 3
      },
      "file_extension": ".py",
      "mimetype": "text/x-python",
      "name": "python",
      "nbconvert_exporter": "python",
      "pygments_lexer": "ipython3",
      "version": "3.7.4"
    },
    "colab": {
      "name": "Урок 2. Дискретные случайные величины. Закон распределения вероятностей. Биномиальный закон распределения. Распределение Пуассона.ipynb",
      "provenance": [],
      "collapsed_sections": []
    }
  },
  "cells": [
    {
      "cell_type": "markdown",
      "metadata": {
        "id": "zdSh1_KRIs2e",
        "colab_type": "text"
      },
      "source": [
        "# Урок 2. Дискретные случайные величины. Закон распределения вероятностей. Биномиальный закон распределения. Распределение Пуассона\n",
        "\n",
        "## Выполнил - Колеганов Н.Д."
      ]
    },
    {
      "cell_type": "markdown",
      "metadata": {
        "id": "NcMjC8TKJvaf",
        "colab_type": "text"
      },
      "source": [
        "# Задание\n",
        "**Задача 1**\n",
        "\n",
        "Контрольная работа состоит из пяти вопросов. На каждый вопрос приведено четыре варианта ответа, один из которых правильный. Составьте закон распределения числа правильных ответов при простом угадывании. Найдите M(X), D(X).\n",
        "\n",
        "**Задача 2**\n",
        "\n",
        "Пользователь получает в среднем 10 писем со спамом на свой почтовый ящик за сутки. Найти число N, такое, что с вероятностью 0.95 пользователь получит не более N писем со спамом за текущий день.\n",
        "\n",
        "**Задача 3**\n",
        "\n",
        "Производятся выстрелы по мишени. Вероятность попадания в мишень при одном выстреле равна 0.01. Сколько выстрелов нужно сделать чтобы быть уверенным с вероятностью 0.9, что хотя бы 6 раз будет совершено попадание?\n",
        "\n",
        "Подсказка. 1) \"Вероятность попасть k раз при n выстрелах\" - на какое распределение это похоже? 2) А если нам нужна вероятность P(X >= k), а не P(X = k)? 3) Здесь предстоит немножко покодить."
      ]
    },
    {
      "cell_type": "code",
      "metadata": {
        "id": "h6dIVf5ZIs2f",
        "colab_type": "code",
        "colab": {}
      },
      "source": [
        "import numpy as np\n",
        "import matplotlib.pyplot as plt\n",
        "import math\n",
        "from math import lgamma\n",
        "import numpy as np"
      ],
      "execution_count": 1,
      "outputs": []
    },
    {
      "cell_type": "markdown",
      "metadata": {
        "id": "ZjGfVKvbIs2k",
        "colab_type": "text"
      },
      "source": [
        "### **Задача 1**"
      ]
    },
    {
      "cell_type": "markdown",
      "metadata": {
        "id": "CCdTvurGIs2m",
        "colab_type": "text"
      },
      "source": [
        "Контрольная работа состоит из пяти вопросов. На каждый вопрос приведено четыре варианта ответа, один из которых правильный. Составьте закон распределения числа правильных ответов при простом угадывании. Найдите `M(X)`, `D(X)`."
      ]
    },
    {
      "cell_type": "markdown",
      "metadata": {
        "id": "oeOBSr7fKAxi",
        "colab_type": "text"
      },
      "source": [
        "## *Решение*"
      ]
    },
    {
      "cell_type": "markdown",
      "metadata": {
        "id": "qAsppU4XIs2n",
        "colab_type": "text"
      },
      "source": [
        "Определим $X$ как случайную величину, равную числу правильных ответов. Число вопросов $n = 5$, тогда случайная величина принимает следующие значения: $X_1 = 0$, $X_2 = 1$, $X_3 = 2$, $X_4 = 3$, $X_5 = 4$, $X_6 = 5$ (от не угадали ни одного ответа до угадали все ответы). Вероятность угадать правильный вопрос $p = \\frac{1}{4}$, так как для каждого вопроса приведено 4 варианта ответа и только один из них правильный."
      ]
    },
    {
      "cell_type": "markdown",
      "metadata": {
        "id": "imyO-sgvIs2n",
        "colab_type": "text"
      },
      "source": [
        "Воспользуемся __формулой Бернулли__:\n",
        "$$P(X = k) = C_n^k p^k (1 - p)^{n - k} = C_5^k (\\frac{1}{4})^k (\\frac{3}{4})^{5 - k}$$"
      ]
    },
    {
      "cell_type": "markdown",
      "metadata": {
        "id": "9w7-22zBIs2o",
        "colab_type": "text"
      },
      "source": [
        "$P(X = 0) = C_5^0 (\\frac{1}{4})^0 (\\frac{3}{4})^{5} = \\frac{5!}{0! \\cdot 5!} \\cdot 1 \\cdot (\\frac{3}{4})^{5} = \\frac{243}{1024} \\approx 0,2373046875$"
      ]
    },
    {
      "cell_type": "markdown",
      "metadata": {
        "id": "IXMIYlrMIs2p",
        "colab_type": "text"
      },
      "source": [
        "$P(X = 1) = C_5^1 (\\frac{1}{4})^1 (\\frac{3}{4})^{4} = \\frac{5!}{1! \\cdot (4)!} \\cdot \\frac{1}{4} \\cdot (\\frac{3}{4})^{4} = 5 \\cdot \\frac{81}{1024} \\approx 0,3955078125$"
      ]
    },
    {
      "cell_type": "markdown",
      "metadata": {
        "id": "m70i2Ei6Is2p",
        "colab_type": "text"
      },
      "source": [
        "$P(X = 2) = C_5^2 (\\frac{1}{4})^2 (\\frac{3}{4})^{3} = \\frac{5!}{2! \\cdot (3)!} \\cdot (\\frac{1}{4})^{2} \\cdot (\\frac{3}{4})^{3} = 10 \\cdot \\frac{1}{16} \\cdot \\frac{27}{64}= \\frac{270}{1024} \\approx 0,263671875$"
      ]
    },
    {
      "cell_type": "markdown",
      "metadata": {
        "id": "Oy2BQxheIs2q",
        "colab_type": "text"
      },
      "source": [
        "$P(X = 3) = C_5^3 (\\frac{1}{4})^3 (\\frac{3}{4})^{2} = \\frac{5!}{3! \\cdot 2!} \\cdot (\\frac{1}{4})^{3} \\cdot (\\frac{3}{4})^{2} = 10 \\cdot \\frac{1}{64} \\cdot \\frac{9}{16}= \\frac{90}{1024} \\approx 0,087890625$"
      ]
    },
    {
      "cell_type": "markdown",
      "metadata": {
        "id": "E-nHdSh4Is2q",
        "colab_type": "text"
      },
      "source": [
        "$P(X = 4) = C_5^4 (\\frac{1}{4})^4 (\\frac{3}{4})^{1} = \\frac{5!}{4! \\cdot 1!} \\cdot (\\frac{1}{4})^{4} \\cdot (\\frac{3}{4})^{1} = 5 \\cdot \\frac{1}{256} \\cdot \\frac{3}{4}= \\frac{15}{1024} \\approx 0,0146484375$"
      ]
    },
    {
      "cell_type": "markdown",
      "metadata": {
        "id": "Dw7rSInoIs2r",
        "colab_type": "text"
      },
      "source": [
        "$P(X = 5) = C_5^5 (\\frac{1}{4})^5 (\\frac{3}{4})^{0} = \\frac{5!}{5! \\cdot 0!} \\cdot (\\frac{1}{4})^{5} \\cdot (\\frac{3}{4})^{0} = 1 \\cdot \\frac{1}{1024} \\cdot 1= \\frac{1}{1024} \\approx 0,0009765625$"
      ]
    },
    {
      "cell_type": "markdown",
      "metadata": {
        "id": "0E5RVKulIs2s",
        "colab_type": "text"
      },
      "source": [
        "|$X_i$|0|1|2|3|4|5|\n",
        "|---|---|---|---|---|---|---|\n",
        "|$p_i$|0,23730|0,39551|0,26367|0,08789|0,01465|0,00098|"
      ]
    },
    {
      "cell_type": "markdown",
      "metadata": {
        "id": "OE7Z3IwpIs2s",
        "colab_type": "text"
      },
      "source": [
        "$$M(X) = np = 5 \\cdot 0,25 = 1,25$$"
      ]
    },
    {
      "cell_type": "markdown",
      "metadata": {
        "id": "sBlz7CpsIs2t",
        "colab_type": "text"
      },
      "source": [
        "$$D(X) = npq = 5 \\cdot 0,25 \\cdot 0,75 = 0,9375$$"
      ]
    },
    {
      "cell_type": "code",
      "metadata": {
        "id": "zKu-LxXhIs2t",
        "colab_type": "code",
        "colab": {
          "base_uri": "https://localhost:8080/",
          "height": 265
        },
        "outputId": "7591aee0-f538-477e-ec44-00f2b5870d71"
      },
      "source": [
        "x = [0,1,2,3,4,5]\n",
        "y = [0.23730,0.39551,0.26367,0.08789,0.01465,0.00098]\n",
        "plt.plot(x,y)\n",
        "plt.show()"
      ],
      "execution_count": 2,
      "outputs": [
        {
          "output_type": "display_data",
          "data": {
            "image/png": "[encoded data removed]",
            "text/plain": [
              "<Figure size 432x288 with 1 Axes>"
            ]
          },
          "metadata": {
            "tags": [],
            "needs_background": "light"
          }
        }
      ]
    },
    {
      "cell_type": "markdown",
      "metadata": {
        "id": "W3tIw1skIs2x",
        "colab_type": "text"
      },
      "source": [
        "### **Задача 2**"
      ]
    },
    {
      "cell_type": "markdown",
      "metadata": {
        "id": "_S1dSEocIs2y",
        "colab_type": "text"
      },
      "source": [
        "Пользователь получает в среднем 10 писем со спамом на свой почтовый ящик за сутки. Найти число `N`, такое, что с вероятностью 0.95 пользователь получит не более `N` писем со спамом за текущий день."
      ]
    },
    {
      "cell_type": "markdown",
      "metadata": {
        "id": "Pa8T4wA3KOuV",
        "colab_type": "text"
      },
      "source": [
        "## *Решение*"
      ]
    },
    {
      "cell_type": "markdown",
      "metadata": {
        "id": "aswF-AgsIs2y",
        "colab_type": "text"
      },
      "source": [
        "В среднем за сутки событие наступает $10$ раз, тогда случайная величина $X$, равная количеству наступлений события за единицу времени, имеет распределение Пуассона."
      ]
    },
    {
      "cell_type": "markdown",
      "metadata": {
        "id": "ul2tc1liIs2z",
        "colab_type": "text"
      },
      "source": [
        "$$P(X = k) = \\dfrac{\\lambda^k e^{-\\lambda}}{k!}$$"
      ]
    },
    {
      "cell_type": "markdown",
      "metadata": {
        "id": "nD1JfNKMIs20",
        "colab_type": "text"
      },
      "source": [
        "Математическое ожидание и дисперсия распределения Пуассона равны:"
      ]
    },
    {
      "cell_type": "markdown",
      "metadata": {
        "id": "lL0-9W0QIs20",
        "colab_type": "text"
      },
      "source": [
        "$$M(X) = D(X) = \\lambda = 10$$"
      ]
    },
    {
      "cell_type": "markdown",
      "metadata": {
        "id": "kpfjmn6iIs21",
        "colab_type": "text"
      },
      "source": [
        "тогда"
      ]
    },
    {
      "cell_type": "markdown",
      "metadata": {
        "id": "Wxy3_fmiIs21",
        "colab_type": "text"
      },
      "source": [
        "$$P(X < N) = \\displaystyle\\sum_{i = 0}^{N} \\dfrac{10^{i} e^{-10}}{i!}$$"
      ]
    },
    {
      "cell_type": "markdown",
      "metadata": {
        "id": "-3QyIOVHIs22",
        "colab_type": "text"
      },
      "source": [
        "где"
      ]
    },
    {
      "cell_type": "markdown",
      "metadata": {
        "id": "PJ_ySV_5Is22",
        "colab_type": "text"
      },
      "source": [
        "$$P(N) = 0,95$$"
      ]
    },
    {
      "cell_type": "markdown",
      "metadata": {
        "id": "qlBtMTlZIs23",
        "colab_type": "text"
      },
      "source": [
        "Будем высчитывать вероятность $P(X<N)$ в цикле, увеличивая постепенно $N$, до тех пор пока не достигнем заданной вероятности."
      ]
    },
    {
      "cell_type": "code",
      "metadata": {
        "id": "tdhcgw21Is24",
        "colab_type": "code",
        "colab": {
          "base_uri": "https://localhost:8080/",
          "height": 34
        },
        "outputId": "e3bed9c9-ad8a-419a-b406-e9d462bb03c4"
      },
      "source": [
        "p = 0\n",
        "p_n = 0.95\n",
        "i = 0\n",
        "while p <= p_n:\n",
        "    p += 10**i*math.exp(-10)/math.factorial(i)\n",
        "    i += 1\n",
        "print(f'N = {i}')"
      ],
      "execution_count": 3,
      "outputs": [
        {
          "output_type": "stream",
          "text": [
            "N = 16\n"
          ],
          "name": "stdout"
        }
      ]
    },
    {
      "cell_type": "markdown",
      "metadata": {
        "id": "3BaLMTVIIs28",
        "colab_type": "text"
      },
      "source": [
        "Пользователь получит не более 16 писем со спамом за текущий день."
      ]
    },
    {
      "cell_type": "markdown",
      "metadata": {
        "id": "LluRPGzYIs29",
        "colab_type": "text"
      },
      "source": [
        "### **Задача 3**"
      ]
    },
    {
      "cell_type": "markdown",
      "metadata": {
        "id": "zB5gc21_Is2-",
        "colab_type": "text"
      },
      "source": [
        "Производятся выстрелы по мишени. Вероятность попадания в мишень при одном выстреле равна 0.01. Сколько выстрелов нужно сделать чтобы быть уверенным с вероятностью 0.9, что хотя бы 6 раз будет совершено попадание?\n"
      ]
    },
    {
      "cell_type": "markdown",
      "metadata": {
        "id": "RQReFR6NKTRo",
        "colab_type": "text"
      },
      "source": [
        "## *Решение*"
      ]
    },
    {
      "cell_type": "markdown",
      "metadata": {
        "id": "GABhkOGbIs2_",
        "colab_type": "text"
      },
      "source": [
        "Пусть событие заключается в попадании в мишень, тогда вероятность попадания при одиночном выстреле $p = 0,01$ и всего пападаний при этом $k >= 6$ с вероятностью $P(X \\geq 6) = 0,9$"
      ]
    },
    {
      "cell_type": "markdown",
      "metadata": {
        "id": "-unFB3z8Is3A",
        "colab_type": "text"
      },
      "source": [
        "Тогда"
      ]
    },
    {
      "cell_type": "markdown",
      "metadata": {
        "id": "9zYALbBAIs3B",
        "colab_type": "text"
      },
      "source": [
        "$$P(X \\geq 6) = 1 - P(X < 6)$$"
      ]
    },
    {
      "cell_type": "markdown",
      "metadata": {
        "id": "airAVGIEIs3C",
        "colab_type": "text"
      },
      "source": [
        "Воспользуемся __формулой Бернулли__:\n",
        "$$P(X = k) = C_n^k p^k (1 - p)^{n - k}$$"
      ]
    },
    {
      "cell_type": "markdown",
      "metadata": {
        "id": "JC7N5KdNIs3D",
        "colab_type": "text"
      },
      "source": [
        "Здесь $k = 6$, $p = 0,01$, а $1 - p = 0,99$. Необходимо найти $n$."
      ]
    },
    {
      "cell_type": "markdown",
      "metadata": {
        "id": "tX4rcSixIs3D",
        "colab_type": "text"
      },
      "source": [
        "Возьмем $n_0 = 6$ и в цикле будем ее увеличивать пока не достигнем нужной точности."
      ]
    },
    {
      "cell_type": "code",
      "metadata": {
        "id": "zNQiBcRaIs3E",
        "colab_type": "code",
        "colab": {
          "base_uri": "https://localhost:8080/",
          "height": 34
        },
        "outputId": "5037ad44-09f0-4b95-8d9c-4f08ffeaf475"
      },
      "source": [
        "def f(x):\n",
        "    return 1 if x == 0 else x/np.e**(lgamma(x)/x)\n",
        "\n",
        "def bernoulli(n, k, p):\n",
        "    return p**k * (1 - p)**(n - k) * f(n) / f(k) / f(n - k)\n",
        "\n",
        "p = 0.01\n",
        "k = 6\n",
        "P_ = 0.9\n",
        "P_n = 0.9\n",
        "n = 6\n",
        "\n",
        "while P_ <= P_n:\n",
        "    P_ = 1.0\n",
        "    for i in range(k):\n",
        "        P_ -= bernoulli(n,i,p)\n",
        "    n += 1\n",
        "    \n",
        "print(f'N = {n}')"
      ],
      "execution_count": 4,
      "outputs": [
        {
          "output_type": "stream",
          "text": [
            "N = 232\n"
          ],
          "name": "stdout"
        }
      ]
    },
    {
      "cell_type": "markdown",
      "metadata": {
        "id": "RK4uXJ4yIs3I",
        "colab_type": "text"
      },
      "source": [
        "Чтобы было хотя бы $6$ попаданий с вероятностью $0,9$ необходимо произвести $232$ выстрела."
      ]
    }
  ]
}