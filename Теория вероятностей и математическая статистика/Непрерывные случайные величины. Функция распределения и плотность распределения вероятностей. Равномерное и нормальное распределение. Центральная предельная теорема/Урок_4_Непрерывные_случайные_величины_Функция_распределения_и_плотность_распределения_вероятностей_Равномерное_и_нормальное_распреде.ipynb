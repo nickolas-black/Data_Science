{
  "nbformat": 4,
  "nbformat_minor": 0,
  "metadata": {
    "kernelspec": {
      "display_name": "Python 3",
      "language": "python",
      "name": "python3"
    },
    "language_info": {
      "codemirror_mode": {
        "name": "ipython",
        "version": 3
      },
      "file_extension": ".py",
      "mimetype": "text/x-python",
      "name": "python",
      "nbconvert_exporter": "python",
      "pygments_lexer": "ipython3",
      "version": "3.7.4"
    },
    "colab": {
      "name": "Урок 4. Непрерывные случайные величины. Функция распределения и плотность распределения вероятностей. Равномерное и нормальное распределение. Центральная предельная теорема.ipynb",
      "provenance": [],
      "collapsed_sections": []
    }
  },
  "cells": [
    {
      "cell_type": "markdown",
      "metadata": {
        "id": "zdSh1_KRIs2e",
        "colab_type": "text"
      },
      "source": [
        "# Урок 4. Непрерывные случайные величины. Функция распределения и плотность распределения вероятностей. Равномерное и нормальное распределение. Центральная предельная теорема\n",
        "\n",
        "## Выполнил - Колеганов Н.Д."
      ]
    },
    {
      "cell_type": "markdown",
      "metadata": {
        "id": "NcMjC8TKJvaf",
        "colab_type": "text"
      },
      "source": [
        "# Задание\n",
        "**Задача 1**\n",
        "\n",
        "О непрерывной равномерно распределённой случайной величине B известно, что её дисперсия равна 0.2. Можно ли найти правую границу величины B и её среднее значение зная, что левая граница равна 0.5? Если да, найдите их.\n",
        "\n",
        "**Задача 2**\n",
        "\n",
        "Коробки с шоколадом упаковываются автоматически. Их средняя масса равна 1.06 кг. Известно, что 5% коробок имеют массу, меньшую 1 кг. Найдите: а) среднее квадратическое отклонение массы коробки, б) процент коробок, имеющих массу больше 1.1 кг.\n",
        "\n",
        "Подсказка. Найдите такое значение scale, для которого значение cdf(x=1, loc=1.06, scale=scale) близко к 0.05. Точности 0.0001 будет достаточно.\n",
        "\n",
        "**Задача 3**\n",
        "\n",
        "Коробка содержит 30 конфет. Известно, что масса каждой конфеты распределена равномерно в промежутке от 12 до 14 граммов. Используя центральную предельную теорему, найти вероятность, что масса всей коробки будет: а) меньше 390 граммов, б) больше 395 граммов, в) от 380 до 400 граммов.\n",
        "\n",
        "Массой самой коробки  можно пренебречь."
      ]
    },
    {
      "cell_type": "code",
      "metadata": {
        "id": "h6dIVf5ZIs2f",
        "colab_type": "code",
        "colab": {}
      },
      "source": [
        "import pandas as pd\n",
        "import numpy as np\n",
        "from matplotlib import pyplot as plt\n",
        "from scipy.stats import norm\n",
        "%config InlineBackend.figure_formats = ['svg']\n",
        "plt.style.use('seaborn-whitegrid')\n",
        "plt.rcParams['figure.facecolor'] = 'white'"
      ],
      "execution_count": 1,
      "outputs": []
    },
    {
      "cell_type": "markdown",
      "metadata": {
        "id": "ZjGfVKvbIs2k",
        "colab_type": "text"
      },
      "source": [
        "### **Задача 1**"
      ]
    },
    {
      "cell_type": "markdown",
      "metadata": {
        "id": "CCdTvurGIs2m",
        "colab_type": "text"
      },
      "source": [
        "О непрерывной равномерно распределённой случайной величине $B$ известно, что её дисперсия равна $0,2$. Можно ли найти правую границу величины $B$ и её среднее значение зная, что левая граница равна $0,5$? Если да, найдите их."
      ]
    },
    {
      "cell_type": "markdown",
      "metadata": {
        "id": "oeOBSr7fKAxi",
        "colab_type": "text"
      },
      "source": [
        "## *Решение*"
      ]
    },
    {
      "cell_type": "markdown",
      "metadata": {
        "id": "QSgPDSgvqwYB",
        "colab_type": "text"
      },
      "source": [
        "\n",
        "Да, найти можно, так как распределение равномерное\n",
        "\n",
        "$$f(x) = \\begin{cases} 0, если \\; x \\le a; \\\\ \\frac{1}{b - a}, если \\; a &lt; x \\le b; \\\\ 0, \\; если \\; x &gt; b. \\end{cases}$$\n",
        "Для равномерного распределения из дисперсии\n",
        "\n",
        "$$D(X) = \\frac{(b - a)^2}{12}$$\n",
        "найдем правую границу\n",
        "\n",
        "$$b = a + \\sqrt{12 \\cdot D(X)} = 0,5 + \\sqrt{12 \\cdot 0,2} = 0,5 + \\sqrt{2,4} = 0,5 + 1,5492 = 2,0492$$\n",
        "Найдем среднее значение\n",
        "\n",
        "$$M(X) = \\frac{a + b}{2} = \\frac{0,5 + 2,0492}{2} = 1,2746$$"
      ]
    },
    {
      "cell_type": "code",
      "metadata": {
        "id": "krG7gtAgT5BA",
        "colab_type": "code",
        "colab": {
          "base_uri": "https://localhost:8080/",
          "height": 34
        },
        "outputId": "ccfabcd7-f046-4237-9f09-ffff1add7721"
      },
      "source": [
        "B = np.sqrt(2.4) + 0.5\n",
        "B"
      ],
      "execution_count": 2,
      "outputs": [
        {
          "output_type": "execute_result",
          "data": {
            "text/plain": [
              "2.049193338482967"
            ]
          },
          "metadata": {
            "tags": []
          },
          "execution_count": 2
        }
      ]
    },
    {
      "cell_type": "code",
      "metadata": {
        "id": "LFdmmINOT6Ex",
        "colab_type": "code",
        "colab": {
          "base_uri": "https://localhost:8080/",
          "height": 34
        },
        "outputId": "df831a01-fd53-4f44-f5fd-8e1f0faceeb6"
      },
      "source": [
        "mean_value = (0.5 + B)/2\n",
        "mean_value"
      ],
      "execution_count": 3,
      "outputs": [
        {
          "output_type": "execute_result",
          "data": {
            "text/plain": [
              "1.2745966692414834"
            ]
          },
          "metadata": {
            "tags": []
          },
          "execution_count": 3
        }
      ]
    },
    {
      "cell_type": "markdown",
      "metadata": {
        "id": "W3tIw1skIs2x",
        "colab_type": "text"
      },
      "source": [
        "### **Задача 2**"
      ]
    },
    {
      "cell_type": "markdown",
      "metadata": {
        "id": "_S1dSEocIs2y",
        "colab_type": "text"
      },
      "source": [
        "Коробки с шоколадом упаковываются автоматически. Их средняя масса равна 1.06 кг. Известно, что 5% коробок имеют массу, меньшую 1 кг. Найдите: а) среднее квадратическое отклонение массы коробки, б) процент коробок, имеющих массу больше 1.1 кг.\n",
        "\n",
        "Подсказка. Найдите такое значение scale, для которого значение cdf(x=1, loc=1.06, scale=scale) близко к 0.05. Точности 0.0001 будет достаточно."
      ]
    },
    {
      "cell_type": "markdown",
      "metadata": {
        "id": "Pa8T4wA3KOuV",
        "colab_type": "text"
      },
      "source": [
        "## *Решение*"
      ]
    },
    {
      "cell_type": "markdown",
      "metadata": {
        "id": "aswF-AgsIs2y",
        "colab_type": "text"
      },
      "source": [
        "Масса шоколада нормально распределена\n",
        "\n",
        "$$f(x) = \\dfrac{1}{\\sqrt{2 \\pi \\sigma^2}} \\cdot \\exp \\left(- \\frac{(x - a)^2}{2 \\sigma^2} \\right)$$\n",
        "возле среднего\n",
        "\n",
        "$$M(X) = a = 1,06$$\n",
        "norm.cdf(x, loc, scale) - функция распределения нормального распределения.\n",
        "\n",
        "x - некоторая переменная распределения, в нашем случае 1\n",
        "loc - среднее значение в нашем случае 1,06\n",
        "scale - стандартное отклонение (среднеквадратичное отклонение), неизвестно, надо подобрать\n",
        "Надо подобрать scale таким образом, чтобы \n",
        "Надо подобрать scale таким образом, чтобы \n",
        "norm.cdf(x=1, loc=1,06, scale=?) - 0,05 &lt; 0,0001\n",
        "\n",
        "Подбираем вручную"
      ]
    },
    {
      "cell_type": "code",
      "metadata": {
        "id": "tdhcgw21Is24",
        "colab_type": "code",
        "colab": {}
      },
      "source": [
        "scl = .03647740991470618"
      ],
      "execution_count": 4,
      "outputs": []
    },
    {
      "cell_type": "code",
      "metadata": {
        "id": "Vc_IFZJvsMN2",
        "colab_type": "code",
        "colab": {
          "base_uri": "https://localhost:8080/",
          "height": 34
        },
        "outputId": "febaef75-971e-44a4-ce9f-3a4ac386e252"
      },
      "source": [
        "norm.cdf(x=1,loc=1.06,scale=scl)"
      ],
      "execution_count": 5,
      "outputs": [
        {
          "output_type": "execute_result",
          "data": {
            "text/plain": [
              "0.050000000000000044"
            ]
          },
          "metadata": {
            "tags": []
          },
          "execution_count": 5
        }
      ]
    },
    {
      "cell_type": "code",
      "metadata": {
        "id": "tx-chGfasbup",
        "colab_type": "code",
        "colab": {
          "base_uri": "https://localhost:8080/",
          "height": 34
        },
        "outputId": "6c3e6c13-8f7e-40be-972f-39132383aa6f"
      },
      "source": [
        "print(norm.cdf(x=1,loc=1.06,scale=scl) - 0.05 < 0.0001)"
      ],
      "execution_count": 6,
      "outputs": [
        {
          "output_type": "stream",
          "text": [
            "True\n"
          ],
          "name": "stdout"
        }
      ]
    },
    {
      "cell_type": "markdown",
      "metadata": {
        "id": "grnQMkFWsgCY",
        "colab_type": "text"
      },
      "source": [
        "\n",
        "Среднеквадратическое отклонение\n",
        "\n",
        "$$D(X) = \\sigma^2 = 0,03647745$$\n",
        "Чтобы найти процент коробок, имеющих массу больше $1,1$ кг надо сначала найти процент коробок, имеющих массу меньшую $1,1$ кг и затем найденный процент вычесть из $100$%."
      ]
    },
    {
      "cell_type": "code",
      "metadata": {
        "id": "-K-IUJhHsjNC",
        "colab_type": "code",
        "colab": {
          "base_uri": "https://localhost:8080/",
          "height": 34
        },
        "outputId": "2b67b027-6606-403b-c9fc-fedacbca1fd9"
      },
      "source": [
        "1 - norm.cdf(x=1.1,loc=1.06,scale=scl)"
      ],
      "execution_count": 7,
      "outputs": [
        {
          "output_type": "execute_result",
          "data": {
            "text/plain": [
              "0.1364149040409519"
            ]
          },
          "metadata": {
            "tags": []
          },
          "execution_count": 7
        }
      ]
    },
    {
      "cell_type": "markdown",
      "metadata": {
        "id": "sZdVG1flt8sq",
        "colab_type": "text"
      },
      "source": [
        "### **Задача 3**"
      ]
    },
    {
      "cell_type": "markdown",
      "metadata": {
        "id": "4eJT37dCt9B8",
        "colab_type": "text"
      },
      "source": [
        "Коробка содержит 30 конфет. Известно, что масса каждой конфеты распределена равномерно в промежутке от 12 до 14 граммов. Используя центральную предельную теорему, найти вероятность, что масса всей коробки будет: а) меньше 390 граммов, б) больше 395 граммов, в) от 380 до 400 граммов.\n",
        "\n",
        "Массой самой коробки можно пренебречь."
      ]
    },
    {
      "cell_type": "markdown",
      "metadata": {
        "id": "RQReFR6NKTRo",
        "colab_type": "text"
      },
      "source": [
        "## *Решение*"
      ]
    },
    {
      "cell_type": "markdown",
      "metadata": {
        "id": "RK4uXJ4yIs3I",
        "colab_type": "text"
      },
      "source": [
        "Масса каждой конфеты распределена равномерно, следовательно наше распределение равномерное\n",
        "\n",
        "$$f(x) = \\begin{cases} 0, если \\; x \\le a; \\\\ \\frac{1}{b - a}, если \\; a &lt; x \\le b; \\\\ 0, \\; если \\; x &gt; b. \\end{cases}$$\n",
        "в диапазоне от $a = 12$ до $b = 14$\n",
        "\n",
        "Среднее получается\n",
        "\n",
        "$$M(X) = \\frac{a + b}{2} = \\frac{12 + 14}{2} = 13$$\n",
        "А среднеквадратическое отклонение\n",
        "\n",
        "$$D(X) = \\frac{(14 - 12)^2}{12} = \\frac{4}{12} = \\frac{1}{3}$$\n",
        "Согласно центральной предельной теореме\n",
        "\n",
        "$$n = 30, \\:\\: a = n \\cdot M(X), \\:\\: \\sigma^2 = n \\cdot D(X)$$\n",
        "$$a = 30 \\cdot 13 = 390$$\n",
        "$$\\sigma^2 = 30 \\cdot \\frac{1}{3} = 10$$\n",
        "Отсюда\n",
        "\n",
        "$$scale = \\sqrt{\\sigma^2} = \\sqrt{10} = 3,16227766017$$"
      ]
    },
    {
      "cell_type": "markdown",
      "metadata": {
        "id": "NkfIcxWISOIf",
        "colab_type": "text"
      },
      "source": [
        "а) меньше $390$ граммов"
      ]
    },
    {
      "cell_type": "code",
      "metadata": {
        "id": "GFwFq_kFSJJS",
        "colab_type": "code",
        "colab": {
          "base_uri": "https://localhost:8080/",
          "height": 34
        },
        "outputId": "4c06cfd9-5fb3-444d-8d0b-f06907a1fa93"
      },
      "source": [
        "norm.cdf(x=390,loc=390,scale=3.16227766017)"
      ],
      "execution_count": 8,
      "outputs": [
        {
          "output_type": "execute_result",
          "data": {
            "text/plain": [
              "0.5"
            ]
          },
          "metadata": {
            "tags": []
          },
          "execution_count": 8
        }
      ]
    },
    {
      "cell_type": "markdown",
      "metadata": {
        "id": "xo9oraYFSR7_",
        "colab_type": "text"
      },
      "source": [
        "б) больше $395$ граммов"
      ]
    },
    {
      "cell_type": "code",
      "metadata": {
        "id": "FM5TRIXdSUtw",
        "colab_type": "code",
        "colab": {
          "base_uri": "https://localhost:8080/",
          "height": 34
        },
        "outputId": "e8c513cb-de16-4df5-c4ab-e6083fe4cb29"
      },
      "source": [
        "1 - norm.cdf(x=395,loc=390,scale=3.16227766017)"
      ],
      "execution_count": 9,
      "outputs": [
        {
          "output_type": "execute_result",
          "data": {
            "text/plain": [
              "0.05692314900342166"
            ]
          },
          "metadata": {
            "tags": []
          },
          "execution_count": 9
        }
      ]
    },
    {
      "cell_type": "markdown",
      "metadata": {
        "id": "zv-NgXY6SWp4",
        "colab_type": "text"
      },
      "source": [
        "в) от $380$ до $400$ граммов"
      ]
    },
    {
      "cell_type": "code",
      "metadata": {
        "id": "H2dshxGqSbT0",
        "colab_type": "code",
        "colab": {
          "base_uri": "https://localhost:8080/",
          "height": 34
        },
        "outputId": "aebcad7c-28c1-4d5e-b27c-1f5bcdc1fd35"
      },
      "source": [
        "norm.cdf(x=400,loc=390,scale=3.16227766017) - norm.cdf(x=380,loc=390,scale=3.16227766017)"
      ],
      "execution_count": 10,
      "outputs": [
        {
          "output_type": "execute_result",
          "data": {
            "text/plain": [
              "0.9984345977419888"
            ]
          },
          "metadata": {
            "tags": []
          },
          "execution_count": 10
        }
      ]
    }
  ]
}
