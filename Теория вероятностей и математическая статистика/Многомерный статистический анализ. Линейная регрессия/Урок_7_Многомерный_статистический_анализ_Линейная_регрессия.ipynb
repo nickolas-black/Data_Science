{
  "nbformat": 4,
  "nbformat_minor": 0,
  "metadata": {
    "kernelspec": {
      "display_name": "Python 3",
      "language": "python",
      "name": "python3"
    },
    "language_info": {
      "codemirror_mode": {
        "name": "ipython",
        "version": 3
      },
      "file_extension": ".py",
      "mimetype": "text/x-python",
      "name": "python",
      "nbconvert_exporter": "python",
      "pygments_lexer": "ipython3",
      "version": "3.7.4"
    },
    "colab": {
      "name": "Урок 7. Многомерный статистический анализ. Линейная регрессия",
      "provenance": [],
      "collapsed_sections": []
    }
  },
  "cells": [
    {
      "cell_type": "markdown",
      "metadata": {
        "id": "zdSh1_KRIs2e",
        "colab_type": "text"
      },
      "source": [
        "# Урок 7. Многомерный статистический анализ.  Линейная регрессия\n",
        "\n",
        "## Выполнил - Колеганов Н.Д."
      ]
    },
    {
      "cell_type": "markdown",
      "metadata": {
        "id": "NcMjC8TKJvaf",
        "colab_type": "text"
      },
      "source": [
        "# Задание\n",
        "\n",
        "**Задача 1**\n",
        "\n",
        "Дана матрица объект-признак\n",
        "\n",
        "X = [[ 1.22401313, 2.30868478, 3.03636353, 2.69287214],\n",
        "\n",
        "[-0.18757272, 1.30337355, 5.12093014, 3.46363202],\n",
        "\n",
        "[-0.81094525, 1.82463398, 5.79686488, 1.86159445],\n",
        "\n",
        "[ 0.75129018, 2.67392052, 3.65529809, 1.66746094],\n",
        "\n",
        "[ 0.00972362, 1.97367255, 2.50594319, 1.69755173],\n",
        "\n",
        "[-0.62972637, 0.77750764, 2.84124027, 4.54410559],\n",
        "\n",
        "[ 2.29536229, 1.81206697, 1.95026215, 1.51874636],\n",
        "\n",
        "[ 0.0920418 , 2.26971361, 7.47708735, 2.61081203],\n",
        "\n",
        "[ 2.39252799, 3.17563985, 3.61420599, 5.10773362],\n",
        "\n",
        "[ 0.54983815, 2.87988651, 1.65752765, 1.59635987]]\n",
        "\n",
        "и значения целевой переменной\n",
        "\n",
        "y = [ 9.26193358, 9.700363 , 8.67214805, 8.74796974, 6.18689108,\n",
        "7.53312713, 7.57643777, 12.44965478, 14.29010746, 6.68361218]\n",
        "\n",
        "Подберите два признака (из четырёх) так, чтобы уровень линейной зависимости целевой переменной от значений этих признаков был максимальным. Другими словами, модель линейной регрессии на этих признаках должна давать наилучший результат.\n",
        "Является ли значимым получившееся уравнение регрессии?\n",
        "\n",
        "**Задача 2**\n",
        "\n",
        "Для проведения A/B-тестирования сайта интернет-магазина были получены следующие данные: страница A была посещена 2509 раз, из них 77 закончились совершением покупки, страница B была посещена 1465 раз, 60 из них закончились совершением покупки. Является ли значимым отличие конверсии на страницах A и B?\n",
        "\n",
        "**Задача 3**\n",
        "\n",
        "**Квартет Энскомба** — популярный в области анализа данных пример наборов данных, у которых практически совпадают все статистические свойства (средние, дисперсии, коэффициенты корреляции, регрессионные линии), однако, существенно отличаются графики. Данный пример призван показать, насколько важна визуализация данных. Датасет представляет собой 4 пары выборок:\n",
        "\n",
        "{\n",
        "  \n",
        "    \"x1\": [10.0, 8.0, 13.0, 9.0, 11.0, 14.0, 6.0, 4.0, 12.0, 7.0, 5.0],\n",
        "    \"y1\": [8.04, 6.95, 7.58, 8.81, 8.33, 9.96, 7.24, 4.26, 10.84, 4.82, 5.68],\n",
        "    \"x2\": [10.0, 8.0, 13.0, 9.0, 11.0, 14.0, 6.0, 4.0, 12.0, 7.0, 5.0],\n",
        "    \"y2\": [9.14, 8.14, 8.74, 8.77, 9.26, 8.1, 6.13, 3.1, 9.13, 7.26, 4.74],\n",
        "    \"x3\": [10.0, 8.0, 13.0, 9.0, 11.0, 14.0, 6.0, 4.0, 12.0, 7.0, 5.0],\n",
        "    \"y3\": [7.46, 6.77, 12.74, 7.11, 7.81, 8.84, 6.08, 5.39, 8.15, 6.42, 5.73],\n",
        "    \"x4\": [8.0, 8.0, 8.0, 8.0, 8.0, 8.0, 8.0, 19.0, 8.0, 8.0, 8.0],\n",
        "    \"y4\": [6.58, 5.76, 7.71, 8.84, 8.47, 7.04, 5.25, 12.5, 5.56, 7.91, 6.89]\n",
        "}\n",
        "\n",
        "По каждой паре выборок посчитайте:\n",
        "\n",
        "* выборочное среднее и дисперсию каждой выборки,\n",
        "* коэффициент корреляции Пирсона и прямую линейной регрессии."
      ]
    },
    {
      "cell_type": "code",
      "metadata": {
        "id": "h6dIVf5ZIs2f",
        "colab_type": "code",
        "colab": {}
      },
      "source": [
        "import numpy as np\n",
        "import pandas as pd\n",
        "from matplotlib import pyplot as plt\n",
        "from mpl_toolkits.mplot3d import Axes3D\n",
        "from scipy import stats\n",
        "from itertools import combinations\n",
        "\n",
        "plt.style.use('seaborn-whitegrid')"
      ],
      "execution_count": 1,
      "outputs": []
    },
    {
      "cell_type": "markdown",
      "metadata": {
        "id": "ZjGfVKvbIs2k",
        "colab_type": "text"
      },
      "source": [
        "### **Задача 1** "
      ]
    },
    {
      "cell_type": "markdown",
      "metadata": {
        "id": "LzI_t1YkvDSI",
        "colab_type": "text"
      },
      "source": [
        "Дана матрица объект-признак\n",
        "\n",
        "X = [[ 1.22401313, 2.30868478, 3.03636353, 2.69287214],\n",
        "\n",
        "[-0.18757272, 1.30337355, 5.12093014, 3.46363202],\n",
        "\n",
        "[-0.81094525, 1.82463398, 5.79686488, 1.86159445],\n",
        "\n",
        "[ 0.75129018, 2.67392052, 3.65529809, 1.66746094],\n",
        "\n",
        "[ 0.00972362, 1.97367255, 2.50594319, 1.69755173],\n",
        "\n",
        "[-0.62972637, 0.77750764, 2.84124027, 4.54410559],\n",
        "\n",
        "[ 2.29536229, 1.81206697, 1.95026215, 1.51874636],\n",
        "\n",
        "[ 0.0920418 , 2.26971361, 7.47708735, 2.61081203],\n",
        "\n",
        "[ 2.39252799, 3.17563985, 3.61420599, 5.10773362],\n",
        "\n",
        "[ 0.54983815, 2.87988651, 1.65752765, 1.59635987]]\n",
        "\n",
        "и значения целевой переменной\n",
        "\n",
        "y = [ 9.26193358, 9.700363 , 8.67214805, 8.74796974, 6.18689108,\n",
        "7.53312713, 7.57643777, 12.44965478, 14.29010746, 6.68361218]\n",
        "\n",
        "Подберите два признака (из четырёх) так, чтобы уровень линейной зависимости целевой переменной от значений этих признаков был максимальным. Другими словами, модель линейной регрессии на этих признаках должна давать наилучший результат.\n",
        "Является ли значимым получившееся уравнение регрессии?"
      ]
    },
    {
      "cell_type": "markdown",
      "metadata": {
        "colab_type": "text",
        "id": "2uI9S-MOu5F3"
      },
      "source": [
        "## *Решение*"
      ]
    },
    {
      "cell_type": "code",
      "metadata": {
        "id": "g3ZQ1uhJ1-Sr",
        "colab_type": "code",
        "colab": {}
      },
      "source": [
        "X = [[ 1.22401313,  2.30868478,  3.03636353,  2.69287214],\n",
        "     [-0.18757272,  1.30337355,  5.12093014,  3.46363202],\n",
        "     [-0.81094525,  1.82463398,  5.79686488,  1.86159445],\n",
        "     [ 0.75129018,  2.67392052,  3.65529809,  1.66746094],\n",
        "     [ 0.00972362,  1.97367255,  2.50594319,  1.69755173],\n",
        "     [-0.62972637,  0.77750764,  2.84124027,  4.54410559],\n",
        "     [ 2.29536229,  1.81206697,  1.95026215,  1.51874636],\n",
        "     [ 0.0920418 ,  2.26971361,  7.47708735,  2.61081203],\n",
        "     [ 2.39252799,  3.17563985,  3.61420599,  5.10773362],\n",
        "     [ 0.54983815,  2.87988651,  1.65752765,  1.59635987]]"
      ],
      "execution_count": 2,
      "outputs": []
    },
    {
      "cell_type": "code",
      "metadata": {
        "id": "Y-Q960MB1-5G",
        "colab_type": "code",
        "colab": {}
      },
      "source": [
        "y = [ 9.26193358,  9.700363  ,  8.67214805,  8.74796974,  6.18689108,\n",
        "      7.53312713,  7.57643777, 12.44965478, 14.29010746,  6.68361218]"
      ],
      "execution_count": 3,
      "outputs": []
    },
    {
      "cell_type": "code",
      "metadata": {
        "id": "6H2ZmqJ_2BUE",
        "colab_type": "code",
        "colab": {}
      },
      "source": [
        "X = np.array(X)\n",
        "y = np.array(y)"
      ],
      "execution_count": 4,
      "outputs": []
    },
    {
      "cell_type": "markdown",
      "metadata": {
        "id": "krabKkj-2E7P",
        "colab_type": "text"
      },
      "source": [
        "$\n",
        "b = (X^\\top X)^{-1} X^\\top Y\\\\\n",
        "Z = X \\cdot b\\\\\n",
        "\\varepsilon = y - Z\\\\\n",
        "R^2 = 1 - \\dfrac{D(\\varepsilon)}{D(y)}\n",
        "$\n",
        "$R^2 = 1 - \\dfrac{SS_{res}}{SS_{y}}$"
      ]
    },
    {
      "cell_type": "code",
      "metadata": {
        "id": "bwoi60Sr2GDZ",
        "colab_type": "code",
        "colab": {}
      },
      "source": [
        "def R2(x:np.ndarray, y:np.ndarray):\n",
        "    \n",
        "    ones = np.ones((x.shape[0],1))\n",
        "    x = np.hstack([ones, x])\n",
        "    \n",
        "    XTX = x.T.dot(x)\n",
        "    XTX_inv = np.linalg.inv(XTX)\n",
        "    \n",
        "    b = XTX_inv.dot(x.T).dot(y)\n",
        "    \n",
        "    z = x.dot(b)\n",
        "    e = y - z\n",
        "    \n",
        "    return 1 - e.var() / y.var()"
      ],
      "execution_count": 5,
      "outputs": []
    },
    {
      "cell_type": "code",
      "metadata": {
        "id": "xzHsBur52J8X",
        "colab_type": "code",
        "colab": {
          "base_uri": "https://localhost:8080/",
          "height": 34
        },
        "outputId": "5796facc-35cb-46ae-bfa9-15d0fe93553f"
      },
      "source": [
        "R2(x=X,y=y)"
      ],
      "execution_count": 6,
      "outputs": [
        {
          "output_type": "execute_result",
          "data": {
            "text/plain": [
              "1.0"
            ]
          },
          "metadata": {
            "tags": []
          },
          "execution_count": 6
        }
      ]
    },
    {
      "cell_type": "code",
      "metadata": {
        "id": "UAv8inKk2Mex",
        "colab_type": "code",
        "colab": {
          "base_uri": "https://localhost:8080/",
          "height": 119
        },
        "outputId": "acfbaa9c-840b-473c-9387-adf9be962baf"
      },
      "source": [
        "for i, j in combinations(range(X.shape[1]), 2):\n",
        "    r = R2(X[:, [i,j]], y)\n",
        "    print(i, j, r)"
      ],
      "execution_count": 7,
      "outputs": [
        {
          "output_type": "stream",
          "text": [
            "0 1 0.18113594742585215\n",
            "0 2 0.7634246238793152\n",
            "0 3 0.4532966783144077\n",
            "1 2 0.547948273403901\n",
            "1 3 0.6062055761129931\n",
            "2 3 0.622441987650532\n"
          ],
          "name": "stdout"
        }
      ]
    },
    {
      "cell_type": "markdown",
      "metadata": {
        "id": "am2wm6q22O0W",
        "colab_type": "text"
      },
      "source": [
        "**Ответ:** Линейная рекрессия имеет наилучший результат в 1м и 3м признаках.\n",
        "\n",
        "$F = \\dfrac{R^2 / m}{(1 - R^2) / (n - m - 1)}$"
      ]
    },
    {
      "cell_type": "code",
      "metadata": {
        "id": "w5gYqlM62RhZ",
        "colab_type": "code",
        "colab": {
          "base_uri": "https://localhost:8080/",
          "height": 34
        },
        "outputId": "c3d24382-4f0f-4f1d-e56c-ad458cf63990"
      },
      "source": [
        "k1 = 2\n",
        "k2 = X.shape[0]- 2 - 1\n",
        "\n",
        "R2 = R2(X[:, [0,2]], y)\n",
        "\n",
        "F = (R2 / k1) / ((1 - R2) / k2)\n",
        "F"
      ],
      "execution_count": 8,
      "outputs": [
        {
          "output_type": "execute_result",
          "data": {
            "text/plain": [
              "11.29443912292265"
            ]
          },
          "metadata": {
            "tags": []
          },
          "execution_count": 8
        }
      ]
    },
    {
      "cell_type": "code",
      "metadata": {
        "id": "0zPcphq92Wqu",
        "colab_type": "code",
        "colab": {
          "base_uri": "https://localhost:8080/",
          "height": 34
        },
        "outputId": "cee3b85b-7aaa-4eec-a19b-cde491a3965c"
      },
      "source": [
        "alpha = 0.05\n",
        "\n",
        "t = stats.f.ppf(1 - alpha, k1, k2)\n",
        "t"
      ],
      "execution_count": 9,
      "outputs": [
        {
          "output_type": "execute_result",
          "data": {
            "text/plain": [
              "4.73741412777588"
            ]
          },
          "metadata": {
            "tags": []
          },
          "execution_count": 9
        }
      ]
    },
    {
      "cell_type": "markdown",
      "metadata": {
        "id": "LkBJ9wkb2YlI",
        "colab_type": "text"
      },
      "source": [
        "\n",
        "$\\Omega_\\alpha = (4.74, \\infty)$"
      ]
    },
    {
      "cell_type": "code",
      "metadata": {
        "id": "TRmLlRjg2Zhe",
        "colab_type": "code",
        "colab": {
          "base_uri": "https://localhost:8080/",
          "height": 34
        },
        "outputId": "ad291aeb-900a-4441-d3e5-d11ee79b2cb7"
      },
      "source": [
        "F>=t"
      ],
      "execution_count": 10,
      "outputs": [
        {
          "output_type": "execute_result",
          "data": {
            "text/plain": [
              "True"
            ]
          },
          "metadata": {
            "tags": []
          },
          "execution_count": 10
        }
      ]
    },
    {
      "cell_type": "markdown",
      "metadata": {
        "id": "sQYaNe9W2dOl",
        "colab_type": "text"
      },
      "source": [
        "**Ответ:** Статистика попала в критическую область, уравнение регрессии признаётся значимым."
      ]
    },
    {
      "cell_type": "markdown",
      "metadata": {
        "colab_type": "text",
        "id": "sBRzcRJRu96e"
      },
      "source": [
        "### **Задача 2** "
      ]
    },
    {
      "cell_type": "markdown",
      "metadata": {
        "id": "hsTFOIvavHRh",
        "colab_type": "text"
      },
      "source": [
        "Для проведения A/B-тестирования сайта интернет-магазина были получены следующие данные: страница A была посещена 2509 раз, из них 77 закончились совершением покупки, страница B была посещена 1465 раз, 60 из них закончились совершением покупки. Является ли значимым отличие конверсии на страницах A и B?"
      ]
    },
    {
      "cell_type": "markdown",
      "metadata": {
        "colab_type": "text",
        "id": "ITfmgSpyu96k"
      },
      "source": [
        "## *Решение*"
      ]
    },
    {
      "cell_type": "markdown",
      "metadata": {
        "id": "HThbAa4G2hAM",
        "colab_type": "text"
      },
      "source": [
        "$\n",
        "Y_k = 2\\\\\n",
        "\\overline{Y}_1 = \\frac{77}{2509}\\\\\n",
        "n_1 = 2509\\\\\n",
        "\\overline{Y}_2 = \\frac{60}{1465}\\\\\n",
        "n_2 = 1465\\\\\n",
        "H_0: \\overline{Y}_1 = \\overline{Y}_2\\\\\n",
        "H_1: \\overline{Y}_1 \\neq \\overline{Y}_2\n",
        "$"
      ]
    },
    {
      "cell_type": "code",
      "metadata": {
        "id": "K6otOUIC2nEg",
        "colab_type": "code",
        "colab": {}
      },
      "source": [
        "y1 = np.zeros(2509)\n",
        "y1[np.arange(77)] = 1\n",
        "\n",
        "y2 = np.zeros(1465)\n",
        "y2[np.arange(60)] = 1\n",
        "\n",
        "y = np.concatenate([y1, y2])"
      ],
      "execution_count": 11,
      "outputs": []
    },
    {
      "cell_type": "code",
      "metadata": {
        "id": "gCPrallR25zU",
        "colab_type": "code",
        "colab": {
          "base_uri": "https://localhost:8080/",
          "height": 34
        },
        "outputId": "f598b9fe-9734-472d-b23f-f58ccdf76843"
      },
      "source": [
        "n1 = y1.shape[0]\n",
        "n2 = y2.shape[0]\n",
        "n = n1+n2\n",
        "\n",
        "n1, n2"
      ],
      "execution_count": 12,
      "outputs": [
        {
          "output_type": "execute_result",
          "data": {
            "text/plain": [
              "(2509, 1465)"
            ]
          },
          "metadata": {
            "tags": []
          },
          "execution_count": 12
        }
      ]
    },
    {
      "cell_type": "code",
      "metadata": {
        "id": "VCXSvD0n276c",
        "colab_type": "code",
        "colab": {
          "base_uri": "https://localhost:8080/",
          "height": 34
        },
        "outputId": "b9951f1e-1fbf-404c-c8e1-ed94abfd8f10"
      },
      "source": [
        "y1_mean = y1.mean()\n",
        "y2_mean = y2.mean()\n",
        "y_mean = y.mean()\n",
        "\n",
        "y1_mean, y2_mean, y_mean"
      ],
      "execution_count": 13,
      "outputs": [
        {
          "output_type": "execute_result",
          "data": {
            "text/plain": [
              "(0.03068951773614986, 0.040955631399317405, 0.03447408152994464)"
            ]
          },
          "metadata": {
            "tags": []
          },
          "execution_count": 13
        }
      ]
    },
    {
      "cell_type": "markdown",
      "metadata": {
        "id": "PuA2ygUv292v",
        "colab_type": "text"
      },
      "source": [
        "$\n",
        "SS_b = \\displaystyle\\sum_{i=1}^k \\left( \\overline{Y_i} - \\overline{Y} \\right)^2 n_i\\\\\n",
        "SS_w = \\displaystyle\\sum_{i=1}^k \\displaystyle\\sum_{j=1}^{n_i} \\left( y_{ij} - \\overline{Y_i} \\right)^2\n",
        "$"
      ]
    },
    {
      "cell_type": "code",
      "metadata": {
        "id": "WRXznsTZ2_Bs",
        "colab_type": "code",
        "colab": {
          "base_uri": "https://localhost:8080/",
          "height": 34
        },
        "outputId": "9f1e5604-f148-497b-eaeb-137b32ed7ded"
      },
      "source": [
        "SSb = n1*(y1_mean - y_mean)**2 + n2*(y2_mean - y_mean)**2\n",
        "SSw = ((y1 - y1_mean)**2).sum() + ((y2 - y2_mean)**2).sum()\n",
        "\n",
        "SSb, SSw"
      ],
      "execution_count": 14,
      "outputs": [
        {
          "output_type": "execute_result",
          "data": {
            "text/plain": [
              "(0.09748158004016791, 132.17956925035745)"
            ]
          },
          "metadata": {
            "tags": []
          },
          "execution_count": 14
        }
      ]
    },
    {
      "cell_type": "markdown",
      "metadata": {
        "id": "IIkOohNd3Fwt",
        "colab_type": "text"
      },
      "source": [
        "\n",
        "$\n",
        "\\sigma_b^2 = \\dfrac{SS_b}{k - 1}\\\\ \n",
        "\\sigma_w^2 = \\dfrac{SS_w}{n - k}\n",
        "$"
      ]
    },
    {
      "cell_type": "code",
      "metadata": {
        "id": "yNZG7aBz3Jdl",
        "colab_type": "code",
        "colab": {
          "base_uri": "https://localhost:8080/",
          "height": 34
        },
        "outputId": "17f6b3ec-1cac-4771-9de0-7bf031c1f3b3"
      },
      "source": [
        "k = 2\n",
        "k1 = k-1\n",
        "k2 = n-k\n",
        "\n",
        "sigma2b = SSb/k1\n",
        "sigma2w = SSw/k2\n",
        "\n",
        "sigma2b, sigma2w"
      ],
      "execution_count": 15,
      "outputs": [
        {
          "output_type": "execute_result",
          "data": {
            "text/plain": [
              "(0.09748158004016791, 0.03327783717279895)"
            ]
          },
          "metadata": {
            "tags": []
          },
          "execution_count": 15
        }
      ]
    },
    {
      "cell_type": "markdown",
      "metadata": {
        "id": "_3s90kQq3LJj",
        "colab_type": "text"
      },
      "source": [
        "$F = \\dfrac{\\sigma_b^2}{\\sigma_w^2}$"
      ]
    },
    {
      "cell_type": "code",
      "metadata": {
        "id": "D7pBjofp3Nrg",
        "colab_type": "code",
        "colab": {
          "base_uri": "https://localhost:8080/",
          "height": 34
        },
        "outputId": "f1759022-1374-499c-e679-ab26482e0e78"
      },
      "source": [
        "F = sigma2b/sigma2w\n",
        "F"
      ],
      "execution_count": 16,
      "outputs": [
        {
          "output_type": "execute_result",
          "data": {
            "text/plain": [
              "2.9293243889013496"
            ]
          },
          "metadata": {
            "tags": []
          },
          "execution_count": 16
        }
      ]
    },
    {
      "cell_type": "code",
      "metadata": {
        "id": "IfA8vcy03PmB",
        "colab_type": "code",
        "colab": {
          "base_uri": "https://localhost:8080/",
          "height": 34
        },
        "outputId": "d12d4208-0acd-41cc-8cf9-f72401d1ab34"
      },
      "source": [
        "alpha = 0.05\n",
        "\n",
        "t = stats.f.ppf(1 - alpha, k1, k2)\n",
        "t"
      ],
      "execution_count": 17,
      "outputs": [
        {
          "output_type": "execute_result",
          "data": {
            "text/plain": [
              "3.8438010503414866"
            ]
          },
          "metadata": {
            "tags": []
          },
          "execution_count": 17
        }
      ]
    },
    {
      "cell_type": "markdown",
      "metadata": {
        "id": "R3ciYnZY3R8E",
        "colab_type": "text"
      },
      "source": [
        "$\\Omega_\\alpha = \\left( 3.84, \\infty \\right)$"
      ]
    },
    {
      "cell_type": "code",
      "metadata": {
        "id": "HVI3kQMN3UOj",
        "colab_type": "code",
        "colab": {
          "base_uri": "https://localhost:8080/",
          "height": 34
        },
        "outputId": "858d50dd-b0a2-408b-c45d-6586b4c257c7"
      },
      "source": [
        "F>=t"
      ],
      "execution_count": 18,
      "outputs": [
        {
          "output_type": "execute_result",
          "data": {
            "text/plain": [
              "False"
            ]
          },
          "metadata": {
            "tags": []
          },
          "execution_count": 18
        }
      ]
    },
    {
      "cell_type": "markdown",
      "metadata": {
        "id": "ivNSw42_3WY0",
        "colab_type": "text"
      },
      "source": [
        "**Значение статистики попало в критическую область, поэтому заключаем, отличие конверсии на страницах A и B является значимым.**"
      ]
    },
    {
      "cell_type": "markdown",
      "metadata": {
        "id": "sZdVG1flt8sq",
        "colab_type": "text"
      },
      "source": [
        "### **Задача 3**"
      ]
    },
    {
      "cell_type": "markdown",
      "metadata": {
        "id": "4eJT37dCt9B8",
        "colab_type": "text"
      },
      "source": [
        "**Квартет Энскомба** — популярный в области анализа данных пример наборов данных, у которых практически совпадают все статистические свойства (средние, дисперсии, коэффициенты корреляции, регрессионные линии), однако, существенно отличаются графики. Данный пример призван показать, насколько важна визуализация данных. Датасет представляет собой 4 пары выборок:\n",
        "\n",
        "{\n",
        "  \n",
        "    \"x1\": [10.0, 8.0, 13.0, 9.0, 11.0, 14.0, 6.0, 4.0, 12.0, 7.0, 5.0],\n",
        "    \"y1\": [8.04, 6.95, 7.58, 8.81, 8.33, 9.96, 7.24, 4.26, 10.84, 4.82, 5.68],\n",
        "    \"x2\": [10.0, 8.0, 13.0, 9.0, 11.0, 14.0, 6.0, 4.0, 12.0, 7.0, 5.0],\n",
        "    \"y2\": [9.14, 8.14, 8.74, 8.77, 9.26, 8.1, 6.13, 3.1, 9.13, 7.26, 4.74],\n",
        "    \"x3\": [10.0, 8.0, 13.0, 9.0, 11.0, 14.0, 6.0, 4.0, 12.0, 7.0, 5.0],\n",
        "    \"y3\": [7.46, 6.77, 12.74, 7.11, 7.81, 8.84, 6.08, 5.39, 8.15, 6.42, 5.73],\n",
        "    \"x4\": [8.0, 8.0, 8.0, 8.0, 8.0, 8.0, 8.0, 19.0, 8.0, 8.0, 8.0],\n",
        "    \"y4\": [6.58, 5.76, 7.71, 8.84, 8.47, 7.04, 5.25, 12.5, 5.56, 7.91, 6.89]\n",
        "}\n",
        "\n",
        "По каждой паре выборок посчитайте:\n",
        "\n",
        "* выборочное среднее и дисперсию каждой выборки,\n",
        "* коэффициент корреляции Пирсона и прямую линейной регрессии."
      ]
    },
    {
      "cell_type": "markdown",
      "metadata": {
        "id": "RQReFR6NKTRo",
        "colab_type": "text"
      },
      "source": [
        "## *Решение*"
      ]
    },
    {
      "cell_type": "code",
      "metadata": {
        "id": "ZtZhDfGSt6CK",
        "colab_type": "code",
        "colab": {}
      },
      "source": [
        "x1 = np.array([10.0, 8.0, 13.0, 9.0, 11.0, 14.0, 6.0, 4.0, 12.0, 7.0, 5.0])\n",
        "y1 = np.array([8.04, 6.95, 7.58, 8.81, 8.33, 9.96, 7.24, 4.26, 10.84, 4.82, 5.68])\n",
        "x2 = np.array([10.0, 8.0, 13.0, 9.0, 11.0, 14.0, 6.0, 4.0, 12.0, 7.0, 5.0])\n",
        "y2 = np.array([9.14, 8.14, 8.74, 8.77, 9.26, 8.1, 6.13, 3.1, 9.13, 7.26, 4.74])\n",
        "x3 = np.array([10.0, 8.0, 13.0, 9.0, 11.0, 14.0, 6.0, 4.0, 12.0, 7.0, 5.0])\n",
        "y3 = np.array([7.46, 6.77, 12.74, 7.11, 7.81, 8.84, 6.08, 5.39, 8.15, 6.42, 5.73])\n",
        "x4 = np.array([8.0, 8.0, 8.0, 8.0, 8.0, 8.0, 8.0, 19.0, 8.0, 8.0, 8.0])\n",
        "y4 = np.array([6.58, 5.76, 7.71, 8.84, 8.47, 7.04, 5.25, 12.5, 5.56, 7.91, 6.89])"
      ],
      "execution_count": 19,
      "outputs": []
    },
    {
      "cell_type": "markdown",
      "metadata": {
        "id": "smiecXLlt9V1",
        "colab_type": "text"
      },
      "source": [
        "Сравним среднее"
      ]
    },
    {
      "cell_type": "code",
      "metadata": {
        "id": "q-i60ngwt980",
        "colab_type": "code",
        "colab": {
          "base_uri": "https://localhost:8080/",
          "height": 34
        },
        "outputId": "9114148c-9c49-4822-ba20-d3e3791ce9e6"
      },
      "source": [
        "x1.mean(), x2.mean(), x3.mean(), x4.mean()"
      ],
      "execution_count": 20,
      "outputs": [
        {
          "output_type": "execute_result",
          "data": {
            "text/plain": [
              "(9.0, 9.0, 9.0, 9.0)"
            ]
          },
          "metadata": {
            "tags": []
          },
          "execution_count": 20
        }
      ]
    },
    {
      "cell_type": "code",
      "metadata": {
        "id": "l1oqmO3Rt_v0",
        "colab_type": "code",
        "colab": {
          "base_uri": "https://localhost:8080/",
          "height": 34
        },
        "outputId": "84240e15-d674-423a-8aa5-3e24d3a7bc47"
      },
      "source": [
        "y1.mean(), y2.mean(), y3.mean(), y4.mean()"
      ],
      "execution_count": 21,
      "outputs": [
        {
          "output_type": "execute_result",
          "data": {
            "text/plain": [
              "(7.500909090909093, 7.50090909090909, 7.5, 7.500909090909091)"
            ]
          },
          "metadata": {
            "tags": []
          },
          "execution_count": 21
        }
      ]
    },
    {
      "cell_type": "markdown",
      "metadata": {
        "id": "Ws94esmCuEgI",
        "colab_type": "text"
      },
      "source": [
        "Сравним дисперсию"
      ]
    },
    {
      "cell_type": "code",
      "metadata": {
        "id": "uVq6o1xcuFs0",
        "colab_type": "code",
        "colab": {
          "base_uri": "https://localhost:8080/",
          "height": 34
        },
        "outputId": "9779f4e9-12d9-4c65-c17a-2f56fcfa8bf4"
      },
      "source": [
        "x1.var(), x2.var(), x3.var(), x4.var()"
      ],
      "execution_count": 22,
      "outputs": [
        {
          "output_type": "execute_result",
          "data": {
            "text/plain": [
              "(10.0, 10.0, 10.0, 10.0)"
            ]
          },
          "metadata": {
            "tags": []
          },
          "execution_count": 22
        }
      ]
    },
    {
      "cell_type": "code",
      "metadata": {
        "id": "FF8wNBIMuIZj",
        "colab_type": "code",
        "colab": {
          "base_uri": "https://localhost:8080/",
          "height": 34
        },
        "outputId": "ad557b8c-771f-43f8-e413-c7d124b746ea"
      },
      "source": [
        "y1.var(), y2.var(), y3.var(), y4.var()"
      ],
      "execution_count": 23,
      "outputs": [
        {
          "output_type": "execute_result",
          "data": {
            "text/plain": [
              "(3.7520628099173554, 3.752390082644628, 3.747836363636364, 3.7484082644628103)"
            ]
          },
          "metadata": {
            "tags": []
          },
          "execution_count": 23
        }
      ]
    },
    {
      "cell_type": "markdown",
      "metadata": {
        "id": "7NvZndkduMEE",
        "colab_type": "text"
      },
      "source": [
        "Посчитаем линейную регрессию"
      ]
    },
    {
      "cell_type": "code",
      "metadata": {
        "id": "FYHZwOv1uOKk",
        "colab_type": "code",
        "colab": {}
      },
      "source": [
        "b11 = np.cov(x1, y1, ddof=1)[0, 1] / np.var(x1, ddof=1)\n",
        "b12 = np.cov(x2, y2, ddof=1)[0, 1] / np.var(x2, ddof=1)\n",
        "b13 = np.cov(x3, y3, ddof=1)[0, 1] / np.var(x3, ddof=1)\n",
        "b14 = np.cov(x4, y4, ddof=1)[0, 1] / np.var(x4, ddof=1)"
      ],
      "execution_count": 24,
      "outputs": []
    },
    {
      "cell_type": "code",
      "metadata": {
        "id": "81-_P7ZQuQR_",
        "colab_type": "code",
        "colab": {
          "base_uri": "https://localhost:8080/",
          "height": 85
        },
        "outputId": "4e8bf18b-1b53-4389-87a9-1d2d9c2ae6be"
      },
      "source": [
        "b11, b12, b13, b14"
      ],
      "execution_count": 25,
      "outputs": [
        {
          "output_type": "execute_result",
          "data": {
            "text/plain": [
              "(0.5000909090909093,\n",
              " 0.5000000000000001,\n",
              " 0.49972727272727285,\n",
              " 0.49990909090909086)"
            ]
          },
          "metadata": {
            "tags": []
          },
          "execution_count": 25
        }
      ]
    },
    {
      "cell_type": "code",
      "metadata": {
        "id": "B9AoagAtuTxz",
        "colab_type": "code",
        "colab": {}
      },
      "source": [
        "b01 = y1.mean() - b11 * x1.mean()\n",
        "b02 = y2.mean() - b12 * x2.mean()\n",
        "b03 = y3.mean() - b13 * x3.mean()\n",
        "b04 = y4.mean() - b14 * x4.mean()"
      ],
      "execution_count": 26,
      "outputs": []
    },
    {
      "cell_type": "code",
      "metadata": {
        "id": "RM-NTmM_uWwp",
        "colab_type": "code",
        "colab": {
          "base_uri": "https://localhost:8080/",
          "height": 34
        },
        "outputId": "6e57e3d6-c577-44c8-90c8-3d22d23b02a8"
      },
      "source": [
        "b01, b02, b03, b04"
      ],
      "execution_count": 27,
      "outputs": [
        {
          "output_type": "execute_result",
          "data": {
            "text/plain": [
              "(3.0000909090909094, 3.000909090909089, 3.002454545454544, 3.0017272727272735)"
            ]
          },
          "metadata": {
            "tags": []
          },
          "execution_count": 27
        }
      ]
    },
    {
      "cell_type": "markdown",
      "metadata": {
        "id": "ex0pL_55uYzD",
        "colab_type": "text"
      },
      "source": [
        "Уравнения регрессии\n",
        "\n",
        "$$y1 = 3,0001 + 0,5001 \\cdot x1$$$$y2 = 3,0009 + 0,5000 \\cdot x2$$$$y3 = 3,0025 + 0,4997 \\cdot x3$$$$y4 = 3,0017 + 0,4999 \\cdot x4$$\n",
        "Посчитаем коэффициент корреляции Пирсона"
      ]
    },
    {
      "cell_type": "code",
      "metadata": {
        "id": "BVkYJShWuefr",
        "colab_type": "code",
        "colab": {
          "base_uri": "https://localhost:8080/",
          "height": 34
        },
        "outputId": "cbf72ee3-f7a0-4e45-823f-54978bf86036"
      },
      "source": [
        "np.corrcoef(x1, y1)[0, 1], np.corrcoef(x2, y2)[0, 1], np.corrcoef(x3, y3)[0, 1], np.corrcoef(x4, y4)[0, 1]"
      ],
      "execution_count": 28,
      "outputs": [
        {
          "output_type": "execute_result",
          "data": {
            "text/plain": [
              "(0.81642051634484, 0.8162365060002428, 0.8162867394895984, 0.8165214368885028)"
            ]
          },
          "metadata": {
            "tags": []
          },
          "execution_count": 28
        }
      ]
    },
    {
      "cell_type": "markdown",
      "metadata": {
        "id": "ZIB_UX6fuilM",
        "colab_type": "text"
      },
      "source": [
        "Построим графики"
      ]
    },
    {
      "cell_type": "code",
      "metadata": {
        "id": "YZCeNhYcukz8",
        "colab_type": "code",
        "colab": {}
      },
      "source": [
        "def plot_regr(x, b0, b1, y):\n",
        "    x0 = np.array(x)\n",
        "    np.sort(x0)\n",
        "    z = b0 + b1 * x0\n",
        "    plt.scatter(x, y)\n",
        "    plt.plot(x0, z, color='red', alpha=0.5)\n",
        "    plt.xlabel('X')\n",
        "    plt.ylabel('Y');"
      ],
      "execution_count": 29,
      "outputs": []
    },
    {
      "cell_type": "code",
      "metadata": {
        "id": "uuDmkoDQuoAM",
        "colab_type": "code",
        "colab": {
          "base_uri": "https://localhost:8080/",
          "height": 276
        },
        "outputId": "2da1d634-15b4-4933-d61e-cbb1e376ead8"
      },
      "source": [
        "plot_regr(x1, b01, b11, y1)"
      ],
      "execution_count": 30,
      "outputs": [
        {
          "output_type": "display_data",
          "data": {
            "image/png": "[encoded data removed]",
            "text/plain": [
              "<Figure size 432x288 with 1 Axes>"
            ]
          },
          "metadata": {
            "tags": [],
            "needs_background": "light"
          }
        }
      ]
    },
    {
      "cell_type": "code",
      "metadata": {
        "id": "0ulumqtVuqFa",
        "colab_type": "code",
        "colab": {
          "base_uri": "https://localhost:8080/",
          "height": 276
        },
        "outputId": "97581c1a-3589-4986-f385-57700e89859f"
      },
      "source": [
        "plot_regr(x2, b02, b12, y2)"
      ],
      "execution_count": 31,
      "outputs": [
        {
          "output_type": "display_data",
          "data": {
            "image/png": "[encoded data removed]",
            "text/plain": [
              "<Figure size 432x288 with 1 Axes>"
            ]
          },
          "metadata": {
            "tags": [],
            "needs_background": "light"
          }
        }
      ]
    },
    {
      "cell_type": "code",
      "metadata": {
        "id": "zGWWSAWvur3z",
        "colab_type": "code",
        "colab": {
          "base_uri": "https://localhost:8080/",
          "height": 277
        },
        "outputId": "d79c47c9-cd58-4c4e-f071-ae6379f3bd71"
      },
      "source": [
        "plot_regr(x3, b03, b13, y3)"
      ],
      "execution_count": 32,
      "outputs": [
        {
          "output_type": "display_data",
          "data": {
            "image/png": "[encoded data removed]",
            "text/plain": [
              "<Figure size 432x288 with 1 Axes>"
            ]
          },
          "metadata": {
            "tags": [],
            "needs_background": "light"
          }
        }
      ]
    },
    {
      "cell_type": "code",
      "metadata": {
        "id": "mhHp-dheuuwY",
        "colab_type": "code",
        "colab": {
          "base_uri": "https://localhost:8080/",
          "height": 276
        },
        "outputId": "8a8d9ffb-49e9-40e4-8d7f-fc513ba09c10"
      },
      "source": [
        "plot_regr(x4, b04, b14, y4)"
      ],
      "execution_count": 33,
      "outputs": [
        {
          "output_type": "display_data",
          "data": {
            "image/png": "[encoded data removed]",
            "text/plain": [
              "<Figure size 432x288 with 1 Axes>"
            ]
          },
          "metadata": {
            "tags": [],
            "needs_background": "light"
          }
        }
      ]
    }
  ]
}
