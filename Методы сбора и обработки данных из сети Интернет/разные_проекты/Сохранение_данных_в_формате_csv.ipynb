{
  "nbformat": 4,
  "nbformat_minor": 0,
  "metadata": {
    "colab": {
      "name": "Сохранение данных в формате csv",
      "provenance": [],
      "collapsed_sections": []
    },
    "kernelspec": {
      "name": "python3",
      "display_name": "Python 3"
    },
    "accelerator": "GPU"
  },
  "cells": [
    {
      "cell_type": "markdown",
      "metadata": {
        "id": "Ah7dy1kFL2H9",
        "colab_type": "text"
      },
      "source": [
        "# Сохранение данных в csv"
      ]
    },
    {
      "cell_type": "code",
      "metadata": {
        "id": "qrfd6FzSLrE2",
        "colab_type": "code",
        "colab": {}
      },
      "source": [
        "import csv\n",
        "from urllib.request import urlopen\n",
        "from bs4 import BeautifulSoup\n",
        "import numpy as np\n"
      ],
      "execution_count": 16,
      "outputs": []
    },
    {
      "cell_type": "markdown",
      "metadata": {
        "id": "MCEDLxyUnnfR",
        "colab_type": "text"
      },
      "source": [
        "# Сделал на примере wikipedia.ord"
      ]
    },
    {
      "cell_type": "code",
      "metadata": {
        "id": "4yiB0LM5egYN",
        "colab_type": "code",
        "colab": {}
      },
      "source": [
        "html = urlopen(\"http://en.wikipedia.org/wiki/Comparison_of_text_editors\")\n",
        "bsObj = BeautifulSoup(html)"
      ],
      "execution_count": 17,
      "outputs": []
    },
    {
      "cell_type": "code",
      "metadata": {
        "id": "luYgyBKVfR6i",
        "colab_type": "code",
        "colab": {}
      },
      "source": [
        "table = bsObj.findAll(\"table\", {\"class\":\"wikitable\"})[0]\n",
        "rows = table.findAll(\"tr\")"
      ],
      "execution_count": 18,
      "outputs": []
    },
    {
      "cell_type": "code",
      "metadata": {
        "id": "L-eNf7kZfqnJ",
        "colab_type": "code",
        "colab": {}
      },
      "source": [
        "csvFile = open(\"editors.csv\", 'wt')\n",
        "writer = csv.writer(csvFile)\n",
        "try:\n",
        "  for row in rows:\n",
        "    csvRow = []\n",
        "    for cell in row.findAll(['td', 'th']):\n",
        "      csvRow.append(cell.get_text())\n",
        "      writer.writerow(csvRow)\n",
        "finally:\n",
        "  csvFile.close"
      ],
      "execution_count": 7,
      "outputs": []
    },
    {
      "cell_type": "code",
      "metadata": {
        "id": "4D89gzRtglqp",
        "colab_type": "code",
        "colab": {
          "base_uri": "https://localhost:8080/",
          "height": 190
        },
        "outputId": "dfad460e-a142-4e74-c568-01c318f82f14"
      },
      "source": [
        "!head editors.csv"
      ],
      "execution_count": 19,
      "outputs": [
        {
          "output_type": "stream",
          "text": [
            "\"\n",
            "\"\r\n",
            "\"\n",
            "\",\"Creator\n",
            "\"\r\n",
            "\"\n",
            "\",\"Creator\n",
            "\",\"First public release\n",
            "\"\r\n",
            "\"\n"
          ],
          "name": "stdout"
        }
      ]
    }
  ]
}