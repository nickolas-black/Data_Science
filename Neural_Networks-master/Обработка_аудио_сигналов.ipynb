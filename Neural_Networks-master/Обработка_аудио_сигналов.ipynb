{
  "nbformat": 4,
  "nbformat_minor": 0,
  "metadata": {
    "colab": {
      "name": "Прямые и сверточные нейронные сети для обработки аудио сигналов.ipynb",
      "provenance": []
    },
    "kernelspec": {
      "name": "python3",
      "display_name": "Python 3"
    },
    "accelerator": "GPU"
  },
  "cells": [
    {
      "cell_type": "markdown",
      "metadata": {
        "id": "zj6BMvrq-NN2",
        "colab_type": "text"
      },
      "source": [
        "# Прямые и сверточные нейронные сети для обработки аудио сигналов\n",
        "\n",
        "# Колеганов Николай Дмитриевич\n",
        "\n",
        "\n",
        "Для базы GTZAN Жанровая коллекция\n",
        "\n",
        "1.Сделать классификацию с помощью полносвязной нейронной сети. Оптимизатор архитектуры, размер мини-выборки, количество эпох и т. Д.).\n",
        "\n",
        "2.Используя библиотеку librosa ( http://librosa.github.io/librosa/feature.html ), поверите набор признаков, извлекаемых из аудио-файла. Например, некоторые параметры могут быть вычислены не более чем за 10 секунд. Также можно обратить внимание на количество mfcc коэффициентов.\n",
        "\n",
        "3.(Опционально) Применить линейные модели (решающие деревья, градиентный бустинг) из библиотеки sklearn на полученном датасете, сделать ансамбль моделей из нейросети и линейных моделей.\n"
      ]
    },
    {
      "cell_type": "code",
      "metadata": {
        "id": "ExYDbryO-xs7",
        "colab_type": "code",
        "colab": {}
      },
      "source": [
        "# функция извлечения и предварительной обработки данных\n",
        "import librosa\n",
        "import cv2\n",
        "import pandas as pd\n",
        "import numpy as np\n",
        "import matplotlib.pyplot as plt"
      ],
      "execution_count": 0,
      "outputs": []
    },
    {
      "cell_type": "code",
      "metadata": {
        "id": "ovD9vvt-_Acs",
        "colab_type": "code",
        "colab": {}
      },
      "source": [
        "#matplotlib inline\n",
        "import os\n",
        "import PIL\n",
        "from IPython.display import display\n",
        "from PIL import Image\n",
        "import pathlib\n",
        "import csv"
      ],
      "execution_count": 0,
      "outputs": []
    },
    {
      "cell_type": "code",
      "metadata": {
        "id": "8cZB72Wj_Gam",
        "colab_type": "code",
        "colab": {}
      },
      "source": [
        "# Preprocessing\n",
        "from sklearn.model_selection import train_test_split\n",
        "from sklearn.preprocessing import LabelEncoder, StandardScaler\n",
        "from tensorflow.keras.preprocessing import image"
      ],
      "execution_count": 0,
      "outputs": []
    },
    {
      "cell_type": "code",
      "metadata": {
        "id": "91udrp10_InP",
        "colab_type": "code",
        "outputId": "44a27619-1265-4aef-963a-ab4827626043",
        "colab": {
          "base_uri": "https://localhost:8080/",
          "height": 33
        }
      },
      "source": [
        "#Keras\n",
        "from tensorflow.keras.layers import Dense, Dropout\n",
        "from tensorflow.keras.callbacks import ReduceLROnPlateau, ModelCheckpoint\n",
        "from tensorflow.keras.models import Sequential\n",
        "from tensorflow.keras.layers import Dense, Dropout\n",
        "from tensorflow.python.keras.optimizers import Adam, Adadelta\n",
        "from keras import optimizers\n",
        "import warnings\n",
        "warnings.filterwarnings('ignore')"
      ],
      "execution_count": 0,
      "outputs": [
        {
          "output_type": "stream",
          "text": [
            "Using TensorFlow backend.\n"
          ],
          "name": "stderr"
        }
      ]
    },
    {
      "cell_type": "code",
      "metadata": {
        "id": "zsnuFSZK_Od7",
        "colab_type": "code",
        "colab": {}
      },
      "source": [
        "def cv2_imshow(a):\n",
        "  \"\"\"A replacement for cv2.imshow() for use in Jupyter notebooks.\"\"\"\n",
        "  a = a.clip(0, 255).astype('uint8')\n",
        "  # cv2 stores colors as BGR; convert to RGB\n",
        "  if a.ndim == 3:\n",
        "    if a.shape[2] == 4:\n",
        "      a = cv2.cvtColor(a, cv2.COLOR_BGRA2RGBA)\n",
        "    else:\n",
        "      a = cv2.cvtColor(a, cv2.COLOR_BGR2RGB)\n",
        "  display(PIL.Image.fromarray(a))"
      ],
      "execution_count": 0,
      "outputs": []
    },
    {
      "cell_type": "code",
      "metadata": {
        "id": "qsaTxYAl_bcK",
        "colab_type": "code",
        "colab": {}
      },
      "source": [
        "import zipfile\n",
        "import io\n",
        "z = zipfile.ZipFile('/content/drive/My Drive/genres.zip', 'r')\n",
        "z.extractall()"
      ],
      "execution_count": 0,
      "outputs": []
    },
    {
      "cell_type": "code",
      "metadata": {
        "id": "M5CsqdLl_q7h",
        "colab_type": "code",
        "colab": {}
      },
      "source": [
        "genres = 'blues classical country disco hiphop jazz metal pop reggae rock'.split()\n",
        "p = '_pic'\n",
        "for t in genres:\n",
        "    path = f'genres/{t+p}'\n",
        "    if not os.path.isdir(path):\n",
        "        os.makedirs(path)"
      ],
      "execution_count": 0,
      "outputs": []
    },
    {
      "cell_type": "code",
      "metadata": {
        "id": "kSo8YLM__4Va",
        "colab_type": "code",
        "outputId": "fdd5f88f-74e2-4a76-914a-eae144e92ed7",
        "colab": {
          "base_uri": "https://localhost:8080/",
          "height": 66
        }
      },
      "source": [
        "!ls genres/"
      ],
      "execution_count": 0,
      "outputs": [
        {
          "output_type": "stream",
          "text": [
            "blues\t   classical_pic  disco      hiphop\t jazz_pic   pop      reggae_pic\n",
            "blues_pic  country\t  disco_pic  hiphop_pic  metal\t    pop_pic  rock\n",
            "classical  country_pic\t  genres     jazz\t metal_pic  reggae   rock_pic\n"
          ],
          "name": "stdout"
        }
      ]
    },
    {
      "cell_type": "code",
      "metadata": {
        "id": "z33I-6-zAmLf",
        "colab_type": "code",
        "outputId": "7d920d50-fd68-4566-a25e-ea5a72b2b5db",
        "colab": {
          "base_uri": "https://localhost:8080/",
          "height": 342
        }
      },
      "source": [
        "!ls genres/genres/blues/  "
      ],
      "execution_count": 0,
      "outputs": [
        {
          "output_type": "stream",
          "text": [
            "blues.00000.au\tblues.00020.au\tblues.00040.au\tblues.00060.au\tblues.00080.au\n",
            "blues.00001.au\tblues.00021.au\tblues.00041.au\tblues.00061.au\tblues.00081.au\n",
            "blues.00002.au\tblues.00022.au\tblues.00042.au\tblues.00062.au\tblues.00082.au\n",
            "blues.00003.au\tblues.00023.au\tblues.00043.au\tblues.00063.au\tblues.00083.au\n",
            "blues.00004.au\tblues.00024.au\tblues.00044.au\tblues.00064.au\tblues.00084.au\n",
            "blues.00005.au\tblues.00025.au\tblues.00045.au\tblues.00065.au\tblues.00085.au\n",
            "blues.00006.au\tblues.00026.au\tblues.00046.au\tblues.00066.au\tblues.00086.au\n",
            "blues.00007.au\tblues.00027.au\tblues.00047.au\tblues.00067.au\tblues.00087.au\n",
            "blues.00008.au\tblues.00028.au\tblues.00048.au\tblues.00068.au\tblues.00088.au\n",
            "blues.00009.au\tblues.00029.au\tblues.00049.au\tblues.00069.au\tblues.00089.au\n",
            "blues.00010.au\tblues.00030.au\tblues.00050.au\tblues.00070.au\tblues.00090.au\n",
            "blues.00011.au\tblues.00031.au\tblues.00051.au\tblues.00071.au\tblues.00091.au\n",
            "blues.00012.au\tblues.00032.au\tblues.00052.au\tblues.00072.au\tblues.00092.au\n",
            "blues.00013.au\tblues.00033.au\tblues.00053.au\tblues.00073.au\tblues.00093.au\n",
            "blues.00014.au\tblues.00034.au\tblues.00054.au\tblues.00074.au\tblues.00094.au\n",
            "blues.00015.au\tblues.00035.au\tblues.00055.au\tblues.00075.au\tblues.00095.au\n",
            "blues.00016.au\tblues.00036.au\tblues.00056.au\tblues.00076.au\tblues.00096.au\n",
            "blues.00017.au\tblues.00037.au\tblues.00057.au\tblues.00077.au\tblues.00097.au\n",
            "blues.00018.au\tblues.00038.au\tblues.00058.au\tblues.00078.au\tblues.00098.au\n",
            "blues.00019.au\tblues.00039.au\tblues.00059.au\tblues.00079.au\tblues.00099.au\n"
          ],
          "name": "stdout"
        }
      ]
    },
    {
      "cell_type": "markdown",
      "metadata": {
        "id": "mWfIa_DaA6WT",
        "colab_type": "text"
      },
      "source": [
        "# Получение спектрограмм"
      ]
    },
    {
      "cell_type": "code",
      "metadata": {
        "id": "Y04_FUgIA-vC",
        "colab_type": "code",
        "outputId": "ff7164c6-62e6-48fe-cc71-f585e8a3f96e",
        "colab": {
          "base_uri": "https://localhost:8080/",
          "height": 33
        }
      },
      "source": [
        "cmap = plt.get_cmap('inferno')\n",
        "\n",
        "plt.figure(figsize=(10,10))\n",
        "genres = 'blues classical country disco hiphop jazz metal pop reggae rock'.split()\n",
        "for g in genres:\n",
        "    pathlib.Path(f'genres/genres/{g}').mkdir(parents=True, exist_ok=True)     \n",
        "    for filename in os.listdir(f'./genres/genres/{g}'):\n",
        "        songname = f'./genres/genres/{g}/{filename}'\n",
        "        y, sr = librosa.load(songname, mono=True, duration=5)\n",
        "        plt.specgram(y, NFFT=2048, Fs=2, Fc=0, noverlap=128, cmap=cmap, sides='default', mode='default', scale='dB');\n",
        "        plt.axis('off');\n",
        "        plt.savefig(f'genres/{g+p}/{filename[:-3].replace(\".\", \"\")}.png')\n",
        "        plt.clf()"
      ],
      "execution_count": 0,
      "outputs": [
        {
          "output_type": "display_data",
          "data": {
            "text/plain": [
              "<Figure size 720x720 with 0 Axes>"
            ]
          },
          "metadata": {
            "tags": []
          }
        }
      ]
    },
    {
      "cell_type": "code",
      "metadata": {
        "id": "yCKcwersBGMd",
        "colab_type": "code",
        "outputId": "9be2f6fd-51d8-4185-848c-84e4360167a9",
        "colab": {
          "base_uri": "https://localhost:8080/",
          "height": 342
        }
      },
      "source": [
        "!ls genres/metal_pic"
      ],
      "execution_count": 0,
      "outputs": [
        {
          "output_type": "stream",
          "text": [
            "metal00000.png\tmetal00020.png\tmetal00040.png\tmetal00060.png\tmetal00080.png\n",
            "metal00001.png\tmetal00021.png\tmetal00041.png\tmetal00061.png\tmetal00081.png\n",
            "metal00002.png\tmetal00022.png\tmetal00042.png\tmetal00062.png\tmetal00082.png\n",
            "metal00003.png\tmetal00023.png\tmetal00043.png\tmetal00063.png\tmetal00083.png\n",
            "metal00004.png\tmetal00024.png\tmetal00044.png\tmetal00064.png\tmetal00084.png\n",
            "metal00005.png\tmetal00025.png\tmetal00045.png\tmetal00065.png\tmetal00085.png\n",
            "metal00006.png\tmetal00026.png\tmetal00046.png\tmetal00066.png\tmetal00086.png\n",
            "metal00007.png\tmetal00027.png\tmetal00047.png\tmetal00067.png\tmetal00087.png\n",
            "metal00008.png\tmetal00028.png\tmetal00048.png\tmetal00068.png\tmetal00088.png\n",
            "metal00009.png\tmetal00029.png\tmetal00049.png\tmetal00069.png\tmetal00089.png\n",
            "metal00010.png\tmetal00030.png\tmetal00050.png\tmetal00070.png\tmetal00090.png\n",
            "metal00011.png\tmetal00031.png\tmetal00051.png\tmetal00071.png\tmetal00091.png\n",
            "metal00012.png\tmetal00032.png\tmetal00052.png\tmetal00072.png\tmetal00092.png\n",
            "metal00013.png\tmetal00033.png\tmetal00053.png\tmetal00073.png\tmetal00093.png\n",
            "metal00014.png\tmetal00034.png\tmetal00054.png\tmetal00074.png\tmetal00094.png\n",
            "metal00015.png\tmetal00035.png\tmetal00055.png\tmetal00075.png\tmetal00095.png\n",
            "metal00016.png\tmetal00036.png\tmetal00056.png\tmetal00076.png\tmetal00096.png\n",
            "metal00017.png\tmetal00037.png\tmetal00057.png\tmetal00077.png\tmetal00097.png\n",
            "metal00018.png\tmetal00038.png\tmetal00058.png\tmetal00078.png\tmetal00098.png\n",
            "metal00019.png\tmetal00039.png\tmetal00059.png\tmetal00079.png\tmetal00099.png\n"
          ],
          "name": "stdout"
        }
      ]
    },
    {
      "cell_type": "code",
      "metadata": {
        "id": "HLpgy23VCm9f",
        "colab_type": "code",
        "outputId": "19a8038b-6612-4d3c-84fd-53f9311d23cf",
        "colab": {
          "base_uri": "https://localhost:8080/",
          "height": 753
        }
      },
      "source": [
        "arr = image.load_img('genres/metal_pic/metal00022.png')\n",
        "arr = image.img_to_array(arr)\n",
        "print(arr.shape)\n",
        "cv2_imshow(arr)"
      ],
      "execution_count": 0,
      "outputs": [
        {
          "output_type": "stream",
          "text": [
            "(720, 720, 3)\n"
          ],
          "name": "stdout"
        },
        {
          "output_type": "display_data",
          "data": {
            "image/png": "[encoded data removed]",
            "text/plain": [
              "<PIL.Image.Image image mode=RGB size=720x720 at 0x7FF30AB2D0B8>"
            ]
          },
          "metadata": {
            "tags": []
          }
        }
      ]
    },
    {
      "cell_type": "code",
      "metadata": {
        "id": "TOP-h8uxGBHU",
        "colab_type": "code",
        "outputId": "851fb7c2-b8c3-4fc6-ee71-41c571adf7f1",
        "colab": {
          "base_uri": "https://localhost:8080/",
          "height": 753
        }
      },
      "source": [
        "arr = image.load_img('genres/country_pic/country00022.png')\n",
        "arr = image.img_to_array(arr)\n",
        "print(arr.shape)\n",
        "cv2_imshow(arr)"
      ],
      "execution_count": 0,
      "outputs": [
        {
          "output_type": "stream",
          "text": [
            "(720, 720, 3)\n"
          ],
          "name": "stdout"
        },
        {
          "output_type": "display_data",
          "data": {
            "image/png": "[encoded data removed]",
            "text/plain": [
              "<PIL.Image.Image image mode=RGB size=720x720 at 0x7FF30CD433C8>"
            ]
          },
          "metadata": {
            "tags": []
          }
        }
      ]
    },
    {
      "cell_type": "code",
      "metadata": {
        "id": "J48ka5rqGFxS",
        "colab_type": "code",
        "colab": {}
      },
      "source": [
        "header = 'filename chroma_stft cent rms chroma_cens melspectrogram mfcc rmse spec_cent spec_bw rolloff zcr flatness'\n",
        "for i in range(1, 21):\n",
        "    header += f' mfcc{i}'\n",
        "header += ' label'\n",
        "header = header.split()\n",
        "file = open('data_aud.csv', 'w', newline='')\n",
        "with file:\n",
        "    writer = csv.writer(file)\n",
        "    writer.writerow(header)"
      ],
      "execution_count": 0,
      "outputs": []
    },
    {
      "cell_type": "code",
      "metadata": {
        "id": "rujUN1yYHgaK",
        "colab_type": "code",
        "colab": {}
      },
      "source": [
        "file = open('data_aud.csv', 'w', newline='')\n",
        "with file:\n",
        "    writer = csv.writer(file)\n",
        "    writer.writerow(header)"
      ],
      "execution_count": 0,
      "outputs": []
    },
    {
      "cell_type": "code",
      "metadata": {
        "id": "Ds_VjVH4HUtt",
        "colab_type": "code",
        "colab": {}
      },
      "source": [
        "def get_features(y, sr):\n",
        "  chroma_stft = librosa.feature.chroma_stft(y=y, sr=sr)\n",
        "  chroma_cens = librosa.feature.chroma_cens(y=y, sr=sr)\n",
        "  melspectrogram = librosa.feature.melspectrogram(y=y, sr=sr)\n",
        "  rmse = librosa.feature.rmse(y=y)\n",
        "  spec_cent = librosa.feature.spectral_centroid(y=y, sr=sr)\n",
        "  spec_bw = librosa.feature.spectral_bandwidth(y=y, sr=sr)\n",
        "  rolloff = librosa.feature.spectral_rolloff(y=y, sr=sr)\n",
        "  zcr = librosa.feature.zero_crossing_rate(y)\n",
        "  flatness = librosa.feature.spectral_flatness(y=y)\n",
        "  mfcc = librosa.feature.mfcc(y=y, sr=sr)\n",
        "  rms = librosa.feature.rms(y=y)\n",
        "  cent = librosa.feature.spectral_centroid(y=y, sr=sr)\n",
        "  to_append = f'{filename} {np.mean(chroma_stft)} {np.mean(cent)} {np.mean(rms)} {np.mean(chroma_cens)} {np.mean(melspectrogram)} {np.mean(mfcc)} {np.mean(rmse)} {np.mean(spec_cent)} {np.mean(spec_bw)} {np.mean(rolloff)} {np.mean(zcr)} {np.mean(flatness)}'    \n",
        "  for e in mfcc:\n",
        "    to_append += f' {np.mean(e)}'\n",
        "  return to_append"
      ],
      "execution_count": 0,
      "outputs": []
    },
    {
      "cell_type": "code",
      "metadata": {
        "id": "8zidCizmHtkS",
        "colab_type": "code",
        "colab": {}
      },
      "source": [
        "genres = 'blues classical country disco hiphop jazz metal pop reggae rock'.split()\n",
        "for g in genres:\n",
        "    for filename in os.listdir(f'./genres/genres/{g}'):\n",
        "        songname = f'./genres/genres/{g}/{filename}'\n",
        "        \n",
        "        \n",
        "        y, sr = librosa.load(songname, mono=True, duration=30)\n",
        "        \n",
        "        features = get_features(y, sr)\n",
        "        features += f' {g}'\n",
        "        file = open('data_aud.csv', 'a', newline='')\n",
        "        with file:\n",
        "            writer = csv.writer(file)\n",
        "            writer.writerow(features.split())"
      ],
      "execution_count": 0,
      "outputs": []
    },
    {
      "cell_type": "code",
      "metadata": {
        "id": "ImXHIqPqGZmh",
        "colab_type": "code",
        "colab": {}
      },
      "source": [
        "from google.colab import files\n",
        "files.download(\"data_aud.csv\")"
      ],
      "execution_count": 0,
      "outputs": []
    },
    {
      "cell_type": "code",
      "metadata": {
        "id": "9U7YwvtOHCdX",
        "colab_type": "code",
        "outputId": "86ba98b9-0e26-4f2f-8af2-54bfd01adbef",
        "colab": {
          "base_uri": "https://localhost:8080/",
          "height": 163
        }
      },
      "source": [
        "data = pd.read_csv('data_aud.csv')\n",
        "print(data.head())\n",
        "print(len(data))"
      ],
      "execution_count": 0,
      "outputs": [
        {
          "output_type": "stream",
          "text": [
            "         filename  chroma_stft         cent  ...    mfcc19     mfcc20  label\n",
            "0  blues.00034.au     0.262248  1536.783076  ... -9.828355 -13.941392  blues\n",
            "1  blues.00066.au     0.374710  2340.432873  ... -7.682608  -4.852479  blues\n",
            "2  blues.00024.au     0.263129  1120.387619  ... -1.068164  -1.596130  blues\n",
            "3  blues.00017.au     0.302096  1088.698166  ... -0.055459  -3.975350  blues\n",
            "4  blues.00001.au     0.340983  1529.835316  ... -0.287431   0.531573  blues\n",
            "\n",
            "[5 rows x 34 columns]\n",
            "1000\n"
          ],
          "name": "stdout"
        }
      ]
    },
    {
      "cell_type": "code",
      "metadata": {
        "id": "C-aGfKY-JT1l",
        "colab_type": "code",
        "outputId": "dc321d5c-06ee-410e-d4f8-f6b574ee480f",
        "colab": {
          "base_uri": "https://localhost:8080/",
          "height": 33
        }
      },
      "source": [
        "print(data.shape)\n",
        "# Dropping unneccesary columns\n",
        "data = data.drop(['filename'],axis=1)"
      ],
      "execution_count": 0,
      "outputs": [
        {
          "output_type": "stream",
          "text": [
            "(1000, 34)\n"
          ],
          "name": "stdout"
        }
      ]
    },
    {
      "cell_type": "code",
      "metadata": {
        "id": "Trf-EDPmJb3e",
        "colab_type": "code",
        "colab": {}
      },
      "source": [
        "#Encoding the Labels\n",
        "genre_list = data.iloc[:, -1]\n",
        "encoder = LabelEncoder()\n",
        "y = encoder.fit_transform(genre_list)"
      ],
      "execution_count": 0,
      "outputs": []
    },
    {
      "cell_type": "code",
      "metadata": {
        "id": "7X_LQbiKJcxC",
        "colab_type": "code",
        "colab": {}
      },
      "source": [
        "#Scaling the Feature columns\n",
        "scaler = StandardScaler()\n",
        "X = scaler.fit_transform(np.array(data.iloc[:, :-1], dtype = float))"
      ],
      "execution_count": 0,
      "outputs": []
    },
    {
      "cell_type": "code",
      "metadata": {
        "id": "vmupUoMnJfPW",
        "colab_type": "code",
        "colab": {}
      },
      "source": [
        "#Dividing data into training and Testing set\n",
        "X_train, X_test, y_train, y_test = train_test_split(X, y, test_size=0.1)"
      ],
      "execution_count": 0,
      "outputs": []
    },
    {
      "cell_type": "code",
      "metadata": {
        "id": "U_6KWg7eJkQw",
        "colab_type": "code",
        "outputId": "40313c78-8377-4ed3-c167-d5c732c9949d",
        "colab": {
          "base_uri": "https://localhost:8080/",
          "height": 33
        }
      },
      "source": [
        "print(y_train.shape)"
      ],
      "execution_count": 0,
      "outputs": [
        {
          "output_type": "stream",
          "text": [
            "(900,)\n"
          ],
          "name": "stdout"
        }
      ]
    },
    {
      "cell_type": "code",
      "metadata": {
        "id": "SOew9wkmJoBD",
        "colab_type": "code",
        "outputId": "bfb3d570-3177-4fea-a911-6d1182edc8ee",
        "colab": {
          "base_uri": "https://localhost:8080/",
          "height": 131
        }
      },
      "source": [
        "X_train[10]"
      ],
      "execution_count": 0,
      "outputs": [
        {
          "output_type": "execute_result",
          "data": {
            "text/plain": [
              "array([-1.73827251, -1.18488297,  0.1091908 , -0.61737019, -0.1142808 ,\n",
              "       -0.43944292,  0.1091908 , -1.18488297, -1.28512709, -1.10633546,\n",
              "       -1.16449423, -0.68506201, -0.32726855,  1.43019071, -0.38540635,\n",
              "        1.16530903, -1.64534175, -1.2057381 ,  0.35682419, -1.96231717,\n",
              "        0.21912119, -1.038075  , -0.39833958, -0.08891032, -0.5119563 ,\n",
              "       -0.95684195,  0.23069538, -0.82105033,  0.38199422, -0.63542997,\n",
              "        0.6148551 ,  0.48581948])"
            ]
          },
          "metadata": {
            "tags": []
          },
          "execution_count": 81
        }
      ]
    },
    {
      "cell_type": "code",
      "metadata": {
        "id": "eYsb1JyzJqRZ",
        "colab_type": "code",
        "outputId": "6f65eef8-641f-425c-df10-bb5639d40186",
        "colab": {
          "base_uri": "https://localhost:8080/",
          "height": 33
        }
      },
      "source": [
        "X_train.shape"
      ],
      "execution_count": 0,
      "outputs": [
        {
          "output_type": "execute_result",
          "data": {
            "text/plain": [
              "(900, 32)"
            ]
          },
          "metadata": {
            "tags": []
          },
          "execution_count": 82
        }
      ]
    },
    {
      "cell_type": "markdown",
      "metadata": {
        "id": "p1525t1wJrLn",
        "colab_type": "text"
      },
      "source": [
        "# Обучение с помощью классического машинного обучения"
      ]
    },
    {
      "cell_type": "code",
      "metadata": {
        "id": "KI56Lj2HJzzg",
        "colab_type": "code",
        "outputId": "af1b5200-b753-4e85-fefc-6d9e48f71f93",
        "colab": {
          "base_uri": "https://localhost:8080/",
          "height": 82
        }
      },
      "source": [
        "#метод опорных векторов\n",
        "from sklearn import svm\n",
        "clf = svm.SVC(kernel = 'linear')\n",
        "clf.fit(X_train, y_train)\n",
        "labelsPredict = clf.predict(X_test)\n",
        "print(labelsPredict)\n",
        "\n",
        "result = clf.score(X_test, y_test)\n",
        "print(result)"
      ],
      "execution_count": 0,
      "outputs": [
        {
          "output_type": "stream",
          "text": [
            "[7 5 3 8 1 8 1 2 3 5 5 0 1 5 8 3 1 5 0 3 4 2 1 4 3 3 2 6 7 7 4 7 6 7 3 2 4\n",
            " 9 3 4 8 1 4 8 1 0 2 6 6 5 2 9 8 1 6 5 1 2 3 3 0 9 5 0 7 2 2 1 7 8 1 7 6 3\n",
            " 6 2 0 4 0 0 4 4 6 5 7 0 5 4 3 7 0 9 8 7 5 5 9 1 0 0]\n",
            "0.66\n"
          ],
          "name": "stdout"
        }
      ]
    },
    {
      "cell_type": "code",
      "metadata": {
        "id": "xA6VGdPdJ2Mk",
        "colab_type": "code",
        "outputId": "68f55d92-af8b-4de0-b011-85b66a5a3577",
        "colab": {
          "base_uri": "https://localhost:8080/",
          "height": 82
        }
      },
      "source": [
        "from sklearn import svm\n",
        "clf_rbf = svm.SVC(kernel = 'rbf')\n",
        "clf_rbf.fit(X_train, y_train)\n",
        "labelsPredict = clf_rbf.predict(X_test)\n",
        "print(labelsPredict)\n",
        "\n",
        "result = clf_rbf.score(X_test, y_test)\n",
        "print(result)"
      ],
      "execution_count": 0,
      "outputs": [
        {
          "output_type": "stream",
          "text": [
            "[7 5 3 3 1 8 5 2 6 5 5 0 1 5 8 3 1 5 0 3 7 2 1 4 3 3 2 9 7 7 6 7 3 7 3 3 9\n",
            " 0 4 4 4 1 6 2 1 0 2 6 6 5 2 0 8 1 6 5 1 2 3 3 0 3 5 0 7 2 2 1 7 2 1 7 6 3\n",
            " 6 7 0 0 0 0 3 4 6 5 7 0 0 6 9 7 0 9 8 7 5 5 3 1 0 0]\n",
            "0.68\n"
          ],
          "name": "stdout"
        }
      ]
    },
    {
      "cell_type": "code",
      "metadata": {
        "id": "lF5ogVvYJ5DK",
        "colab_type": "code",
        "outputId": "605a7ef4-f545-4d60-a080-97ed79b5afde",
        "colab": {
          "base_uri": "https://localhost:8080/",
          "height": 82
        }
      },
      "source": [
        "#Логистическая регрессия\n",
        "from sklearn.linear_model import LogisticRegression\n",
        "logreg = LogisticRegression(C=5).fit(X_train, y_train)\n",
        "logreg.fit(X_train, y_train)\n",
        "labelsPredict = logreg.predict(X_test)\n",
        "print(labelsPredict)\n",
        "\n",
        "result_logreg = logreg.score(X_test, y_test)\n",
        "print(result_logreg)"
      ],
      "execution_count": 0,
      "outputs": [
        {
          "output_type": "stream",
          "text": [
            "[7 5 3 8 1 8 2 2 6 5 5 0 1 8 4 3 1 5 0 3 7 2 1 8 3 3 2 6 4 7 5 7 9 7 3 9 4\n",
            " 8 9 4 4 1 4 1 1 0 5 6 6 5 5 9 8 1 6 5 1 2 3 9 6 9 5 0 7 2 2 1 7 8 1 7 6 4\n",
            " 6 5 0 9 0 5 8 4 6 5 7 0 8 6 5 7 1 9 8 7 5 5 9 1 0 0]\n",
            "0.66\n"
          ],
          "name": "stdout"
        }
      ]
    },
    {
      "cell_type": "code",
      "metadata": {
        "id": "k9_ypJP5J8Cv",
        "colab_type": "code",
        "outputId": "4b6a35fb-400a-454e-83b1-2558593922c1",
        "colab": {
          "base_uri": "https://localhost:8080/",
          "height": 82
        }
      },
      "source": [
        "# Метод k-ближайших соседей \n",
        "from sklearn.neighbors import  KNeighborsClassifier\n",
        "clf_KNeighbors = KNeighborsClassifier(n_neighbors=7)\n",
        "clf_KNeighbors.fit(X_train, y_train)\n",
        "print(clf_KNeighbors.predict(X_test))\n",
        "\n",
        "result_KNeighbors = clf_KNeighbors.score(X_test, y_test)\n",
        "print(result_KNeighbors)"
      ],
      "execution_count": 0,
      "outputs": [
        {
          "output_type": "stream",
          "text": [
            "[7 5 9 4 1 8 2 2 3 8 5 0 1 5 8 3 1 5 2 3 7 1 1 4 5 3 2 3 7 5 9 7 3 7 3 9 0\n",
            " 0 3 2 3 1 6 7 1 0 2 6 6 5 2 4 4 1 6 2 1 2 9 3 0 3 5 0 7 2 1 1 7 2 1 7 6 7\n",
            " 6 7 2 0 0 0 3 4 9 5 4 0 2 4 2 7 5 9 8 7 5 5 9 1 0 0]\n",
            "0.65\n"
          ],
          "name": "stdout"
        }
      ]
    },
    {
      "cell_type": "code",
      "metadata": {
        "id": "2fkYGg-4J-CZ",
        "colab_type": "code",
        "outputId": "85ec4681-6fec-4631-d69a-7ebd87e81404",
        "colab": {
          "base_uri": "https://localhost:8080/",
          "height": 33
        }
      },
      "source": [
        "# деревья решений\n",
        "from sklearn.tree import DecisionTreeClassifier\n",
        "clf_Tree = DecisionTreeClassifier(criterion=\"entropy\")\n",
        "clf_Tree.fit(X_train, y_train)\n",
        "\n",
        "result_Tree = clf_Tree.score(X_test, y_test)\n",
        "print(result_Tree)"
      ],
      "execution_count": 0,
      "outputs": [
        {
          "output_type": "stream",
          "text": [
            "0.51\n"
          ],
          "name": "stdout"
        }
      ]
    },
    {
      "cell_type": "code",
      "metadata": {
        "id": "1MQjqyZdKBsU",
        "colab_type": "code",
        "outputId": "e0f96c4f-3d60-4d60-98eb-7a40ad2acb01",
        "colab": {
          "base_uri": "https://localhost:8080/",
          "height": 33
        }
      },
      "source": [
        "#Случайный лес \n",
        "from sklearn.ensemble import RandomForestClassifier\n",
        "clf_RandomForest = RandomForestClassifier(n_estimators=200, max_depth=8, random_state=0)\n",
        "clf_RandomForest.fit(X_train, y_train)\n",
        "\n",
        "result_RandomForest = clf_RandomForest.score(X_test, y_test)\n",
        "print(result_RandomForest)"
      ],
      "execution_count": 0,
      "outputs": [
        {
          "output_type": "stream",
          "text": [
            "0.61\n"
          ],
          "name": "stdout"
        }
      ]
    },
    {
      "cell_type": "code",
      "metadata": {
        "id": "JoJpPgrEKHAc",
        "colab_type": "code",
        "outputId": "742fb50b-703a-4855-8baa-0395e376f6cb",
        "colab": {
          "base_uri": "https://localhost:8080/",
          "height": 33
        }
      },
      "source": [
        "#Градиентный бустинг\n",
        "from sklearn.ensemble import GradientBoostingClassifier\n",
        "gbrt = GradientBoostingClassifier(random_state = 0, learning_rate = 0.1)\n",
        "gbrt.fit(X_train, y_train)\n",
        "\n",
        "result_Gbrt = gbrt.score(X_test, y_test)\n",
        "print(result_Gbrt)"
      ],
      "execution_count": 0,
      "outputs": [
        {
          "output_type": "stream",
          "text": [
            "0.59\n"
          ],
          "name": "stdout"
        }
      ]
    },
    {
      "cell_type": "markdown",
      "metadata": {
        "id": "pDxDAke4KPdi",
        "colab_type": "text"
      },
      "source": [
        "## Получилось"
      ]
    },
    {
      "cell_type": "code",
      "metadata": {
        "id": "io_kjQYwKSYs",
        "colab_type": "code",
        "outputId": "2c488104-a767-43e3-f824-69a5987d7a03",
        "colab": {
          "base_uri": "https://localhost:8080/",
          "height": 115
        }
      },
      "source": [
        "print(\"svm: {} \\n\".format(result),\"LogisticRegression: {}\\n\".format(result_logreg), \"KNeighborsClassifier: {}\\n\".format(result_KNeighbors), \"DecisionTreeClassifier: {}\\n\".format(result_Tree), \"RandomForestClassifier: {}\\n\".format(result_RandomForest))"
      ],
      "execution_count": 0,
      "outputs": [
        {
          "output_type": "stream",
          "text": [
            "svm: 0.68 \n",
            " LogisticRegression: 0.66\n",
            " KNeighborsClassifier: 0.65\n",
            " DecisionTreeClassifier: 0.51\n",
            " RandomForestClassifier: 0.61\n",
            "\n"
          ],
          "name": "stdout"
        }
      ]
    },
    {
      "cell_type": "markdown",
      "metadata": {
        "id": "e64Ze5gxKaAx",
        "colab_type": "text"
      },
      "source": [
        "## предсказания"
      ]
    },
    {
      "cell_type": "code",
      "metadata": {
        "id": "swOOjfhuKVrh",
        "colab_type": "code",
        "colab": {}
      },
      "source": [
        "#Ансамбль из линейных моделей\n",
        "pred_a = clf.predict(X_test)\n",
        "pred_b = logreg.predict(X_test)\n",
        "pred_c = clf_KNeighbors.predict(X_test)\n",
        "pred_d = clf_Tree.predict(X_test)\n",
        "pred_e = clf_RandomForest.predict(X_test)\n",
        "pred_g = clf_rbf.predict(X_test)\n",
        "pred_h = gbrt.predict(X_test)"
      ],
      "execution_count": 0,
      "outputs": []
    },
    {
      "cell_type": "markdown",
      "metadata": {
        "id": "9VB6FvrmKhAt",
        "colab_type": "text"
      },
      "source": [
        "## записываем в ind списки результатов предсказаний разных моделей и методов"
      ]
    },
    {
      "cell_type": "code",
      "metadata": {
        "id": "Qirfwlg-KeO5",
        "colab_type": "code",
        "outputId": "c6e399bf-fab7-4a7a-ca79-cf97f34437be",
        "colab": {
          "base_uri": "https://localhost:8080/",
          "height": 53
        }
      },
      "source": [
        "ind = []\n",
        "for i in range(len(y_test)):\n",
        "    cot = []\n",
        "    a = pred_a[i]\n",
        "    b = pred_b[i]\n",
        "    c = pred_c[i]\n",
        "    d = pred_d[i]\n",
        "    e = pred_e[i]\n",
        "    g = pred_g[i]\n",
        "    h = pred_h[i]\n",
        "    cot.append(a)\n",
        "    cot.append(b)\n",
        "    cot.append(c)\n",
        "    cot.append(d)\n",
        "    cot.append(e)\n",
        "    cot.append(g)\n",
        "    cot.append(h)\n",
        "    ind.append(cot)\n",
        "print(ind)"
      ],
      "execution_count": 0,
      "outputs": [
        {
          "output_type": "stream",
          "text": [
            "[[7, 7, 7, 7, 7, 7, 7], [5, 5, 5, 5, 5, 5, 5], [3, 3, 9, 2, 3, 3, 3], [8, 8, 4, 3, 4, 3, 3], [1, 1, 1, 1, 1, 1, 1], [8, 8, 8, 8, 8, 8, 8], [1, 2, 2, 2, 2, 5, 8], [2, 2, 2, 3, 3, 2, 3], [3, 6, 3, 9, 3, 6, 9], [5, 5, 8, 8, 8, 5, 5], [5, 5, 5, 5, 5, 5, 5], [0, 0, 0, 5, 0, 0, 0], [1, 1, 1, 1, 1, 1, 1], [5, 8, 5, 1, 1, 5, 1], [8, 4, 8, 8, 8, 8, 8], [3, 3, 3, 3, 3, 3, 3], [1, 1, 1, 1, 1, 1, 1], [5, 5, 5, 2, 5, 5, 5], [0, 0, 2, 2, 0, 0, 0], [3, 3, 3, 3, 3, 3, 3], [4, 7, 7, 7, 7, 7, 7], [2, 2, 1, 2, 2, 2, 2], [1, 1, 1, 1, 1, 1, 1], [4, 8, 4, 8, 4, 4, 8], [3, 3, 5, 4, 3, 3, 8], [3, 3, 3, 8, 3, 3, 3], [2, 2, 2, 2, 0, 2, 0], [6, 6, 3, 9, 9, 9, 9], [7, 4, 7, 7, 7, 7, 4], [7, 7, 5, 5, 7, 7, 7], [4, 5, 9, 6, 0, 6, 4], [7, 7, 7, 7, 7, 7, 7], [6, 9, 3, 9, 3, 3, 9], [7, 7, 7, 3, 7, 7, 3], [3, 3, 3, 8, 3, 3, 8], [2, 9, 9, 2, 3, 3, 9], [4, 4, 0, 8, 8, 9, 3], [9, 8, 0, 2, 0, 0, 9], [3, 9, 3, 8, 4, 4, 3], [4, 4, 2, 4, 4, 4, 4], [8, 4, 3, 8, 8, 4, 8], [1, 1, 1, 8, 1, 1, 1], [4, 4, 6, 6, 6, 6, 6], [8, 1, 7, 1, 5, 2, 9], [1, 1, 1, 1, 1, 1, 1], [0, 0, 0, 0, 0, 0, 0], [2, 5, 2, 7, 5, 2, 2], [6, 6, 6, 6, 6, 6, 6], [6, 6, 6, 6, 6, 6, 6], [5, 5, 5, 5, 5, 5, 5], [2, 5, 2, 5, 2, 2, 5], [9, 9, 4, 0, 9, 0, 2], [8, 8, 4, 8, 8, 8, 8], [1, 1, 1, 1, 1, 1, 1], [6, 6, 6, 6, 6, 6, 6], [5, 5, 2, 7, 5, 5, 5], [1, 1, 1, 1, 1, 1, 1], [2, 2, 2, 2, 2, 2, 2], [3, 3, 9, 9, 9, 3, 8], [3, 9, 3, 3, 3, 3, 3], [0, 6, 0, 0, 0, 0, 0], [9, 9, 3, 8, 3, 3, 3], [5, 5, 5, 5, 5, 5, 5], [0, 0, 0, 0, 0, 0, 0], [7, 7, 7, 7, 7, 7, 7], [2, 2, 2, 1, 2, 2, 2], [2, 2, 1, 1, 2, 2, 9], [1, 1, 1, 1, 1, 1, 1], [7, 7, 7, 7, 7, 7, 7], [8, 8, 2, 5, 5, 2, 1], [1, 1, 1, 1, 1, 1, 1], [7, 7, 7, 7, 7, 7, 7], [6, 6, 6, 6, 6, 6, 6], [3, 4, 7, 4, 4, 3, 4], [6, 6, 6, 6, 6, 6, 6], [2, 5, 7, 3, 3, 7, 8], [0, 0, 2, 2, 6, 0, 6], [4, 9, 0, 5, 0, 0, 0], [0, 0, 0, 9, 0, 0, 9], [0, 5, 0, 0, 0, 0, 2], [4, 8, 3, 3, 3, 3, 3], [4, 4, 4, 4, 4, 4, 4], [6, 6, 9, 6, 6, 6, 6], [5, 5, 5, 5, 5, 5, 5], [7, 7, 4, 8, 7, 7, 3], [0, 0, 0, 5, 0, 0, 0], [5, 8, 2, 4, 5, 0, 5], [4, 6, 4, 6, 6, 6, 6], [3, 5, 2, 2, 8, 9, 2], [7, 7, 7, 7, 7, 7, 7], [0, 1, 5, 2, 5, 0, 0], [9, 9, 9, 9, 9, 9, 9], [8, 8, 8, 4, 8, 8, 8], [7, 7, 7, 7, 7, 7, 7], [5, 5, 5, 9, 5, 5, 2], [5, 5, 5, 5, 5, 5, 5], [9, 9, 9, 6, 4, 3, 8], [1, 1, 1, 1, 1, 1, 1], [0, 0, 0, 0, 0, 0, 0], [0, 0, 0, 0, 0, 0, 0]]\n"
          ],
          "name": "stdout"
        }
      ]
    },
    {
      "cell_type": "markdown",
      "metadata": {
        "id": "BXGxQTq0KtLi",
        "colab_type": "text"
      },
      "source": [
        "## Создаем список куда входят наиболее встречающиеся результаты предсказаний тестовой выборки"
      ]
    },
    {
      "cell_type": "code",
      "metadata": {
        "id": "i2Wq2rWiKvrK",
        "colab_type": "code",
        "outputId": "0bc982c3-509e-40ae-8a7f-be9bb2760fe1",
        "colab": {
          "base_uri": "https://localhost:8080/",
          "height": 53
        }
      },
      "source": [
        "inList = []\n",
        "for i in range(len(ind)):\n",
        "    w = ind[i]\n",
        "    n = 0\n",
        "    for j in range(len(w)):\n",
        "        n_buf = 0\n",
        "        n_buf = w.count(w[j])\n",
        "        if n_buf > n:\n",
        "            n = n_buf\n",
        "            indJ = j\n",
        "    inList.append(w[indJ])\n",
        "print(inList)"
      ],
      "execution_count": 0,
      "outputs": [
        {
          "output_type": "stream",
          "text": [
            "[7, 5, 3, 3, 1, 8, 2, 2, 3, 5, 5, 0, 1, 5, 8, 3, 1, 5, 0, 3, 7, 2, 1, 4, 3, 3, 2, 9, 7, 7, 4, 7, 9, 7, 3, 9, 4, 0, 3, 4, 8, 1, 6, 1, 1, 0, 2, 6, 6, 5, 2, 9, 8, 1, 6, 5, 1, 2, 3, 3, 0, 3, 5, 0, 7, 2, 2, 1, 7, 8, 1, 7, 6, 4, 6, 7, 0, 0, 0, 0, 3, 4, 6, 5, 7, 0, 5, 6, 2, 7, 0, 9, 8, 7, 5, 5, 9, 1, 0, 0]\n"
          ],
          "name": "stdout"
        }
      ]
    },
    {
      "cell_type": "markdown",
      "metadata": {
        "id": "X-TLqIJJKyfs",
        "colab_type": "text"
      },
      "source": [
        "## точность ансамбля"
      ]
    },
    {
      "cell_type": "code",
      "metadata": {
        "id": "GGvOGJLSK0yu",
        "colab_type": "code",
        "outputId": "97892d27-d1d5-40bd-f9e8-1b08093ce9f7",
        "colab": {
          "base_uri": "https://localhost:8080/",
          "height": 33
        }
      },
      "source": [
        "n=0\n",
        "for i in range(len(y_test)):\n",
        "    if inList[i] == y_test[i]:\n",
        "        n=n+1\n",
        "res = n/y_test.shape[0]\n",
        "print(res)"
      ],
      "execution_count": 0,
      "outputs": [
        {
          "output_type": "stream",
          "text": [
            "0.69\n"
          ],
          "name": "stdout"
        }
      ]
    },
    {
      "cell_type": "markdown",
      "metadata": {
        "id": "JFno2G1JK2tO",
        "colab_type": "text"
      },
      "source": [
        "# Нейронка"
      ]
    },
    {
      "cell_type": "code",
      "metadata": {
        "id": "5SUxZnzuK-AJ",
        "colab_type": "code",
        "colab": {}
      },
      "source": [
        "model = Sequential()\n",
        "model.add(Dense(1024, activation='relu', input_shape=(X_train.shape[1],)))\n",
        "model.add(Dropout(0.5))\n",
        "model.add(Dense(1024, activation='relu'))\n",
        "model.add(Dropout(0.45))\n",
        "model.add(Dense(512, activation='relu'))\n",
        "model.add(Dense(512, activation='relu'))\n",
        "model.add(Dropout(0.45))\n",
        "model.add(Dense(256, activation='relu'))\n",
        "model.add(Dense(256, activation='relu'))\n",
        "model.add(Dropout(0.5))\n",
        "model.add(Dense(256, activation='relu'))\n",
        "model.add(Dropout(0.45))\n",
        "model.add(Dense(10, activation='softmax'))"
      ],
      "execution_count": 0,
      "outputs": []
    },
    {
      "cell_type": "code",
      "metadata": {
        "id": "swOyatb5MIGd",
        "colab_type": "code",
        "outputId": "57d2c85a-5525-4b56-9be9-c0e538d0a349",
        "colab": {
          "base_uri": "https://localhost:8080/",
          "height": 570
        }
      },
      "source": [
        "model.summary()"
      ],
      "execution_count": 0,
      "outputs": [
        {
          "output_type": "stream",
          "text": [
            "Model: \"sequential_6\"\n",
            "_________________________________________________________________\n",
            "Layer (type)                 Output Shape              Param #   \n",
            "=================================================================\n",
            "dense_42 (Dense)             (None, 1024)              33792     \n",
            "_________________________________________________________________\n",
            "dropout_30 (Dropout)         (None, 1024)              0         \n",
            "_________________________________________________________________\n",
            "dense_43 (Dense)             (None, 1024)              1049600   \n",
            "_________________________________________________________________\n",
            "dropout_31 (Dropout)         (None, 1024)              0         \n",
            "_________________________________________________________________\n",
            "dense_44 (Dense)             (None, 512)               524800    \n",
            "_________________________________________________________________\n",
            "dense_45 (Dense)             (None, 512)               262656    \n",
            "_________________________________________________________________\n",
            "dropout_32 (Dropout)         (None, 512)               0         \n",
            "_________________________________________________________________\n",
            "dense_46 (Dense)             (None, 256)               131328    \n",
            "_________________________________________________________________\n",
            "dense_47 (Dense)             (None, 256)               65792     \n",
            "_________________________________________________________________\n",
            "dropout_33 (Dropout)         (None, 256)               0         \n",
            "_________________________________________________________________\n",
            "dense_48 (Dense)             (None, 256)               65792     \n",
            "_________________________________________________________________\n",
            "dropout_34 (Dropout)         (None, 256)               0         \n",
            "_________________________________________________________________\n",
            "dense_49 (Dense)             (None, 10)                2570      \n",
            "=================================================================\n",
            "Total params: 2,136,330\n",
            "Trainable params: 2,136,330\n",
            "Non-trainable params: 0\n",
            "_________________________________________________________________\n"
          ],
          "name": "stdout"
        }
      ]
    },
    {
      "cell_type": "code",
      "metadata": {
        "id": "xA2sVZPhLHd8",
        "colab_type": "code",
        "colab": {}
      },
      "source": [
        "# checkpoint = ModelCheckpoint('dz_aud_16.h5', monitor='loss', verbose=2, save_best_only=True, mode='min')\n",
        "\n",
        "сheckpoint = ModelCheckpoint('dz_aud_16.h5', \n",
        "                              monitor='loss', \n",
        "                              save_best_only=True,\n",
        "                              mode='min',\n",
        "                              verbose=2)"
      ],
      "execution_count": 0,
      "outputs": []
    },
    {
      "cell_type": "code",
      "metadata": {
        "id": "i3LHuUmsVGCi",
        "colab_type": "code",
        "colab": {}
      },
      "source": [
        "model.compile(optimizer='Nadam',\n",
        "              loss='sparse_categorical_crossentropy',\n",
        "              metrics=['accuracy'])"
      ],
      "execution_count": 0,
      "outputs": []
    },
    {
      "cell_type": "code",
      "metadata": {
        "id": "DNzrafjnNADk",
        "colab_type": "code",
        "outputId": "2a8dbefc-0ff8-4e5f-c424-0da0be928a45",
        "colab": {
          "base_uri": "https://localhost:8080/",
          "height": 1000
        }
      },
      "source": [
        "history = model.fit(X_train,\n",
        "                    y_train,\n",
        "                    epochs=250,\n",
        "                    callbacks = [сheckpoint],\n",
        "                    batch_size=256)"
      ],
      "execution_count": 0,
      "outputs": [
        {
          "output_type": "stream",
          "text": [
            "Epoch 1/250\n",
            "256/900 [=======>......................] - ETA: 1s - loss: 2.3113 - acc: 0.0938\n",
            "Epoch 00001: loss improved from inf to 2.30766, saving model to dz_aud_16.h5\n",
            "900/900 [==============================] - 2s 2ms/sample - loss: 2.3077 - acc: 0.1144\n",
            "Epoch 2/250\n",
            "256/900 [=======>......................] - ETA: 0s - loss: 2.2845 - acc: 0.1602\n",
            "Epoch 00002: loss improved from 2.30766 to 2.25472, saving model to dz_aud_16.h5\n",
            "900/900 [==============================] - 0s 197us/sample - loss: 2.2547 - acc: 0.1856\n",
            "Epoch 3/250\n",
            "256/900 [=======>......................] - ETA: 0s - loss: 2.1331 - acc: 0.2539\n",
            "Epoch 00003: loss improved from 2.25472 to 2.08587, saving model to dz_aud_16.h5\n",
            "900/900 [==============================] - 0s 206us/sample - loss: 2.0859 - acc: 0.2511\n",
            "Epoch 4/250\n",
            "256/900 [=======>......................] - ETA: 0s - loss: 1.9778 - acc: 0.2695\n",
            "Epoch 00004: loss improved from 2.08587 to 1.92535, saving model to dz_aud_16.h5\n",
            "900/900 [==============================] - 0s 181us/sample - loss: 1.9253 - acc: 0.2889\n",
            "Epoch 5/250\n",
            "256/900 [=======>......................] - ETA: 0s - loss: 1.9966 - acc: 0.2695\n",
            "Epoch 00005: loss improved from 1.92535 to 1.90941, saving model to dz_aud_16.h5\n",
            "900/900 [==============================] - 1s 675us/sample - loss: 1.9094 - acc: 0.2767\n",
            "Epoch 6/250\n",
            "256/900 [=======>......................] - ETA: 0s - loss: 1.7367 - acc: 0.3164\n",
            "Epoch 00006: loss improved from 1.90941 to 1.83290, saving model to dz_aud_16.h5\n",
            "900/900 [==============================] - 0s 208us/sample - loss: 1.8329 - acc: 0.3089\n",
            "Epoch 7/250\n",
            "256/900 [=======>......................] - ETA: 0s - loss: 1.6828 - acc: 0.3633\n",
            "Epoch 00007: loss improved from 1.83290 to 1.72571, saving model to dz_aud_16.h5\n",
            "900/900 [==============================] - 0s 193us/sample - loss: 1.7257 - acc: 0.3411\n",
            "Epoch 8/250\n",
            "256/900 [=======>......................] - ETA: 0s - loss: 1.7799 - acc: 0.3477\n",
            "Epoch 00008: loss improved from 1.72571 to 1.70018, saving model to dz_aud_16.h5\n",
            "900/900 [==============================] - 0s 162us/sample - loss: 1.7002 - acc: 0.3556\n",
            "Epoch 9/250\n",
            "256/900 [=======>......................] - ETA: 0s - loss: 1.6426 - acc: 0.3711\n",
            "Epoch 00009: loss improved from 1.70018 to 1.61544, saving model to dz_aud_16.h5\n",
            "900/900 [==============================] - 0s 190us/sample - loss: 1.6154 - acc: 0.3844\n",
            "Epoch 10/250\n",
            "256/900 [=======>......................] - ETA: 0s - loss: 1.8019 - acc: 0.3359\n",
            "Epoch 00010: loss did not improve from 1.61544\n",
            "900/900 [==============================] - 0s 74us/sample - loss: 1.7168 - acc: 0.3856\n",
            "Epoch 11/250\n",
            "256/900 [=======>......................] - ETA: 0s - loss: 1.4687 - acc: 0.4570\n",
            "Epoch 00011: loss improved from 1.61544 to 1.49978, saving model to dz_aud_16.h5\n",
            "900/900 [==============================] - 0s 162us/sample - loss: 1.4998 - acc: 0.4222\n",
            "Epoch 12/250\n",
            "256/900 [=======>......................] - ETA: 0s - loss: 1.4563 - acc: 0.4883\n",
            "Epoch 00012: loss did not improve from 1.49978\n",
            "900/900 [==============================] - 0s 72us/sample - loss: 1.5017 - acc: 0.4533\n",
            "Epoch 13/250\n",
            "256/900 [=======>......................] - ETA: 0s - loss: 1.4084 - acc: 0.4648\n",
            "Epoch 00013: loss improved from 1.49978 to 1.37585, saving model to dz_aud_16.h5\n",
            "900/900 [==============================] - 0s 168us/sample - loss: 1.3758 - acc: 0.5044\n",
            "Epoch 14/250\n",
            "256/900 [=======>......................] - ETA: 0s - loss: 1.6544 - acc: 0.4102\n",
            "Epoch 00014: loss did not improve from 1.37585\n",
            "900/900 [==============================] - 0s 75us/sample - loss: 1.5104 - acc: 0.4556\n",
            "Epoch 15/250\n",
            "256/900 [=======>......................] - ETA: 0s - loss: 1.3296 - acc: 0.5078\n",
            "Epoch 00015: loss improved from 1.37585 to 1.33240, saving model to dz_aud_16.h5\n",
            "900/900 [==============================] - 0s 162us/sample - loss: 1.3324 - acc: 0.5222\n",
            "Epoch 16/250\n",
            "256/900 [=======>......................] - ETA: 0s - loss: 1.3477 - acc: 0.4883\n",
            "Epoch 00016: loss improved from 1.33240 to 1.24484, saving model to dz_aud_16.h5\n",
            "900/900 [==============================] - 0s 161us/sample - loss: 1.2448 - acc: 0.5322\n",
            "Epoch 17/250\n",
            "256/900 [=======>......................] - ETA: 0s - loss: 1.2514 - acc: 0.5430\n",
            "Epoch 00017: loss improved from 1.24484 to 1.24146, saving model to dz_aud_16.h5\n",
            "900/900 [==============================] - 0s 180us/sample - loss: 1.2415 - acc: 0.5433\n",
            "Epoch 18/250\n",
            "256/900 [=======>......................] - ETA: 0s - loss: 1.5282 - acc: 0.5000\n",
            "Epoch 00018: loss did not improve from 1.24146\n",
            "900/900 [==============================] - 0s 75us/sample - loss: 1.3886 - acc: 0.5156\n",
            "Epoch 19/250\n",
            "256/900 [=======>......................] - ETA: 0s - loss: 1.2342 - acc: 0.5391\n",
            "Epoch 00019: loss improved from 1.24146 to 1.17106, saving model to dz_aud_16.h5\n",
            "900/900 [==============================] - 0s 198us/sample - loss: 1.1711 - acc: 0.5800\n",
            "Epoch 20/250\n",
            "256/900 [=======>......................] - ETA: 0s - loss: 1.0606 - acc: 0.6250\n",
            "Epoch 00020: loss improved from 1.17106 to 1.12520, saving model to dz_aud_16.h5\n",
            "900/900 [==============================] - 0s 163us/sample - loss: 1.1252 - acc: 0.6089\n",
            "Epoch 21/250\n",
            "256/900 [=======>......................] - ETA: 0s - loss: 1.1956 - acc: 0.5938\n",
            "Epoch 00021: loss did not improve from 1.12520\n",
            "900/900 [==============================] - 0s 70us/sample - loss: 1.1510 - acc: 0.6033\n",
            "Epoch 22/250\n",
            "256/900 [=======>......................] - ETA: 0s - loss: 1.1114 - acc: 0.5898\n",
            "Epoch 00022: loss did not improve from 1.12520\n",
            "900/900 [==============================] - 0s 72us/sample - loss: 1.1768 - acc: 0.5800\n",
            "Epoch 23/250\n",
            "256/900 [=======>......................] - ETA: 0s - loss: 0.9978 - acc: 0.6562\n",
            "Epoch 00023: loss improved from 1.12520 to 0.98038, saving model to dz_aud_16.h5\n",
            "900/900 [==============================] - 0s 162us/sample - loss: 0.9804 - acc: 0.6478\n",
            "Epoch 24/250\n",
            "256/900 [=======>......................] - ETA: 0s - loss: 1.1127 - acc: 0.6055\n",
            "Epoch 00024: loss did not improve from 0.98038\n",
            "900/900 [==============================] - 0s 68us/sample - loss: 1.1408 - acc: 0.6056\n",
            "Epoch 25/250\n",
            "256/900 [=======>......................] - ETA: 0s - loss: 1.1105 - acc: 0.6289\n",
            "Epoch 00025: loss did not improve from 0.98038\n",
            "900/900 [==============================] - 0s 76us/sample - loss: 1.0341 - acc: 0.6333\n",
            "Epoch 26/250\n",
            "256/900 [=======>......................] - ETA: 0s - loss: 0.9354 - acc: 0.6680\n",
            "Epoch 00026: loss improved from 0.98038 to 0.92859, saving model to dz_aud_16.h5\n",
            "900/900 [==============================] - 0s 176us/sample - loss: 0.9286 - acc: 0.6767\n",
            "Epoch 27/250\n",
            "256/900 [=======>......................] - ETA: 0s - loss: 0.9170 - acc: 0.6953\n",
            "Epoch 00027: loss did not improve from 0.92859\n",
            "900/900 [==============================] - 0s 69us/sample - loss: 0.9533 - acc: 0.6844\n",
            "Epoch 28/250\n",
            "256/900 [=======>......................] - ETA: 0s - loss: 1.0238 - acc: 0.6406\n",
            "Epoch 00028: loss did not improve from 0.92859\n",
            "900/900 [==============================] - 0s 74us/sample - loss: 0.9767 - acc: 0.6633\n",
            "Epoch 29/250\n",
            "256/900 [=======>......................] - ETA: 0s - loss: 0.9871 - acc: 0.6680\n",
            "Epoch 00029: loss improved from 0.92859 to 0.85958, saving model to dz_aud_16.h5\n",
            "900/900 [==============================] - 0s 165us/sample - loss: 0.8596 - acc: 0.7100\n",
            "Epoch 30/250\n",
            "256/900 [=======>......................] - ETA: 0s - loss: 0.8099 - acc: 0.7422\n",
            "Epoch 00030: loss improved from 0.85958 to 0.82333, saving model to dz_aud_16.h5\n",
            "900/900 [==============================] - 0s 207us/sample - loss: 0.8233 - acc: 0.7222\n",
            "Epoch 31/250\n",
            "256/900 [=======>......................] - ETA: 0s - loss: 0.8022 - acc: 0.7148\n",
            "Epoch 00031: loss improved from 0.82333 to 0.79637, saving model to dz_aud_16.h5\n",
            "900/900 [==============================] - 0s 264us/sample - loss: 0.7964 - acc: 0.7411\n",
            "Epoch 32/250\n",
            "256/900 [=======>......................] - ETA: 0s - loss: 0.8862 - acc: 0.7109\n",
            "Epoch 00032: loss improved from 0.79637 to 0.78722, saving model to dz_aud_16.h5\n",
            "900/900 [==============================] - 0s 204us/sample - loss: 0.7872 - acc: 0.7478\n",
            "Epoch 33/250\n",
            "256/900 [=======>......................] - ETA: 0s - loss: 0.7353 - acc: 0.7734\n",
            "Epoch 00033: loss improved from 0.78722 to 0.74504, saving model to dz_aud_16.h5\n",
            "900/900 [==============================] - 0s 163us/sample - loss: 0.7450 - acc: 0.7700\n",
            "Epoch 34/250\n",
            "256/900 [=======>......................] - ETA: 0s - loss: 0.7811 - acc: 0.7422\n",
            "Epoch 00034: loss improved from 0.74504 to 0.74304, saving model to dz_aud_16.h5\n",
            "900/900 [==============================] - 0s 211us/sample - loss: 0.7430 - acc: 0.7578\n",
            "Epoch 35/250\n",
            "256/900 [=======>......................] - ETA: 0s - loss: 0.7681 - acc: 0.7070\n",
            "Epoch 00035: loss improved from 0.74304 to 0.72516, saving model to dz_aud_16.h5\n",
            "900/900 [==============================] - 0s 178us/sample - loss: 0.7252 - acc: 0.7511\n",
            "Epoch 36/250\n",
            "256/900 [=======>......................] - ETA: 0s - loss: 0.7601 - acc: 0.7500\n",
            "Epoch 00036: loss did not improve from 0.72516\n",
            "900/900 [==============================] - 0s 72us/sample - loss: 0.7698 - acc: 0.7611\n",
            "Epoch 37/250\n",
            "256/900 [=======>......................] - ETA: 0s - loss: 0.7991 - acc: 0.7734\n",
            "Epoch 00037: loss improved from 0.72516 to 0.66740, saving model to dz_aud_16.h5\n",
            "900/900 [==============================] - 0s 155us/sample - loss: 0.6674 - acc: 0.7989\n",
            "Epoch 38/250\n",
            "256/900 [=======>......................] - ETA: 0s - loss: 0.5349 - acc: 0.8320\n",
            "Epoch 00038: loss improved from 0.66740 to 0.62617, saving model to dz_aud_16.h5\n",
            "900/900 [==============================] - 1s 992us/sample - loss: 0.6262 - acc: 0.7911\n",
            "Epoch 39/250\n",
            "256/900 [=======>......................] - ETA: 0s - loss: 0.6362 - acc: 0.7891\n",
            "Epoch 00039: loss did not improve from 0.62617\n",
            "900/900 [==============================] - 0s 79us/sample - loss: 0.6638 - acc: 0.7800\n",
            "Epoch 40/250\n",
            "256/900 [=======>......................] - ETA: 0s - loss: 0.6655 - acc: 0.8008\n",
            "Epoch 00040: loss improved from 0.62617 to 0.61358, saving model to dz_aud_16.h5\n",
            "900/900 [==============================] - 0s 171us/sample - loss: 0.6136 - acc: 0.8078\n",
            "Epoch 41/250\n",
            "256/900 [=======>......................] - ETA: 0s - loss: 0.6523 - acc: 0.7578\n",
            "Epoch 00041: loss did not improve from 0.61358\n",
            "900/900 [==============================] - 0s 85us/sample - loss: 0.6514 - acc: 0.7833\n",
            "Epoch 42/250\n",
            "256/900 [=======>......................] - ETA: 0s - loss: 0.6475 - acc: 0.7969\n",
            "Epoch 00042: loss improved from 0.61358 to 0.53008, saving model to dz_aud_16.h5\n",
            "900/900 [==============================] - 0s 164us/sample - loss: 0.5301 - acc: 0.8378\n",
            "Epoch 43/250\n",
            "256/900 [=======>......................] - ETA: 0s - loss: 0.4446 - acc: 0.8594\n",
            "Epoch 00043: loss did not improve from 0.53008\n",
            "900/900 [==============================] - 0s 70us/sample - loss: 0.5624 - acc: 0.8222\n",
            "Epoch 44/250\n",
            "256/900 [=======>......................] - ETA: 0s - loss: 0.4606 - acc: 0.8438\n",
            "Epoch 00044: loss did not improve from 0.53008\n",
            "900/900 [==============================] - 0s 71us/sample - loss: 0.6225 - acc: 0.8011\n",
            "Epoch 45/250\n",
            "256/900 [=======>......................] - ETA: 0s - loss: 0.5243 - acc: 0.8398\n",
            "Epoch 00045: loss did not improve from 0.53008\n",
            "900/900 [==============================] - 0s 74us/sample - loss: 0.5437 - acc: 0.8278\n",
            "Epoch 46/250\n",
            "256/900 [=======>......................] - ETA: 0s - loss: 0.5473 - acc: 0.8438\n",
            "Epoch 00046: loss improved from 0.53008 to 0.50104, saving model to dz_aud_16.h5\n",
            "900/900 [==============================] - 0s 159us/sample - loss: 0.5010 - acc: 0.8556\n",
            "Epoch 47/250\n",
            "256/900 [=======>......................] - ETA: 0s - loss: 0.5957 - acc: 0.8086\n",
            "Epoch 00047: loss did not improve from 0.50104\n",
            "900/900 [==============================] - 0s 69us/sample - loss: 0.5016 - acc: 0.8389\n",
            "Epoch 48/250\n",
            "256/900 [=======>......................] - ETA: 0s - loss: 0.4902 - acc: 0.8516\n",
            "Epoch 00048: loss improved from 0.50104 to 0.45415, saving model to dz_aud_16.h5\n",
            "900/900 [==============================] - 0s 178us/sample - loss: 0.4541 - acc: 0.8578\n",
            "Epoch 49/250\n",
            "256/900 [=======>......................] - ETA: 0s - loss: 0.4325 - acc: 0.8672\n",
            "Epoch 00049: loss improved from 0.45415 to 0.43418, saving model to dz_aud_16.h5\n",
            "900/900 [==============================] - 0s 195us/sample - loss: 0.4342 - acc: 0.8656\n",
            "Epoch 50/250\n",
            "256/900 [=======>......................] - ETA: 0s - loss: 0.4824 - acc: 0.8281\n",
            "Epoch 00050: loss did not improve from 0.43418\n",
            "900/900 [==============================] - 0s 65us/sample - loss: 0.4908 - acc: 0.8400\n",
            "Epoch 51/250\n",
            "256/900 [=======>......................] - ETA: 0s - loss: 0.3911 - acc: 0.8594\n",
            "Epoch 00051: loss improved from 0.43418 to 0.41005, saving model to dz_aud_16.h5\n",
            "900/900 [==============================] - 0s 158us/sample - loss: 0.4100 - acc: 0.8767\n",
            "Epoch 52/250\n",
            "256/900 [=======>......................] - ETA: 0s - loss: 0.3534 - acc: 0.9180\n",
            "Epoch 00052: loss improved from 0.41005 to 0.37453, saving model to dz_aud_16.h5\n",
            "900/900 [==============================] - 0s 211us/sample - loss: 0.3745 - acc: 0.8867\n",
            "Epoch 53/250\n",
            "256/900 [=======>......................] - ETA: 0s - loss: 0.4237 - acc: 0.8633\n",
            "Epoch 00053: loss did not improve from 0.37453\n",
            "900/900 [==============================] - 0s 69us/sample - loss: 0.4415 - acc: 0.8578\n",
            "Epoch 54/250\n",
            "256/900 [=======>......................] - ETA: 0s - loss: 0.3687 - acc: 0.8945\n",
            "Epoch 00054: loss did not improve from 0.37453\n",
            "900/900 [==============================] - 0s 73us/sample - loss: 0.3797 - acc: 0.8889\n",
            "Epoch 55/250\n",
            "256/900 [=======>......................] - ETA: 0s - loss: 0.4331 - acc: 0.8633\n",
            "Epoch 00055: loss did not improve from 0.37453\n",
            "900/900 [==============================] - 0s 67us/sample - loss: 0.3885 - acc: 0.8767\n",
            "Epoch 56/250\n",
            "256/900 [=======>......................] - ETA: 0s - loss: 0.3573 - acc: 0.8945\n",
            "Epoch 00056: loss did not improve from 0.37453\n",
            "900/900 [==============================] - 0s 70us/sample - loss: 0.4020 - acc: 0.8756\n",
            "Epoch 57/250\n",
            "256/900 [=======>......................] - ETA: 0s - loss: 0.2838 - acc: 0.9336\n",
            "Epoch 00057: loss improved from 0.37453 to 0.32971, saving model to dz_aud_16.h5\n",
            "900/900 [==============================] - 0s 163us/sample - loss: 0.3297 - acc: 0.9022\n",
            "Epoch 58/250\n",
            "256/900 [=======>......................] - ETA: 0s - loss: 0.3891 - acc: 0.8750\n",
            "Epoch 00058: loss did not improve from 0.32971\n",
            "900/900 [==============================] - 0s 70us/sample - loss: 0.3521 - acc: 0.8889\n",
            "Epoch 59/250\n",
            "256/900 [=======>......................] - ETA: 0s - loss: 0.4090 - acc: 0.8828\n",
            "Epoch 00059: loss improved from 0.32971 to 0.32768, saving model to dz_aud_16.h5\n",
            "900/900 [==============================] - 0s 166us/sample - loss: 0.3277 - acc: 0.8922\n",
            "Epoch 60/250\n",
            "256/900 [=======>......................] - ETA: 0s - loss: 0.3722 - acc: 0.8867\n",
            "Epoch 00060: loss did not improve from 0.32768\n",
            "900/900 [==============================] - 0s 66us/sample - loss: 0.3579 - acc: 0.9011\n",
            "Epoch 61/250\n",
            "256/900 [=======>......................] - ETA: 0s - loss: 0.3758 - acc: 0.8906\n",
            "Epoch 00061: loss did not improve from 0.32768\n",
            "900/900 [==============================] - 0s 70us/sample - loss: 0.3379 - acc: 0.8956\n",
            "Epoch 62/250\n",
            "256/900 [=======>......................] - ETA: 0s - loss: 0.3398 - acc: 0.8945\n",
            "Epoch 00062: loss did not improve from 0.32768\n",
            "900/900 [==============================] - 0s 69us/sample - loss: 0.3316 - acc: 0.9022\n",
            "Epoch 63/250\n",
            "256/900 [=======>......................] - ETA: 0s - loss: 0.3313 - acc: 0.8906\n",
            "Epoch 00063: loss did not improve from 0.32768\n",
            "900/900 [==============================] - 0s 68us/sample - loss: 0.3478 - acc: 0.9000\n",
            "Epoch 64/250\n",
            "256/900 [=======>......................] - ETA: 0s - loss: 0.2678 - acc: 0.9297\n",
            "Epoch 00064: loss improved from 0.32768 to 0.30544, saving model to dz_aud_16.h5\n",
            "900/900 [==============================] - 0s 182us/sample - loss: 0.3054 - acc: 0.9100\n",
            "Epoch 65/250\n",
            "256/900 [=======>......................] - ETA: 0s - loss: 0.3843 - acc: 0.8984\n",
            "Epoch 00065: loss did not improve from 0.30544\n",
            "900/900 [==============================] - 0s 69us/sample - loss: 0.4025 - acc: 0.8822\n",
            "Epoch 66/250\n",
            "256/900 [=======>......................] - ETA: 0s - loss: 0.3901 - acc: 0.8750\n",
            "Epoch 00066: loss did not improve from 0.30544\n",
            "900/900 [==============================] - 0s 71us/sample - loss: 0.3344 - acc: 0.9033\n",
            "Epoch 67/250\n",
            "256/900 [=======>......................] - ETA: 0s - loss: 0.2708 - acc: 0.9062\n",
            "Epoch 00067: loss did not improve from 0.30544\n",
            "900/900 [==============================] - 0s 68us/sample - loss: 0.3535 - acc: 0.8956\n",
            "Epoch 68/250\n",
            "256/900 [=======>......................] - ETA: 0s - loss: 0.2334 - acc: 0.9375\n",
            "Epoch 00068: loss improved from 0.30544 to 0.27394, saving model to dz_aud_16.h5\n",
            "900/900 [==============================] - 0s 184us/sample - loss: 0.2739 - acc: 0.9267\n",
            "Epoch 69/250\n",
            "256/900 [=======>......................] - ETA: 0s - loss: 0.3177 - acc: 0.9023\n",
            "Epoch 00069: loss improved from 0.27394 to 0.26431, saving model to dz_aud_16.h5\n",
            "900/900 [==============================] - 0s 203us/sample - loss: 0.2643 - acc: 0.9244\n",
            "Epoch 70/250\n",
            "256/900 [=======>......................] - ETA: 0s - loss: 0.3139 - acc: 0.8945\n",
            "Epoch 00070: loss did not improve from 0.26431\n",
            "900/900 [==============================] - 0s 67us/sample - loss: 0.2817 - acc: 0.9156\n",
            "Epoch 71/250\n",
            "256/900 [=======>......................] - ETA: 0s - loss: 0.1828 - acc: 0.9375\n",
            "Epoch 00071: loss did not improve from 0.26431\n",
            "900/900 [==============================] - 0s 70us/sample - loss: 0.2718 - acc: 0.9100\n",
            "Epoch 72/250\n",
            "256/900 [=======>......................] - ETA: 0s - loss: 0.3711 - acc: 0.8867\n",
            "Epoch 00072: loss did not improve from 0.26431\n",
            "900/900 [==============================] - 0s 69us/sample - loss: 0.2968 - acc: 0.9089\n",
            "Epoch 73/250\n",
            "256/900 [=======>......................] - ETA: 0s - loss: 0.2933 - acc: 0.8984\n",
            "Epoch 00073: loss improved from 0.26431 to 0.24582, saving model to dz_aud_16.h5\n",
            "900/900 [==============================] - 0s 162us/sample - loss: 0.2458 - acc: 0.9189\n",
            "Epoch 74/250\n",
            "256/900 [=======>......................] - ETA: 0s - loss: 0.2496 - acc: 0.9258\n",
            "Epoch 00074: loss did not improve from 0.24582\n",
            "900/900 [==============================] - 0s 66us/sample - loss: 0.2743 - acc: 0.9178\n",
            "Epoch 75/250\n",
            "256/900 [=======>......................] - ETA: 0s - loss: 0.2829 - acc: 0.9141\n",
            "Epoch 00075: loss did not improve from 0.24582\n",
            "900/900 [==============================] - 0s 74us/sample - loss: 0.2628 - acc: 0.9122\n",
            "Epoch 76/250\n",
            "256/900 [=======>......................] - ETA: 0s - loss: 0.2421 - acc: 0.9297\n",
            "Epoch 00076: loss improved from 0.24582 to 0.21584, saving model to dz_aud_16.h5\n",
            "900/900 [==============================] - 0s 163us/sample - loss: 0.2158 - acc: 0.9267\n",
            "Epoch 77/250\n",
            "256/900 [=======>......................] - ETA: 0s - loss: 0.1718 - acc: 0.9453\n",
            "Epoch 00077: loss improved from 0.21584 to 0.21454, saving model to dz_aud_16.h5\n",
            "900/900 [==============================] - 1s 744us/sample - loss: 0.2145 - acc: 0.9378\n",
            "Epoch 78/250\n",
            "256/900 [=======>......................] - ETA: 0s - loss: 0.2353 - acc: 0.9258\n",
            "Epoch 00078: loss did not improve from 0.21454\n",
            "900/900 [==============================] - 0s 70us/sample - loss: 0.2361 - acc: 0.9311\n",
            "Epoch 79/250\n",
            "256/900 [=======>......................] - ETA: 0s - loss: 0.1852 - acc: 0.9531\n",
            "Epoch 00079: loss improved from 0.21454 to 0.18520, saving model to dz_aud_16.h5\n",
            "900/900 [==============================] - 0s 167us/sample - loss: 0.1852 - acc: 0.9433\n",
            "Epoch 80/250\n",
            "256/900 [=======>......................] - ETA: 0s - loss: 0.1587 - acc: 0.9531\n",
            "Epoch 00080: loss did not improve from 0.18520\n",
            "900/900 [==============================] - 0s 72us/sample - loss: 0.2373 - acc: 0.9311\n",
            "Epoch 81/250\n",
            "256/900 [=======>......................] - ETA: 0s - loss: 0.3177 - acc: 0.9375\n",
            "Epoch 00081: loss did not improve from 0.18520\n",
            "900/900 [==============================] - 0s 70us/sample - loss: 0.2515 - acc: 0.9344\n",
            "Epoch 82/250\n",
            "256/900 [=======>......................] - ETA: 0s - loss: 0.3031 - acc: 0.9336\n",
            "Epoch 00082: loss did not improve from 0.18520\n",
            "900/900 [==============================] - 0s 69us/sample - loss: 0.2494 - acc: 0.9333\n",
            "Epoch 83/250\n",
            "256/900 [=======>......................] - ETA: 0s - loss: 0.2841 - acc: 0.9336\n",
            "Epoch 00083: loss did not improve from 0.18520\n",
            "900/900 [==============================] - 0s 68us/sample - loss: 0.2045 - acc: 0.9433\n",
            "Epoch 84/250\n",
            "256/900 [=======>......................] - ETA: 0s - loss: 0.1454 - acc: 0.9531\n",
            "Epoch 00084: loss did not improve from 0.18520\n",
            "900/900 [==============================] - 0s 70us/sample - loss: 0.1861 - acc: 0.9411\n",
            "Epoch 85/250\n",
            "256/900 [=======>......................] - ETA: 0s - loss: 0.1538 - acc: 0.9453\n",
            "Epoch 00085: loss improved from 0.18520 to 0.15630, saving model to dz_aud_16.h5\n",
            "900/900 [==============================] - 0s 170us/sample - loss: 0.1563 - acc: 0.9478\n",
            "Epoch 86/250\n",
            "256/900 [=======>......................] - ETA: 0s - loss: 0.2560 - acc: 0.9492\n",
            "Epoch 00086: loss did not improve from 0.15630\n",
            "900/900 [==============================] - 0s 70us/sample - loss: 0.2261 - acc: 0.9422\n",
            "Epoch 87/250\n",
            "256/900 [=======>......................] - ETA: 0s - loss: 0.1642 - acc: 0.9492\n",
            "Epoch 00087: loss did not improve from 0.15630\n",
            "900/900 [==============================] - 0s 70us/sample - loss: 0.1627 - acc: 0.9533\n",
            "Epoch 88/250\n",
            "256/900 [=======>......................] - ETA: 0s - loss: 0.2493 - acc: 0.9375\n",
            "Epoch 00088: loss did not improve from 0.15630\n",
            "900/900 [==============================] - 0s 69us/sample - loss: 0.1767 - acc: 0.9522\n",
            "Epoch 89/250\n",
            "256/900 [=======>......................] - ETA: 0s - loss: 0.2011 - acc: 0.9336\n",
            "Epoch 00089: loss did not improve from 0.15630\n",
            "900/900 [==============================] - 0s 71us/sample - loss: 0.1769 - acc: 0.9411\n",
            "Epoch 90/250\n",
            "256/900 [=======>......................] - ETA: 0s - loss: 0.1663 - acc: 0.9570\n",
            "Epoch 00090: loss did not improve from 0.15630\n",
            "900/900 [==============================] - 0s 69us/sample - loss: 0.1572 - acc: 0.9567\n",
            "Epoch 91/250\n",
            "256/900 [=======>......................] - ETA: 0s - loss: 0.2280 - acc: 0.9297\n",
            "Epoch 00091: loss did not improve from 0.15630\n",
            "900/900 [==============================] - 0s 70us/sample - loss: 0.1774 - acc: 0.9456\n",
            "Epoch 92/250\n",
            "256/900 [=======>......................] - ETA: 0s - loss: 0.1908 - acc: 0.9453\n",
            "Epoch 00092: loss did not improve from 0.15630\n",
            "900/900 [==============================] - 0s 70us/sample - loss: 0.2153 - acc: 0.9389\n",
            "Epoch 93/250\n",
            "256/900 [=======>......................] - ETA: 0s - loss: 0.2426 - acc: 0.9258\n",
            "Epoch 00093: loss did not improve from 0.15630\n",
            "900/900 [==============================] - 0s 69us/sample - loss: 0.1951 - acc: 0.9467\n",
            "Epoch 94/250\n",
            "256/900 [=======>......................] - ETA: 0s - loss: 0.1534 - acc: 0.9453\n",
            "Epoch 00094: loss improved from 0.15630 to 0.14744, saving model to dz_aud_16.h5\n",
            "900/900 [==============================] - 0s 172us/sample - loss: 0.1474 - acc: 0.9567\n",
            "Epoch 95/250\n",
            "256/900 [=======>......................] - ETA: 0s - loss: 0.1251 - acc: 0.9688\n",
            "Epoch 00095: loss improved from 0.14744 to 0.10608, saving model to dz_aud_16.h5\n",
            "900/900 [==============================] - 0s 207us/sample - loss: 0.1061 - acc: 0.9678\n",
            "Epoch 96/250\n",
            "256/900 [=======>......................] - ETA: 0s - loss: 0.1985 - acc: 0.9375\n",
            "Epoch 00096: loss did not improve from 0.10608\n",
            "900/900 [==============================] - 0s 71us/sample - loss: 0.2153 - acc: 0.9356\n",
            "Epoch 97/250\n",
            "256/900 [=======>......................] - ETA: 0s - loss: 0.2128 - acc: 0.9258\n",
            "Epoch 00097: loss did not improve from 0.10608\n",
            "900/900 [==============================] - 0s 73us/sample - loss: 0.1898 - acc: 0.9433\n",
            "Epoch 98/250\n",
            "256/900 [=======>......................] - ETA: 0s - loss: 0.1650 - acc: 0.9531\n",
            "Epoch 00098: loss did not improve from 0.10608\n",
            "900/900 [==============================] - 0s 73us/sample - loss: 0.1423 - acc: 0.9578\n",
            "Epoch 99/250\n",
            "256/900 [=======>......................] - ETA: 0s - loss: 0.2011 - acc: 0.9531\n",
            "Epoch 00099: loss did not improve from 0.10608\n",
            "900/900 [==============================] - 0s 68us/sample - loss: 0.1434 - acc: 0.9600\n",
            "Epoch 100/250\n",
            "256/900 [=======>......................] - ETA: 0s - loss: 0.2021 - acc: 0.9609\n",
            "Epoch 00100: loss did not improve from 0.10608\n",
            "900/900 [==============================] - 0s 69us/sample - loss: 0.1395 - acc: 0.9622\n",
            "Epoch 101/250\n",
            "256/900 [=======>......................] - ETA: 0s - loss: 0.1005 - acc: 0.9805\n",
            "Epoch 00101: loss did not improve from 0.10608\n",
            "900/900 [==============================] - 0s 69us/sample - loss: 0.1351 - acc: 0.9689\n",
            "Epoch 102/250\n",
            "256/900 [=======>......................] - ETA: 0s - loss: 0.2427 - acc: 0.9375\n",
            "Epoch 00102: loss did not improve from 0.10608\n",
            "900/900 [==============================] - 0s 71us/sample - loss: 0.1420 - acc: 0.9611\n",
            "Epoch 103/250\n",
            "256/900 [=======>......................] - ETA: 0s - loss: 0.1355 - acc: 0.9648\n",
            "Epoch 00103: loss did not improve from 0.10608\n",
            "900/900 [==============================] - 0s 69us/sample - loss: 0.1310 - acc: 0.9689\n",
            "Epoch 104/250\n",
            "256/900 [=======>......................] - ETA: 0s - loss: 0.0780 - acc: 0.9844\n",
            "Epoch 00104: loss did not improve from 0.10608\n",
            "900/900 [==============================] - 0s 69us/sample - loss: 0.1128 - acc: 0.9733\n",
            "Epoch 105/250\n",
            "256/900 [=======>......................] - ETA: 0s - loss: 0.1125 - acc: 0.9688\n",
            "Epoch 00105: loss did not improve from 0.10608\n",
            "900/900 [==============================] - 0s 69us/sample - loss: 0.1300 - acc: 0.9644\n",
            "Epoch 106/250\n",
            "256/900 [=======>......................] - ETA: 0s - loss: 0.1098 - acc: 0.9805\n",
            "Epoch 00106: loss did not improve from 0.10608\n",
            "900/900 [==============================] - 0s 69us/sample - loss: 0.1193 - acc: 0.9667\n",
            "Epoch 107/250\n",
            "256/900 [=======>......................] - ETA: 0s - loss: 0.1338 - acc: 0.9609\n",
            "Epoch 00107: loss did not improve from 0.10608\n",
            "900/900 [==============================] - 0s 73us/sample - loss: 0.1169 - acc: 0.9622\n",
            "Epoch 108/250\n",
            "256/900 [=======>......................] - ETA: 0s - loss: 0.1173 - acc: 0.9609\n",
            "Epoch 00108: loss improved from 0.10608 to 0.10371, saving model to dz_aud_16.h5\n",
            "900/900 [==============================] - 0s 177us/sample - loss: 0.1037 - acc: 0.9700\n",
            "Epoch 109/250\n",
            "256/900 [=======>......................] - ETA: 0s - loss: 0.0880 - acc: 0.9805\n",
            "Epoch 00109: loss did not improve from 0.10371\n",
            "900/900 [==============================] - 0s 68us/sample - loss: 0.1279 - acc: 0.9689\n",
            "Epoch 110/250\n",
            "256/900 [=======>......................] - ETA: 0s - loss: 0.1717 - acc: 0.9570\n",
            "Epoch 00110: loss did not improve from 0.10371\n",
            "900/900 [==============================] - 0s 83us/sample - loss: 0.1316 - acc: 0.9611\n",
            "Epoch 111/250\n",
            "256/900 [=======>......................] - ETA: 0s - loss: 0.1490 - acc: 0.9570\n",
            "Epoch 00111: loss did not improve from 0.10371\n",
            "900/900 [==============================] - 0s 67us/sample - loss: 0.1579 - acc: 0.9533\n",
            "Epoch 112/250\n",
            "256/900 [=======>......................] - ETA: 0s - loss: 0.1504 - acc: 0.9531\n",
            "Epoch 00112: loss did not improve from 0.10371\n",
            "900/900 [==============================] - 0s 68us/sample - loss: 0.1502 - acc: 0.9567\n",
            "Epoch 113/250\n",
            "256/900 [=======>......................] - ETA: 0s - loss: 0.1072 - acc: 0.9727\n",
            "Epoch 00113: loss did not improve from 0.10371\n",
            "900/900 [==============================] - 0s 70us/sample - loss: 0.1441 - acc: 0.9600\n",
            "Epoch 114/250\n",
            "256/900 [=======>......................] - ETA: 0s - loss: 0.1005 - acc: 0.9805\n",
            "Epoch 00114: loss did not improve from 0.10371\n",
            "900/900 [==============================] - 0s 68us/sample - loss: 0.1605 - acc: 0.9589\n",
            "Epoch 115/250\n",
            "256/900 [=======>......................] - ETA: 0s - loss: 0.1175 - acc: 0.9609\n",
            "Epoch 00115: loss did not improve from 0.10371\n",
            "900/900 [==============================] - 0s 70us/sample - loss: 0.1199 - acc: 0.9611\n",
            "Epoch 116/250\n",
            "256/900 [=======>......................] - ETA: 0s - loss: 0.0623 - acc: 0.9883\n",
            "Epoch 00116: loss did not improve from 0.10371\n",
            "900/900 [==============================] - 0s 69us/sample - loss: 0.1109 - acc: 0.9756\n",
            "Epoch 117/250\n",
            "256/900 [=======>......................] - ETA: 0s - loss: 0.1971 - acc: 0.9570\n",
            "Epoch 00117: loss did not improve from 0.10371\n",
            "900/900 [==============================] - 0s 72us/sample - loss: 0.1415 - acc: 0.9622\n",
            "Epoch 118/250\n",
            "256/900 [=======>......................] - ETA: 0s - loss: 0.1576 - acc: 0.9609\n",
            "Epoch 00118: loss did not improve from 0.10371\n",
            "900/900 [==============================] - 0s 71us/sample - loss: 0.1125 - acc: 0.9678\n",
            "Epoch 119/250\n",
            "256/900 [=======>......................] - ETA: 0s - loss: 0.3101 - acc: 0.9141\n",
            "Epoch 00119: loss did not improve from 0.10371\n",
            "900/900 [==============================] - 0s 68us/sample - loss: 0.2080 - acc: 0.9444\n",
            "Epoch 120/250\n",
            "256/900 [=======>......................] - ETA: 0s - loss: 0.1079 - acc: 0.9648\n",
            "Epoch 00120: loss improved from 0.10371 to 0.08861, saving model to dz_aud_16.h5\n",
            "900/900 [==============================] - 0s 167us/sample - loss: 0.0886 - acc: 0.9733\n",
            "Epoch 121/250\n",
            "256/900 [=======>......................] - ETA: 0s - loss: 0.1117 - acc: 0.9648\n",
            "Epoch 00121: loss improved from 0.08861 to 0.08091, saving model to dz_aud_16.h5\n",
            "900/900 [==============================] - 0s 197us/sample - loss: 0.0809 - acc: 0.9711\n",
            "Epoch 122/250\n",
            "256/900 [=======>......................] - ETA: 0s - loss: 0.1145 - acc: 0.9609\n",
            "Epoch 00122: loss did not improve from 0.08091\n",
            "900/900 [==============================] - 0s 75us/sample - loss: 0.1051 - acc: 0.9678\n",
            "Epoch 123/250\n",
            "256/900 [=======>......................] - ETA: 0s - loss: 0.0838 - acc: 0.9648\n",
            "Epoch 00123: loss did not improve from 0.08091\n",
            "900/900 [==============================] - 0s 70us/sample - loss: 0.1449 - acc: 0.9533\n",
            "Epoch 124/250\n",
            "256/900 [=======>......................] - ETA: 0s - loss: 0.1504 - acc: 0.9609\n",
            "Epoch 00124: loss did not improve from 0.08091\n",
            "900/900 [==============================] - 0s 70us/sample - loss: 0.1218 - acc: 0.9622\n",
            "Epoch 125/250\n",
            "256/900 [=======>......................] - ETA: 0s - loss: 0.1547 - acc: 0.9648\n",
            "Epoch 00125: loss did not improve from 0.08091\n",
            "900/900 [==============================] - 0s 68us/sample - loss: 0.1333 - acc: 0.9667\n",
            "Epoch 126/250\n",
            "256/900 [=======>......................] - ETA: 0s - loss: 0.1619 - acc: 0.9648\n",
            "Epoch 00126: loss did not improve from 0.08091\n",
            "900/900 [==============================] - 0s 71us/sample - loss: 0.1373 - acc: 0.9678\n",
            "Epoch 127/250\n",
            "256/900 [=======>......................] - ETA: 0s - loss: 0.1653 - acc: 0.9609\n",
            "Epoch 00127: loss did not improve from 0.08091\n",
            "900/900 [==============================] - 0s 71us/sample - loss: 0.1163 - acc: 0.9711\n",
            "Epoch 128/250\n",
            "256/900 [=======>......................] - ETA: 0s - loss: 0.0859 - acc: 0.9844\n",
            "Epoch 00128: loss improved from 0.08091 to 0.07643, saving model to dz_aud_16.h5\n",
            "900/900 [==============================] - 0s 163us/sample - loss: 0.0764 - acc: 0.9800\n",
            "Epoch 129/250\n",
            "256/900 [=======>......................] - ETA: 0s - loss: 0.0755 - acc: 0.9805\n",
            "Epoch 00129: loss did not improve from 0.07643\n",
            "900/900 [==============================] - 0s 68us/sample - loss: 0.0956 - acc: 0.9744\n",
            "Epoch 130/250\n",
            "256/900 [=======>......................] - ETA: 0s - loss: 0.0988 - acc: 0.9648\n",
            "Epoch 00130: loss did not improve from 0.07643\n",
            "900/900 [==============================] - 0s 69us/sample - loss: 0.0933 - acc: 0.9778\n",
            "Epoch 131/250\n",
            "256/900 [=======>......................] - ETA: 0s - loss: 0.1711 - acc: 0.9688\n",
            "Epoch 00131: loss did not improve from 0.07643\n",
            "900/900 [==============================] - 0s 70us/sample - loss: 0.1487 - acc: 0.9622\n",
            "Epoch 132/250\n",
            "256/900 [=======>......................] - ETA: 0s - loss: 0.1268 - acc: 0.9727\n",
            "Epoch 00132: loss did not improve from 0.07643\n",
            "900/900 [==============================] - 0s 71us/sample - loss: 0.0830 - acc: 0.9822\n",
            "Epoch 133/250\n",
            "256/900 [=======>......................] - ETA: 0s - loss: 0.0695 - acc: 0.9766\n",
            "Epoch 00133: loss improved from 0.07643 to 0.07209, saving model to dz_aud_16.h5\n",
            "900/900 [==============================] - 1s 560us/sample - loss: 0.0721 - acc: 0.9800\n",
            "Epoch 134/250\n",
            "256/900 [=======>......................] - ETA: 0s - loss: 0.1057 - acc: 0.9805\n",
            "Epoch 00134: loss did not improve from 0.07209\n",
            "900/900 [==============================] - 0s 70us/sample - loss: 0.0952 - acc: 0.9767\n",
            "Epoch 135/250\n",
            "256/900 [=======>......................] - ETA: 0s - loss: 0.0541 - acc: 0.9883\n",
            "Epoch 00135: loss did not improve from 0.07209\n",
            "900/900 [==============================] - 0s 71us/sample - loss: 0.0976 - acc: 0.9767\n",
            "Epoch 136/250\n",
            "256/900 [=======>......................] - ETA: 0s - loss: 0.1248 - acc: 0.9688\n",
            "Epoch 00136: loss did not improve from 0.07209\n",
            "900/900 [==============================] - 0s 69us/sample - loss: 0.1027 - acc: 0.9711\n",
            "Epoch 137/250\n",
            "256/900 [=======>......................] - ETA: 0s - loss: 0.1108 - acc: 0.9648\n",
            "Epoch 00137: loss did not improve from 0.07209\n",
            "900/900 [==============================] - 0s 68us/sample - loss: 0.0891 - acc: 0.9744\n",
            "Epoch 138/250\n",
            "256/900 [=======>......................] - ETA: 0s - loss: 0.0951 - acc: 0.9727\n",
            "Epoch 00138: loss did not improve from 0.07209\n",
            "900/900 [==============================] - 0s 73us/sample - loss: 0.0900 - acc: 0.9778\n",
            "Epoch 139/250\n",
            "256/900 [=======>......................] - ETA: 0s - loss: 0.0768 - acc: 0.9766\n",
            "Epoch 00139: loss did not improve from 0.07209\n",
            "900/900 [==============================] - 0s 69us/sample - loss: 0.0772 - acc: 0.9789\n",
            "Epoch 140/250\n",
            "256/900 [=======>......................] - ETA: 0s - loss: 0.2294 - acc: 0.9492\n",
            "Epoch 00140: loss did not improve from 0.07209\n",
            "900/900 [==============================] - 0s 74us/sample - loss: 0.1326 - acc: 0.9667\n",
            "Epoch 141/250\n",
            "256/900 [=======>......................] - ETA: 0s - loss: 0.0678 - acc: 0.9766\n",
            "Epoch 00141: loss did not improve from 0.07209\n",
            "900/900 [==============================] - 0s 75us/sample - loss: 0.0898 - acc: 0.9733\n",
            "Epoch 142/250\n",
            "256/900 [=======>......................] - ETA: 0s - loss: 0.1071 - acc: 0.9531\n",
            "Epoch 00142: loss did not improve from 0.07209\n",
            "900/900 [==============================] - 0s 70us/sample - loss: 0.0945 - acc: 0.9689\n",
            "Epoch 143/250\n",
            "256/900 [=======>......................] - ETA: 0s - loss: 0.1586 - acc: 0.9648\n",
            "Epoch 00143: loss did not improve from 0.07209\n",
            "900/900 [==============================] - 0s 74us/sample - loss: 0.0929 - acc: 0.9767\n",
            "Epoch 144/250\n",
            "256/900 [=======>......................] - ETA: 0s - loss: 0.0632 - acc: 0.9844\n",
            "Epoch 00144: loss improved from 0.07209 to 0.06905, saving model to dz_aud_16.h5\n",
            "900/900 [==============================] - 0s 159us/sample - loss: 0.0691 - acc: 0.9811\n",
            "Epoch 145/250\n",
            "256/900 [=======>......................] - ETA: 0s - loss: 0.1141 - acc: 0.9609\n",
            "Epoch 00145: loss did not improve from 0.06905\n",
            "900/900 [==============================] - 0s 69us/sample - loss: 0.0855 - acc: 0.9722\n",
            "Epoch 146/250\n",
            "256/900 [=======>......................] - ETA: 0s - loss: 0.1772 - acc: 0.9609\n",
            "Epoch 00146: loss did not improve from 0.06905\n",
            "900/900 [==============================] - 0s 76us/sample - loss: 0.1215 - acc: 0.9744\n",
            "Epoch 147/250\n",
            "256/900 [=======>......................] - ETA: 0s - loss: 0.2076 - acc: 0.9805\n",
            "Epoch 00147: loss did not improve from 0.06905\n",
            "900/900 [==============================] - 0s 68us/sample - loss: 0.1668 - acc: 0.9711\n",
            "Epoch 148/250\n",
            "256/900 [=======>......................] - ETA: 0s - loss: 0.0949 - acc: 0.9648\n",
            "Epoch 00148: loss did not improve from 0.06905\n",
            "900/900 [==============================] - 0s 70us/sample - loss: 0.0858 - acc: 0.9711\n",
            "Epoch 149/250\n",
            "256/900 [=======>......................] - ETA: 0s - loss: 0.0483 - acc: 0.9922\n",
            "Epoch 00149: loss did not improve from 0.06905\n",
            "900/900 [==============================] - 0s 70us/sample - loss: 0.0906 - acc: 0.9744\n",
            "Epoch 150/250\n",
            "256/900 [=======>......................] - ETA: 0s - loss: 0.0515 - acc: 0.9844\n",
            "Epoch 00150: loss did not improve from 0.06905\n",
            "900/900 [==============================] - 0s 68us/sample - loss: 0.0700 - acc: 0.9778\n",
            "Epoch 151/250\n",
            "256/900 [=======>......................] - ETA: 0s - loss: 0.0909 - acc: 0.9805\n",
            "Epoch 00151: loss did not improve from 0.06905\n",
            "900/900 [==============================] - 0s 68us/sample - loss: 0.0918 - acc: 0.9778\n",
            "Epoch 152/250\n",
            "256/900 [=======>......................] - ETA: 0s - loss: 0.0851 - acc: 0.9844\n",
            "Epoch 00152: loss did not improve from 0.06905\n",
            "900/900 [==============================] - 0s 69us/sample - loss: 0.0794 - acc: 0.9844\n",
            "Epoch 153/250\n",
            "256/900 [=======>......................] - ETA: 0s - loss: 0.0771 - acc: 0.9688\n",
            "Epoch 00153: loss did not improve from 0.06905\n",
            "900/900 [==============================] - 0s 69us/sample - loss: 0.0824 - acc: 0.9722\n",
            "Epoch 154/250\n",
            "256/900 [=======>......................] - ETA: 0s - loss: 0.1566 - acc: 0.9648\n",
            "Epoch 00154: loss did not improve from 0.06905\n",
            "900/900 [==============================] - 0s 71us/sample - loss: 0.1204 - acc: 0.9644\n",
            "Epoch 155/250\n",
            "256/900 [=======>......................] - ETA: 0s - loss: 0.0720 - acc: 0.9766\n",
            "Epoch 00155: loss improved from 0.06905 to 0.06890, saving model to dz_aud_16.h5\n",
            "900/900 [==============================] - 0s 163us/sample - loss: 0.0689 - acc: 0.9800\n",
            "Epoch 156/250\n",
            "256/900 [=======>......................] - ETA: 0s - loss: 0.0493 - acc: 0.9922\n",
            "Epoch 00156: loss improved from 0.06890 to 0.06885, saving model to dz_aud_16.h5\n",
            "900/900 [==============================] - 0s 202us/sample - loss: 0.0688 - acc: 0.9767\n",
            "Epoch 157/250\n",
            "256/900 [=======>......................] - ETA: 0s - loss: 0.0602 - acc: 0.9805\n",
            "Epoch 00157: loss did not improve from 0.06885\n",
            "900/900 [==============================] - 0s 76us/sample - loss: 0.1033 - acc: 0.9689\n",
            "Epoch 158/250\n",
            "256/900 [=======>......................] - ETA: 0s - loss: 0.0914 - acc: 0.9727\n",
            "Epoch 00158: loss did not improve from 0.06885\n",
            "900/900 [==============================] - 0s 69us/sample - loss: 0.0987 - acc: 0.9733\n",
            "Epoch 159/250\n",
            "256/900 [=======>......................] - ETA: 0s - loss: 0.0603 - acc: 0.9922\n",
            "Epoch 00159: loss improved from 0.06885 to 0.06096, saving model to dz_aud_16.h5\n",
            "900/900 [==============================] - 0s 154us/sample - loss: 0.0610 - acc: 0.9822\n",
            "Epoch 160/250\n",
            "256/900 [=======>......................] - ETA: 0s - loss: 0.0949 - acc: 0.9766\n",
            "Epoch 00160: loss did not improve from 0.06096\n",
            "900/900 [==============================] - 0s 91us/sample - loss: 0.0908 - acc: 0.9789\n",
            "Epoch 161/250\n",
            "256/900 [=======>......................] - ETA: 0s - loss: 0.0926 - acc: 0.9727\n",
            "Epoch 00161: loss did not improve from 0.06096\n",
            "900/900 [==============================] - 0s 74us/sample - loss: 0.0907 - acc: 0.9767\n",
            "Epoch 162/250\n",
            "256/900 [=======>......................] - ETA: 0s - loss: 0.2181 - acc: 0.9375\n",
            "Epoch 00162: loss did not improve from 0.06096\n",
            "900/900 [==============================] - 0s 70us/sample - loss: 0.1176 - acc: 0.9667\n",
            "Epoch 163/250\n",
            "256/900 [=======>......................] - ETA: 0s - loss: 0.1048 - acc: 0.9648\n",
            "Epoch 00163: loss did not improve from 0.06096\n",
            "900/900 [==============================] - 0s 68us/sample - loss: 0.1139 - acc: 0.9678\n",
            "Epoch 164/250\n",
            "256/900 [=======>......................] - ETA: 0s - loss: 0.0554 - acc: 0.9883\n",
            "Epoch 00164: loss improved from 0.06096 to 0.05397, saving model to dz_aud_16.h5\n",
            "900/900 [==============================] - 0s 160us/sample - loss: 0.0540 - acc: 0.9789\n",
            "Epoch 165/250\n",
            "256/900 [=======>......................] - ETA: 0s - loss: 0.1313 - acc: 0.9766\n",
            "Epoch 00165: loss did not improve from 0.05397\n",
            "900/900 [==============================] - 0s 69us/sample - loss: 0.0953 - acc: 0.9744\n",
            "Epoch 166/250\n",
            "256/900 [=======>......................] - ETA: 0s - loss: 0.1008 - acc: 0.9609\n",
            "Epoch 00166: loss did not improve from 0.05397\n",
            "900/900 [==============================] - 0s 79us/sample - loss: 0.0754 - acc: 0.9733\n",
            "Epoch 167/250\n",
            "256/900 [=======>......................] - ETA: 0s - loss: 0.1538 - acc: 0.9570\n",
            "Epoch 00167: loss did not improve from 0.05397\n",
            "900/900 [==============================] - 0s 69us/sample - loss: 0.1021 - acc: 0.9722\n",
            "Epoch 168/250\n",
            "256/900 [=======>......................] - ETA: 0s - loss: 0.0385 - acc: 0.9883\n",
            "Epoch 00168: loss improved from 0.05397 to 0.05084, saving model to dz_aud_16.h5\n",
            "900/900 [==============================] - 0s 156us/sample - loss: 0.0508 - acc: 0.9856\n",
            "Epoch 169/250\n",
            "256/900 [=======>......................] - ETA: 0s - loss: 0.0170 - acc: 0.9961\n",
            "Epoch 00169: loss did not improve from 0.05084\n",
            "900/900 [==============================] - 0s 71us/sample - loss: 0.0583 - acc: 0.9844\n",
            "Epoch 170/250\n",
            "256/900 [=======>......................] - ETA: 0s - loss: 0.1282 - acc: 0.9727\n",
            "Epoch 00170: loss did not improve from 0.05084\n",
            "900/900 [==============================] - 0s 79us/sample - loss: 0.1015 - acc: 0.9778\n",
            "Epoch 171/250\n",
            "256/900 [=======>......................] - ETA: 0s - loss: 0.1677 - acc: 0.9570\n",
            "Epoch 00171: loss did not improve from 0.05084\n",
            "900/900 [==============================] - 0s 71us/sample - loss: 0.1197 - acc: 0.9700\n",
            "Epoch 172/250\n",
            "256/900 [=======>......................] - ETA: 0s - loss: 0.1352 - acc: 0.9688\n",
            "Epoch 00172: loss did not improve from 0.05084\n",
            "900/900 [==============================] - 0s 69us/sample - loss: 0.1285 - acc: 0.9711\n",
            "Epoch 173/250\n",
            "256/900 [=======>......................] - ETA: 0s - loss: 0.1712 - acc: 0.9688\n",
            "Epoch 00173: loss did not improve from 0.05084\n",
            "900/900 [==============================] - 0s 72us/sample - loss: 0.1061 - acc: 0.9767\n",
            "Epoch 174/250\n",
            "256/900 [=======>......................] - ETA: 0s - loss: 0.0997 - acc: 0.9727\n",
            "Epoch 00174: loss did not improve from 0.05084\n",
            "900/900 [==============================] - 0s 70us/sample - loss: 0.0974 - acc: 0.9800\n",
            "Epoch 175/250\n",
            "256/900 [=======>......................] - ETA: 0s - loss: 0.0711 - acc: 0.9805\n",
            "Epoch 00175: loss did not improve from 0.05084\n",
            "900/900 [==============================] - 0s 68us/sample - loss: 0.0726 - acc: 0.9822\n",
            "Epoch 176/250\n",
            "256/900 [=======>......................] - ETA: 0s - loss: 0.0779 - acc: 0.9766\n",
            "Epoch 00176: loss did not improve from 0.05084\n",
            "900/900 [==============================] - 0s 69us/sample - loss: 0.0950 - acc: 0.9744\n",
            "Epoch 177/250\n",
            "256/900 [=======>......................] - ETA: 0s - loss: 0.0897 - acc: 0.9805\n",
            "Epoch 00177: loss did not improve from 0.05084\n",
            "900/900 [==============================] - 0s 69us/sample - loss: 0.0735 - acc: 0.9833\n",
            "Epoch 178/250\n",
            "256/900 [=======>......................] - ETA: 0s - loss: 0.0329 - acc: 1.0000\n",
            "Epoch 00178: loss improved from 0.05084 to 0.03557, saving model to dz_aud_16.h5\n",
            "900/900 [==============================] - 0s 171us/sample - loss: 0.0356 - acc: 0.9911\n",
            "Epoch 179/250\n",
            "256/900 [=======>......................] - ETA: 0s - loss: 0.0326 - acc: 0.9961\n",
            "Epoch 00179: loss did not improve from 0.03557\n",
            "900/900 [==============================] - 0s 71us/sample - loss: 0.0512 - acc: 0.9856\n",
            "Epoch 180/250\n",
            "256/900 [=======>......................] - ETA: 0s - loss: 0.0892 - acc: 0.9766\n",
            "Epoch 00180: loss did not improve from 0.03557\n",
            "900/900 [==============================] - 0s 73us/sample - loss: 0.0813 - acc: 0.9767\n",
            "Epoch 181/250\n",
            "256/900 [=======>......................] - ETA: 0s - loss: 0.0507 - acc: 0.9922\n",
            "Epoch 00181: loss did not improve from 0.03557\n",
            "900/900 [==============================] - 0s 70us/sample - loss: 0.0649 - acc: 0.9811\n",
            "Epoch 182/250\n",
            "256/900 [=======>......................] - ETA: 0s - loss: 0.0674 - acc: 0.9922\n",
            "Epoch 00182: loss did not improve from 0.03557\n",
            "900/900 [==============================] - 0s 68us/sample - loss: 0.0799 - acc: 0.9789\n",
            "Epoch 183/250\n",
            "256/900 [=======>......................] - ETA: 0s - loss: 0.0290 - acc: 0.9961\n",
            "Epoch 00183: loss did not improve from 0.03557\n",
            "900/900 [==============================] - 0s 72us/sample - loss: 0.0702 - acc: 0.9856\n",
            "Epoch 184/250\n",
            "256/900 [=======>......................] - ETA: 0s - loss: 0.0690 - acc: 0.9805\n",
            "Epoch 00184: loss did not improve from 0.03557\n",
            "900/900 [==============================] - 0s 71us/sample - loss: 0.0507 - acc: 0.9856\n",
            "Epoch 185/250\n",
            "256/900 [=======>......................] - ETA: 0s - loss: 0.0838 - acc: 0.9727\n",
            "Epoch 00185: loss did not improve from 0.03557\n",
            "900/900 [==============================] - 0s 70us/sample - loss: 0.0621 - acc: 0.9844\n",
            "Epoch 186/250\n",
            "256/900 [=======>......................] - ETA: 0s - loss: 0.0579 - acc: 0.9922\n",
            "Epoch 00186: loss did not improve from 0.03557\n",
            "900/900 [==============================] - 0s 69us/sample - loss: 0.0852 - acc: 0.9822\n",
            "Epoch 187/250\n",
            "256/900 [=======>......................] - ETA: 0s - loss: 0.0729 - acc: 0.9844\n",
            "Epoch 00187: loss did not improve from 0.03557\n",
            "900/900 [==============================] - 0s 71us/sample - loss: 0.0740 - acc: 0.9822\n",
            "Epoch 188/250\n",
            "256/900 [=======>......................] - ETA: 0s - loss: 0.0417 - acc: 0.9805\n",
            "Epoch 00188: loss did not improve from 0.03557\n",
            "900/900 [==============================] - 0s 72us/sample - loss: 0.0670 - acc: 0.9789\n",
            "Epoch 189/250\n",
            "256/900 [=======>......................] - ETA: 0s - loss: 0.0555 - acc: 0.9883\n",
            "Epoch 00189: loss did not improve from 0.03557\n",
            "900/900 [==============================] - 0s 70us/sample - loss: 0.0617 - acc: 0.9844\n",
            "Epoch 190/250\n",
            "256/900 [=======>......................] - ETA: 0s - loss: 0.0371 - acc: 0.9883\n",
            "Epoch 00190: loss did not improve from 0.03557\n",
            "900/900 [==============================] - 0s 71us/sample - loss: 0.0562 - acc: 0.9844\n",
            "Epoch 191/250\n",
            "256/900 [=======>......................] - ETA: 0s - loss: 0.2460 - acc: 0.9688\n",
            "Epoch 00191: loss did not improve from 0.03557\n",
            "900/900 [==============================] - 0s 69us/sample - loss: 0.1016 - acc: 0.9833\n",
            "Epoch 192/250\n",
            "256/900 [=======>......................] - ETA: 0s - loss: 0.0586 - acc: 0.9805\n",
            "Epoch 00192: loss did not improve from 0.03557\n",
            "900/900 [==============================] - 0s 69us/sample - loss: 0.0447 - acc: 0.9878\n",
            "Epoch 193/250\n",
            "256/900 [=======>......................] - ETA: 0s - loss: 0.0797 - acc: 0.9844\n",
            "Epoch 00193: loss did not improve from 0.03557\n",
            "900/900 [==============================] - 0s 73us/sample - loss: 0.0798 - acc: 0.9789\n",
            "Epoch 194/250\n",
            "256/900 [=======>......................] - ETA: 0s - loss: 0.0382 - acc: 0.9883\n",
            "Epoch 00194: loss did not improve from 0.03557\n",
            "900/900 [==============================] - 0s 68us/sample - loss: 0.0544 - acc: 0.9844\n",
            "Epoch 195/250\n",
            "256/900 [=======>......................] - ETA: 0s - loss: 0.0213 - acc: 0.9961\n",
            "Epoch 00195: loss did not improve from 0.03557\n",
            "900/900 [==============================] - 0s 68us/sample - loss: 0.0446 - acc: 0.9900\n",
            "Epoch 196/250\n",
            "256/900 [=======>......................] - ETA: 0s - loss: 0.0326 - acc: 0.9961\n",
            "Epoch 00196: loss did not improve from 0.03557\n",
            "900/900 [==============================] - 0s 70us/sample - loss: 0.0358 - acc: 0.9933\n",
            "Epoch 197/250\n",
            "256/900 [=======>......................] - ETA: 0s - loss: 0.0318 - acc: 0.9805\n",
            "Epoch 00197: loss did not improve from 0.03557\n",
            "900/900 [==============================] - 0s 70us/sample - loss: 0.0723 - acc: 0.9833\n",
            "Epoch 198/250\n",
            "256/900 [=======>......................] - ETA: 0s - loss: 0.0868 - acc: 0.9609\n",
            "Epoch 00198: loss did not improve from 0.03557\n",
            "900/900 [==============================] - 0s 69us/sample - loss: 0.0769 - acc: 0.9733\n",
            "Epoch 199/250\n",
            "256/900 [=======>......................] - ETA: 0s - loss: 0.0775 - acc: 0.9805\n",
            "Epoch 00199: loss did not improve from 0.03557\n",
            "900/900 [==============================] - 0s 68us/sample - loss: 0.0492 - acc: 0.9833\n",
            "Epoch 200/250\n",
            "256/900 [=======>......................] - ETA: 0s - loss: 0.0197 - acc: 0.9922\n",
            "Epoch 00200: loss did not improve from 0.03557\n",
            "900/900 [==============================] - 0s 70us/sample - loss: 0.0489 - acc: 0.9878\n",
            "Epoch 201/250\n",
            "256/900 [=======>......................] - ETA: 0s - loss: 0.0617 - acc: 0.9805\n",
            "Epoch 00201: loss did not improve from 0.03557\n",
            "900/900 [==============================] - 0s 69us/sample - loss: 0.0433 - acc: 0.9878\n",
            "Epoch 202/250\n",
            "256/900 [=======>......................] - ETA: 0s - loss: 0.0573 - acc: 0.9844\n",
            "Epoch 00202: loss did not improve from 0.03557\n",
            "900/900 [==============================] - 0s 73us/sample - loss: 0.0689 - acc: 0.9833\n",
            "Epoch 203/250\n",
            "256/900 [=======>......................] - ETA: 0s - loss: 0.0510 - acc: 0.9883\n",
            "Epoch 00203: loss did not improve from 0.03557\n",
            "900/900 [==============================] - 0s 69us/sample - loss: 0.0576 - acc: 0.9867\n",
            "Epoch 204/250\n",
            "256/900 [=======>......................] - ETA: 0s - loss: 0.0709 - acc: 0.9844\n",
            "Epoch 00204: loss did not improve from 0.03557\n",
            "900/900 [==============================] - 0s 69us/sample - loss: 0.0666 - acc: 0.9789\n",
            "Epoch 205/250\n",
            "256/900 [=======>......................] - ETA: 0s - loss: 0.0882 - acc: 0.9727\n",
            "Epoch 00205: loss did not improve from 0.03557\n",
            "900/900 [==============================] - 0s 69us/sample - loss: 0.0661 - acc: 0.9800\n",
            "Epoch 206/250\n",
            "256/900 [=======>......................] - ETA: 0s - loss: 0.0813 - acc: 0.9727\n",
            "Epoch 00206: loss did not improve from 0.03557\n",
            "900/900 [==============================] - 0s 70us/sample - loss: 0.0528 - acc: 0.9822\n",
            "Epoch 207/250\n",
            "256/900 [=======>......................] - ETA: 0s - loss: 0.0621 - acc: 0.9727\n",
            "Epoch 00207: loss did not improve from 0.03557\n",
            "900/900 [==============================] - 0s 70us/sample - loss: 0.0555 - acc: 0.9811\n",
            "Epoch 208/250\n",
            "256/900 [=======>......................] - ETA: 0s - loss: 0.0595 - acc: 0.9805\n",
            "Epoch 00208: loss did not improve from 0.03557\n",
            "900/900 [==============================] - 0s 75us/sample - loss: 0.0371 - acc: 0.9878\n",
            "Epoch 209/250\n",
            "256/900 [=======>......................] - ETA: 0s - loss: 0.0203 - acc: 0.9961\n",
            "Epoch 00209: loss did not improve from 0.03557\n",
            "900/900 [==============================] - 0s 69us/sample - loss: 0.0590 - acc: 0.9856\n",
            "Epoch 210/250\n",
            "256/900 [=======>......................] - ETA: 0s - loss: 0.0348 - acc: 0.9883\n",
            "Epoch 00210: loss did not improve from 0.03557\n",
            "900/900 [==============================] - 0s 69us/sample - loss: 0.0395 - acc: 0.9911\n",
            "Epoch 211/250\n",
            "256/900 [=======>......................] - ETA: 0s - loss: 0.0686 - acc: 0.9766\n",
            "Epoch 00211: loss did not improve from 0.03557\n",
            "900/900 [==============================] - 0s 67us/sample - loss: 0.0412 - acc: 0.9889\n",
            "Epoch 212/250\n",
            "256/900 [=======>......................] - ETA: 0s - loss: 0.0506 - acc: 0.9766\n",
            "Epoch 00212: loss did not improve from 0.03557\n",
            "900/900 [==============================] - 0s 67us/sample - loss: 0.0518 - acc: 0.9844\n",
            "Epoch 213/250\n",
            "256/900 [=======>......................] - ETA: 0s - loss: 0.1216 - acc: 0.9766\n",
            "Epoch 00213: loss did not improve from 0.03557\n",
            "900/900 [==============================] - 0s 70us/sample - loss: 0.1270 - acc: 0.9667\n",
            "Epoch 214/250\n",
            "256/900 [=======>......................] - ETA: 0s - loss: 0.0521 - acc: 0.9883\n",
            "Epoch 00214: loss did not improve from 0.03557\n",
            "900/900 [==============================] - 0s 72us/sample - loss: 0.0530 - acc: 0.9889\n",
            "Epoch 215/250\n",
            "256/900 [=======>......................] - ETA: 0s - loss: 0.0500 - acc: 0.9844\n",
            "Epoch 00215: loss did not improve from 0.03557\n",
            "900/900 [==============================] - 0s 68us/sample - loss: 0.0887 - acc: 0.9789\n",
            "Epoch 216/250\n",
            "256/900 [=======>......................] - ETA: 0s - loss: 0.0891 - acc: 0.9766\n",
            "Epoch 00216: loss did not improve from 0.03557\n",
            "900/900 [==============================] - 0s 70us/sample - loss: 0.0415 - acc: 0.9878\n",
            "Epoch 217/250\n",
            "256/900 [=======>......................] - ETA: 0s - loss: 0.0341 - acc: 0.9922\n",
            "Epoch 00217: loss did not improve from 0.03557\n",
            "900/900 [==============================] - 0s 68us/sample - loss: 0.0759 - acc: 0.9867\n",
            "Epoch 218/250\n",
            "256/900 [=======>......................] - ETA: 0s - loss: 0.0872 - acc: 0.9805\n",
            "Epoch 00218: loss did not improve from 0.03557\n",
            "900/900 [==============================] - 0s 68us/sample - loss: 0.0913 - acc: 0.9756\n",
            "Epoch 219/250\n",
            "256/900 [=======>......................] - ETA: 0s - loss: 0.0875 - acc: 0.9805\n",
            "Epoch 00219: loss did not improve from 0.03557\n",
            "900/900 [==============================] - 0s 69us/sample - loss: 0.0952 - acc: 0.9800\n",
            "Epoch 220/250\n",
            "256/900 [=======>......................] - ETA: 0s - loss: 0.0750 - acc: 0.9727\n",
            "Epoch 00220: loss did not improve from 0.03557\n",
            "900/900 [==============================] - 0s 69us/sample - loss: 0.0627 - acc: 0.9800\n",
            "Epoch 221/250\n",
            "256/900 [=======>......................] - ETA: 0s - loss: 0.0845 - acc: 0.9766\n",
            "Epoch 00221: loss did not improve from 0.03557\n",
            "900/900 [==============================] - 0s 68us/sample - loss: 0.0562 - acc: 0.9856\n",
            "Epoch 222/250\n",
            "256/900 [=======>......................] - ETA: 0s - loss: 0.0461 - acc: 0.9922\n",
            "Epoch 00222: loss did not improve from 0.03557\n",
            "900/900 [==============================] - 0s 69us/sample - loss: 0.0793 - acc: 0.9822\n",
            "Epoch 223/250\n",
            "256/900 [=======>......................] - ETA: 0s - loss: 0.1156 - acc: 0.9648\n",
            "Epoch 00223: loss did not improve from 0.03557\n",
            "900/900 [==============================] - 0s 76us/sample - loss: 0.1182 - acc: 0.9700\n",
            "Epoch 224/250\n",
            "256/900 [=======>......................] - ETA: 0s - loss: 0.1861 - acc: 0.9688\n",
            "Epoch 00224: loss did not improve from 0.03557\n",
            "900/900 [==============================] - 0s 73us/sample - loss: 0.1181 - acc: 0.9744\n",
            "Epoch 225/250\n",
            "256/900 [=======>......................] - ETA: 0s - loss: 0.1037 - acc: 0.9727\n",
            "Epoch 00225: loss did not improve from 0.03557\n",
            "900/900 [==============================] - 0s 68us/sample - loss: 0.0961 - acc: 0.9744\n",
            "Epoch 226/250\n",
            "256/900 [=======>......................] - ETA: 0s - loss: 0.0408 - acc: 0.9922\n",
            "Epoch 00226: loss did not improve from 0.03557\n",
            "900/900 [==============================] - 0s 70us/sample - loss: 0.0506 - acc: 0.9856\n",
            "Epoch 227/250\n",
            "256/900 [=======>......................] - ETA: 0s - loss: 0.1005 - acc: 0.9805\n",
            "Epoch 00227: loss did not improve from 0.03557\n",
            "900/900 [==============================] - 0s 67us/sample - loss: 0.0759 - acc: 0.9822\n",
            "Epoch 228/250\n",
            "256/900 [=======>......................] - ETA: 0s - loss: 0.0505 - acc: 0.9844\n",
            "Epoch 00228: loss did not improve from 0.03557\n",
            "900/900 [==============================] - 0s 70us/sample - loss: 0.0374 - acc: 0.9889\n",
            "Epoch 229/250\n",
            "256/900 [=======>......................] - ETA: 0s - loss: 0.0397 - acc: 0.9844\n",
            "Epoch 00229: loss did not improve from 0.03557\n",
            "900/900 [==============================] - 0s 71us/sample - loss: 0.0542 - acc: 0.9889\n",
            "Epoch 230/250\n",
            "256/900 [=======>......................] - ETA: 0s - loss: 0.0203 - acc: 0.9922\n",
            "Epoch 00230: loss improved from 0.03557 to 0.02573, saving model to dz_aud_16.h5\n",
            "900/900 [==============================] - 0s 170us/sample - loss: 0.0257 - acc: 0.9933\n",
            "Epoch 231/250\n",
            "256/900 [=======>......................] - ETA: 0s - loss: 0.0201 - acc: 0.9922\n",
            "Epoch 00231: loss improved from 0.02573 to 0.01881, saving model to dz_aud_16.h5\n",
            "900/900 [==============================] - 0s 209us/sample - loss: 0.0188 - acc: 0.9944\n",
            "Epoch 232/250\n",
            "256/900 [=======>......................] - ETA: 0s - loss: 0.0270 - acc: 0.9922\n",
            "Epoch 00232: loss did not improve from 0.01881\n",
            "900/900 [==============================] - 0s 69us/sample - loss: 0.0500 - acc: 0.9844\n",
            "Epoch 233/250\n",
            "256/900 [=======>......................] - ETA: 0s - loss: 0.0100 - acc: 1.0000\n",
            "Epoch 00233: loss did not improve from 0.01881\n",
            "900/900 [==============================] - 0s 71us/sample - loss: 0.0290 - acc: 0.9956\n",
            "Epoch 234/250\n",
            "256/900 [=======>......................] - ETA: 0s - loss: 0.0252 - acc: 0.9844\n",
            "Epoch 00234: loss did not improve from 0.01881\n",
            "900/900 [==============================] - 0s 76us/sample - loss: 0.0269 - acc: 0.9867\n",
            "Epoch 235/250\n",
            "256/900 [=======>......................] - ETA: 0s - loss: 0.0330 - acc: 0.9883\n",
            "Epoch 00235: loss did not improve from 0.01881\n",
            "900/900 [==============================] - 0s 69us/sample - loss: 0.0343 - acc: 0.9878\n",
            "Epoch 236/250\n",
            "256/900 [=======>......................] - ETA: 0s - loss: 0.0582 - acc: 0.9844\n",
            "Epoch 00236: loss did not improve from 0.01881\n",
            "900/900 [==============================] - 0s 69us/sample - loss: 0.0325 - acc: 0.9911\n",
            "Epoch 237/250\n",
            "256/900 [=======>......................] - ETA: 0s - loss: 0.0888 - acc: 0.9922\n",
            "Epoch 00237: loss did not improve from 0.01881\n",
            "900/900 [==============================] - 0s 69us/sample - loss: 0.0444 - acc: 0.9933\n",
            "Epoch 238/250\n",
            "256/900 [=======>......................] - ETA: 0s - loss: 0.0204 - acc: 0.9961\n",
            "Epoch 00238: loss did not improve from 0.01881\n",
            "900/900 [==============================] - 0s 72us/sample - loss: 0.0667 - acc: 0.9833\n",
            "Epoch 239/250\n",
            "256/900 [=======>......................] - ETA: 0s - loss: 0.0373 - acc: 0.9844\n",
            "Epoch 00239: loss did not improve from 0.01881\n",
            "900/900 [==============================] - 0s 73us/sample - loss: 0.0564 - acc: 0.9867\n",
            "Epoch 240/250\n",
            "256/900 [=======>......................] - ETA: 0s - loss: 0.0237 - acc: 0.9883\n",
            "Epoch 00240: loss did not improve from 0.01881\n",
            "900/900 [==============================] - 0s 68us/sample - loss: 0.0975 - acc: 0.9778\n",
            "Epoch 241/250\n",
            "256/900 [=======>......................] - ETA: 0s - loss: 0.0251 - acc: 0.9922\n",
            "Epoch 00241: loss did not improve from 0.01881\n",
            "900/900 [==============================] - 0s 74us/sample - loss: 0.0912 - acc: 0.9789\n",
            "Epoch 242/250\n",
            "256/900 [=======>......................] - ETA: 0s - loss: 0.1003 - acc: 0.9844\n",
            "Epoch 00242: loss did not improve from 0.01881\n",
            "900/900 [==============================] - 0s 67us/sample - loss: 0.0710 - acc: 0.9844\n",
            "Epoch 243/250\n",
            "256/900 [=======>......................] - ETA: 0s - loss: 0.0737 - acc: 0.9844\n",
            "Epoch 00243: loss did not improve from 0.01881\n",
            "900/900 [==============================] - 0s 66us/sample - loss: 0.0465 - acc: 0.9856\n",
            "Epoch 244/250\n",
            "256/900 [=======>......................] - ETA: 0s - loss: 0.0606 - acc: 0.9922\n",
            "Epoch 00244: loss did not improve from 0.01881\n",
            "900/900 [==============================] - 0s 70us/sample - loss: 0.0395 - acc: 0.9933\n",
            "Epoch 245/250\n",
            "256/900 [=======>......................] - ETA: 0s - loss: 0.1403 - acc: 0.9766\n",
            "Epoch 00245: loss did not improve from 0.01881\n",
            "900/900 [==============================] - 0s 69us/sample - loss: 0.0997 - acc: 0.9811\n",
            "Epoch 246/250\n",
            "256/900 [=======>......................] - ETA: 0s - loss: 0.0666 - acc: 0.9805\n",
            "Epoch 00246: loss did not improve from 0.01881\n",
            "900/900 [==============================] - 0s 70us/sample - loss: 0.0731 - acc: 0.9778\n",
            "Epoch 247/250\n",
            "256/900 [=======>......................] - ETA: 0s - loss: 0.0615 - acc: 0.9805\n",
            "Epoch 00247: loss did not improve from 0.01881\n",
            "900/900 [==============================] - 0s 70us/sample - loss: 0.0620 - acc: 0.9844\n",
            "Epoch 248/250\n",
            "256/900 [=======>......................] - ETA: 0s - loss: 0.1246 - acc: 0.9609\n",
            "Epoch 00248: loss did not improve from 0.01881\n",
            "900/900 [==============================] - 0s 68us/sample - loss: 0.0843 - acc: 0.9756\n",
            "Epoch 249/250\n",
            "256/900 [=======>......................] - ETA: 0s - loss: 0.0426 - acc: 0.9844\n",
            "Epoch 00249: loss did not improve from 0.01881\n",
            "900/900 [==============================] - 0s 77us/sample - loss: 0.0495 - acc: 0.9844\n",
            "Epoch 250/250\n",
            "256/900 [=======>......................] - ETA: 0s - loss: 0.1272 - acc: 0.9766\n",
            "Epoch 00250: loss did not improve from 0.01881\n",
            "900/900 [==============================] - 0s 72us/sample - loss: 0.0469 - acc: 0.9922\n"
          ],
          "name": "stdout"
        }
      ]
    },
    {
      "cell_type": "markdown",
      "metadata": {
        "id": "8JcR_oq0NEUd",
        "colab_type": "text"
      },
      "source": [
        "## Графики"
      ]
    },
    {
      "cell_type": "code",
      "metadata": {
        "id": "Ze1SAjBBNDpO",
        "colab_type": "code",
        "outputId": "48417acb-4944-4c14-dc04-020c0270b581",
        "colab": {
          "base_uri": "https://localhost:8080/",
          "height": 283
        }
      },
      "source": [
        "plt.plot(history.history['loss'], \n",
        "           label='Потери на обучающей выборке')\n",
        "plt.plot(history.history['acc'], \n",
        "           label='Точноть на обучающей выборке')\n",
        "plt.xlabel('Эпоха обучения')\n",
        "plt.ylabel('Доля верных ответов')\n",
        "plt.legend()\n",
        "plt.show()"
      ],
      "execution_count": 0,
      "outputs": [
        {
          "output_type": "display_data",
          "data": {
            "image/png": "[encoded data removed]",
            "text/plain": [
              "<Figure size 432x288 with 1 Axes>"
            ]
          },
          "metadata": {
            "tags": []
          }
        }
      ]
    },
    {
      "cell_type": "code",
      "metadata": {
        "id": "S711iHbkNLAO",
        "colab_type": "code",
        "colab": {}
      },
      "source": [
        "model.load_weights('dz_aud_16.h5')"
      ],
      "execution_count": 0,
      "outputs": []
    },
    {
      "cell_type": "markdown",
      "metadata": {
        "id": "pF19GWPiNTic",
        "colab_type": "text"
      },
      "source": [
        "## Результат"
      ]
    },
    {
      "cell_type": "code",
      "metadata": {
        "id": "8lUvEiIONWf6",
        "colab_type": "code",
        "outputId": "ae4b52bc-e547-49b4-956a-5aae2218dbe0",
        "colab": {
          "base_uri": "https://localhost:8080/",
          "height": 50
        }
      },
      "source": [
        "result = model.evaluate(X_test,y_test)\n",
        "\n",
        "print(result)"
      ],
      "execution_count": 0,
      "outputs": [
        {
          "output_type": "stream",
          "text": [
            "100/100 [==============================] - 0s 2ms/sample - loss: 2.0131 - acc: 0.7700\n",
            "[2.013060557246208, 0.77]\n"
          ],
          "name": "stdout"
        }
      ]
    },
    {
      "cell_type": "markdown",
      "metadata": {
        "id": "HNFwGY98NZBu",
        "colab_type": "text"
      },
      "source": [
        "# Ансамль из нейросети и классическом обучении"
      ]
    },
    {
      "cell_type": "code",
      "metadata": {
        "id": "dskEWjTMNgLY",
        "colab_type": "code",
        "outputId": "1fe76aef-aa65-4c14-e9fa-c0f4982ef05c",
        "colab": {
          "base_uri": "https://localhost:8080/",
          "height": 66
        }
      },
      "source": [
        "pred_neir = model.predict(X_test)\n",
        "pred_neiroset=np.argmax(pred_neir, axis=1)\n",
        "print(pred_neiroset)"
      ],
      "execution_count": 0,
      "outputs": [
        {
          "output_type": "stream",
          "text": [
            "[7 5 5 3 1 8 5 2 9 5 5 0 1 1 8 3 1 5 0 3 7 2 1 4 3 3 2 3 7 7 6 7 3 7 3 9 4\n",
            " 0 3 7 4 1 4 1 1 0 2 6 6 5 5 4 8 1 6 2 1 2 9 3 0 3 5 0 7 2 2 1 7 8 1 7 6 7\n",
            " 6 2 0 9 0 0 3 4 6 5 7 0 8 4 9 7 0 9 8 7 0 5 9 1 0 0]\n"
          ],
          "name": "stdout"
        }
      ]
    },
    {
      "cell_type": "code",
      "metadata": {
        "id": "H3HK5ObNNjyj",
        "colab_type": "code",
        "outputId": "e728039e-4cc4-46d5-9f54-e7e5306875fe",
        "colab": {
          "base_uri": "https://localhost:8080/",
          "height": 53
        }
      },
      "source": [
        "ind = []\n",
        "for i in range(len(y_test)):\n",
        "    cot = []\n",
        "    a = pred_a[i]\n",
        "    b = pred_b[i]\n",
        "    c = pred_c[i]\n",
        "    d = pred_d[i]\n",
        "    e = pred_e[i]\n",
        "    g = pred_g[i]\n",
        "    h = pred_h[i]\n",
        "    x = pred_neiroset[i]\n",
        "    cot.append(a)\n",
        "    cot.append(b)\n",
        "    cot.append(c)\n",
        "    cot.append(d)\n",
        "    cot.append(e)\n",
        "    cot.append(g)\n",
        "    cot.append(h)\n",
        "    cot.append(x)\n",
        "    ind.append(cot)\n",
        "print(ind)"
      ],
      "execution_count": 0,
      "outputs": [
        {
          "output_type": "stream",
          "text": [
            "[[7, 7, 7, 7, 7, 7, 7, 7], [5, 5, 5, 5, 5, 5, 5, 5], [3, 3, 9, 2, 3, 3, 3, 5], [8, 8, 4, 3, 4, 3, 3, 3], [1, 1, 1, 1, 1, 1, 1, 1], [8, 8, 8, 8, 8, 8, 8, 8], [1, 2, 2, 2, 2, 5, 8, 5], [2, 2, 2, 3, 3, 2, 3, 2], [3, 6, 3, 9, 3, 6, 9, 9], [5, 5, 8, 8, 8, 5, 5, 5], [5, 5, 5, 5, 5, 5, 5, 5], [0, 0, 0, 5, 0, 0, 0, 0], [1, 1, 1, 1, 1, 1, 1, 1], [5, 8, 5, 1, 1, 5, 1, 1], [8, 4, 8, 8, 8, 8, 8, 8], [3, 3, 3, 3, 3, 3, 3, 3], [1, 1, 1, 1, 1, 1, 1, 1], [5, 5, 5, 2, 5, 5, 5, 5], [0, 0, 2, 2, 0, 0, 0, 0], [3, 3, 3, 3, 3, 3, 3, 3], [4, 7, 7, 7, 7, 7, 7, 7], [2, 2, 1, 2, 2, 2, 2, 2], [1, 1, 1, 1, 1, 1, 1, 1], [4, 8, 4, 8, 4, 4, 8, 4], [3, 3, 5, 4, 3, 3, 8, 3], [3, 3, 3, 8, 3, 3, 3, 3], [2, 2, 2, 2, 0, 2, 0, 2], [6, 6, 3, 9, 9, 9, 9, 3], [7, 4, 7, 7, 7, 7, 4, 7], [7, 7, 5, 5, 7, 7, 7, 7], [4, 5, 9, 6, 0, 6, 4, 6], [7, 7, 7, 7, 7, 7, 7, 7], [6, 9, 3, 9, 3, 3, 9, 3], [7, 7, 7, 3, 7, 7, 3, 7], [3, 3, 3, 8, 3, 3, 8, 3], [2, 9, 9, 2, 3, 3, 9, 9], [4, 4, 0, 8, 8, 9, 3, 4], [9, 8, 0, 2, 0, 0, 9, 0], [3, 9, 3, 8, 4, 4, 3, 3], [4, 4, 2, 4, 4, 4, 4, 7], [8, 4, 3, 8, 8, 4, 8, 4], [1, 1, 1, 8, 1, 1, 1, 1], [4, 4, 6, 6, 6, 6, 6, 4], [8, 1, 7, 1, 5, 2, 9, 1], [1, 1, 1, 1, 1, 1, 1, 1], [0, 0, 0, 0, 0, 0, 0, 0], [2, 5, 2, 7, 5, 2, 2, 2], [6, 6, 6, 6, 6, 6, 6, 6], [6, 6, 6, 6, 6, 6, 6, 6], [5, 5, 5, 5, 5, 5, 5, 5], [2, 5, 2, 5, 2, 2, 5, 5], [9, 9, 4, 0, 9, 0, 2, 4], [8, 8, 4, 8, 8, 8, 8, 8], [1, 1, 1, 1, 1, 1, 1, 1], [6, 6, 6, 6, 6, 6, 6, 6], [5, 5, 2, 7, 5, 5, 5, 2], [1, 1, 1, 1, 1, 1, 1, 1], [2, 2, 2, 2, 2, 2, 2, 2], [3, 3, 9, 9, 9, 3, 8, 9], [3, 9, 3, 3, 3, 3, 3, 3], [0, 6, 0, 0, 0, 0, 0, 0], [9, 9, 3, 8, 3, 3, 3, 3], [5, 5, 5, 5, 5, 5, 5, 5], [0, 0, 0, 0, 0, 0, 0, 0], [7, 7, 7, 7, 7, 7, 7, 7], [2, 2, 2, 1, 2, 2, 2, 2], [2, 2, 1, 1, 2, 2, 9, 2], [1, 1, 1, 1, 1, 1, 1, 1], [7, 7, 7, 7, 7, 7, 7, 7], [8, 8, 2, 5, 5, 2, 1, 8], [1, 1, 1, 1, 1, 1, 1, 1], [7, 7, 7, 7, 7, 7, 7, 7], [6, 6, 6, 6, 6, 6, 6, 6], [3, 4, 7, 4, 4, 3, 4, 7], [6, 6, 6, 6, 6, 6, 6, 6], [2, 5, 7, 3, 3, 7, 8, 2], [0, 0, 2, 2, 6, 0, 6, 0], [4, 9, 0, 5, 0, 0, 0, 9], [0, 0, 0, 9, 0, 0, 9, 0], [0, 5, 0, 0, 0, 0, 2, 0], [4, 8, 3, 3, 3, 3, 3, 3], [4, 4, 4, 4, 4, 4, 4, 4], [6, 6, 9, 6, 6, 6, 6, 6], [5, 5, 5, 5, 5, 5, 5, 5], [7, 7, 4, 8, 7, 7, 3, 7], [0, 0, 0, 5, 0, 0, 0, 0], [5, 8, 2, 4, 5, 0, 5, 8], [4, 6, 4, 6, 6, 6, 6, 4], [3, 5, 2, 2, 8, 9, 2, 9], [7, 7, 7, 7, 7, 7, 7, 7], [0, 1, 5, 2, 5, 0, 0, 0], [9, 9, 9, 9, 9, 9, 9, 9], [8, 8, 8, 4, 8, 8, 8, 8], [7, 7, 7, 7, 7, 7, 7, 7], [5, 5, 5, 9, 5, 5, 2, 0], [5, 5, 5, 5, 5, 5, 5, 5], [9, 9, 9, 6, 4, 3, 8, 9], [1, 1, 1, 1, 1, 1, 1, 1], [0, 0, 0, 0, 0, 0, 0, 0], [0, 0, 0, 0, 0, 0, 0, 0]]\n"
          ],
          "name": "stdout"
        }
      ]
    },
    {
      "cell_type": "code",
      "metadata": {
        "id": "1XA5obEMNl48",
        "colab_type": "code",
        "outputId": "340a51fc-029c-4035-8c7d-8c8391200215",
        "colab": {
          "base_uri": "https://localhost:8080/",
          "height": 53
        }
      },
      "source": [
        "inList = []\n",
        "for i in range(len(ind)):\n",
        "    w = ind[i]\n",
        "    n = 0\n",
        "    for j in range(len(w)):\n",
        "        n_buf = 0\n",
        "        n_buf = w.count(w[j])\n",
        "        if n_buf > n:\n",
        "            n = n_buf\n",
        "            indJ = j\n",
        "    inList.append(w[indJ])\n",
        "print(inList)"
      ],
      "execution_count": 0,
      "outputs": [
        {
          "output_type": "stream",
          "text": [
            "[7, 5, 3, 3, 1, 8, 2, 2, 3, 5, 5, 0, 1, 1, 8, 3, 1, 5, 0, 3, 7, 2, 1, 4, 3, 3, 2, 9, 7, 7, 6, 7, 3, 7, 3, 9, 4, 0, 3, 4, 8, 1, 6, 1, 1, 0, 2, 6, 6, 5, 2, 9, 8, 1, 6, 5, 1, 2, 9, 3, 0, 3, 5, 0, 7, 2, 2, 1, 7, 8, 1, 7, 6, 4, 6, 2, 0, 0, 0, 0, 3, 4, 6, 5, 7, 0, 5, 6, 2, 7, 0, 9, 8, 7, 5, 5, 9, 1, 0, 0]\n"
          ],
          "name": "stdout"
        }
      ]
    },
    {
      "cell_type": "code",
      "metadata": {
        "id": "It1e9cEvNpAM",
        "colab_type": "code",
        "outputId": "fcd45c9c-7a23-4a7f-f298-8ff7f1709b16",
        "colab": {
          "base_uri": "https://localhost:8080/",
          "height": 33
        }
      },
      "source": [
        "n=0\n",
        "for i in range(len(y_test)):\n",
        "    if inList[i] == y_test[i]:\n",
        "        n=n+1\n",
        "res = n/y_test.shape[0]\n",
        "print(res)"
      ],
      "execution_count": 0,
      "outputs": [
        {
          "output_type": "stream",
          "text": [
            "0.71\n"
          ],
          "name": "stdout"
        }
      ]
    }
  ]
}