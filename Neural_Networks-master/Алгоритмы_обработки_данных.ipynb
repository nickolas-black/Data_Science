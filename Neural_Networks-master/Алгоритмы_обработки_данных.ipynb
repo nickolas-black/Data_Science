{
  "nbformat": 4,
  "nbformat_minor": 0,
  "metadata": {
    "colab": {
      "name": "Алгоритмы обработки данных.ipynb",
      "provenance": [],
      "collapsed_sections": []
    },
    "kernelspec": {
      "name": "python3",
      "display_name": "Python 3"
    }
  },
  "cells": [
    {
      "cell_type": "markdown",
      "metadata": {
        "id": "_2vM6IBE5Dbl",
        "colab_type": "text"
      },
      "source": [
        "# Алгоритмы обработки данных\n",
        "\n",
        "## автор: Колеганов Николай\n"
      ]
    },
    {
      "cell_type": "markdown",
      "metadata": {
        "id": "mGqPJ8UqN2De",
        "colab_type": "text"
      },
      "source": [
        "На входе датасет Бостон из ячейки [Трансформация таргета (целевой переменной]:\n",
        "\n",
        "\n",
        "1.   Использовать различные преобразования данных для датасета Бостон,\n",
        "с целью уменьшения средней абсолютной ошибки (MAE) на тестовой части при использовании линейной регрессии  (ячейки для запуска см. выше) \n",
        "\n",
        "2.   Составить таблицу, где зафиксировать преобразования и значение метрики\n",
        "\n",
        "3.   Описать выводы, к которым Вы пришли.\n",
        "\n",
        "\n",
        "\n",
        "\n",
        "\n",
        "\n",
        "\n",
        "\n",
        "Code of loading dataset:\n",
        "------------------------------------------------------------------\n",
        "dataset = load_boston()\n",
        "\n",
        "target = np.array(dataset.feature_names) == \"DIS\"\n",
        "\n",
        "X = dataset.data[:, np.logical_not(target)]\n",
        "\n",
        "y = dataset.data[:, target].squeeze()\n",
        "\n",
        "y_trans = QuantileTransformer(output_distribution='normal').fit_transform(dataset.data[:, target])\n",
        "\n",
        "\n",
        "\n",
        "\n",
        "\n"
      ]
    },
    {
      "cell_type": "markdown",
      "metadata": {
        "id": "G9Q8vYFW6J_p",
        "colab_type": "text"
      },
      "source": [
        "## Загрузка данных и библиотек"
      ]
    },
    {
      "cell_type": "code",
      "metadata": {
        "id": "Abj3MQs16QKK",
        "colab_type": "code",
        "colab": {
          "base_uri": "https://localhost:8080/",
          "height": 34
        },
        "outputId": "b54014a1-2433-4f9f-e39d-a8573166e050"
      },
      "source": [
        "import numpy as np\n",
        "import pandas as pd\n",
        "from sklearn.datasets import load_boston\n",
        "from sklearn.model_selection import train_test_split\n",
        "from sklearn import preprocessing\n",
        "from sklearn.linear_model import LinearRegression\n",
        "from sklearn.metrics import median_absolute_error\n",
        "from sklearn.compose import TransformedTargetRegressor\n",
        "from sklearn.preprocessing import PolynomialFeatures\n",
        "from sklearn.decomposition import PCA\n",
        "from sklearn.manifold import TSNE\n",
        "from sklearn.preprocessing import QuantileTransformer, quantile_transform\n",
        "from keras.models import Sequential\n",
        "from keras.layers import Dense, Dropout\n",
        "from keras.callbacks import ModelCheckpoint\n",
        "from keras.optimizers import Adam, SGD, RMSprop\n",
        "import tensorflow as tf\n",
        "import matplotlib.pyplot as plt"
      ],
      "execution_count": 1,
      "outputs": [
        {
          "output_type": "stream",
          "text": [
            "Using TensorFlow backend.\n"
          ],
          "name": "stderr"
        }
      ]
    },
    {
      "cell_type": "markdown",
      "metadata": {
        "id": "42uieogu5SK-",
        "colab_type": "text"
      },
      "source": [
        "# Подготавливаем и просматриваем данные"
      ]
    },
    {
      "cell_type": "code",
      "metadata": {
        "id": "a7wF9l_i5Ecq",
        "colab_type": "code",
        "colab": {}
      },
      "source": [
        "# отделяем фичи от таргета\n",
        "dataset = load_boston()\n",
        "target = np.array(dataset.feature_names) == \"DIS\"\n",
        "x = dataset.data[:, np.logical_not(target)]\n",
        "y = dataset.data[:, target].squeeze()"
      ],
      "execution_count": 0,
      "outputs": []
    },
    {
      "cell_type": "code",
      "metadata": {
        "id": "_ZhMa_C36uVd",
        "colab_type": "code",
        "outputId": "250917dd-7b9e-493b-8008-383eba9ff530",
        "colab": {
          "base_uri": "https://localhost:8080/",
          "height": 242
        }
      },
      "source": [
        "x"
      ],
      "execution_count": 3,
      "outputs": [
        {
          "output_type": "execute_result",
          "data": {
            "text/plain": [
              "array([[6.3200e-03, 1.8000e+01, 2.3100e+00, ..., 1.5300e+01, 3.9690e+02,\n",
              "        4.9800e+00],\n",
              "       [2.7310e-02, 0.0000e+00, 7.0700e+00, ..., 1.7800e+01, 3.9690e+02,\n",
              "        9.1400e+00],\n",
              "       [2.7290e-02, 0.0000e+00, 7.0700e+00, ..., 1.7800e+01, 3.9283e+02,\n",
              "        4.0300e+00],\n",
              "       ...,\n",
              "       [6.0760e-02, 0.0000e+00, 1.1930e+01, ..., 2.1000e+01, 3.9690e+02,\n",
              "        5.6400e+00],\n",
              "       [1.0959e-01, 0.0000e+00, 1.1930e+01, ..., 2.1000e+01, 3.9345e+02,\n",
              "        6.4800e+00],\n",
              "       [4.7410e-02, 0.0000e+00, 1.1930e+01, ..., 2.1000e+01, 3.9690e+02,\n",
              "        7.8800e+00]])"
            ]
          },
          "metadata": {
            "tags": []
          },
          "execution_count": 3
        }
      ]
    },
    {
      "cell_type": "code",
      "metadata": {
        "id": "rq_6ljx_7B8X",
        "colab_type": "code",
        "outputId": "18e8374f-3c43-492c-832b-c112a8fe7936",
        "colab": {
          "base_uri": "https://localhost:8080/",
          "height": 1000
        }
      },
      "source": [
        "y"
      ],
      "execution_count": 4,
      "outputs": [
        {
          "output_type": "execute_result",
          "data": {
            "text/plain": [
              "array([ 4.09  ,  4.9671,  4.9671,  6.0622,  6.0622,  6.0622,  5.5605,\n",
              "        5.9505,  6.0821,  6.5921,  6.3467,  6.2267,  5.4509,  4.7075,\n",
              "        4.4619,  4.4986,  4.4986,  4.2579,  3.7965,  3.7965,  3.7979,\n",
              "        4.0123,  3.9769,  4.0952,  4.3996,  4.4546,  4.682 ,  4.4534,\n",
              "        4.4547,  4.239 ,  4.233 ,  4.175 ,  3.99  ,  3.7872,  3.7598,\n",
              "        3.3603,  3.3779,  3.9342,  3.8473,  5.4011,  5.4011,  5.7209,\n",
              "        5.7209,  5.7209,  5.7209,  5.1004,  5.1004,  5.6894,  5.87  ,\n",
              "        6.0877,  6.8147,  6.8147,  6.8147,  6.8147,  7.3197,  8.6966,\n",
              "        9.1876,  8.3248,  7.8148,  6.932 ,  7.2254,  6.8185,  7.2255,\n",
              "        7.9809,  9.2229,  6.6115,  6.6115,  6.498 ,  6.498 ,  6.498 ,\n",
              "        5.2873,  5.2873,  5.2873,  5.2873,  4.2515,  4.5026,  4.0522,\n",
              "        4.0905,  5.0141,  4.5026,  5.4007,  5.4007,  5.4007,  5.4007,\n",
              "        4.7794,  4.4377,  4.4272,  3.7476,  3.4217,  3.4145,  3.0923,\n",
              "        3.0921,  3.6659,  3.6659,  3.615 ,  3.4952,  3.4952,  3.4952,\n",
              "        3.4952,  3.4952,  2.7778,  2.8561,  2.7147,  2.7147,  2.421 ,\n",
              "        2.1069,  2.211 ,  2.1224,  2.4329,  2.5451,  2.7778,  2.6775,\n",
              "        2.3534,  2.548 ,  2.2565,  2.4631,  2.7301,  2.7474,  2.4775,\n",
              "        2.7592,  2.2577,  2.1974,  2.0869,  1.9444,  2.0063,  1.9929,\n",
              "        1.7572,  1.7883,  1.8125,  1.9799,  2.1185,  2.271 ,  2.3274,\n",
              "        2.4699,  2.346 ,  2.1107,  1.9669,  1.8498,  1.6686,  1.6687,\n",
              "        1.6119,  1.4394,  1.3216,  1.4118,  1.3459,  1.4191,  1.5166,\n",
              "        1.4608,  1.5296,  1.5257,  1.618 ,  1.5916,  1.6102,  1.6232,\n",
              "        1.7494,  1.7455,  1.7364,  1.8773,  1.7573,  1.7659,  1.7984,\n",
              "        1.9709,  2.0407,  2.162 ,  2.422 ,  2.2834,  2.0459,  2.4259,\n",
              "        2.1   ,  2.2625,  2.4259,  2.3887,  2.5961,  2.6463,  2.7019,\n",
              "        3.1323,  3.5549,  3.3175,  2.9153,  2.829 ,  2.741 ,  2.5979,\n",
              "        2.7006,  2.847 ,  2.9879,  3.2797,  3.1992,  3.7886,  4.5667,\n",
              "        4.5667,  6.4798,  6.4798,  6.4798,  6.2196,  6.2196,  5.6484,\n",
              "        7.309 ,  7.309 ,  7.309 ,  7.6534,  7.6534,  6.27  ,  6.27  ,\n",
              "        5.118 ,  5.118 ,  3.9454,  4.3549,  4.3549,  4.2392,  3.875 ,\n",
              "        3.8771,  3.665 ,  3.6526,  3.9454,  3.5875,  3.9454,  3.1121,\n",
              "        3.4211,  2.8893,  3.3633,  2.8617,  3.048 ,  3.2721,  3.2721,\n",
              "        2.8944,  2.8944,  3.2157,  3.2157,  3.3751,  3.3751,  3.6715,\n",
              "        3.6715,  3.8384,  3.6519,  3.6519,  3.6519,  4.148 ,  4.148 ,\n",
              "        6.1899,  6.1899,  6.3361,  6.3361,  7.0355,  7.0355,  7.9549,\n",
              "        7.9549,  8.0555,  8.0555,  7.8265,  7.8265,  7.3967,  7.3967,\n",
              "        8.9067,  8.9067,  9.2203,  9.2203,  6.3361,  1.801 ,  1.8946,\n",
              "        2.0107,  2.1121,  2.1398,  2.2885,  2.0788,  1.9301,  1.9865,\n",
              "        2.1329,  2.4216,  2.872 ,  3.9175,  4.429 ,  4.429 ,  3.9175,\n",
              "        4.3665,  4.0776,  4.2673,  4.7872,  4.8628,  4.1403,  4.1007,\n",
              "        4.6947,  5.2447,  5.2119,  5.885 ,  7.3073,  7.3073,  9.0892,\n",
              "        7.3172,  7.3172,  7.3172,  5.1167,  5.1167,  5.1167,  5.5027,\n",
              "        5.5027,  5.9604,  5.9604,  6.32  ,  7.8278,  7.8278,  7.8278,\n",
              "        5.4917,  5.4917,  5.4917,  4.022 ,  3.37  ,  3.0992,  3.1827,\n",
              "        3.3175,  3.1025,  2.5194,  2.6403,  2.834 ,  3.2628,  3.6023,\n",
              "        3.945 ,  3.9986,  4.0317,  3.5325,  4.0019,  4.5404,  4.5404,\n",
              "        4.7211,  4.7211,  4.7211,  5.4159,  5.4159,  5.4159,  5.2146,\n",
              "        5.2146,  5.8736,  6.6407,  6.6407,  6.4584,  6.4584,  5.9853,\n",
              "        5.2311,  5.615 ,  4.8122,  4.8122,  4.8122,  7.0379,  6.2669,\n",
              "        5.7321,  6.4654,  8.0136,  8.0136,  8.5353,  8.344 ,  8.7921,\n",
              "        8.7921, 10.7103, 10.7103, 12.1265, 10.5857, 10.5857,  2.1222,\n",
              "        2.5052,  2.7227,  2.5091,  2.5182,  2.2955,  2.1036,  1.9047,\n",
              "        1.9047,  1.6132,  1.7523,  1.5106,  1.3325,  1.3567,  1.2024,\n",
              "        1.1691,  1.1296,  1.1742,  1.137 ,  1.3163,  1.3449,  1.358 ,\n",
              "        1.3861,  1.3861,  1.4165,  1.5192,  1.5804,  1.5331,  1.4395,\n",
              "        1.4261,  1.4672,  1.5184,  1.5895,  1.7281,  1.9265,  2.1678,\n",
              "        1.77  ,  1.7912,  1.7821,  1.7257,  1.6768,  1.6334,  1.4896,\n",
              "        1.5004,  1.5888,  1.5741,  1.639 ,  1.7028,  1.6074,  1.4254,\n",
              "        1.1781,  1.2852,  1.4547,  1.4655,  1.413 ,  1.5275,  1.5539,\n",
              "        1.5894,  1.6582,  1.8347,  1.8195,  1.6475,  1.8026,  1.794 ,\n",
              "        1.8589,  1.8746,  1.9512,  2.0218,  2.0635,  1.9096,  1.9976,\n",
              "        1.8629,  1.9356,  1.9682,  2.0527,  2.0882,  2.2004,  2.3158,\n",
              "        2.2222,  2.1247,  2.0026,  1.9142,  1.8206,  1.8172,  1.8662,\n",
              "        2.0651,  2.0048,  1.9784,  1.8956,  1.9879,  2.072 ,  2.198 ,\n",
              "        2.2616,  2.185 ,  2.3236,  2.3552,  2.3682,  2.4527,  2.4961,\n",
              "        2.4358,  2.5806,  2.7792,  2.7831,  2.7175,  2.5975,  2.5671,\n",
              "        2.7344,  2.8016,  2.9634,  3.0665,  2.8715,  2.5403,  2.9084,\n",
              "        2.8237,  3.0334,  3.0993,  2.8965,  2.5329,  2.4298,  2.206 ,\n",
              "        2.3053,  2.1007,  2.1705,  1.9512,  3.4242,  3.3317,  3.4106,\n",
              "        4.0983,  3.724 ,  3.9917,  3.5459,  3.1523,  1.8209,  1.7554,\n",
              "        1.8226,  1.8681,  2.1099,  2.3817,  2.3817,  2.7986,  2.7986,\n",
              "        2.8927,  2.4091,  2.3999,  2.4982,  2.4786,  2.2875,  2.1675,\n",
              "        2.3889,  2.505 ])"
            ]
          },
          "metadata": {
            "tags": []
          },
          "execution_count": 4
        }
      ]
    },
    {
      "cell_type": "markdown",
      "metadata": {
        "id": "E05E-i9g861x",
        "colab_type": "text"
      },
      "source": [
        "## Cоздаем пустой pandas dataframe для выводов"
      ]
    },
    {
      "cell_type": "code",
      "metadata": {
        "id": "ZR6OZ1hn8421",
        "colab_type": "code",
        "colab": {}
      },
      "source": [
        "columns =['Trasnform type', 'MAE']\n",
        "conclusions = pd.DataFrame(columns=columns)"
      ],
      "execution_count": 0,
      "outputs": []
    },
    {
      "cell_type": "markdown",
      "metadata": {
        "id": "MssIxDiC9cRL",
        "colab_type": "text"
      },
      "source": [
        "## Делим данные для train и test"
      ]
    },
    {
      "cell_type": "code",
      "metadata": {
        "id": "CtFhSduI9rSs",
        "colab_type": "code",
        "colab": {}
      },
      "source": [
        "x_train, x_test, y_train, y_test = train_test_split(x, y, random_state=1)"
      ],
      "execution_count": 0,
      "outputs": []
    },
    {
      "cell_type": "markdown",
      "metadata": {
        "id": "ZzHoMbce9z_1",
        "colab_type": "text"
      },
      "source": [
        "# Обучаем регрессию на исходных данных"
      ]
    },
    {
      "cell_type": "code",
      "metadata": {
        "id": "0nmo9k6A95as",
        "colab_type": "code",
        "outputId": "662f9ffa-ece7-4c72-cac6-01a920208312",
        "colab": {
          "base_uri": "https://localhost:8080/",
          "height": 398
        }
      },
      "source": [
        "regr = LinearRegression()\n",
        "regr.fit(x_train, y_train)\n",
        "y_pred = regr.predict(x_test)\n",
        "print(y_pred)"
      ],
      "execution_count": 7,
      "outputs": [
        {
          "output_type": "stream",
          "text": [
            "[5.38993768 6.07672321 4.08312286 5.89384695 1.68846199 2.10466753\n",
            " 8.05993425 3.41488745 2.7640194  4.19915205 2.88124927 6.56939446\n",
            " 3.6858715  7.96381297 3.24779259 1.98257576 1.93531676 3.0753205\n",
            " 7.62714302 1.08846052 3.56300405 0.76920512 3.15907388 4.59907\n",
            " 8.04121338 2.17960513 3.63695434 4.86580372 2.95521667 2.03052308\n",
            " 7.15145511 5.41355445 7.79306216 1.61120326 4.90531324 4.08615336\n",
            " 1.72052261 4.57537207 2.26653226 2.78142895 5.13552364 4.79363464\n",
            " 3.57368831 2.58241238 2.24601131 2.21502256 1.18620069 1.87583754\n",
            " 1.92885317 3.7652489  2.67728895 5.62653675 4.63292546 1.82790457\n",
            " 2.11423674 5.24094625 2.52135716 3.8792763  3.82790437 3.40515035\n",
            " 1.60338792 4.53873607 1.98761973 2.7313058  5.53511197 4.30395812\n",
            " 3.29839029 3.95074425 4.27043684 1.97326663 4.84470764 1.95685887\n",
            " 2.20146927 3.53375507 3.73500454 3.87092266 1.6929484  6.98597187\n",
            " 0.37181941 7.84976376 2.13963736 3.2275562  5.96822862 1.78168219\n",
            " 6.42811875 7.59649375 1.80122141 5.09080843 3.56290304 2.19169082\n",
            " 2.93223282 2.72752196 1.70802256 4.08070226 1.87005617 3.76792308\n",
            " 3.51102672 4.87966581 3.25844018 4.31638607 3.28679518 1.53210634\n",
            " 5.43614309 6.07838057 2.0526591  4.26145265 3.22454412 1.70491734\n",
            " 4.39410611 3.77700203 3.97925981 3.60124991 2.54432174 5.22428145\n",
            " 2.79009964 6.18543848 4.76442933 4.83597109 7.86033431 3.5895614\n",
            " 5.09614499 1.91025888 5.37121809 1.67947183 7.00201557 3.60504155\n",
            " 4.69507301]\n"
          ],
          "name": "stdout"
        }
      ]
    },
    {
      "cell_type": "code",
      "metadata": {
        "id": "P8k1Z-AX-Bqg",
        "colab_type": "code",
        "outputId": "e5a259fb-c5c2-4b94-abb2-d85dcd87cc86",
        "colab": {
          "base_uri": "https://localhost:8080/",
          "height": 34
        }
      },
      "source": [
        "# считаем MAE на исходных данных\n",
        "MAE_pure = np.round(median_absolute_error(y_test, y_pred), 2)\n",
        "print(MAE_pure)"
      ],
      "execution_count": 8,
      "outputs": [
        {
          "output_type": "stream",
          "text": [
            "0.63\n"
          ],
          "name": "stdout"
        }
      ]
    },
    {
      "cell_type": "code",
      "metadata": {
        "id": "4nMDTcHq-GN0",
        "colab_type": "code",
        "colab": {}
      },
      "source": [
        "# добавляем строку в таблицу с выводами\n",
        "mae_pure_row = pd.DataFrame([['No transformation', MAE_pure]], columns=('Trasnform type', 'MAE'))\n",
        "conclusions = conclusions.append(mae_pure_row)"
      ],
      "execution_count": 0,
      "outputs": []
    },
    {
      "cell_type": "markdown",
      "metadata": {
        "id": "OXzUiwwr7Hdh",
        "colab_type": "text"
      },
      "source": [
        "**Стандартизация (Z-преобразование)**"
      ]
    },
    {
      "cell_type": "code",
      "metadata": {
        "id": "kqo3yuuiPENV",
        "colab_type": "code",
        "colab": {}
      },
      "source": [
        "dataset = load_boston()\n",
        "target = np.array(dataset.feature_names) == \"DIS\"\n",
        "x_z = dataset.data[:, np.logical_not(target)]\n",
        "y_z = dataset.data[:, target].squeeze()"
      ],
      "execution_count": 0,
      "outputs": []
    },
    {
      "cell_type": "code",
      "metadata": {
        "id": "-B_GiNVq577n",
        "colab_type": "code",
        "colab": {}
      },
      "source": [
        "scaler = preprocessing.StandardScaler().fit(x_z)"
      ],
      "execution_count": 0,
      "outputs": []
    },
    {
      "cell_type": "code",
      "metadata": {
        "id": "pfcSVd237AGK",
        "colab_type": "code",
        "outputId": "379dd351-3043-43a2-c4ae-18418bb40c0e",
        "colab": {
          "base_uri": "https://localhost:8080/",
          "height": 34
        }
      },
      "source": [
        "scaler"
      ],
      "execution_count": 12,
      "outputs": [
        {
          "output_type": "execute_result",
          "data": {
            "text/plain": [
              "StandardScaler(copy=True, with_mean=True, with_std=True)"
            ]
          },
          "metadata": {
            "tags": []
          },
          "execution_count": 12
        }
      ]
    },
    {
      "cell_type": "code",
      "metadata": {
        "id": "lmnsgOfC8B3a",
        "colab_type": "code",
        "colab": {}
      },
      "source": [
        "X_stand = scaler.transform(x_z)"
      ],
      "execution_count": 0,
      "outputs": []
    },
    {
      "cell_type": "code",
      "metadata": {
        "id": "oQpnrqXJ9KyU",
        "colab_type": "code",
        "outputId": "1dc87560-9617-42fc-eb8c-4ae0688c970a",
        "colab": {
          "base_uri": "https://localhost:8080/",
          "height": 242
        }
      },
      "source": [
        "X_stand"
      ],
      "execution_count": 14,
      "outputs": [
        {
          "output_type": "execute_result",
          "data": {
            "text/plain": [
              "array([[-0.41978194,  0.28482986, -1.2879095 , ..., -1.45900038,\n",
              "         0.44105193, -1.0755623 ],\n",
              "       [-0.41733926, -0.48772236, -0.59338101, ..., -0.30309415,\n",
              "         0.44105193, -0.49243937],\n",
              "       [-0.41734159, -0.48772236, -0.59338101, ..., -0.30309415,\n",
              "         0.39642699, -1.2087274 ],\n",
              "       ...,\n",
              "       [-0.41344658, -0.48772236,  0.11573841, ...,  1.17646583,\n",
              "         0.44105193, -0.98304761],\n",
              "       [-0.40776407, -0.48772236,  0.11573841, ...,  1.17646583,\n",
              "         0.4032249 , -0.86530163],\n",
              "       [-0.41500016, -0.48772236,  0.11573841, ...,  1.17646583,\n",
              "         0.44105193, -0.66905833]])"
            ]
          },
          "metadata": {
            "tags": []
          },
          "execution_count": 14
        }
      ]
    },
    {
      "cell_type": "code",
      "metadata": {
        "id": "Cr9Zi7Xj8JGG",
        "colab_type": "code",
        "outputId": "616648cb-87d4-413b-cdd6-59513a9a2d9c",
        "colab": {
          "base_uri": "https://localhost:8080/",
          "height": 69
        }
      },
      "source": [
        "X_stand.mean(axis=0)"
      ],
      "execution_count": 15,
      "outputs": [
        {
          "output_type": "execute_result",
          "data": {
            "text/plain": [
              "array([-1.12338772e-16,  7.89881994e-17,  2.10635198e-16, -3.51058664e-17,\n",
              "       -1.96592852e-16, -1.08828186e-16, -1.47444639e-16, -1.12338772e-16,\n",
              "        0.00000000e+00, -4.21270397e-16, -7.44244367e-16, -3.08931624e-16])"
            ]
          },
          "metadata": {
            "tags": []
          },
          "execution_count": 15
        }
      ]
    },
    {
      "cell_type": "code",
      "metadata": {
        "id": "GBqbo74B8KRr",
        "colab_type": "code",
        "outputId": "e9df8b14-2b94-4d4e-de82-3a1a78dbc26f",
        "colab": {
          "base_uri": "https://localhost:8080/",
          "height": 34
        }
      },
      "source": [
        "X_stand.var(axis=0)"
      ],
      "execution_count": 16,
      "outputs": [
        {
          "output_type": "execute_result",
          "data": {
            "text/plain": [
              "array([1., 1., 1., 1., 1., 1., 1., 1., 1., 1., 1., 1.])"
            ]
          },
          "metadata": {
            "tags": []
          },
          "execution_count": 16
        }
      ]
    },
    {
      "cell_type": "code",
      "metadata": {
        "id": "hmFmws7-CCYU",
        "colab_type": "code",
        "colab": {}
      },
      "source": [
        "# делим преобразованный датасет на тренировочный и тестовый\n",
        "X_train_st, X_test_st, y_train_st, y_test_st = train_test_split(X_stand, y_z, random_state=1)"
      ],
      "execution_count": 0,
      "outputs": []
    },
    {
      "cell_type": "markdown",
      "metadata": {
        "id": "RTMlodIGCVh9",
        "colab_type": "text"
      },
      "source": [
        "## Обучаем на получившихся"
      ]
    },
    {
      "cell_type": "code",
      "metadata": {
        "id": "_wyd0QCdCSxA",
        "colab_type": "code",
        "colab": {}
      },
      "source": [
        "# обучаем на стандартизованных данных \n",
        "regr_ST = LinearRegression()\n",
        "regr_ST.fit(X_train_st, y_train_st)\n",
        "y_pred_ST = regr_ST.predict(X_test_st)"
      ],
      "execution_count": 0,
      "outputs": []
    },
    {
      "cell_type": "code",
      "metadata": {
        "id": "OxLiV225CqDo",
        "colab_type": "code",
        "outputId": "3d21cce4-c690-41d6-eabb-71464ea597ec",
        "colab": {
          "base_uri": "https://localhost:8080/",
          "height": 34
        }
      },
      "source": [
        "# Считаем MAE на преобразованных данных \n",
        "MAE_ST = np.round(median_absolute_error(y_test_st, y_pred_ST), 2) \n",
        "print(MAE_ST)"
      ],
      "execution_count": 19,
      "outputs": [
        {
          "output_type": "stream",
          "text": [
            "0.63\n"
          ],
          "name": "stdout"
        }
      ]
    },
    {
      "cell_type": "code",
      "metadata": {
        "id": "LhLni8wIC554",
        "colab_type": "code",
        "colab": {}
      },
      "source": [
        "# добавляем строку в таблицу с выводами\n",
        "mae_st_row = pd.DataFrame([['StandardScaler', MAE_ST]], columns=('Trasnform type', 'MAE'))\n",
        "conclusions =  conclusions.append(mae_st_row, ignore_index=True)"
      ],
      "execution_count": 0,
      "outputs": []
    },
    {
      "cell_type": "markdown",
      "metadata": {
        "id": "ZN9UYLRW8ltw",
        "colab_type": "text"
      },
      "source": [
        "**Шкалирование к диапазону**"
      ]
    },
    {
      "cell_type": "code",
      "metadata": {
        "id": "xhRJsVaN8QsY",
        "colab_type": "code",
        "colab": {}
      },
      "source": [
        "min_max_scaler = preprocessing.MinMaxScaler()\n",
        "X_minmax = min_max_scaler.fit_transform(x)"
      ],
      "execution_count": 0,
      "outputs": []
    },
    {
      "cell_type": "code",
      "metadata": {
        "id": "RSnDs3bv9Fpe",
        "colab_type": "code",
        "outputId": "b40a80e3-cc60-457a-821c-3a0bb430bf75",
        "colab": {
          "base_uri": "https://localhost:8080/",
          "height": 242
        }
      },
      "source": [
        "X_minmax"
      ],
      "execution_count": 22,
      "outputs": [
        {
          "output_type": "execute_result",
          "data": {
            "text/plain": [
              "array([[0.00000000e+00, 1.80000000e-01, 6.78152493e-02, ...,\n",
              "        2.87234043e-01, 1.00000000e+00, 8.96799117e-02],\n",
              "       [2.35922539e-04, 0.00000000e+00, 2.42302053e-01, ...,\n",
              "        5.53191489e-01, 1.00000000e+00, 2.04470199e-01],\n",
              "       [2.35697744e-04, 0.00000000e+00, 2.42302053e-01, ...,\n",
              "        5.53191489e-01, 9.89737254e-01, 6.34657837e-02],\n",
              "       ...,\n",
              "       [6.11892474e-04, 0.00000000e+00, 4.20454545e-01, ...,\n",
              "        8.93617021e-01, 1.00000000e+00, 1.07891832e-01],\n",
              "       [1.16072990e-03, 0.00000000e+00, 4.20454545e-01, ...,\n",
              "        8.93617021e-01, 9.91300620e-01, 1.31070640e-01],\n",
              "       [4.61841693e-04, 0.00000000e+00, 4.20454545e-01, ...,\n",
              "        8.93617021e-01, 1.00000000e+00, 1.69701987e-01]])"
            ]
          },
          "metadata": {
            "tags": []
          },
          "execution_count": 22
        }
      ]
    },
    {
      "cell_type": "code",
      "metadata": {
        "id": "BUvoeTNTAlVz",
        "colab_type": "code",
        "outputId": "1f0876ac-f35e-4169-ab11-ce3cac8b6370",
        "colab": {
          "base_uri": "https://localhost:8080/",
          "height": 69
        }
      },
      "source": [
        "X_minmax.var(axis=0)"
      ],
      "execution_count": 23,
      "outputs": [
        {
          "output_type": "execute_result",
          "data": {
            "text/plain": [
              "array([0.00932841, 0.05428618, 0.06311681, 0.06438548, 0.0567372 ,\n",
              "       0.01808855, 0.08387336, 0.14303692, 0.10324509, 0.05293941,\n",
              "       0.0528898 , 0.03875164])"
            ]
          },
          "metadata": {
            "tags": []
          },
          "execution_count": 23
        }
      ]
    },
    {
      "cell_type": "code",
      "metadata": {
        "id": "f14VLef_DD3d",
        "colab_type": "code",
        "colab": {}
      },
      "source": [
        "# делим преобразованный датасет на тренировочный и тестовый\n",
        "X_train_MM, X_test_MM, y_train_MM, y_test_MM = train_test_split(X_minmax, y, random_state=1)"
      ],
      "execution_count": 0,
      "outputs": []
    },
    {
      "cell_type": "markdown",
      "metadata": {
        "id": "Wofw4STiDRUL",
        "colab_type": "text"
      },
      "source": [
        "## Обучаем "
      ]
    },
    {
      "cell_type": "code",
      "metadata": {
        "id": "z2eYTsY4DUAp",
        "colab_type": "code",
        "colab": {}
      },
      "source": [
        "regr_MM = LinearRegression()\n",
        "regr_MM.fit(X_train_MM, y_train_MM)\n",
        "y_pred_MM = regr_MM.predict(X_test_MM)"
      ],
      "execution_count": 0,
      "outputs": []
    },
    {
      "cell_type": "code",
      "metadata": {
        "id": "xJVO_981DfNf",
        "colab_type": "code",
        "outputId": "9c19cdd2-deb4-4473-e84f-57baab29a7dd",
        "colab": {
          "base_uri": "https://localhost:8080/",
          "height": 34
        }
      },
      "source": [
        "# Считаем MAE на преобразованных данных \n",
        "MAE_MM = np.round(median_absolute_error(y_test_MM, y_pred_MM), 2) \n",
        "print(MAE_MM)"
      ],
      "execution_count": 26,
      "outputs": [
        {
          "output_type": "stream",
          "text": [
            "0.63\n"
          ],
          "name": "stdout"
        }
      ]
    },
    {
      "cell_type": "code",
      "metadata": {
        "id": "OoyeTq_fDo88",
        "colab_type": "code",
        "colab": {}
      },
      "source": [
        "# добавляем строку в таблицу с выводами\n",
        "mae_mm_row = pd.DataFrame([['MinMaxScaler', MAE_MM]], columns=('Trasnform type', 'MAE'))\n",
        "conclusions =  conclusions.append(mae_mm_row, ignore_index=True)"
      ],
      "execution_count": 0,
      "outputs": []
    },
    {
      "cell_type": "markdown",
      "metadata": {
        "id": "msjMf7D1-Zy1",
        "colab_type": "text"
      },
      "source": [
        "**Обработка выбросов**"
      ]
    },
    {
      "cell_type": "code",
      "metadata": {
        "id": "o-jM6HAX-pBH",
        "colab_type": "code",
        "outputId": "79e396f6-fe85-47c6-9ccf-4aae3fa97592",
        "colab": {
          "base_uri": "https://localhost:8080/",
          "height": 52
        }
      },
      "source": [
        "transformer = preprocessing.RobustScaler().fit(x)\n",
        "transformer"
      ],
      "execution_count": 28,
      "outputs": [
        {
          "output_type": "execute_result",
          "data": {
            "text/plain": [
              "RobustScaler(copy=True, quantile_range=(25.0, 75.0), with_centering=True,\n",
              "             with_scaling=True)"
            ]
          },
          "metadata": {
            "tags": []
          },
          "execution_count": 28
        }
      ]
    },
    {
      "cell_type": "code",
      "metadata": {
        "id": "8opZpgGH-sXy",
        "colab_type": "code",
        "colab": {}
      },
      "source": [
        "X_stand_r = transformer.transform(x)"
      ],
      "execution_count": 0,
      "outputs": []
    },
    {
      "cell_type": "code",
      "metadata": {
        "id": "KHy-bvKv1w2R",
        "colab_type": "code",
        "outputId": "046bed02-ad0c-42f9-8333-1b25f9132aa7",
        "colab": {
          "base_uri": "https://localhost:8080/",
          "height": 242
        }
      },
      "source": [
        "X_stand_r"
      ],
      "execution_count": 30,
      "outputs": [
        {
          "output_type": "execute_result",
          "data": {
            "text/plain": [
              "array([[-0.06959315,  1.44      , -0.57164988, ..., -1.33928571,\n",
              "         0.26190191, -0.63768116],\n",
              "       [-0.06375455,  0.        , -0.20294345, ..., -0.44642857,\n",
              "         0.26190191, -0.22188906],\n",
              "       [-0.06376011,  0.        , -0.20294345, ..., -0.44642857,\n",
              "         0.06667466, -0.73263368],\n",
              "       ...,\n",
              "       [-0.05445006,  0.        ,  0.17350891, ...,  0.69642857,\n",
              "         0.26190191, -0.57171414],\n",
              "       [-0.04086745,  0.        ,  0.17350891, ...,  0.69642857,\n",
              "         0.09641444, -0.48775612],\n",
              "       [-0.05816351,  0.        ,  0.17350891, ...,  0.69642857,\n",
              "         0.26190191, -0.34782609]])"
            ]
          },
          "metadata": {
            "tags": []
          },
          "execution_count": 30
        }
      ]
    },
    {
      "cell_type": "code",
      "metadata": {
        "id": "UxK9PhIlECj5",
        "colab_type": "code",
        "colab": {}
      },
      "source": [
        "# делим преобразованный датасет на тренировочный и тестовый\n",
        "X_train_RS, X_test_RS, y_train_RS, y_test_RS = train_test_split(X_stand_r, y, random_state=1)"
      ],
      "execution_count": 0,
      "outputs": []
    },
    {
      "cell_type": "markdown",
      "metadata": {
        "id": "LZZhR9acEIRM",
        "colab_type": "text"
      },
      "source": [
        "## Обучаем"
      ]
    },
    {
      "cell_type": "code",
      "metadata": {
        "id": "EMr_UOjHEKRw",
        "colab_type": "code",
        "colab": {}
      },
      "source": [
        "# обучаем на преобразованных данных \n",
        "regr_RS = LinearRegression()\n",
        "regr_RS.fit(X_train_RS, y_train_RS)\n",
        "y_pred_RS = regr_RS.predict(X_test_RS)"
      ],
      "execution_count": 0,
      "outputs": []
    },
    {
      "cell_type": "code",
      "metadata": {
        "id": "6UCfs-bWEM5p",
        "colab_type": "code",
        "outputId": "230a3599-759a-47f3-ab64-e2daee11d173",
        "colab": {
          "base_uri": "https://localhost:8080/",
          "height": 34
        }
      },
      "source": [
        "# Считаем MAE на преобразованных данных \n",
        "MAE_RS = np.round(median_absolute_error(y_test_RS, y_pred_RS), 2) \n",
        "print(MAE_RS)"
      ],
      "execution_count": 33,
      "outputs": [
        {
          "output_type": "stream",
          "text": [
            "0.63\n"
          ],
          "name": "stdout"
        }
      ]
    },
    {
      "cell_type": "code",
      "metadata": {
        "id": "5nVEq3dxETQf",
        "colab_type": "code",
        "colab": {}
      },
      "source": [
        "# добавляем строку в таблицу с выводами\n",
        "mae_mm_rs = pd.DataFrame([['RobustScaler', MAE_RS]], columns=('Trasnform type', 'MAE'))\n",
        "conclusions =  conclusions.append(mae_mm_rs, ignore_index=True)"
      ],
      "execution_count": 0,
      "outputs": []
    },
    {
      "cell_type": "markdown",
      "metadata": {
        "id": "TP-i7TTKGrDm",
        "colab_type": "text"
      },
      "source": [
        "# Приведение к распределению Гаусса"
      ]
    },
    {
      "cell_type": "code",
      "metadata": {
        "id": "WQX8Z0MPEDM7",
        "colab_type": "code",
        "colab": {}
      },
      "source": [
        "# используем преобразование Йео-Джонсона по умолчанию\n",
        "power_tran = preprocessing.PowerTransformer(standardize=True)\n",
        "X_PT = power_tran.fit_transform(x)"
      ],
      "execution_count": 0,
      "outputs": []
    },
    {
      "cell_type": "code",
      "metadata": {
        "id": "aPDcespFEuYh",
        "colab_type": "code",
        "colab": {}
      },
      "source": [
        "# делим преобразованный датасет на тренировочный и тестовый\n",
        "X_train_PT, X_test_PT, y_train_PT, y_test_PT = train_test_split(X_PT, y, random_state=1)"
      ],
      "execution_count": 0,
      "outputs": []
    },
    {
      "cell_type": "markdown",
      "metadata": {
        "id": "XwIdPQg7EzgU",
        "colab_type": "text"
      },
      "source": [
        "## Обучаем"
      ]
    },
    {
      "cell_type": "code",
      "metadata": {
        "id": "sEm6ZqdiE2HH",
        "colab_type": "code",
        "colab": {}
      },
      "source": [
        "regr_PT = LinearRegression()\n",
        "regr_PT.fit(X_train_PT, y_train_PT)\n",
        "y_pred_PT = regr_PT.predict(X_test_PT)"
      ],
      "execution_count": 0,
      "outputs": []
    },
    {
      "cell_type": "code",
      "metadata": {
        "id": "DdSfDqleExVK",
        "colab_type": "code",
        "outputId": "ef2f08fa-dc87-447a-dbda-eff2ae0af8e2",
        "colab": {
          "base_uri": "https://localhost:8080/",
          "height": 34
        }
      },
      "source": [
        "# Считаем MAE на преобразованных данных \n",
        "MAE_PT = np.round(median_absolute_error(y_test_PT, y_pred_PT), 2) \n",
        "print(MAE_PT)"
      ],
      "execution_count": 38,
      "outputs": [
        {
          "output_type": "stream",
          "text": [
            "0.7\n"
          ],
          "name": "stdout"
        }
      ]
    },
    {
      "cell_type": "code",
      "metadata": {
        "id": "gV6fyLp-FBPw",
        "colab_type": "code",
        "colab": {}
      },
      "source": [
        "# добавляем строку в таблицу с выводами\n",
        "mae_mm_pt = pd.DataFrame([['PowerTransformer', MAE_PT]], columns=('Trasnform type', 'MAE'))\n",
        "conclusions =  conclusions.append(mae_mm_pt, ignore_index=True)"
      ],
      "execution_count": 0,
      "outputs": []
    },
    {
      "cell_type": "markdown",
      "metadata": {
        "id": "vVhiBBwhTLwe",
        "colab_type": "text"
      },
      "source": [
        "**Преобразование при помощи квантилей**\n",
        "\n",
        "---\n",
        "\n"
      ]
    },
    {
      "cell_type": "code",
      "metadata": {
        "id": "chCXx-4uTJ0Y",
        "colab_type": "code",
        "outputId": "21af3bda-c391-40ca-db4d-8b48a2635aaa",
        "colab": {
          "base_uri": "https://localhost:8080/",
          "height": 72
        }
      },
      "source": [
        "quantile_tran = preprocessing.QuantileTransformer(output_distribution='normal', random_state=0)\n",
        "X_trans = quantile_tran.fit_transform(x)\n"
      ],
      "execution_count": 40,
      "outputs": [
        {
          "output_type": "stream",
          "text": [
            "/usr/local/lib/python3.6/dist-packages/sklearn/preprocessing/_data.py:2357: UserWarning: n_quantiles (1000) is greater than the total number of samples (506). n_quantiles is set to n_samples.\n",
            "  % (self.n_quantiles, n_samples))\n"
          ],
          "name": "stderr"
        }
      ]
    },
    {
      "cell_type": "code",
      "metadata": {
        "id": "IkSi2wj-UJFS",
        "colab_type": "code",
        "outputId": "dcd2ec05-9829-4721-c9cc-e4170dfe3662",
        "colab": {
          "base_uri": "https://localhost:8080/",
          "height": 242
        }
      },
      "source": [
        "X_trans"
      ],
      "execution_count": 41,
      "outputs": [
        {
          "output_type": "execute_result",
          "data": {
            "text/plain": [
              "array([[-5.19933758,  0.70121585, -1.48097265, ..., -1.06007845,\n",
              "         5.19933758, -1.17103637],\n",
              "       [-1.66934259, -5.19933758, -0.26104292, ..., -0.4682526 ,\n",
              "         5.19933758, -0.33106676],\n",
              "       [-1.68968043, -5.19933758, -0.26104292, ..., -0.4682526 ,\n",
              "         0.14193834, -1.51137447],\n",
              "       ...,\n",
              "       [-0.89221589, -5.19933758,  0.21762312, ...,  1.53512765,\n",
              "         5.19933758, -0.98473862],\n",
              "       [-0.45996053, -5.19933758,  0.21762312, ...,  1.53512765,\n",
              "         0.24055376, -0.79991098],\n",
              "       [-1.08656811, -5.19933758,  0.21762312, ...,  1.53512765,\n",
              "         5.19933758, -0.49332612]])"
            ]
          },
          "metadata": {
            "tags": []
          },
          "execution_count": 41
        }
      ]
    },
    {
      "cell_type": "code",
      "metadata": {
        "id": "8AWugKF9FJxz",
        "colab_type": "code",
        "colab": {}
      },
      "source": [
        "# делим преобразованный датасет на тренировочный и тестовый\n",
        "X_train_QT, X_test_QT, y_train_QT, y_test_QT = train_test_split(X_trans, y, random_state=1)"
      ],
      "execution_count": 0,
      "outputs": []
    },
    {
      "cell_type": "markdown",
      "metadata": {
        "id": "lruOaA-VFR0K",
        "colab_type": "text"
      },
      "source": [
        "## Обучаем"
      ]
    },
    {
      "cell_type": "code",
      "metadata": {
        "id": "FZ99J-XCFTz8",
        "colab_type": "code",
        "colab": {}
      },
      "source": [
        "regr_QT = LinearRegression()\n",
        "regr_QT.fit(X_train_QT, y_train_QT)\n",
        "y_pred_QT = regr_QT.predict(X_test_QT)"
      ],
      "execution_count": 0,
      "outputs": []
    },
    {
      "cell_type": "code",
      "metadata": {
        "id": "8H0KWAqiFXNd",
        "colab_type": "code",
        "outputId": "588467cd-4333-4ebb-d09d-91d20c4ec6f0",
        "colab": {
          "base_uri": "https://localhost:8080/",
          "height": 34
        }
      },
      "source": [
        "# Считаем MAE на преобразованных данных \n",
        "MAE_QT = np.round(median_absolute_error(y_test_QT, y_pred_QT), 2) \n",
        "print(MAE_QT)"
      ],
      "execution_count": 44,
      "outputs": [
        {
          "output_type": "stream",
          "text": [
            "0.78\n"
          ],
          "name": "stdout"
        }
      ]
    },
    {
      "cell_type": "code",
      "metadata": {
        "id": "ybcvoRVzFf2S",
        "colab_type": "code",
        "colab": {}
      },
      "source": [
        "# добавляем строку в таблицу с выводами\n",
        "mae_mm_qt = pd.DataFrame([['QuantileTransformer', MAE_QT]], columns=('Trasnform type', 'MAE'))\n",
        "conclusions =  conclusions.append(mae_mm_qt, ignore_index=True)"
      ],
      "execution_count": 0,
      "outputs": []
    },
    {
      "cell_type": "markdown",
      "metadata": {
        "id": "IAO9Heh3aGyz",
        "colab_type": "text"
      },
      "source": [
        "# Дискретизация непрерывных переменных"
      ]
    },
    {
      "cell_type": "markdown",
      "metadata": {
        "id": "BHm98s4lSMrG",
        "colab_type": "text"
      },
      "source": [
        "## Датасета для дискретезации непрерывных переменных"
      ]
    },
    {
      "cell_type": "code",
      "metadata": {
        "id": "iELDRb9AZpdf",
        "colab_type": "code",
        "outputId": "d24282e0-9ad5-471b-8399-b587b17cd8ce",
        "colab": {
          "base_uri": "https://localhost:8080/",
          "height": 141
        }
      },
      "source": [
        "disc_dataset = pd.DataFrame(dataset.data, columns = dataset.feature_names)\n",
        "disc_dataset.head(3)"
      ],
      "execution_count": 46,
      "outputs": [
        {
          "output_type": "execute_result",
          "data": {
            "text/html": [
              "<div>\n",
              "<style scoped>\n",
              "    .dataframe tbody tr th:only-of-type {\n",
              "        vertical-align: middle;\n",
              "    }\n",
              "\n",
              "    .dataframe tbody tr th {\n",
              "        vertical-align: top;\n",
              "    }\n",
              "\n",
              "    .dataframe thead th {\n",
              "        text-align: right;\n",
              "    }\n",
              "</style>\n",
              "<table border=\"1\" class=\"dataframe\">\n",
              "  <thead>\n",
              "    <tr style=\"text-align: right;\">\n",
              "      <th></th>\n",
              "      <th>CRIM</th>\n",
              "      <th>ZN</th>\n",
              "      <th>INDUS</th>\n",
              "      <th>CHAS</th>\n",
              "      <th>NOX</th>\n",
              "      <th>RM</th>\n",
              "      <th>AGE</th>\n",
              "      <th>DIS</th>\n",
              "      <th>RAD</th>\n",
              "      <th>TAX</th>\n",
              "      <th>PTRATIO</th>\n",
              "      <th>B</th>\n",
              "      <th>LSTAT</th>\n",
              "    </tr>\n",
              "  </thead>\n",
              "  <tbody>\n",
              "    <tr>\n",
              "      <th>0</th>\n",
              "      <td>0.00632</td>\n",
              "      <td>18.0</td>\n",
              "      <td>2.31</td>\n",
              "      <td>0.0</td>\n",
              "      <td>0.538</td>\n",
              "      <td>6.575</td>\n",
              "      <td>65.2</td>\n",
              "      <td>4.0900</td>\n",
              "      <td>1.0</td>\n",
              "      <td>296.0</td>\n",
              "      <td>15.3</td>\n",
              "      <td>396.90</td>\n",
              "      <td>4.98</td>\n",
              "    </tr>\n",
              "    <tr>\n",
              "      <th>1</th>\n",
              "      <td>0.02731</td>\n",
              "      <td>0.0</td>\n",
              "      <td>7.07</td>\n",
              "      <td>0.0</td>\n",
              "      <td>0.469</td>\n",
              "      <td>6.421</td>\n",
              "      <td>78.9</td>\n",
              "      <td>4.9671</td>\n",
              "      <td>2.0</td>\n",
              "      <td>242.0</td>\n",
              "      <td>17.8</td>\n",
              "      <td>396.90</td>\n",
              "      <td>9.14</td>\n",
              "    </tr>\n",
              "    <tr>\n",
              "      <th>2</th>\n",
              "      <td>0.02729</td>\n",
              "      <td>0.0</td>\n",
              "      <td>7.07</td>\n",
              "      <td>0.0</td>\n",
              "      <td>0.469</td>\n",
              "      <td>7.185</td>\n",
              "      <td>61.1</td>\n",
              "      <td>4.9671</td>\n",
              "      <td>2.0</td>\n",
              "      <td>242.0</td>\n",
              "      <td>17.8</td>\n",
              "      <td>392.83</td>\n",
              "      <td>4.03</td>\n",
              "    </tr>\n",
              "  </tbody>\n",
              "</table>\n",
              "</div>"
            ],
            "text/plain": [
              "      CRIM    ZN  INDUS  CHAS    NOX  ...  RAD    TAX  PTRATIO       B  LSTAT\n",
              "0  0.00632  18.0   2.31   0.0  0.538  ...  1.0  296.0     15.3  396.90   4.98\n",
              "1  0.02731   0.0   7.07   0.0  0.469  ...  2.0  242.0     17.8  396.90   9.14\n",
              "2  0.02729   0.0   7.07   0.0  0.469  ...  2.0  242.0     17.8  392.83   4.03\n",
              "\n",
              "[3 rows x 13 columns]"
            ]
          },
          "metadata": {
            "tags": []
          },
          "execution_count": 46
        }
      ]
    },
    {
      "cell_type": "code",
      "metadata": {
        "id": "Bz0yyh1baxqj",
        "colab_type": "code",
        "outputId": "21429593-0462-432b-d8d6-9d2155fc747b",
        "colab": {
          "base_uri": "https://localhost:8080/",
          "height": 141
        }
      },
      "source": [
        "# удаляем колонку с таргетом\n",
        "disc_dataset = disc_dataset.drop(columns='DIS')\n",
        "disc_dataset.head(3)"
      ],
      "execution_count": 47,
      "outputs": [
        {
          "output_type": "execute_result",
          "data": {
            "text/html": [
              "<div>\n",
              "<style scoped>\n",
              "    .dataframe tbody tr th:only-of-type {\n",
              "        vertical-align: middle;\n",
              "    }\n",
              "\n",
              "    .dataframe tbody tr th {\n",
              "        vertical-align: top;\n",
              "    }\n",
              "\n",
              "    .dataframe thead th {\n",
              "        text-align: right;\n",
              "    }\n",
              "</style>\n",
              "<table border=\"1\" class=\"dataframe\">\n",
              "  <thead>\n",
              "    <tr style=\"text-align: right;\">\n",
              "      <th></th>\n",
              "      <th>CRIM</th>\n",
              "      <th>ZN</th>\n",
              "      <th>INDUS</th>\n",
              "      <th>CHAS</th>\n",
              "      <th>NOX</th>\n",
              "      <th>RM</th>\n",
              "      <th>AGE</th>\n",
              "      <th>RAD</th>\n",
              "      <th>TAX</th>\n",
              "      <th>PTRATIO</th>\n",
              "      <th>B</th>\n",
              "      <th>LSTAT</th>\n",
              "    </tr>\n",
              "  </thead>\n",
              "  <tbody>\n",
              "    <tr>\n",
              "      <th>0</th>\n",
              "      <td>0.00632</td>\n",
              "      <td>18.0</td>\n",
              "      <td>2.31</td>\n",
              "      <td>0.0</td>\n",
              "      <td>0.538</td>\n",
              "      <td>6.575</td>\n",
              "      <td>65.2</td>\n",
              "      <td>1.0</td>\n",
              "      <td>296.0</td>\n",
              "      <td>15.3</td>\n",
              "      <td>396.90</td>\n",
              "      <td>4.98</td>\n",
              "    </tr>\n",
              "    <tr>\n",
              "      <th>1</th>\n",
              "      <td>0.02731</td>\n",
              "      <td>0.0</td>\n",
              "      <td>7.07</td>\n",
              "      <td>0.0</td>\n",
              "      <td>0.469</td>\n",
              "      <td>6.421</td>\n",
              "      <td>78.9</td>\n",
              "      <td>2.0</td>\n",
              "      <td>242.0</td>\n",
              "      <td>17.8</td>\n",
              "      <td>396.90</td>\n",
              "      <td>9.14</td>\n",
              "    </tr>\n",
              "    <tr>\n",
              "      <th>2</th>\n",
              "      <td>0.02729</td>\n",
              "      <td>0.0</td>\n",
              "      <td>7.07</td>\n",
              "      <td>0.0</td>\n",
              "      <td>0.469</td>\n",
              "      <td>7.185</td>\n",
              "      <td>61.1</td>\n",
              "      <td>2.0</td>\n",
              "      <td>242.0</td>\n",
              "      <td>17.8</td>\n",
              "      <td>392.83</td>\n",
              "      <td>4.03</td>\n",
              "    </tr>\n",
              "  </tbody>\n",
              "</table>\n",
              "</div>"
            ],
            "text/plain": [
              "      CRIM    ZN  INDUS  CHAS    NOX  ...  RAD    TAX  PTRATIO       B  LSTAT\n",
              "0  0.00632  18.0   2.31   0.0  0.538  ...  1.0  296.0     15.3  396.90   4.98\n",
              "1  0.02731   0.0   7.07   0.0  0.469  ...  2.0  242.0     17.8  396.90   9.14\n",
              "2  0.02729   0.0   7.07   0.0  0.469  ...  2.0  242.0     17.8  392.83   4.03\n",
              "\n",
              "[3 rows x 12 columns]"
            ]
          },
          "metadata": {
            "tags": []
          },
          "execution_count": 47
        }
      ]
    },
    {
      "cell_type": "markdown",
      "metadata": {
        "id": "PCvPpnUaGi9O",
        "colab_type": "text"
      },
      "source": [
        "## Дискретизация колонки"
      ]
    },
    {
      "cell_type": "code",
      "metadata": {
        "id": "091EnNSmbHgS",
        "colab_type": "code",
        "outputId": "f673fe5f-9e94-4e9a-a747-b9dd5c8d0704",
        "colab": {
          "base_uri": "https://localhost:8080/",
          "height": 72
        }
      },
      "source": [
        "D = preprocessing.KBinsDiscretizer(n_bins=[400], encode='ordinal')\n",
        "disc_dataset['PTRATIO'] = D.fit_transform(disc_dataset['PTRATIO'].values.reshape(disc_dataset.shape[0],-1))"
      ],
      "execution_count": 48,
      "outputs": [
        {
          "output_type": "stream",
          "text": [
            "/usr/local/lib/python3.6/dist-packages/sklearn/preprocessing/_discretization.py:197: UserWarning: Bins whose width are too small (i.e., <= 1e-8) in feature 0 are removed. Consider decreasing the number of bins.\n",
            "  'decreasing the number of bins.' % jj)\n"
          ],
          "name": "stderr"
        }
      ]
    },
    {
      "cell_type": "code",
      "metadata": {
        "id": "lS_ZjfipG5fa",
        "colab_type": "code",
        "colab": {}
      },
      "source": [
        "# делим преобразованный pandas датасет на тренировочный и тестовый\n",
        "X_train_D, X_test_D, y_train_D, y_test_D = train_test_split(disc_dataset, y, random_state=1)"
      ],
      "execution_count": 0,
      "outputs": []
    },
    {
      "cell_type": "markdown",
      "metadata": {
        "id": "U9UBknkJG_yv",
        "colab_type": "text"
      },
      "source": [
        "## Обучаем"
      ]
    },
    {
      "cell_type": "code",
      "metadata": {
        "id": "g42okI1YHB1j",
        "colab_type": "code",
        "colab": {}
      },
      "source": [
        "regr_D = LinearRegression()\n",
        "regr_D.fit(X_train_D, y_train_D)\n",
        "y_pred_D = regr_D.predict(X_test_D)"
      ],
      "execution_count": 0,
      "outputs": []
    },
    {
      "cell_type": "code",
      "metadata": {
        "id": "v6tpHg_LHOiw",
        "colab_type": "code",
        "outputId": "91814794-4007-4504-ada2-57a2c5824b20",
        "colab": {
          "base_uri": "https://localhost:8080/",
          "height": 34
        }
      },
      "source": [
        "# Считаем MAE на преобразованных данных \n",
        "MAE_D = np.round(median_absolute_error(y_test_D, y_pred_D), 2) \n",
        "print(MAE_D)"
      ],
      "execution_count": 51,
      "outputs": [
        {
          "output_type": "stream",
          "text": [
            "0.62\n"
          ],
          "name": "stdout"
        }
      ]
    },
    {
      "cell_type": "code",
      "metadata": {
        "id": "VOLcoSzEHXAV",
        "colab_type": "code",
        "colab": {}
      },
      "source": [
        "# добавляем строку в таблицу с выводами\n",
        "mae_mm_bd = pd.DataFrame([['KBinsDiscretizer', MAE_D]], columns=('Trasnform type', 'MAE'))\n",
        "conclusions =  conclusions.append(mae_mm_bd, ignore_index=True)"
      ],
      "execution_count": 0,
      "outputs": []
    },
    {
      "cell_type": "markdown",
      "metadata": {
        "id": "jKEHPMj4SR_s",
        "colab_type": "text"
      },
      "source": [
        "**Бинаризация непрерывной переменной**"
      ]
    },
    {
      "cell_type": "code",
      "metadata": {
        "id": "PfV4IChzHf1h",
        "colab_type": "code",
        "outputId": "3c727d0a-bf07-483c-d12c-01e67a3e7551",
        "colab": {
          "base_uri": "https://localhost:8080/",
          "height": 141
        }
      },
      "source": [
        "bin_dataset = pd.DataFrame(dataset.data, columns = dataset.feature_names)\n",
        "bin_dataset.head(3)"
      ],
      "execution_count": 53,
      "outputs": [
        {
          "output_type": "execute_result",
          "data": {
            "text/html": [
              "<div>\n",
              "<style scoped>\n",
              "    .dataframe tbody tr th:only-of-type {\n",
              "        vertical-align: middle;\n",
              "    }\n",
              "\n",
              "    .dataframe tbody tr th {\n",
              "        vertical-align: top;\n",
              "    }\n",
              "\n",
              "    .dataframe thead th {\n",
              "        text-align: right;\n",
              "    }\n",
              "</style>\n",
              "<table border=\"1\" class=\"dataframe\">\n",
              "  <thead>\n",
              "    <tr style=\"text-align: right;\">\n",
              "      <th></th>\n",
              "      <th>CRIM</th>\n",
              "      <th>ZN</th>\n",
              "      <th>INDUS</th>\n",
              "      <th>CHAS</th>\n",
              "      <th>NOX</th>\n",
              "      <th>RM</th>\n",
              "      <th>AGE</th>\n",
              "      <th>DIS</th>\n",
              "      <th>RAD</th>\n",
              "      <th>TAX</th>\n",
              "      <th>PTRATIO</th>\n",
              "      <th>B</th>\n",
              "      <th>LSTAT</th>\n",
              "    </tr>\n",
              "  </thead>\n",
              "  <tbody>\n",
              "    <tr>\n",
              "      <th>0</th>\n",
              "      <td>0.00632</td>\n",
              "      <td>18.0</td>\n",
              "      <td>2.31</td>\n",
              "      <td>0.0</td>\n",
              "      <td>0.538</td>\n",
              "      <td>6.575</td>\n",
              "      <td>65.2</td>\n",
              "      <td>4.0900</td>\n",
              "      <td>1.0</td>\n",
              "      <td>296.0</td>\n",
              "      <td>15.3</td>\n",
              "      <td>396.90</td>\n",
              "      <td>4.98</td>\n",
              "    </tr>\n",
              "    <tr>\n",
              "      <th>1</th>\n",
              "      <td>0.02731</td>\n",
              "      <td>0.0</td>\n",
              "      <td>7.07</td>\n",
              "      <td>0.0</td>\n",
              "      <td>0.469</td>\n",
              "      <td>6.421</td>\n",
              "      <td>78.9</td>\n",
              "      <td>4.9671</td>\n",
              "      <td>2.0</td>\n",
              "      <td>242.0</td>\n",
              "      <td>17.8</td>\n",
              "      <td>396.90</td>\n",
              "      <td>9.14</td>\n",
              "    </tr>\n",
              "    <tr>\n",
              "      <th>2</th>\n",
              "      <td>0.02729</td>\n",
              "      <td>0.0</td>\n",
              "      <td>7.07</td>\n",
              "      <td>0.0</td>\n",
              "      <td>0.469</td>\n",
              "      <td>7.185</td>\n",
              "      <td>61.1</td>\n",
              "      <td>4.9671</td>\n",
              "      <td>2.0</td>\n",
              "      <td>242.0</td>\n",
              "      <td>17.8</td>\n",
              "      <td>392.83</td>\n",
              "      <td>4.03</td>\n",
              "    </tr>\n",
              "  </tbody>\n",
              "</table>\n",
              "</div>"
            ],
            "text/plain": [
              "      CRIM    ZN  INDUS  CHAS    NOX  ...  RAD    TAX  PTRATIO       B  LSTAT\n",
              "0  0.00632  18.0   2.31   0.0  0.538  ...  1.0  296.0     15.3  396.90   4.98\n",
              "1  0.02731   0.0   7.07   0.0  0.469  ...  2.0  242.0     17.8  396.90   9.14\n",
              "2  0.02729   0.0   7.07   0.0  0.469  ...  2.0  242.0     17.8  392.83   4.03\n",
              "\n",
              "[3 rows x 13 columns]"
            ]
          },
          "metadata": {
            "tags": []
          },
          "execution_count": 53
        }
      ]
    },
    {
      "cell_type": "markdown",
      "metadata": {
        "id": "nWQcfUACHio5",
        "colab_type": "text"
      },
      "source": [
        "удаляю target"
      ]
    },
    {
      "cell_type": "code",
      "metadata": {
        "id": "LwO8MBLMHl_x",
        "colab_type": "code",
        "outputId": "100e0db0-6ce1-45d5-c3d0-f03ffdbf0bbd",
        "colab": {
          "base_uri": "https://localhost:8080/",
          "height": 141
        }
      },
      "source": [
        "bin_dataset = bin_dataset.drop(columns='DIS')\n",
        "bin_dataset.head(3)"
      ],
      "execution_count": 54,
      "outputs": [
        {
          "output_type": "execute_result",
          "data": {
            "text/html": [
              "<div>\n",
              "<style scoped>\n",
              "    .dataframe tbody tr th:only-of-type {\n",
              "        vertical-align: middle;\n",
              "    }\n",
              "\n",
              "    .dataframe tbody tr th {\n",
              "        vertical-align: top;\n",
              "    }\n",
              "\n",
              "    .dataframe thead th {\n",
              "        text-align: right;\n",
              "    }\n",
              "</style>\n",
              "<table border=\"1\" class=\"dataframe\">\n",
              "  <thead>\n",
              "    <tr style=\"text-align: right;\">\n",
              "      <th></th>\n",
              "      <th>CRIM</th>\n",
              "      <th>ZN</th>\n",
              "      <th>INDUS</th>\n",
              "      <th>CHAS</th>\n",
              "      <th>NOX</th>\n",
              "      <th>RM</th>\n",
              "      <th>AGE</th>\n",
              "      <th>RAD</th>\n",
              "      <th>TAX</th>\n",
              "      <th>PTRATIO</th>\n",
              "      <th>B</th>\n",
              "      <th>LSTAT</th>\n",
              "    </tr>\n",
              "  </thead>\n",
              "  <tbody>\n",
              "    <tr>\n",
              "      <th>0</th>\n",
              "      <td>0.00632</td>\n",
              "      <td>18.0</td>\n",
              "      <td>2.31</td>\n",
              "      <td>0.0</td>\n",
              "      <td>0.538</td>\n",
              "      <td>6.575</td>\n",
              "      <td>65.2</td>\n",
              "      <td>1.0</td>\n",
              "      <td>296.0</td>\n",
              "      <td>15.3</td>\n",
              "      <td>396.90</td>\n",
              "      <td>4.98</td>\n",
              "    </tr>\n",
              "    <tr>\n",
              "      <th>1</th>\n",
              "      <td>0.02731</td>\n",
              "      <td>0.0</td>\n",
              "      <td>7.07</td>\n",
              "      <td>0.0</td>\n",
              "      <td>0.469</td>\n",
              "      <td>6.421</td>\n",
              "      <td>78.9</td>\n",
              "      <td>2.0</td>\n",
              "      <td>242.0</td>\n",
              "      <td>17.8</td>\n",
              "      <td>396.90</td>\n",
              "      <td>9.14</td>\n",
              "    </tr>\n",
              "    <tr>\n",
              "      <th>2</th>\n",
              "      <td>0.02729</td>\n",
              "      <td>0.0</td>\n",
              "      <td>7.07</td>\n",
              "      <td>0.0</td>\n",
              "      <td>0.469</td>\n",
              "      <td>7.185</td>\n",
              "      <td>61.1</td>\n",
              "      <td>2.0</td>\n",
              "      <td>242.0</td>\n",
              "      <td>17.8</td>\n",
              "      <td>392.83</td>\n",
              "      <td>4.03</td>\n",
              "    </tr>\n",
              "  </tbody>\n",
              "</table>\n",
              "</div>"
            ],
            "text/plain": [
              "      CRIM    ZN  INDUS  CHAS    NOX  ...  RAD    TAX  PTRATIO       B  LSTAT\n",
              "0  0.00632  18.0   2.31   0.0  0.538  ...  1.0  296.0     15.3  396.90   4.98\n",
              "1  0.02731   0.0   7.07   0.0  0.469  ...  2.0  242.0     17.8  396.90   9.14\n",
              "2  0.02729   0.0   7.07   0.0  0.469  ...  2.0  242.0     17.8  392.83   4.03\n",
              "\n",
              "[3 rows x 12 columns]"
            ]
          },
          "metadata": {
            "tags": []
          },
          "execution_count": 54
        }
      ]
    },
    {
      "cell_type": "code",
      "metadata": {
        "id": "nzGZUD1PH4eY",
        "colab_type": "code",
        "colab": {}
      },
      "source": [
        "BD = preprocessing.Binarizer(threshold=0.9)\n",
        "bin_dataset['LSTAT'] = BD.fit_transform(bin_dataset['LSTAT'].values.reshape(bin_dataset.shape[0],-1))"
      ],
      "execution_count": 0,
      "outputs": []
    },
    {
      "cell_type": "code",
      "metadata": {
        "id": "hVqBSaqTH_QY",
        "colab_type": "code",
        "colab": {}
      },
      "source": [
        "# делим преобразованный pandas датасет на тренировочный и тестовый\n",
        "X_train_BIN, X_test_BIN, y_train_BIN, y_test_BIN = train_test_split(bin_dataset, y, random_state=1)"
      ],
      "execution_count": 0,
      "outputs": []
    },
    {
      "cell_type": "markdown",
      "metadata": {
        "id": "aa28p9zpIB1b",
        "colab_type": "text"
      },
      "source": [
        "## Обучаем"
      ]
    },
    {
      "cell_type": "code",
      "metadata": {
        "id": "SYhwA7wtIEIs",
        "colab_type": "code",
        "colab": {}
      },
      "source": [
        "regr_BIN = LinearRegression()\n",
        "regr_BIN.fit(X_train_BIN, y_train_BIN)\n",
        "y_pred_BIN = regr_BIN.predict(X_test_BIN)"
      ],
      "execution_count": 0,
      "outputs": []
    },
    {
      "cell_type": "code",
      "metadata": {
        "id": "LfL5lmvRIHCA",
        "colab_type": "code",
        "outputId": "c7165f88-529b-4e9a-83ad-85dd575d2e9e",
        "colab": {
          "base_uri": "https://localhost:8080/",
          "height": 34
        }
      },
      "source": [
        "MAE_BIN = np.round(median_absolute_error(y_test_BIN, y_pred_BIN), 2) \n",
        "print(MAE_BIN)"
      ],
      "execution_count": 58,
      "outputs": [
        {
          "output_type": "stream",
          "text": [
            "0.64\n"
          ],
          "name": "stdout"
        }
      ]
    },
    {
      "cell_type": "code",
      "metadata": {
        "id": "4qyUC90sIM9d",
        "colab_type": "code",
        "colab": {}
      },
      "source": [
        "# добавляем строку в таблицу с выводами\n",
        "mae_mm_bin = pd.DataFrame([['Binarizer', MAE_BIN]], columns=('Trasnform type', 'MAE'))\n",
        "conclusions =  conclusions.append(mae_mm_bin, ignore_index=True)"
      ],
      "execution_count": 0,
      "outputs": []
    },
    {
      "cell_type": "markdown",
      "metadata": {
        "id": "azAqsuEvPGbK",
        "colab_type": "text"
      },
      "source": [
        "# Трансформация таргета (целевой переменной)"
      ]
    },
    {
      "cell_type": "code",
      "metadata": {
        "id": "pEeCTytWQEa8",
        "colab_type": "code",
        "colab": {}
      },
      "source": [
        "dataset = load_boston()\n",
        "target = np.array(dataset.feature_names) == \"DIS\"\n",
        "x_t = dataset.data[:, np.logical_not(target)]\n",
        "y_t = dataset.data[:, target].squeeze()"
      ],
      "execution_count": 0,
      "outputs": []
    },
    {
      "cell_type": "code",
      "metadata": {
        "id": "R-JD-djDZgJ8",
        "colab_type": "code",
        "colab": {}
      },
      "source": [
        "# делим датасет на тренировочный и тестовый для трансформации таргета\n",
        "X_train_TS, X_test_TS, y_train_TS, y_test_TS = train_test_split(x_t, y_t, random_state=1)"
      ],
      "execution_count": 0,
      "outputs": []
    },
    {
      "cell_type": "markdown",
      "metadata": {
        "id": "R7MnWGsZIZeq",
        "colab_type": "text"
      },
      "source": [
        "## Обучаем"
      ]
    },
    {
      "cell_type": "code",
      "metadata": {
        "id": "YONsvXIzIbgP",
        "colab_type": "code",
        "outputId": "1abf3211-ee4d-4cc4-aa55-7dab6cdd6f61",
        "colab": {
          "base_uri": "https://localhost:8080/",
          "height": 72
        }
      },
      "source": [
        "regr_TS = TransformedTargetRegressor(\n",
        "    regressor=LinearRegression(),\n",
        "    transformer=QuantileTransformer(output_distribution='normal'))\n",
        "regr_TS.fit(X_train_TS, y_train_TS)\n",
        "y_pred_TS = regr_TS.predict(X_test_TS)"
      ],
      "execution_count": 62,
      "outputs": [
        {
          "output_type": "stream",
          "text": [
            "/usr/local/lib/python3.6/dist-packages/sklearn/preprocessing/_data.py:2357: UserWarning: n_quantiles (1000) is greater than the total number of samples (379). n_quantiles is set to n_samples.\n",
            "  % (self.n_quantiles, n_samples))\n"
          ],
          "name": "stderr"
        }
      ]
    },
    {
      "cell_type": "code",
      "metadata": {
        "id": "VRIQ4PQRIf4a",
        "colab_type": "code",
        "outputId": "6513459d-1401-4499-ae7c-b13a7f095596",
        "colab": {
          "base_uri": "https://localhost:8080/",
          "height": 34
        }
      },
      "source": [
        "MAE_TS = np.round(median_absolute_error(y_test_TS, y_pred_TS), 2)\n",
        "print(MAE_TS)"
      ],
      "execution_count": 63,
      "outputs": [
        {
          "output_type": "stream",
          "text": [
            "0.53\n"
          ],
          "name": "stdout"
        }
      ]
    },
    {
      "cell_type": "code",
      "metadata": {
        "id": "eTru6FeYIuE7",
        "colab_type": "code",
        "colab": {}
      },
      "source": [
        "# добавляем строку в таблицу с выводами\n",
        "mae_mm_ts = pd.DataFrame([['TransformedTarget', MAE_TS]], columns=('Trasnform type', 'MAE'))\n",
        "conclusions =  conclusions.append(mae_mm_ts, ignore_index=True)"
      ],
      "execution_count": 0,
      "outputs": []
    },
    {
      "cell_type": "markdown",
      "metadata": {
        "id": "Y3SghOZ8dYLg",
        "colab_type": "text"
      },
      "source": [
        "# Увеличение размерности пространства"
      ]
    },
    {
      "cell_type": "code",
      "metadata": {
        "id": "C3BFROE2QNSA",
        "colab_type": "code",
        "colab": {}
      },
      "source": [
        "dataset = load_boston()\n",
        "target = np.array(dataset.feature_names) == \"DIS\"\n",
        "x_p = dataset.data[:, np.logical_not(target)]\n",
        "y_p = dataset.data[:, target].squeeze()"
      ],
      "execution_count": 0,
      "outputs": []
    },
    {
      "cell_type": "code",
      "metadata": {
        "id": "_abYn5qfXwp4",
        "colab_type": "code",
        "colab": {}
      },
      "source": [
        "poly = PolynomialFeatures(2,interaction_only=True)\n",
        "X_poly = poly.fit_transform(x_p)                             "
      ],
      "execution_count": 0,
      "outputs": []
    },
    {
      "cell_type": "code",
      "metadata": {
        "id": "LgHjswlSZgOi",
        "colab_type": "code",
        "colab": {}
      },
      "source": [
        "X_train_pol, X_test_pol, y_train_pol, y_test_pol = train_test_split(X_poly, y_p, random_state=1)"
      ],
      "execution_count": 0,
      "outputs": []
    },
    {
      "cell_type": "markdown",
      "metadata": {
        "id": "hFrc0y0qI2-H",
        "colab_type": "text"
      },
      "source": [
        "## Обучаем"
      ]
    },
    {
      "cell_type": "code",
      "metadata": {
        "id": "SEwPypl9I4ot",
        "colab_type": "code",
        "colab": {}
      },
      "source": [
        "regr_INC = LinearRegression()\n",
        "regr_INC.fit(X_train_pol, y_train_pol)\n",
        "y_pred_INC = regr_INC.predict(X_test_pol)"
      ],
      "execution_count": 0,
      "outputs": []
    },
    {
      "cell_type": "code",
      "metadata": {
        "id": "CHaVZNKPI_Vj",
        "colab_type": "code",
        "outputId": "b14ff1e6-a6a1-4ebc-88c0-4a2b6ac92f52",
        "colab": {
          "base_uri": "https://localhost:8080/",
          "height": 34
        }
      },
      "source": [
        "MAE_INC = np.round(median_absolute_error(y_test_pol, y_pred_INC), 2)\n",
        "print(MAE_INC)"
      ],
      "execution_count": 69,
      "outputs": [
        {
          "output_type": "stream",
          "text": [
            "0.55\n"
          ],
          "name": "stdout"
        }
      ]
    },
    {
      "cell_type": "code",
      "metadata": {
        "id": "trTwxQJeJJRr",
        "colab_type": "code",
        "colab": {}
      },
      "source": [
        "# добавляем строку в таблицу с выводами\n",
        "mae_mm_inc = pd.DataFrame([['PolynomialFeatures', MAE_INC]], columns=('Trasnform type', 'MAE'))\n",
        "conclusions =  conclusions.append(mae_mm_inc, ignore_index=True)"
      ],
      "execution_count": 0,
      "outputs": []
    },
    {
      "cell_type": "markdown",
      "metadata": {
        "id": "rPR0xmkHBzza",
        "colab_type": "text"
      },
      "source": [
        "# Снижение размерности пространства"
      ]
    },
    {
      "cell_type": "code",
      "metadata": {
        "id": "OLTLjaTxNMNy",
        "colab_type": "code",
        "colab": {}
      },
      "source": [
        "PCA_trans = PCA(n_components=6)\n",
        "X_PCA = PCA_trans.fit_transform(x)"
      ],
      "execution_count": 0,
      "outputs": []
    },
    {
      "cell_type": "code",
      "metadata": {
        "id": "mMoj5rX4JVwx",
        "colab_type": "code",
        "colab": {}
      },
      "source": [
        "# делим преобразованный pandas датасет на тренировочный и тестовый\n",
        "X_train_PCA, X_test_PCA, y_train_PCA, y_test_PCA = train_test_split(X_PCA, y, random_state=1)"
      ],
      "execution_count": 0,
      "outputs": []
    },
    {
      "cell_type": "markdown",
      "metadata": {
        "id": "JbPJURyvJZI-",
        "colab_type": "text"
      },
      "source": [
        "## Обучаем"
      ]
    },
    {
      "cell_type": "code",
      "metadata": {
        "id": "vHH9Kw2bJa2Y",
        "colab_type": "code",
        "colab": {}
      },
      "source": [
        "regr_PCA = LinearRegression()\n",
        "regr_PCA.fit(X_train_PCA, y_train_PCA)\n",
        "y_pred_PCA = regr_PCA.predict(X_test_PCA)"
      ],
      "execution_count": 0,
      "outputs": []
    },
    {
      "cell_type": "code",
      "metadata": {
        "id": "H4vbpsPdJdtB",
        "colab_type": "code",
        "outputId": "7159dfc0-5540-4522-aac2-24c514ec55d5",
        "colab": {
          "base_uri": "https://localhost:8080/",
          "height": 34
        }
      },
      "source": [
        "MAE_PCA = np.round(median_absolute_error(y_test_PCA, y_pred_PCA), 2)\n",
        "print(MAE_PCA)"
      ],
      "execution_count": 74,
      "outputs": [
        {
          "output_type": "stream",
          "text": [
            "0.59\n"
          ],
          "name": "stdout"
        }
      ]
    },
    {
      "cell_type": "code",
      "metadata": {
        "id": "YUIyeS5CJjLV",
        "colab_type": "code",
        "colab": {}
      },
      "source": [
        "# добавляем строку в таблицу с выводами\n",
        "mae_mm_pca = pd.DataFrame([['PCA', MAE_PCA]], columns=('Trasnform type', 'MAE'))\n",
        "conclusions =  conclusions.append(mae_mm_pca, ignore_index=True)"
      ],
      "execution_count": 0,
      "outputs": []
    },
    {
      "cell_type": "markdown",
      "metadata": {
        "id": "J8TViwvDM_uf",
        "colab_type": "text"
      },
      "source": [
        "# T-Distributed Stochastic Neighbouring Entities (t-SNE)"
      ]
    },
    {
      "cell_type": "code",
      "metadata": {
        "id": "LxvccUnmJvmu",
        "colab_type": "code",
        "colab": {}
      },
      "source": [
        "tNSE_trans = TSNE(n_components=2, verbose=0, perplexity=80, n_iter=1000)\n",
        "X_tNSE = tNSE_trans.fit_transform(x)"
      ],
      "execution_count": 0,
      "outputs": []
    },
    {
      "cell_type": "code",
      "metadata": {
        "id": "kAZbSU2HKGNX",
        "colab_type": "code",
        "colab": {}
      },
      "source": [
        "# делим преобразованный pandas датасет на тренировочный и тестовый\n",
        "X_train_tNSE, X_test_tNSE, y_train_tNSE, y_test_tNSE = train_test_split(X_tNSE, y, random_state=1)"
      ],
      "execution_count": 0,
      "outputs": []
    },
    {
      "cell_type": "markdown",
      "metadata": {
        "id": "pwIqj64KKUOf",
        "colab_type": "text"
      },
      "source": [
        "## Обучаем"
      ]
    },
    {
      "cell_type": "code",
      "metadata": {
        "id": "bjGeDrDrKV-B",
        "colab_type": "code",
        "colab": {}
      },
      "source": [
        "regr_tNSE = LinearRegression()\n",
        "regr_tNSE.fit(X_train_tNSE, y_train_tNSE)\n",
        "y_pred_tNSE = regr_tNSE.predict(X_test_tNSE)"
      ],
      "execution_count": 0,
      "outputs": []
    },
    {
      "cell_type": "code",
      "metadata": {
        "id": "cTNBHTehKghJ",
        "colab_type": "code",
        "outputId": "40f6e79f-e22b-4870-88cc-d616e61958b8",
        "colab": {
          "base_uri": "https://localhost:8080/",
          "height": 34
        }
      },
      "source": [
        "MAE_TNSE = np.round(median_absolute_error(y_test_tNSE, y_pred_tNSE), 2)\n",
        "print(MAE_TNSE)"
      ],
      "execution_count": 79,
      "outputs": [
        {
          "output_type": "stream",
          "text": [
            "0.91\n"
          ],
          "name": "stdout"
        }
      ]
    },
    {
      "cell_type": "code",
      "metadata": {
        "id": "lQ7Y-aeUKqea",
        "colab_type": "code",
        "colab": {}
      },
      "source": [
        "mae_mm_tnse = pd.DataFrame([['TNSE', MAE_TNSE]], columns=('Trasnform type', 'MAE'))\n",
        "conclusions =  conclusions.append(mae_mm_tnse, ignore_index=True)"
      ],
      "execution_count": 0,
      "outputs": []
    },
    {
      "cell_type": "markdown",
      "metadata": {
        "id": "sAGSywpkKvhs",
        "colab_type": "text"
      },
      "source": [
        "# Результат"
      ]
    },
    {
      "cell_type": "code",
      "metadata": {
        "id": "z3_zFJVpKxT6",
        "colab_type": "code",
        "outputId": "a129da80-ed6b-4783-efe9-e9ea25fafe31",
        "colab": {
          "base_uri": "https://localhost:8080/",
          "height": 417
        }
      },
      "source": [
        "conclusions"
      ],
      "execution_count": 81,
      "outputs": [
        {
          "output_type": "execute_result",
          "data": {
            "text/html": [
              "<div>\n",
              "<style scoped>\n",
              "    .dataframe tbody tr th:only-of-type {\n",
              "        vertical-align: middle;\n",
              "    }\n",
              "\n",
              "    .dataframe tbody tr th {\n",
              "        vertical-align: top;\n",
              "    }\n",
              "\n",
              "    .dataframe thead th {\n",
              "        text-align: right;\n",
              "    }\n",
              "</style>\n",
              "<table border=\"1\" class=\"dataframe\">\n",
              "  <thead>\n",
              "    <tr style=\"text-align: right;\">\n",
              "      <th></th>\n",
              "      <th>Trasnform type</th>\n",
              "      <th>MAE</th>\n",
              "    </tr>\n",
              "  </thead>\n",
              "  <tbody>\n",
              "    <tr>\n",
              "      <th>0</th>\n",
              "      <td>No transformation</td>\n",
              "      <td>0.63</td>\n",
              "    </tr>\n",
              "    <tr>\n",
              "      <th>1</th>\n",
              "      <td>StandardScaler</td>\n",
              "      <td>0.63</td>\n",
              "    </tr>\n",
              "    <tr>\n",
              "      <th>2</th>\n",
              "      <td>MinMaxScaler</td>\n",
              "      <td>0.63</td>\n",
              "    </tr>\n",
              "    <tr>\n",
              "      <th>3</th>\n",
              "      <td>RobustScaler</td>\n",
              "      <td>0.63</td>\n",
              "    </tr>\n",
              "    <tr>\n",
              "      <th>4</th>\n",
              "      <td>PowerTransformer</td>\n",
              "      <td>0.70</td>\n",
              "    </tr>\n",
              "    <tr>\n",
              "      <th>5</th>\n",
              "      <td>QuantileTransformer</td>\n",
              "      <td>0.78</td>\n",
              "    </tr>\n",
              "    <tr>\n",
              "      <th>6</th>\n",
              "      <td>KBinsDiscretizer</td>\n",
              "      <td>0.62</td>\n",
              "    </tr>\n",
              "    <tr>\n",
              "      <th>7</th>\n",
              "      <td>Binarizer</td>\n",
              "      <td>0.64</td>\n",
              "    </tr>\n",
              "    <tr>\n",
              "      <th>8</th>\n",
              "      <td>TransformedTarget</td>\n",
              "      <td>0.53</td>\n",
              "    </tr>\n",
              "    <tr>\n",
              "      <th>9</th>\n",
              "      <td>PolynomialFeatures</td>\n",
              "      <td>0.55</td>\n",
              "    </tr>\n",
              "    <tr>\n",
              "      <th>10</th>\n",
              "      <td>PCA</td>\n",
              "      <td>0.59</td>\n",
              "    </tr>\n",
              "    <tr>\n",
              "      <th>11</th>\n",
              "      <td>TNSE</td>\n",
              "      <td>0.91</td>\n",
              "    </tr>\n",
              "  </tbody>\n",
              "</table>\n",
              "</div>"
            ],
            "text/plain": [
              "         Trasnform type   MAE\n",
              "0     No transformation  0.63\n",
              "1        StandardScaler  0.63\n",
              "2          MinMaxScaler  0.63\n",
              "3          RobustScaler  0.63\n",
              "4      PowerTransformer  0.70\n",
              "5   QuantileTransformer  0.78\n",
              "6      KBinsDiscretizer  0.62\n",
              "7             Binarizer  0.64\n",
              "8     TransformedTarget  0.53\n",
              "9    PolynomialFeatures  0.55\n",
              "10                  PCA  0.59\n",
              "11                 TNSE  0.91"
            ]
          },
          "metadata": {
            "tags": []
          },
          "execution_count": 81
        }
      ]
    }
  ]
}