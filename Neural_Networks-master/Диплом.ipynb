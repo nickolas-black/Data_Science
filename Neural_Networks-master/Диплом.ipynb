{
  "nbformat": 4,
  "nbformat_minor": 0,
  "metadata": {
    "colab": {
      "name": "Диплом.ipynb",
      "provenance": [],
      "private_outputs": true,
      "collapsed_sections": [],
      "machine_shape": "hm"
    },
    "kernelspec": {
      "name": "python3",
      "display_name": "Python 3"
    },
    "accelerator": "GPU"
  },
  "cells": [
    {
      "cell_type": "markdown",
      "metadata": {
        "id": "Us0FUIP8hgGP",
        "colab_type": "text"
      },
      "source": [
        "# Дипломный проект\n",
        "# Тема\n",
        "\n",
        "## Предсказать вероятность заражения компьютера с ОС Windows различными семействами вредоносных программ на основе различных свойств этого компьютера. Характеристики  и данные компьютера, содержащие эти свойства и заражения компьютеров, были получены путем объединения отчетов статических иследований Microsoft, Windows Defender ATP Research, Northeastern University College of Computer and Information Science, and Georgia Tech Institute for Information Security & Privacy.\n",
        "\n",
        "## автор Колеганов Николай  "
      ]
    },
    {
      "cell_type": "code",
      "metadata": {
        "id": "L0ouzZ4TU8vg",
        "colab_type": "code",
        "colab": {}
      },
      "source": [
        "import numpy as np \n",
        "import pandas as pd \n",
        "import matplotlib.pyplot as plt\n",
        "import seaborn as sns\n",
        "from sklearn.model_selection import KFold\n",
        "from sklearn.preprocessing import LabelEncoder, OneHotEncoder\n",
        "from sklearn.model_selection import train_test_split\n",
        "from sklearn.preprocessing import StandardScaler\n",
        "import warnings\n",
        "import gc\n",
        "import scipy\n",
        "import os\n",
        "import sys\n",
        "import datetime\n",
        "import matplotlib.pyplot as plt\n",
        "import seaborn as sns\n",
        "from sklearn.metrics import mean_squared_error\n",
        "warnings.simplefilter(action='ignore', category=FutureWarning)\n",
        "warnings.filterwarnings('ignore')\n",
        "from sklearn import metrics\n",
        "\n",
        "%matplotlib inline \n",
        "gc.enable()\n",
        "plt.style.use('seaborn')\n",
        "sns.set(font_scale=2)\n",
        "pd.set_option('display.max_columns', 500)"
      ],
      "execution_count": 0,
      "outputs": []
    },
    {
      "cell_type": "markdown",
      "metadata": {
        "id": "kDAU2EPBVZn0",
        "colab_type": "text"
      },
      "source": [
        "## Подгружаем данные с диска"
      ]
    },
    {
      "cell_type": "code",
      "metadata": {
        "id": "BOA8uzZ2ETGo",
        "colab_type": "code",
        "colab": {}
      },
      "source": [
        "from google.colab import drive\n",
        "drive.mount('/content/drive')"
      ],
      "execution_count": 0,
      "outputs": []
    },
    {
      "cell_type": "code",
      "metadata": {
        "id": "po-42WjTEhz_",
        "colab_type": "code",
        "colab": {}
      },
      "source": [
        "!ls /content/drive/My\\ Drive/ugroz"
      ],
      "execution_count": 0,
      "outputs": []
    },
    {
      "cell_type": "markdown",
      "metadata": {
        "id": "-bQO9a5WKGfF",
        "colab_type": "text"
      },
      "source": [
        "Просматриваем содержание"
      ]
    },
    {
      "cell_type": "code",
      "metadata": {
        "id": "eMbM_F1aIitE",
        "colab_type": "code",
        "colab": {}
      },
      "source": [
        "prosmotr = pd.read_csv('/content/drive/My Drive/ugroz/train.csv')\n",
        "\n",
        "gc.enable()"
      ],
      "execution_count": 0,
      "outputs": []
    },
    {
      "cell_type": "code",
      "metadata": {
        "id": "ZrFgdfbcJh4a",
        "colab_type": "code",
        "colab": {}
      },
      "source": [
        "prosmotr.head(10)\n"
      ],
      "execution_count": 0,
      "outputs": []
    },
    {
      "cell_type": "code",
      "metadata": {
        "id": "JkUq0qUnLbZV",
        "colab_type": "code",
        "colab": {}
      },
      "source": [
        "prosmotr.isnull().sum()"
      ],
      "execution_count": 0,
      "outputs": []
    },
    {
      "cell_type": "markdown",
      "metadata": {
        "id": "5Cn9nYk1IK1X",
        "colab_type": "text"
      },
      "source": [
        "Как мы видим, довольно много категориальных признаков. В то же время, качество данных вызывает вопросы, довольно много пропущенных значений"
      ]
    },
    {
      "cell_type": "code",
      "metadata": {
        "id": "nSc7PJNpfCTI",
        "colab_type": "code",
        "colab": {}
      },
      "source": [
        "dtypes = {\n",
        "        'MachineIdentifier':                                    'category',\n",
        "        'ProductName':                                          'category',\n",
        "        'EngineVersion':                                        'category',\n",
        "        'AppVersion':                                           'category',\n",
        "        'AvSigVersion':                                         'category',\n",
        "        'IsBeta':                                               'int8',\n",
        "        'RtpStateBitfield':                                     'float16',\n",
        "        'IsSxsPassiveMode':                                     'int8',\n",
        "        'DefaultBrowsersIdentifier':                            'float16',\n",
        "        'AVProductStatesIdentifier':                            'float32',\n",
        "        'AVProductsInstalled':                                  'float16',\n",
        "        'AVProductsEnabled':                                    'float16',\n",
        "        'HasTpm':                                               'int8',\n",
        "        'CountryIdentifier':                                    'int16',\n",
        "        'CityIdentifier':                                       'float32',\n",
        "        'OrganizationIdentifier':                               'float16',\n",
        "        'GeoNameIdentifier':                                    'float16',\n",
        "        'LocaleEnglishNameIdentifier':                          'int8',\n",
        "        'Platform':                                             'category',\n",
        "        'Processor':                                            'category',\n",
        "        'OsVer':                                                'category',\n",
        "        'OsBuild':                                              'int16',\n",
        "        'OsSuite':                                              'int16',\n",
        "        'OsPlatformSubRelease':                                 'category',\n",
        "        'OsBuildLab':                                           'category',\n",
        "        'SkuEdition':                                           'category',\n",
        "        'IsProtected':                                          'float16',\n",
        "        'AutoSampleOptIn':                                      'int8',\n",
        "        'PuaMode':                                              'category',\n",
        "        'SMode':                                                'float16',\n",
        "        'IeVerIdentifier':                                      'float16',\n",
        "        'SmartScreen':                                          'category',\n",
        "        'Firewall':                                             'float16',\n",
        "        'UacLuaenable':                                         'float32',\n",
        "        'Census_MDC2FormFactor':                                'category',\n",
        "        'Census_DeviceFamily':                                  'category',\n",
        "        'Census_OEMNameIdentifier':                             'float16',\n",
        "        'Census_OEMModelIdentifier':                            'float32',\n",
        "        'Census_ProcessorCoreCount':                            'float16',\n",
        "        'Census_ProcessorManufacturerIdentifier':               'float16',\n",
        "        'Census_ProcessorModelIdentifier':                      'float16',\n",
        "        'Census_ProcessorClass':                                'category',\n",
        "        'Census_PrimaryDiskTotalCapacity':                      'float32',\n",
        "        'Census_PrimaryDiskTypeName':                           'category',\n",
        "        'Census_SystemVolumeTotalCapacity':                     'float32',\n",
        "        'Census_HasOpticalDiskDrive':                           'int8',\n",
        "        'Census_TotalPhysicalRAM':                              'float32',\n",
        "        'Census_ChassisTypeName':                               'category',\n",
        "        'Census_InternalPrimaryDiagonalDisplaySizeInInches':    'float16',\n",
        "        'Census_InternalPrimaryDisplayResolutionHorizontal':    'float16',\n",
        "        'Census_InternalPrimaryDisplayResolutionVertical':      'float16',\n",
        "        'Census_PowerPlatformRoleName':                         'category',\n",
        "        'Census_InternalBatteryType':                           'category',\n",
        "        'Census_InternalBatteryNumberOfCharges':                'float32',\n",
        "        'Census_OSVersion':                                     'category',\n",
        "        'Census_OSArchitecture':                                'category',\n",
        "        'Census_OSBranch':                                      'category',\n",
        "        'Census_OSBuildNumber':                                 'int16',\n",
        "        'Census_OSBuildRevision':                               'int32',\n",
        "        'Census_OSEdition':                                     'category',\n",
        "        'Census_OSSkuName':                                     'category',\n",
        "        'Census_OSInstallTypeName':                             'category',\n",
        "        'Census_OSInstallLanguageIdentifier':                   'float16',\n",
        "        'Census_OSUILocaleIdentifier':                          'int16',\n",
        "        'Census_OSWUAutoUpdateOptionsName':                     'category',\n",
        "        'Census_IsPortableOperatingSystem':                     'int8',\n",
        "        'Census_GenuineStateName':                              'category',\n",
        "        'Census_ActivationChannel':                             'category',\n",
        "        'Census_IsFlightingInternal':                           'float16',\n",
        "        'Census_IsFlightsDisabled':                             'float16',\n",
        "        'Census_FlightRing':                                    'category',\n",
        "        'Census_ThresholdOptIn':                                'float16',\n",
        "        'Census_FirmwareManufacturerIdentifier':                'float16',\n",
        "        'Census_FirmwareVersionIdentifier':                     'float32',\n",
        "        'Census_IsSecureBootEnabled':                           'int8',\n",
        "        'Census_IsWIMBootEnabled':                              'float16',\n",
        "        'Census_IsVirtualDevice':                               'float16',\n",
        "        'Census_IsTouchEnabled':                                'int8',\n",
        "        'Census_IsPenCapable':                                  'int8',\n",
        "        'Census_IsAlwaysOnAlwaysConnectedCapable':              'float16',\n",
        "        'Wdft_IsGamer':                                         'float16',\n",
        "        'Wdft_RegionIdentifier':                                'float16',\n",
        "        'HasDetections':                                        'int8'\n",
        "        }\n",
        "\n",
        "gc.enable()"
      ],
      "execution_count": 0,
      "outputs": []
    },
    {
      "cell_type": "markdown",
      "metadata": {
        "id": "5wHJVQHMebix",
        "colab_type": "text"
      },
      "source": [
        "## Читаем и проверяем набор данных"
      ]
    },
    {
      "cell_type": "code",
      "metadata": {
        "id": "vOoPRu4XfW7C",
        "colab_type": "code",
        "colab": {}
      },
      "source": [
        "tra = pd.read_csv('/content/drive/My Drive/ugroz/train.csv', dtype=dtypes, low_memory=True)\n",
        "tra['MachineIdentifier'] = tra.index.astype('uint32')\n",
        "gc.enable()"
      ],
      "execution_count": 0,
      "outputs": []
    },
    {
      "cell_type": "code",
      "metadata": {
        "id": "dsVtQmgzMRG6",
        "colab_type": "code",
        "colab": {}
      },
      "source": [
        "del prosmotr #удалим чтоб не занимал место\n",
        "train = tra"
      ],
      "execution_count": 0,
      "outputs": []
    },
    {
      "cell_type": "code",
      "metadata": {
        "id": "1kxtBs6RHLi8",
        "colab_type": "code",
        "colab": {}
      },
      "source": [
        "print(train.info())"
      ],
      "execution_count": 0,
      "outputs": []
    },
    {
      "cell_type": "markdown",
      "metadata": {
        "id": "heybSwhaKKfz",
        "colab_type": "text"
      },
      "source": [
        "# Проверим соотношение распределение цели задачи\n",
        "## 0 - не подвержен заражению\n",
        "## 1 - подвержен заражению"
      ]
    },
    {
      "cell_type": "code",
      "metadata": {
        "id": "lPcN3UyYXWZ6",
        "colab_type": "code",
        "colab": {}
      },
      "source": [
        "train['HasDetections'].value_counts().plot.bar()\n",
        "plt.title('HasDetections(target)')"
      ],
      "execution_count": 0,
      "outputs": []
    },
    {
      "cell_type": "markdown",
      "metadata": {
        "id": "S0APDtZik6qK",
        "colab_type": "text"
      },
      "source": [
        "# Проверяем данные"
      ]
    },
    {
      "cell_type": "code",
      "metadata": {
        "id": "Do_HRAeXEtuO",
        "colab_type": "code",
        "colab": {}
      },
      "source": [
        "print('Размер датасета: ', train.shape)"
      ],
      "execution_count": 0,
      "outputs": []
    },
    {
      "cell_type": "code",
      "metadata": {
        "id": "VO54QMLotmVy",
        "colab_type": "code",
        "colab": {}
      },
      "source": [
        "train.head(5)"
      ],
      "execution_count": 0,
      "outputs": []
    },
    {
      "cell_type": "markdown",
      "metadata": {
        "id": "LpV_5wg9lHX4",
        "colab_type": "text"
      },
      "source": [
        "## есть ли пропуски в тренировочных данных и оцениваем их количество в %"
      ]
    },
    {
      "cell_type": "code",
      "metadata": {
        "id": "W3CTuZN4k945",
        "colab_type": "code",
        "colab": {}
      },
      "source": [
        "total = train.isnull().sum().sort_values(ascending = False)\n",
        "percent = (train.isnull().sum()/train.isnull().count()*100).sort_values(ascending = False)\n",
        "missing_train_data  = pd.concat([total, percent], axis=1, keys=['Всего', 'Процентов'])"
      ],
      "execution_count": 0,
      "outputs": []
    },
    {
      "cell_type": "code",
      "metadata": {
        "id": "ugnUIQWtaYW0",
        "colab_type": "code",
        "colab": {}
      },
      "source": [
        "missing_train_data.head(50)"
      ],
      "execution_count": 0,
      "outputs": []
    },
    {
      "cell_type": "markdown",
      "metadata": {
        "id": "Wj-xY9y-YqaI",
        "colab_type": "text"
      },
      "source": [
        "\n",
        "PuaMode, Census_ProcessorClass, DefaultBrowsersIdentifier, Census_IsFlightingInternal и Census_InternalBatteryType содержат более 70% нулевых данных.\n",
        "Давайте проверим их распределение относительно цели.\n",
        "Поскольку наборы данных велики, давайте сравним распределения, используя 10% train"
      ]
    },
    {
      "cell_type": "code",
      "metadata": {
        "id": "R-eRQpfcY0xj",
        "colab_type": "code",
        "colab": {}
      },
      "source": [
        "train_small = train"
      ],
      "execution_count": 0,
      "outputs": []
    },
    {
      "cell_type": "markdown",
      "metadata": {
        "id": "SOBXKEwYLr4n",
        "colab_type": "text"
      },
      "source": [
        "# Посмотрим какие уникальные значения и их количество получилось"
      ]
    },
    {
      "cell_type": "code",
      "metadata": {
        "id": "94477CzrLzUO",
        "colab_type": "code",
        "colab": {}
      },
      "source": [
        "train_small.nunique()"
      ],
      "execution_count": 0,
      "outputs": []
    },
    {
      "cell_type": "markdown",
      "metadata": {
        "id": "hQ3O68eFlcjK",
        "colab_type": "text"
      },
      "source": [
        "# Смотрим зависимости признаков и графики"
      ]
    },
    {
      "cell_type": "markdown",
      "metadata": {
        "id": "rqQiHykTaMzo",
        "colab_type": "text"
      },
      "source": [
        "# PuaMode - Pua включен режим из сервиса"
      ]
    },
    {
      "cell_type": "code",
      "metadata": {
        "id": "6vIrrBFYaQeY",
        "colab_type": "code",
        "colab": {}
      },
      "source": [
        "print(train_small['PuaMode'].dtypes)"
      ],
      "execution_count": 0,
      "outputs": []
    },
    {
      "cell_type": "code",
      "metadata": {
        "id": "iOEKsodIaklV",
        "colab_type": "code",
        "colab": {}
      },
      "source": [
        "sns.countplot(x='PuaMode', hue='HasDetections',data=train_small)\n",
        "plt.show()"
      ],
      "execution_count": 0,
      "outputs": []
    },
    {
      "cell_type": "markdown",
      "metadata": {
        "id": "JJqql8YYa3Fn",
        "colab_type": "text"
      },
      "source": [
        "\n",
        "Там есть какая-то разница. Но образцов довольно мало, поэтому удалим эту функцию."
      ]
    },
    {
      "cell_type": "markdown",
      "metadata": {
        "id": "GScB1leCbVaj",
        "colab_type": "text"
      },
      "source": [
        "# Классификация процессоров на высокий / средний / низкий.\n",
        "##  Census_ProcessorClass"
      ]
    },
    {
      "cell_type": "code",
      "metadata": {
        "id": "JrZsIpqqbfJZ",
        "colab_type": "code",
        "colab": {}
      },
      "source": [
        "print(train_small['Census_ProcessorClass'].dtypes)"
      ],
      "execution_count": 0,
      "outputs": []
    },
    {
      "cell_type": "code",
      "metadata": {
        "id": "x1PQCkiLbkXg",
        "colab_type": "code",
        "colab": {}
      },
      "source": [
        "sns.countplot(x='Census_ProcessorClass', hue='HasDetections',data=train_small)\n",
        "plt.show()"
      ],
      "execution_count": 0,
      "outputs": []
    },
    {
      "cell_type": "markdown",
      "metadata": {
        "id": "oFemiYX5bxLl",
        "colab_type": "text"
      },
      "source": [
        "«Census_ProcessorClassr» - «Количество логических ядер в процессоре».\n",
        "Вы можете проверить, что чем больше логических ядер, тем вероятнее заражение вредоносными программами.\n",
        "Эта функция может быть только хорошими функциями или компонентом для комбинаций с другими функциями."
      ]
    },
    {
      "cell_type": "markdown",
      "metadata": {
        "id": "nFvx0LbGb0Lk",
        "colab_type": "text"
      },
      "source": [
        "# ID для браузера по умолчанию на машине\n",
        "## DefaultBrosersIdentifier"
      ]
    },
    {
      "cell_type": "code",
      "metadata": {
        "id": "LCzjFrclcKIf",
        "colab_type": "code",
        "colab": {}
      },
      "source": [
        "print(train_small['DefaultBrowsersIdentifier'].dtypes)"
      ],
      "execution_count": 0,
      "outputs": []
    },
    {
      "cell_type": "code",
      "metadata": {
        "id": "xemasx7ZcOQ9",
        "colab_type": "code",
        "colab": {}
      },
      "source": [
        "fig, ax = plt.subplots(1, 2, figsize=(16, 8))\n",
        "sns.kdeplot(train_small.loc[train['HasDetections'] == 0, 'DefaultBrowsersIdentifier'], ax=ax[0], label='NoDetection(0)')\n",
        "sns.kdeplot(train_small.loc[train['HasDetections'] == 1, 'DefaultBrowsersIdentifier'], ax=ax[0], label='HasDetection(1)')\n",
        "\n",
        "train_small.loc[train['HasDetections'] == 0, 'DefaultBrowsersIdentifier'].hist(ax=ax[1])\n",
        "train_small.loc[train['HasDetections'] == 1, 'DefaultBrowsersIdentifier'].hist(ax=ax[1])\n",
        "ax[1].legend(['NoDetection(0)', 'HasDetection(1)'])\n",
        "\n",
        "plt.show()"
      ],
      "execution_count": 0,
      "outputs": []
    },
    {
      "cell_type": "markdown",
      "metadata": {
        "id": "nLpd0hreccY7",
        "colab_type": "text"
      },
      "source": [
        "\n",
        "DefaultBrowsersIdentifier означает «идентификатор браузера машины по умолчанию».\n",
        "Является ли эта функция значимой?"
      ]
    },
    {
      "cell_type": "markdown",
      "metadata": {
        "id": "JCW5xXTJc7wC",
        "colab_type": "text"
      },
      "source": [
        "# Census_IsFlightingInternal - нет данных"
      ]
    },
    {
      "cell_type": "code",
      "metadata": {
        "id": "_jCrbk_uc9wG",
        "colab_type": "code",
        "colab": {}
      },
      "source": [
        "print(train_small['Census_IsFlightingInternal'].dtypes)"
      ],
      "execution_count": 0,
      "outputs": []
    },
    {
      "cell_type": "code",
      "metadata": {
        "id": "8LzpZjIzdoh9",
        "colab_type": "code",
        "colab": {}
      },
      "source": [
        "fig, ax = plt.subplots(1, 2, figsize=(16, 8))\n",
        "sns.kdeplot(train_small.loc[train['HasDetections'] == 0, 'Census_IsFlightingInternal'], ax=ax[0], label='NoDetection(0)')\n",
        "sns.kdeplot(train_small.loc[train['HasDetections'] == 1, 'Census_IsFlightingInternal'], ax=ax[0], label='HasDetection(1)')\n",
        "\n",
        "train_small.loc[train['HasDetections'] == 0, 'Census_IsFlightingInternal'].hist(ax=ax[1])\n",
        "train_small.loc[train['HasDetections'] == 1, 'Census_IsFlightingInternal'].hist(ax=ax[1])\n",
        "ax[1].legend(['NoDetection(0)', 'HasDetection(1)'])\n",
        "\n",
        "plt.show()"
      ],
      "execution_count": 0,
      "outputs": []
    },
    {
      "cell_type": "code",
      "metadata": {
        "id": "QZ4vYOLhdv-m",
        "colab_type": "code",
        "colab": {}
      },
      "source": [
        "train_small.loc[train['HasDetections'] == 1, 'Census_IsFlightingInternal'].value_counts()"
      ],
      "execution_count": 0,
      "outputs": []
    },
    {
      "cell_type": "code",
      "metadata": {
        "id": "2gOi56oPd0x0",
        "colab_type": "code",
        "colab": {}
      },
      "source": [
        "train_small.loc[train['HasDetections'] == 0, 'Census_IsFlightingInternal'].value_counts()"
      ],
      "execution_count": 0,
      "outputs": []
    },
    {
      "cell_type": "markdown",
      "metadata": {
        "id": "4rlcnLPteDmG",
        "colab_type": "text"
      },
      "source": [
        "\n",
        "Как видите, значение Census_IsFlightingInternal почти равно 0,0. Просто удалим"
      ]
    },
    {
      "cell_type": "markdown",
      "metadata": {
        "id": "ITLHdoXieddR",
        "colab_type": "text"
      },
      "source": [
        "# Census_InternalBatteryType - нет данных"
      ]
    },
    {
      "cell_type": "code",
      "metadata": {
        "id": "ni6LP0BhegVG",
        "colab_type": "code",
        "colab": {}
      },
      "source": [
        "print(train_small['Census_InternalBatteryType'].dtypes)"
      ],
      "execution_count": 0,
      "outputs": []
    },
    {
      "cell_type": "code",
      "metadata": {
        "id": "3lDSGt7Tetsc",
        "colab_type": "code",
        "colab": {}
      },
      "source": [
        "train_small['Census_InternalBatteryType'].value_counts()"
      ],
      "execution_count": 0,
      "outputs": []
    },
    {
      "cell_type": "markdown",
      "metadata": {
        "id": "bBWCmlmDe-gP",
        "colab_type": "text"
      },
      "source": [
        "\n",
        "Я думаю, что эта функция означает тип батареи каждой машины.\n",
        "В наши дни большинство батарей - это литий-ионные аккумуляторы.\n",
        "И сгруппировал их в группу литий и группу без-литиевая батарея"
      ]
    },
    {
      "cell_type": "code",
      "metadata": {
        "id": "cAot-Qn8fQxy",
        "colab_type": "code",
        "colab": {}
      },
      "source": [
        "def group_battery(x):\n",
        "    x = x.lower()\n",
        "    if 'li' in x:\n",
        "        return 1\n",
        "    else:\n",
        "        return 0\n",
        "    \n",
        "train_small['Census_InternalBatteryType'] = train_small['Census_InternalBatteryType'].apply(group_battery)"
      ],
      "execution_count": 0,
      "outputs": []
    },
    {
      "cell_type": "code",
      "metadata": {
        "id": "bVOjA1GlfY6p",
        "colab_type": "code",
        "colab": {}
      },
      "source": [
        "sns.countplot(x='Census_InternalBatteryType', hue='HasDetections',data=train_small)\n",
        "plt.show()"
      ],
      "execution_count": 0,
      "outputs": []
    },
    {
      "cell_type": "markdown",
      "metadata": {
        "id": "yiavtCEEftUh",
        "colab_type": "text"
      },
      "source": [
        "\n",
        "Разница довольно маленькая.\n",
        "Возник вопрос....\"некоторые вредоносные программы распознают и выбирают машину в зависимости от типа батареи?\"\n",
        "\n",
        "Аккумулятор очень важная часть для жизни машины. Я думаю, что вредоносные программы будут сосредоточены на других аппаратных и программных частях машины.\n",
        "Поэтому его можно удалить."
      ]
    },
    {
      "cell_type": "code",
      "metadata": {
        "id": "3pQp5vx-wizY",
        "colab_type": "code",
        "colab": {}
      },
      "source": [
        "null_cols_to_remove = ['DefaultBrowsersIdentifier', 'PuaMode',\n",
        "                       'Census_IsFlightingInternal', 'Census_InternalBatteryType']\n",
        "\n",
        "train.drop(null_cols_to_remove, axis=1, inplace=True)"
      ],
      "execution_count": 0,
      "outputs": []
    },
    {
      "cell_type": "markdown",
      "metadata": {
        "id": "y744lDQ5g3Bj",
        "colab_type": "text"
      },
      "source": [
        "## Получившиеся предварительные данные"
      ]
    },
    {
      "cell_type": "code",
      "metadata": {
        "id": "6Cdwupn0gipa",
        "colab_type": "code",
        "colab": {}
      },
      "source": [
        "print(train.shape)"
      ],
      "execution_count": 0,
      "outputs": []
    },
    {
      "cell_type": "code",
      "metadata": {
        "id": "W23fgxqvg_cJ",
        "colab_type": "code",
        "colab": {}
      },
      "source": [
        "train.head(25)"
      ],
      "execution_count": 0,
      "outputs": []
    },
    {
      "cell_type": "code",
      "metadata": {
        "id": "rR000qmMSHBu",
        "colab_type": "code",
        "colab": {}
      },
      "source": [
        "train.isnull().sum()"
      ],
      "execution_count": 0,
      "outputs": []
    },
    {
      "cell_type": "markdown",
      "metadata": {
        "id": "uDHVceUhSbt5",
        "colab_type": "text"
      },
      "source": [
        "## Как видим есть еще пропуски, но уже меньше. Проанализируем каждый парамметр на то как он влияет на определение подвержен АРМ заражению или нет"
      ]
    },
    {
      "cell_type": "markdown",
      "metadata": {
        "id": "-sfBEPI_gXDn",
        "colab_type": "text"
      },
      "source": [
        "# Проведем исследовательский анализ данных дальше"
      ]
    },
    {
      "cell_type": "markdown",
      "metadata": {
        "id": "uJs0V94_h6KZ",
        "colab_type": "text"
      },
      "source": [
        "## Категориальные особенности"
      ]
    },
    {
      "cell_type": "code",
      "metadata": {
        "id": "TJsHyPD3iAng",
        "colab_type": "code",
        "colab": {}
      },
      "source": [
        "categorical_features = [\n",
        "        'ProductName',                                          \n",
        "        'EngineVersion',                                        \n",
        "        'AppVersion',                                           \n",
        "        'AvSigVersion',                                         \n",
        "        'Platform',                                             \n",
        "        'Processor',                                            \n",
        "        'OsVer',                                                \n",
        "        'OsPlatformSubRelease',                                 \n",
        "        'OsBuildLab',                                           \n",
        "        'SkuEdition',                                           \n",
        "        'SmartScreen',                                          \n",
        "        'Census_MDC2FormFactor',                                \n",
        "        'Census_DeviceFamily',                                  \n",
        "        'Census_PrimaryDiskTypeName',                           \n",
        "        'Census_ChassisTypeName',                               \n",
        "        'Census_PowerPlatformRoleName',                         \n",
        "        'Census_OSVersion',                                     \n",
        "        'Census_OSArchitecture',                                \n",
        "        'Census_OSBranch',                                      \n",
        "        'Census_OSEdition',                                     \n",
        "        'Census_OSSkuName',                                     \n",
        "        'Census_OSInstallTypeName',                             \n",
        "        'Census_OSWUAutoUpdateOptionsName',                     \n",
        "        'Census_GenuineStateName',                              \n",
        "        'Census_ActivationChannel',                             \n",
        "        'Census_FlightRing',                                    \n",
        "]"
      ],
      "execution_count": 0,
      "outputs": []
    },
    {
      "cell_type": "code",
      "metadata": {
        "id": "JJ_NggA2c6_g",
        "colab_type": "code",
        "colab": {}
      },
      "source": [
        "total = train.isnull().sum().sort_values(ascending = False)\n",
        "percent = (train.isnull().sum()/train.isnull().count()*100).sort_values(ascending = False)\n",
        "missing_train_data  = pd.concat([total, percent], axis=1, keys=['Total', 'Percent'])"
      ],
      "execution_count": 0,
      "outputs": []
    },
    {
      "cell_type": "code",
      "metadata": {
        "id": "2SX7BHJNPPab",
        "colab_type": "code",
        "colab": {}
      },
      "source": [
        "missing_train_data.head(50)"
      ],
      "execution_count": 0,
      "outputs": []
    },
    {
      "cell_type": "markdown",
      "metadata": {
        "id": "abrAs1gq63e1",
        "colab_type": "text"
      },
      "source": [
        "## ProductName - информация о состоянии Защитника, например win8defender"
      ]
    },
    {
      "cell_type": "code",
      "metadata": {
        "id": "ogLeA4Eu6_Ih",
        "colab_type": "code",
        "colab": {}
      },
      "source": [
        "def plot_category_percent_of_target(col):\n",
        "    fig, ax = plt.subplots(1, 1, figsize=(15, 10))\n",
        "    cat_percent = train_small[[col, 'HasDetections']].groupby(col, as_index=False).mean()\n",
        "    cat_size = train_small[col].value_counts().reset_index(drop=False)\n",
        "    cat_size.columns = [col, 'count']\n",
        "    cat_percent = cat_percent.merge(cat_size, on=col, how='left')\n",
        "    cat_percent['HasDetections'] = cat_percent['HasDetections'].fillna(0)\n",
        "    cat_percent = cat_percent.sort_values(by='count', ascending=False)[:20]\n",
        "    sns.barplot(ax=ax, x='HasDetections', y=col, data=cat_percent, order=cat_percent[col])\n",
        "\n",
        "    for i, p in enumerate(ax.patches):\n",
        "        ax.annotate('{}'.format(cat_percent['count'].values[i]), (p.get_width(), p.get_y()+0.5), fontsize=20)\n",
        "\n",
        "    plt.xlabel('% of HasDetections(target)')\n",
        "    plt.ylabel(col)\n",
        "    plt.show()"
      ],
      "execution_count": 0,
      "outputs": []
    },
    {
      "cell_type": "code",
      "metadata": {
        "id": "OYmluzP57NJ4",
        "colab_type": "code",
        "colab": {}
      },
      "source": [
        "col = categorical_features[0]\n",
        "plot_category_percent_of_target(col)"
      ],
      "execution_count": 0,
      "outputs": []
    },
    {
      "cell_type": "markdown",
      "metadata": {
        "id": "c-YspBq57Xxc",
        "colab_type": "text"
      },
      "source": [
        "## EngineVersion - информация о состоянии Защитника, например, 1.1.12603.0"
      ]
    },
    {
      "cell_type": "code",
      "metadata": {
        "id": "yF1Njg-a7b8g",
        "colab_type": "code",
        "colab": {}
      },
      "source": [
        "col = categorical_features[1]\n",
        "plot_category_percent_of_target(col)"
      ],
      "execution_count": 0,
      "outputs": []
    },
    {
      "cell_type": "markdown",
      "metadata": {
        "id": "K05MAdf68EeT",
        "colab_type": "text"
      },
      "source": [
        "## AppVersion - информация о состоянии Защитника, например, 4.9.10586.0"
      ]
    },
    {
      "cell_type": "code",
      "metadata": {
        "id": "HRWuNDdi8G4f",
        "colab_type": "code",
        "colab": {}
      },
      "source": [
        "col = categorical_features[2]\n",
        "plot_category_percent_of_target(col)"
      ],
      "execution_count": 0,
      "outputs": []
    },
    {
      "cell_type": "markdown",
      "metadata": {
        "id": "S1JMub1D8S3S",
        "colab_type": "text"
      },
      "source": [
        "## AvSigVersion - информация о состоянии Защитника, например, 1.217.1014.0"
      ]
    },
    {
      "cell_type": "code",
      "metadata": {
        "id": "1aY91rWi8VJQ",
        "colab_type": "code",
        "colab": {}
      },
      "source": [
        "col = categorical_features[3]\n",
        "plot_category_percent_of_target(col)"
      ],
      "execution_count": 0,
      "outputs": []
    },
    {
      "cell_type": "markdown",
      "metadata": {
        "id": "QGm7rWLX8grb",
        "colab_type": "text"
      },
      "source": [
        "## Платформа - вычисляет имя платформы (связанных свойств ОС и свойств процессора)"
      ]
    },
    {
      "cell_type": "code",
      "metadata": {
        "id": "-kUDhiYZ8iwJ",
        "colab_type": "code",
        "colab": {}
      },
      "source": [
        "col = categorical_features[4]\n",
        "plot_category_percent_of_target(col)"
      ],
      "execution_count": 0,
      "outputs": []
    },
    {
      "cell_type": "markdown",
      "metadata": {
        "id": "Z0MRyTZR8qSb",
        "colab_type": "text"
      },
      "source": [
        "## Процессор - это архитектура процесса установленной операционной системы."
      ]
    },
    {
      "cell_type": "code",
      "metadata": {
        "id": "UhLuG8e58spk",
        "colab_type": "code",
        "colab": {}
      },
      "source": [
        "col = categorical_features[5]\n",
        "plot_category_percent_of_target(col)"
      ],
      "execution_count": 0,
      "outputs": []
    },
    {
      "cell_type": "markdown",
      "metadata": {
        "id": "AhHhK7Ih86P2",
        "colab_type": "text"
      },
      "source": [
        "## Census_OSVersion - Пример числовой версии ОС - 10.0.10130.0"
      ]
    },
    {
      "cell_type": "code",
      "metadata": {
        "id": "F8hJaUzf8907",
        "colab_type": "code",
        "colab": {}
      },
      "source": [
        "col = categorical_features[6]\n",
        "plot_category_percent_of_target(col)\n"
      ],
      "execution_count": 0,
      "outputs": []
    },
    {
      "cell_type": "markdown",
      "metadata": {
        "id": "5kyZqdDqKURZ",
        "colab_type": "text"
      },
      "source": [
        "## Возвращает дополнительную версию платформы ОС (Windows Vista, Windows 7, Windows 8, TH1, TH2)"
      ]
    },
    {
      "cell_type": "code",
      "metadata": {
        "id": "B2vtB_yhLOyL",
        "colab_type": "code",
        "colab": {}
      },
      "source": [
        "col = categorical_features[7]\n",
        "plot_category_percent_of_target(col)"
      ],
      "execution_count": 0,
      "outputs": []
    },
    {
      "cell_type": "markdown",
      "metadata": {
        "id": "PxT9TFyxLTbm",
        "colab_type": "text"
      },
      "source": [
        "## Построить лабораторию, которая генерировала текущую ОС. Пример: 9600.17630.amd64fre.winblue_r7.150109-2022"
      ]
    },
    {
      "cell_type": "code",
      "metadata": {
        "id": "aPUn48KyLfpu",
        "colab_type": "code",
        "colab": {}
      },
      "source": [
        "col = categorical_features[8]\n",
        "plot_category_percent_of_target(col)"
      ],
      "execution_count": 0,
      "outputs": []
    },
    {
      "cell_type": "markdown",
      "metadata": {
        "id": "78GlhY4pLpKm",
        "colab_type": "text"
      },
      "source": [
        "## SkuEdition- Цель этой функции - использовать тип продукта, определенный в MSDN, для сопоставления с именем «SKU-Edition», которое полезно при составлении отчетов о населении. Допустимый тип продукта определен в% sdxroot% \\ data \\ windowseditions.xml. Этот API используется с Vista и Server 2008, поэтому существует много типов продуктов, которые не применимы к Windows 10. «SKU-Edition» - это строковое значение, которое входит в один из трех классов результатов. Дизайн должен передать каждый класс."
      ]
    },
    {
      "cell_type": "code",
      "metadata": {
        "id": "yQPjCJMYLpcG",
        "colab_type": "code",
        "colab": {}
      },
      "source": [
        "col = categorical_features[9]\n",
        "plot_category_percent_of_target(col)"
      ],
      "execution_count": 0,
      "outputs": []
    },
    {
      "cell_type": "markdown",
      "metadata": {
        "id": "DQBzeUBjMh6W",
        "colab_type": "text"
      },
      "source": [
        "## SmartScreen- Это активированное строковое значение SmartScreen из реестра. Это получается путем проверки по порядку: HKLM \\ SOFTWARE \\ Policies \\ Microsoft \\ Windows \\ System \\ SmartScreenEnabled и HKLM \\ SOFTWARE \\ Microsoft \\ Windows \\ CurrentVersion \\ Explorer \\ SmartScreenEnabled."
      ]
    },
    {
      "cell_type": "code",
      "metadata": {
        "id": "Xw7UW4rRMjmv",
        "colab_type": "code",
        "colab": {}
      },
      "source": [
        "col = categorical_features[10]\n",
        "plot_category_percent_of_target(col)"
      ],
      "execution_count": 0,
      "outputs": []
    },
    {
      "cell_type": "markdown",
      "metadata": {
        "id": "57p1p5r2Mn4J",
        "colab_type": "text"
      },
      "source": [
        "## Census_MDC2FormFactor- Группировка на основе комбинации характеристик оборудования на уровне переписи устройства. Логика, используемая для определения форм-фактора, основана на деловых и отраслевых стандартах и соответствует тому, как люди думают об их устройстве. (Примеры: смартфон, маленький планшет, все в одном, кабриолет ...)"
      ]
    },
    {
      "cell_type": "code",
      "metadata": {
        "id": "oSw6bkJ3M8es",
        "colab_type": "code",
        "colab": {}
      },
      "source": [
        "col = categorical_features[11]\n",
        "plot_category_percent_of_target(col)"
      ],
      "execution_count": 0,
      "outputs": []
    },
    {
      "cell_type": "markdown",
      "metadata": {
        "id": "Zadr3AnKNAnQ",
        "colab_type": "text"
      },
      "source": [
        "##  Census_DeviceFamily- AKA DeviceClass. Указывает тип устройства, для которого предназначена редакция ОС. "
      ]
    },
    {
      "cell_type": "code",
      "metadata": {
        "id": "hbdQDL25Ns8T",
        "colab_type": "code",
        "colab": {}
      },
      "source": [
        "col = categorical_features[12]\n",
        "plot_category_percent_of_target(col)"
      ],
      "execution_count": 0,
      "outputs": []
    },
    {
      "cell_type": "markdown",
      "metadata": {
        "id": "MaaJWOfZn3ih",
        "colab_type": "text"
      },
      "source": [
        "## Census_PrimaryDiskTotalCapacity - Используемые носители  на основном диске машины в МБ"
      ]
    },
    {
      "cell_type": "code",
      "metadata": {
        "id": "s_63-_01n5X_",
        "colab_type": "code",
        "colab": {}
      },
      "source": [
        "col = categorical_features[13]\n",
        "plot_category_percent_of_target(col)"
      ],
      "execution_count": 0,
      "outputs": []
    },
    {
      "cell_type": "markdown",
      "metadata": {
        "id": "HJWiWecIn-GP",
        "colab_type": "text"
      },
      "source": [
        "## Census_ChassisTypeName - Извлекает числовое представление типа шасси машины"
      ]
    },
    {
      "cell_type": "code",
      "metadata": {
        "id": "gGCK6qD1oF4x",
        "colab_type": "code",
        "colab": {}
      },
      "source": [
        "col = categorical_features[14]\n",
        "plot_category_percent_of_target(col)"
      ],
      "execution_count": 0,
      "outputs": []
    },
    {
      "cell_type": "markdown",
      "metadata": {
        "id": "zVami4s_oK9n",
        "colab_type": "text"
      },
      "source": [
        "## Census_PowerPlatformRoleName- Указывает предпочитаемый OEM профиль управления питанием. Это значение помогает определить базовый форм-фактор устройства"
      ]
    },
    {
      "cell_type": "code",
      "metadata": {
        "id": "_yNI46oeoYW9",
        "colab_type": "code",
        "colab": {}
      },
      "source": [
        "col = categorical_features[15]\n",
        "plot_category_percent_of_target(col)"
      ],
      "execution_count": 0,
      "outputs": []
    },
    {
      "cell_type": "markdown",
      "metadata": {
        "id": "ji_fGzQSoc_z",
        "colab_type": "text"
      },
      "source": [
        "## Census_OSVersion - Пример числовой версии ОС "
      ]
    },
    {
      "cell_type": "code",
      "metadata": {
        "id": "6WxGUcYToqEp",
        "colab_type": "code",
        "colab": {}
      },
      "source": [
        "col = categorical_features[16]\n",
        "plot_category_percent_of_target(col)"
      ],
      "execution_count": 0,
      "outputs": []
    },
    {
      "cell_type": "markdown",
      "metadata": {
        "id": "K3IHyJ5bousU",
        "colab_type": "text"
      },
      "source": [
        "## Census_OSArchitecture- Архитектура, на которой основана ОС"
      ]
    },
    {
      "cell_type": "code",
      "metadata": {
        "id": "dlN7Npmbo4CA",
        "colab_type": "code",
        "colab": {}
      },
      "source": [
        "col = categorical_features[17]\n",
        "plot_category_percent_of_target(col)"
      ],
      "execution_count": 0,
      "outputs": []
    },
    {
      "cell_type": "markdown",
      "metadata": {
        "id": "q3qTH_09o-ET",
        "colab_type": "text"
      },
      "source": [
        "## Версия ОС извлечена из OsVersionFull"
      ]
    },
    {
      "cell_type": "code",
      "metadata": {
        "id": "8fQg69WNpe8T",
        "colab_type": "code",
        "colab": {}
      },
      "source": [
        "col = categorical_features[18]\n",
        "plot_category_percent_of_target(col)"
      ],
      "execution_count": 0,
      "outputs": []
    },
    {
      "cell_type": "markdown",
      "metadata": {
        "id": "x7Yc8NXMpzeb",
        "colab_type": "text"
      },
      "source": [
        "## Census_OSEdition- Выпуск текущей ОС\n",
        " Получается из реестра HKLM \\ Software \\ Microsoft \\ Windows NT \\ CurrentVersion @ EditionID в реестре."
      ]
    },
    {
      "cell_type": "code",
      "metadata": {
        "id": "t10nZrShqA-o",
        "colab_type": "code",
        "colab": {}
      },
      "source": [
        "col = categorical_features[19]\n",
        "plot_category_percent_of_target(col)"
      ],
      "execution_count": 0,
      "outputs": []
    },
    {
      "cell_type": "markdown",
      "metadata": {
        "id": "4S6tD3T2qPW8",
        "colab_type": "text"
      },
      "source": [
        "## Census_OSSkuName - дружественное имя для выпуска ОС "
      ]
    },
    {
      "cell_type": "code",
      "metadata": {
        "id": "YksRDqe9qRbx",
        "colab_type": "code",
        "colab": {}
      },
      "source": [
        "col = categorical_features[20]\n",
        "plot_category_percent_of_target(col)"
      ],
      "execution_count": 0,
      "outputs": []
    },
    {
      "cell_type": "markdown",
      "metadata": {
        "id": "1d-FjTqeqYBu",
        "colab_type": "text"
      },
      "source": [
        "## Census_PrimaryDiskTypeName - Дружественное имя основного типа диска - HDD или SSD"
      ]
    },
    {
      "cell_type": "code",
      "metadata": {
        "id": "eEfUbrczrMOZ",
        "colab_type": "code",
        "colab": {}
      },
      "source": [
        "col = categorical_features[21]\n",
        "plot_category_percent_of_target(col)"
      ],
      "execution_count": 0,
      "outputs": []
    },
    {
      "cell_type": "markdown",
      "metadata": {
        "id": "wrrQFjvSrVXm",
        "colab_type": "text"
      },
      "source": [
        "## Census_OSWUAutoUpdateOptionsName - Дружественное имя настроек автообновления "
      ]
    },
    {
      "cell_type": "code",
      "metadata": {
        "id": "sqdCktoyrlkT",
        "colab_type": "code",
        "colab": {}
      },
      "source": [
        "col = categorical_features[22]\n",
        "plot_category_percent_of_target(col)"
      ],
      "execution_count": 0,
      "outputs": []
    },
    {
      "cell_type": "markdown",
      "metadata": {
        "id": "v3LG0ybEr9Oc",
        "colab_type": "text"
      },
      "source": [
        "## Census_GenuineStateName- Дружественное имя OSGenuineStateID. \n"
      ]
    },
    {
      "cell_type": "code",
      "metadata": {
        "id": "m-aaxPshsLF0",
        "colab_type": "code",
        "colab": {}
      },
      "source": [
        "col = categorical_features[23]\n",
        "plot_category_percent_of_target(col)"
      ],
      "execution_count": 0,
      "outputs": []
    },
    {
      "cell_type": "markdown",
      "metadata": {
        "id": "PLSqPfNVsQfD",
        "colab_type": "text"
      },
      "source": [
        "## Census_ActivationChannel - Розничный лицензионный ключ или корпоративный лицензионный ключ для машины"
      ]
    },
    {
      "cell_type": "code",
      "metadata": {
        "id": "Kq4WBqFvsXM_",
        "colab_type": "code",
        "colab": {}
      },
      "source": [
        "col = categorical_features[24]\n",
        "plot_category_percent_of_target(col)"
      ],
      "execution_count": 0,
      "outputs": []
    },
    {
      "cell_type": "markdown",
      "metadata": {
        "id": "8fzZFxELseTy",
        "colab_type": "text"
      },
      "source": [
        "## Census_IsFlightingInternal - нет данных"
      ]
    },
    {
      "cell_type": "code",
      "metadata": {
        "id": "jToHFocIsqGU",
        "colab_type": "code",
        "colab": {}
      },
      "source": [
        "col = categorical_features[25]\n",
        "plot_category_percent_of_target(col)"
      ],
      "execution_count": 0,
      "outputs": []
    },
    {
      "cell_type": "markdown",
      "metadata": {
        "id": "zNKpq0nOsyDh",
        "colab_type": "text"
      },
      "source": [
        "# Числовые особенности"
      ]
    },
    {
      "cell_type": "code",
      "metadata": {
        "id": "c03Yuwies6OI",
        "colab_type": "code",
        "colab": {}
      },
      "source": [
        "numeric_features = [\n",
        "        'IsBeta',                                               \n",
        "        'RtpStateBitfield',                                     \n",
        "        'IsSxsPassiveMode',                                     \n",
        "        'DefaultBrowsersIdentifier',                            \n",
        "        'AVProductStatesIdentifier',                            \n",
        "        'AVProductsInstalled',                                  \n",
        "        'AVProductsEnabled',                                    \n",
        "        'HasTpm',                                               \n",
        "        'CountryIdentifier',                                    \n",
        "        'CityIdentifier',                                       \n",
        "        'OrganizationIdentifier',                               \n",
        "        'GeoNameIdentifier',                                    \n",
        "        'LocaleEnglishNameIdentifier',                          \n",
        "        'OsBuild',                                              \n",
        "        'OsSuite',                                              \n",
        "        'IsProtected',                                          \n",
        "        'AutoSampleOptIn',                                      \n",
        "        'SMode',                                                \n",
        "        'IeVerIdentifier',                                      \n",
        "        'Firewall',                                             \n",
        "        'UacLuaenable',                                         \n",
        "        'Census_OEMNameIdentifier',                             \n",
        "        'Census_OEMModelIdentifier',                            \n",
        "        'Census_ProcessorCoreCount',                            \n",
        "        'Census_ProcessorManufacturerIdentifier',               \n",
        "        'Census_ProcessorModelIdentifier',                      \n",
        "        'Census_PrimaryDiskTotalCapacity',                      \n",
        "        'Census_SystemVolumeTotalCapacity',                     \n",
        "        'Census_HasOpticalDiskDrive',                           \n",
        "        'Census_TotalPhysicalRAM',                              \n",
        "        'Census_InternalPrimaryDiagonalDisplaySizeInInches',    \n",
        "        'Census_InternalPrimaryDisplayResolutionHorizontal',    \n",
        "        'Census_InternalPrimaryDisplayResolutionVertical',      \n",
        "        'Census_InternalBatteryNumberOfCharges',                \n",
        "        'Census_OSBuildNumber',                                 \n",
        "        'Census_OSBuildRevision',                               \n",
        "        'Census_OSInstallLanguageIdentifier',                   \n",
        "        'Census_OSUILocaleIdentifier',                          \n",
        "        'Census_IsPortableOperatingSystem',                     \n",
        "        'Census_IsFlightsDisabled',                             \n",
        "        'Census_ThresholdOptIn',                                \n",
        "        'Census_FirmwareManufacturerIdentifier',                \n",
        "        'Census_FirmwareVersionIdentifier',                     \n",
        "        'Census_IsSecureBootEnabled',                           \n",
        "        'Census_IsWIMBootEnabled',                              \n",
        "        'Census_IsVirtualDevice',                               \n",
        "        'Census_IsTouchEnabled',                                \n",
        "        'Census_IsPenCapable',                                  \n",
        "        'Census_IsAlwaysOnAlwaysConnectedCapable',              \n",
        "        'Wdft_IsGamer',                                         \n",
        "        'Wdft_RegionIdentifier',                                \n",
        "]"
      ],
      "execution_count": 0,
      "outputs": []
    },
    {
      "cell_type": "markdown",
      "metadata": {
        "id": "aKineHFutHju",
        "colab_type": "text"
      },
      "source": [
        "## Информация о состоянии защитника, например, ложь"
      ]
    },
    {
      "cell_type": "code",
      "metadata": {
        "id": "SES_m6mZtKG3",
        "colab_type": "code",
        "colab": {}
      },
      "source": [
        "def plot_category_percent_of_target_for_numeric(col):\n",
        "    fig, ax = plt.subplots(1, 2, figsize=(18, 8))\n",
        "    cat_percent = train_small[[col, 'HasDetections']].groupby(col, as_index=False).mean()\n",
        "    cat_size = train_small[col].value_counts().reset_index(drop=False)\n",
        "    cat_size.columns = [col, 'count']\n",
        "    cat_percent = cat_percent.merge(cat_size, on=col, how='left')\n",
        "    cat_percent['HasDetections'] = cat_percent['HasDetections'].fillna(0)\n",
        "    cat_percent = cat_percent.sort_values(by='count', ascending=False)[:20]\n",
        "    cat_percent[col] = cat_percent[col].astype('category')\n",
        "    sns.barplot(ax=ax[0], x='HasDetections', y=col, data=cat_percent,  order=cat_percent[col])\n",
        "\n",
        "    for i, p in enumerate(ax[0].patches):\n",
        "        ax[0].annotate('{}'.format(cat_percent['count'].values[i]), (p.get_width(), p.get_y()+0.5), fontsize=20)\n",
        "\n",
        "    ax[0].set_title('Barplot sorted by count', fontsize=20)\n",
        "\n",
        "    sns.barplot(ax=ax[1], x='HasDetections', y=col, data=cat_percent)\n",
        "    for i, p in enumerate(ax[0].patches):\n",
        "        ax[1].annotate('{}'.format(cat_percent['count'].sort_index().values[i]), (0, p.get_y()+0.6), fontsize=20)\n",
        "    ax[1].set_title('Barplot sorted by index', fontsize=20)\n",
        "\n",
        "    plt.xlabel('% of HasDetections(target)')\n",
        "    plt.ylabel(col)\n",
        "    plt.subplots_adjust(wspace=0.5, hspace=0)\n",
        "    plt.show()\n",
        "\n",
        "def plot_kde_hist_for_numeric(col):\n",
        "    fig, ax = plt.subplots(1, 2, figsize=(14, 8))\n",
        "    sns.kdeplot(train_small.loc[train['HasDetections'] == 0, col], ax=ax[0], label='NoDetection(0)')\n",
        "    sns.kdeplot(train_small.loc[train['HasDetections'] == 1, col], ax=ax[0], label='HasDetection(1)')\n",
        "\n",
        "    train_small.loc[train['HasDetections'] == 0, col].hist(ax=ax[1], bins=100)\n",
        "    train_small.loc[train['HasDetections'] == 1, col].hist(ax=ax[1], bins=100)\n",
        "\n",
        "    plt.suptitle(col, fontsize=30)\n",
        "    ax[0].set_yscale('log')\n",
        "    ax[0].set_title('KDE plot')\n",
        "    \n",
        "    ax[1].set_title('Histogram')\n",
        "    ax[1].legend(['NoDetection(0)', 'HasDetection(1)'])\n",
        "    ax[1].set_yscale('log')\n",
        "    plt.show()"
      ],
      "execution_count": 0,
      "outputs": []
    },
    {
      "cell_type": "code",
      "metadata": {
        "id": "S0l8BBpBtRSr",
        "colab_type": "code",
        "colab": {}
      },
      "source": [
        "col = numeric_features[0]\n",
        "\n",
        "plot_kde_hist_for_numeric(col)\n",
        "plot_category_percent_of_target_for_numeric(col)"
      ],
      "execution_count": 0,
      "outputs": []
    },
    {
      "cell_type": "markdown",
      "metadata": {
        "id": "XLXJWOBYtmdW",
        "colab_type": "text"
      },
      "source": [
        "## RtpStateBitfield"
      ]
    },
    {
      "cell_type": "code",
      "metadata": {
        "id": "lIDrlGIOtnyp",
        "colab_type": "code",
        "colab": {}
      },
      "source": [
        "col = numeric_features[1]\n",
        "\n",
        "plot_kde_hist_for_numeric(col)\n",
        "plot_category_percent_of_target_for_numeric(col)"
      ],
      "execution_count": 0,
      "outputs": []
    },
    {
      "cell_type": "markdown",
      "metadata": {
        "id": "IbYnVw83twWB",
        "colab_type": "text"
      },
      "source": [
        "##  IsSxsPassiveMode"
      ]
    },
    {
      "cell_type": "code",
      "metadata": {
        "id": "rM3b7FGJty1Y",
        "colab_type": "code",
        "colab": {}
      },
      "source": [
        "col = numeric_features[2]\n",
        "\n",
        "plot_kde_hist_for_numeric(col)\n",
        "plot_category_percent_of_target_for_numeric(col)"
      ],
      "execution_count": 0,
      "outputs": []
    },
    {
      "cell_type": "markdown",
      "metadata": {
        "id": "de8DGkxXt-gD",
        "colab_type": "text"
      },
      "source": [
        "## IID для конкретной конфигурации антивирусного программного обеспечения пользователя"
      ]
    },
    {
      "cell_type": "code",
      "metadata": {
        "id": "rMrKE515uFr5",
        "colab_type": "code",
        "colab": {}
      },
      "source": [
        "col = numeric_features[4]\n",
        "\n",
        "plot_kde_hist_for_numeric(col)\n",
        "plot_category_percent_of_target_for_numeric(col)"
      ],
      "execution_count": 0,
      "outputs": []
    },
    {
      "cell_type": "markdown",
      "metadata": {
        "id": "MwCP_4JzukOd",
        "colab_type": "text"
      },
      "source": [
        "## AVProductsInstalled"
      ]
    },
    {
      "cell_type": "code",
      "metadata": {
        "id": "pTdLxgk4upZz",
        "colab_type": "code",
        "colab": {}
      },
      "source": [
        "col = numeric_features[5]\n",
        "\n",
        "plot_kde_hist_for_numeric(col)\n",
        "plot_category_percent_of_target_for_numeric(col)"
      ],
      "execution_count": 0,
      "outputs": []
    },
    {
      "cell_type": "markdown",
      "metadata": {
        "id": "Cl0WIt1Buvtg",
        "colab_type": "text"
      },
      "source": [
        "## AVProductsEnabled"
      ]
    },
    {
      "cell_type": "code",
      "metadata": {
        "id": "5xxnL7-SuzaV",
        "colab_type": "code",
        "colab": {}
      },
      "source": [
        "col = numeric_features[6]\n",
        "\n",
        "plot_kde_hist_for_numeric(col)\n",
        "plot_category_percent_of_target_for_numeric(col)"
      ],
      "execution_count": 0,
      "outputs": []
    },
    {
      "cell_type": "markdown",
      "metadata": {
        "id": "DOXJNMsCvGL6",
        "colab_type": "text"
      },
      "source": [
        "## Правда, если машина имеет tpm"
      ]
    },
    {
      "cell_type": "code",
      "metadata": {
        "id": "1K-DqPGdvKJ7",
        "colab_type": "code",
        "colab": {}
      },
      "source": [
        "col = numeric_features[7]\n",
        "\n",
        "plot_kde_hist_for_numeric(col)\n",
        "plot_category_percent_of_target_for_numeric(col)"
      ],
      "execution_count": 0,
      "outputs": []
    },
    {
      "cell_type": "markdown",
      "metadata": {
        "id": "61-w4wt6vR0H",
        "colab_type": "text"
      },
      "source": [
        "## Идентификатор страны, в которой находится машина"
      ]
    },
    {
      "cell_type": "code",
      "metadata": {
        "id": "vyLj7hqFvXQ3",
        "colab_type": "code",
        "colab": {}
      },
      "source": [
        "col = numeric_features[8]\n",
        "\n",
        "plot_kde_hist_for_numeric(col)\n",
        "plot_category_percent_of_target_for_numeric(col)"
      ],
      "execution_count": 0,
      "outputs": []
    },
    {
      "cell_type": "markdown",
      "metadata": {
        "id": "aEvKjkJKvn6S",
        "colab_type": "text"
      },
      "source": [
        "## ID для города, в котором находится машина"
      ]
    },
    {
      "cell_type": "code",
      "metadata": {
        "id": "_Qbt6i-Xvpap",
        "colab_type": "code",
        "colab": {}
      },
      "source": [
        "col = numeric_features[9]\n",
        "\n",
        "plot_kde_hist_for_numeric(col)\n",
        "plot_category_percent_of_target_for_numeric(col)"
      ],
      "execution_count": 0,
      "outputs": []
    },
    {
      "cell_type": "markdown",
      "metadata": {
        "id": "ehMbc4CHvvb9",
        "colab_type": "text"
      },
      "source": [
        "## Идентификатор организации, к которой принадлежит машина, идентификатор \n",
        "идентификатор организации сопоставлен как с конкретными компаниями, так и с широкими отраслями"
      ]
    },
    {
      "cell_type": "code",
      "metadata": {
        "id": "wynUmQGFv1dc",
        "colab_type": "code",
        "colab": {}
      },
      "source": [
        "col = numeric_features[10]\n",
        "\n",
        "plot_kde_hist_for_numeric(col)\n",
        "plot_category_percent_of_target_for_numeric(col)"
      ],
      "execution_count": 0,
      "outputs": []
    },
    {
      "cell_type": "markdown",
      "metadata": {
        "id": "q_xtI8jovvWg",
        "colab_type": "text"
      },
      "source": [
        "## Идентификатор географического региона, в котором находится машина"
      ]
    },
    {
      "cell_type": "code",
      "metadata": {
        "id": "2TJBc2qYwNnU",
        "colab_type": "code",
        "colab": {}
      },
      "source": [
        "col = numeric_features[11]\n",
        "\n",
        "plot_kde_hist_for_numeric(col)\n",
        "plot_category_percent_of_target_for_numeric(col)"
      ],
      "execution_count": 0,
      "outputs": []
    },
    {
      "cell_type": "markdown",
      "metadata": {
        "id": "HAL0ehJ8wVjT",
        "colab_type": "text"
      },
      "source": [
        "## Locale ID пользователя"
      ]
    },
    {
      "cell_type": "code",
      "metadata": {
        "id": "objAxd0k4zzV",
        "colab_type": "code",
        "colab": {}
      },
      "source": [
        "col = numeric_features[12]\n",
        "\n",
        "plot_kde_hist_for_numeric(col)\n",
        "plot_category_percent_of_target_for_numeric(col)"
      ],
      "execution_count": 0,
      "outputs": []
    },
    {
      "cell_type": "markdown",
      "metadata": {
        "id": "Gi2n2e-65PQ0",
        "colab_type": "text"
      },
      "source": [
        "## Сборка операционной системы"
      ]
    },
    {
      "cell_type": "code",
      "metadata": {
        "id": "NH0m8Uzy5SQp",
        "colab_type": "code",
        "colab": {}
      },
      "source": [
        "col = numeric_features[13]\n",
        "\n",
        "plot_kde_hist_for_numeric(col)\n",
        "plot_category_percent_of_target_for_numeric(col)"
      ],
      "execution_count": 0,
      "outputs": []
    },
    {
      "cell_type": "markdown",
      "metadata": {
        "id": "uYAcwOCz5jIR",
        "colab_type": "text"
      },
      "source": [
        "## Маска набора продуктов для операционной системы."
      ]
    },
    {
      "cell_type": "code",
      "metadata": {
        "id": "Mf_dHfgQ5m5I",
        "colab_type": "code",
        "colab": {}
      },
      "source": [
        "col = numeric_features[14]\n",
        "\n",
        "plot_kde_hist_for_numeric(col)\n",
        "plot_category_percent_of_target_for_numeric(col)"
      ],
      "execution_count": 0,
      "outputs": []
    },
    {
      "cell_type": "markdown",
      "metadata": {
        "id": "jzk-jXTR5sUT",
        "colab_type": "text"
      },
      "source": [
        "## Это вычисляемое поле, полученное из поля AV Products отчета Spynet. Парамметра IsProtected\n",
        "\n",
        "#True, если на этом компьютере работает хотя бы один активный и современный антивирусный продукт\n",
        "#FALSE, если на этом аппарате нет активного продукта AV, или если AV активен, но не получает последние обновления. с. null, если в отчете нет антивирусных продуктов. Возвращает: защищена ли машина."
      ]
    },
    {
      "cell_type": "code",
      "metadata": {
        "id": "47YFT3Gi6YE_",
        "colab_type": "code",
        "colab": {}
      },
      "source": [
        "col = numeric_features[15]\n",
        "\n",
        "plot_kde_hist_for_numeric(col)\n",
        "plot_category_percent_of_target_for_numeric(col)"
      ],
      "execution_count": 0,
      "outputs": []
    },
    {
      "cell_type": "markdown",
      "metadata": {
        "id": "AUe6jcGk6mxR",
        "colab_type": "text"
      },
      "source": [
        "## Значение SubmitSamplesConsent, переданное службой и доступное на CAMP 9+"
      ]
    },
    {
      "cell_type": "code",
      "metadata": {
        "id": "KTcrcbY760qS",
        "colab_type": "code",
        "colab": {}
      },
      "source": [
        "col = numeric_features[16]\n",
        "\n",
        "plot_kde_hist_for_numeric(col)\n",
        "plot_category_percent_of_target_for_numeric(col)"
      ],
      "execution_count": 0,
      "outputs": []
    },
    {
      "cell_type": "markdown",
      "metadata": {
        "id": "tdrpyjDk7F10",
        "colab_type": "text"
      },
      "source": [
        "## SMode - Это поле имеет значение true, если известно, что устройство находится в «режиме S», например, в режиме Windows 10 S, где могут быть установлены только приложения Microsoft Store."
      ]
    },
    {
      "cell_type": "code",
      "metadata": {
        "id": "BrBT1ZAO7IA9",
        "colab_type": "code",
        "colab": {}
      },
      "source": [
        "col = numeric_features[17]\n",
        "\n",
        "plot_kde_hist_for_numeric(col)\n",
        "plot_category_percent_of_target_for_numeric(col)"
      ],
      "execution_count": 0,
      "outputs": []
    },
    {
      "cell_type": "markdown",
      "metadata": {
        "id": "74lQPGm17lWY",
        "colab_type": "text"
      },
      "source": [
        "## IeVerIdentifier"
      ]
    },
    {
      "cell_type": "code",
      "metadata": {
        "id": "IZA6P1L57qf0",
        "colab_type": "code",
        "colab": {}
      },
      "source": [
        "col = numeric_features[18]\n",
        "\n",
        "plot_kde_hist_for_numeric(col)\n",
        "plot_category_percent_of_target_for_numeric(col)"
      ],
      "execution_count": 0,
      "outputs": []
    },
    {
      "cell_type": "markdown",
      "metadata": {
        "id": "9ghsHnv976sx",
        "colab_type": "text"
      },
      "source": [
        "## Firewall"
      ]
    },
    {
      "cell_type": "code",
      "metadata": {
        "id": "rq07Us5z8Eut",
        "colab_type": "code",
        "colab": {}
      },
      "source": [
        "col = numeric_features[19]\n",
        "\n",
        "plot_kde_hist_for_numeric(col)\n",
        "plot_category_percent_of_target_for_numeric(col)"
      ],
      "execution_count": 0,
      "outputs": []
    },
    {
      "cell_type": "markdown",
      "metadata": {
        "id": "7qoLKHpk8NQz",
        "colab_type": "text"
      },
      "source": [
        "## Атрибут сообщает, отключен ли тип пользователя «Администратор в режиме одобрения администратором» или включен в UAC. \n",
        "Сообщаемое значение получается путем чтения regkey HKLM \\ SOFTWARE \\ Microsoft \\ Windows \\ CurrentVersion \\ Policies \\ System \\ EnableLUA."
      ]
    },
    {
      "cell_type": "code",
      "metadata": {
        "id": "v298z5RF_AJg",
        "colab_type": "code",
        "colab": {}
      },
      "source": [
        "col = numeric_features[20]\n",
        "\n",
        "plot_kde_hist_for_numeric(col)\n",
        "plot_category_percent_of_target_for_numeric(col)"
      ],
      "execution_count": 0,
      "outputs": []
    },
    {
      "cell_type": "markdown",
      "metadata": {
        "id": "eEghRH2p_DlR",
        "colab_type": "text"
      },
      "source": [
        "## Census_OEMNameIdentifier"
      ]
    },
    {
      "cell_type": "code",
      "metadata": {
        "id": "RWz0aijZ_L1p",
        "colab_type": "code",
        "colab": {}
      },
      "source": [
        "col = numeric_features[21]\n",
        "\n",
        "plot_kde_hist_for_numeric(col)\n",
        "plot_category_percent_of_target_for_numeric(col)"
      ],
      "execution_count": 0,
      "outputs": []
    },
    {
      "cell_type": "markdown",
      "metadata": {
        "id": "4FFpmO4H_TDR",
        "colab_type": "text"
      },
      "source": [
        "## Census_OEMModelIdentifier"
      ]
    },
    {
      "cell_type": "code",
      "metadata": {
        "id": "diRbzKzn_XFV",
        "colab_type": "code",
        "colab": {}
      },
      "source": [
        "col = numeric_features[22]\n",
        "\n",
        "plot_kde_hist_for_numeric(col)\n",
        "plot_category_percent_of_target_for_numeric(col)"
      ],
      "execution_count": 0,
      "outputs": []
    },
    {
      "cell_type": "markdown",
      "metadata": {
        "id": "Y_w0LP1q_mKe",
        "colab_type": "text"
      },
      "source": [
        "## Количество логических ядер в процессоре"
      ]
    },
    {
      "cell_type": "code",
      "metadata": {
        "id": "wPWORpWO_pSp",
        "colab_type": "code",
        "colab": {}
      },
      "source": [
        "col = numeric_features[23]\n",
        "\n",
        "plot_kde_hist_for_numeric(col)\n",
        "plot_category_percent_of_target_for_numeric(col)"
      ],
      "execution_count": 0,
      "outputs": []
    },
    {
      "cell_type": "markdown",
      "metadata": {
        "id": "0IlG6N-2_xF3",
        "colab_type": "text"
      },
      "source": [
        "## Census_ProcessorManufacturerIdentifier"
      ]
    },
    {
      "cell_type": "code",
      "metadata": {
        "id": "l-QER1lQ_20Q",
        "colab_type": "code",
        "colab": {}
      },
      "source": [
        "col = numeric_features[24]\n",
        "\n",
        "plot_kde_hist_for_numeric(col)\n",
        "plot_category_percent_of_target_for_numeric(col)"
      ],
      "execution_count": 0,
      "outputs": []
    },
    {
      "cell_type": "markdown",
      "metadata": {
        "id": "SbtDc0DJ__y5",
        "colab_type": "text"
      },
      "source": [
        "## Census_ProcessorModelIdentifier"
      ]
    },
    {
      "cell_type": "code",
      "metadata": {
        "id": "NH_JuLseAEu9",
        "colab_type": "code",
        "colab": {}
      },
      "source": [
        "col = numeric_features[25]\n",
        "\n",
        "plot_kde_hist_for_numeric(col)\n",
        "plot_category_percent_of_target_for_numeric(col)"
      ],
      "execution_count": 0,
      "outputs": []
    },
    {
      "cell_type": "markdown",
      "metadata": {
        "id": "nx6VhQx_AcyF",
        "colab_type": "text"
      },
      "source": [
        "## Объем дискового пространства на основном диске машины в МБ"
      ]
    },
    {
      "cell_type": "code",
      "metadata": {
        "id": "h4LpgfnZAeCG",
        "colab_type": "code",
        "colab": {}
      },
      "source": [
        "col = numeric_features[26]\n",
        "\n",
        "plot_kde_hist_for_numeric(col)\n",
        "plot_category_percent_of_target_for_numeric(col)"
      ],
      "execution_count": 0,
      "outputs": []
    },
    {
      "cell_type": "markdown",
      "metadata": {
        "id": "_dVRIjDwArzM",
        "colab_type": "text"
      },
      "source": [
        "## Размер раздела, на котором установлен системный том, в МБ"
      ]
    },
    {
      "cell_type": "code",
      "metadata": {
        "id": "G-QdxaENBPxN",
        "colab_type": "code",
        "colab": {}
      },
      "source": [
        "col = numeric_features[27]\n",
        "\n",
        "plot_kde_hist_for_numeric(col)\n",
        "plot_category_percent_of_target_for_numeric(col)"
      ],
      "execution_count": 0,
      "outputs": []
    },
    {
      "cell_type": "markdown",
      "metadata": {
        "id": "CMFNPEtHBfQk",
        "colab_type": "text"
      },
      "source": [
        "## На  машине установлен дисковод оптических дисков (CD / DVD)"
      ]
    },
    {
      "cell_type": "code",
      "metadata": {
        "id": "1K7jOBNrBiTS",
        "colab_type": "code",
        "colab": {}
      },
      "source": [
        "col = numeric_features[28]\n",
        "\n",
        "plot_category_percent_of_target_for_numeric(col)"
      ],
      "execution_count": 0,
      "outputs": []
    },
    {
      "cell_type": "markdown",
      "metadata": {
        "id": "ndR62UO0DhuT",
        "colab_type": "text"
      },
      "source": [
        "## Физическая память RAM в МБ"
      ]
    },
    {
      "cell_type": "code",
      "metadata": {
        "id": "ffgfuiFUDun0",
        "colab_type": "code",
        "colab": {}
      },
      "source": [
        "col = numeric_features[29]\n",
        "\n",
        "plot_kde_hist_for_numeric(col)\n",
        "plot_category_percent_of_target_for_numeric(col)"
      ],
      "execution_count": 0,
      "outputs": []
    },
    {
      "cell_type": "markdown",
      "metadata": {
        "id": "cf3_3ATHD5Cp",
        "colab_type": "text"
      },
      "source": [
        "## Физическая длина диагонали в дюймах основного дисплея"
      ]
    },
    {
      "cell_type": "code",
      "metadata": {
        "id": "58y0ySsCEONt",
        "colab_type": "code",
        "colab": {}
      },
      "source": [
        "col = numeric_features[30]\n",
        "\n",
        "plot_kde_hist_for_numeric(col)\n",
        "plot_category_percent_of_target_for_numeric(col)"
      ],
      "execution_count": 0,
      "outputs": []
    },
    {
      "cell_type": "markdown",
      "metadata": {
        "id": "CzMpXkd9EgZ6",
        "colab_type": "text"
      },
      "source": [
        "## Получаемое количество пикселей в горизонтальном направлении внутреннего дисплея."
      ]
    },
    {
      "cell_type": "code",
      "metadata": {
        "id": "3PRPcH5aEj0i",
        "colab_type": "code",
        "colab": {}
      },
      "source": [
        "col = numeric_features[31]\n",
        "\n",
        "plot_kde_hist_for_numeric(col)\n",
        "plot_category_percent_of_target_for_numeric(col)"
      ],
      "execution_count": 0,
      "outputs": []
    },
    {
      "cell_type": "markdown",
      "metadata": {
        "id": "0eKNvqdfEzPy",
        "colab_type": "text"
      },
      "source": [
        "## Получает количество пикселей в вертикальном направлении внутреннего дисплея"
      ]
    },
    {
      "cell_type": "code",
      "metadata": {
        "id": "ZEgShMAhE3wt",
        "colab_type": "code",
        "colab": {}
      },
      "source": [
        "col = numeric_features[32]\n",
        "\n",
        "plot_kde_hist_for_numeric(col)\n",
        "plot_category_percent_of_target_for_numeric(col)"
      ],
      "execution_count": 0,
      "outputs": []
    },
    {
      "cell_type": "markdown",
      "metadata": {
        "id": "uFu5N5zGFAG9",
        "colab_type": "text"
      },
      "source": [
        "## Номер сборки ОС, извлеченный из OsVersionFull."
      ]
    },
    {
      "cell_type": "code",
      "metadata": {
        "id": "xuoSjhraFNpG",
        "colab_type": "code",
        "colab": {}
      },
      "source": [
        "col = numeric_features[34]\n",
        "\n",
        "plot_kde_hist_for_numeric(col)\n",
        "plot_category_percent_of_target_for_numeric(col)"
      ],
      "execution_count": 0,
      "outputs": []
    },
    {
      "cell_type": "markdown",
      "metadata": {
        "id": "pmHhljMfFWny",
        "colab_type": "text"
      },
      "source": [
        "## Census_InternalBatteryNumberOfCharges "
      ]
    },
    {
      "cell_type": "code",
      "metadata": {
        "id": "-PjGsxbnFfHi",
        "colab_type": "code",
        "colab": {}
      },
      "source": [
        "col = numeric_features[36]\n",
        "\n",
        "plot_kde_hist_for_numeric(col)\n",
        "plot_category_percent_of_target_for_numeric(col)"
      ],
      "execution_count": 0,
      "outputs": []
    },
    {
      "cell_type": "markdown",
      "metadata": {
        "id": "1PA8nHlnFmRh",
        "colab_type": "text"
      },
      "source": [
        "## Census_OSInstallLanguageIdentifier "
      ]
    },
    {
      "cell_type": "code",
      "metadata": {
        "id": "UbHcHaR2FxE3",
        "colab_type": "code",
        "colab": {}
      },
      "source": [
        "col = numeric_features[37]\n",
        "\n",
        "plot_kde_hist_for_numeric(col)\n",
        "plot_category_percent_of_target_for_numeric(col)"
      ],
      "execution_count": 0,
      "outputs": []
    },
    {
      "cell_type": "markdown",
      "metadata": {
        "id": "O5pRFPf1F4q3",
        "colab_type": "text"
      },
      "source": [
        "## Указывает, загружена ли ОС и работает ли она через Windows-To-Go на USB-накопителе"
      ]
    },
    {
      "cell_type": "code",
      "metadata": {
        "id": "1SCiq7jzGMeu",
        "colab_type": "code",
        "colab": {}
      },
      "source": [
        "col = numeric_features[38]\n",
        "\n",
        "plot_category_percent_of_target_for_numeric(col)"
      ],
      "execution_count": 0,
      "outputs": []
    },
    {
      "cell_type": "markdown",
      "metadata": {
        "id": "QqGiTSwNGWuS",
        "colab_type": "text"
      },
      "source": [
        "## Указывает, участвует ли машина в полете."
      ]
    },
    {
      "cell_type": "code",
      "metadata": {
        "id": "ZJwIyXtpGp2N",
        "colab_type": "code",
        "colab": {}
      },
      "source": [
        "col = numeric_features[39]\n",
        "\n",
        "plot_kde_hist_for_numeric(col)\n",
        "plot_category_percent_of_target_for_numeric(col)"
      ],
      "execution_count": 0,
      "outputs": []
    },
    {
      "cell_type": "markdown",
      "metadata": {
        "id": "nlfb-QtbGz0z",
        "colab_type": "text"
      },
      "source": [
        "## Census_ThresholdOptIn"
      ]
    },
    {
      "cell_type": "code",
      "metadata": {
        "id": "uJXex3DGG4lZ",
        "colab_type": "code",
        "colab": {}
      },
      "source": [
        "col = numeric_features[40]\n",
        "\n",
        "plot_kde_hist_for_numeric(col)\n",
        "plot_category_percent_of_target_for_numeric(col)"
      ],
      "execution_count": 0,
      "outputs": []
    },
    {
      "cell_type": "markdown",
      "metadata": {
        "id": "PppaRB0WHBI1",
        "colab_type": "text"
      },
      "source": [
        "## Census_FirmwareManufacturerIdentifier"
      ]
    },
    {
      "cell_type": "code",
      "metadata": {
        "id": "9E4YDK1vHGZ0",
        "colab_type": "code",
        "colab": {}
      },
      "source": [
        "col = numeric_features[41]\n",
        "\n",
        "plot_kde_hist_for_numeric(col)\n",
        "plot_category_percent_of_target_for_numeric(col)"
      ],
      "execution_count": 0,
      "outputs": []
    },
    {
      "cell_type": "markdown",
      "metadata": {
        "id": "WHBIekgHHOLx",
        "colab_type": "text"
      },
      "source": [
        "## Census_FirmwareVersionIdentifier"
      ]
    },
    {
      "cell_type": "code",
      "metadata": {
        "id": "TI89Cy38HTTk",
        "colab_type": "code",
        "colab": {}
      },
      "source": [
        "col = numeric_features[42]\n",
        "\n",
        "plot_kde_hist_for_numeric(col)\n",
        "plot_category_percent_of_target_for_numeric(col)"
      ],
      "execution_count": 0,
      "outputs": []
    },
    {
      "cell_type": "markdown",
      "metadata": {
        "id": "uXpb3HmzHaJR",
        "colab_type": "text"
      },
      "source": [
        "## Census_IsSecureBootEnabled - Указывает, включен ли режим безопасной загрузки."
      ]
    },
    {
      "cell_type": "code",
      "metadata": {
        "id": "0dHOUvtzHhX0",
        "colab_type": "code",
        "colab": {}
      },
      "source": [
        "col = numeric_features[43]\n",
        "\n",
        "plot_category_percent_of_target_for_numeric(col)"
      ],
      "execution_count": 0,
      "outputs": []
    },
    {
      "cell_type": "markdown",
      "metadata": {
        "id": "T-M8lM9XHo55",
        "colab_type": "text"
      },
      "source": [
        "## Census_IsWIMBootEnabled "
      ]
    },
    {
      "cell_type": "code",
      "metadata": {
        "id": "6xy3HEJNHxbw",
        "colab_type": "code",
        "colab": {}
      },
      "source": [
        "col = numeric_features[44]\n",
        "\n",
        "plot_category_percent_of_target_for_numeric(col)"
      ],
      "execution_count": 0,
      "outputs": []
    },
    {
      "cell_type": "markdown",
      "metadata": {
        "id": "A-w7o_4PH5B2",
        "colab_type": "text"
      },
      "source": [
        "## Идентифицирует виртуальную машину "
      ]
    },
    {
      "cell_type": "code",
      "metadata": {
        "id": "cWgrteK8IDPS",
        "colab_type": "code",
        "colab": {}
      },
      "source": [
        "col = numeric_features[45]\n",
        "\n",
        "plot_kde_hist_for_numeric(col)\n",
        "plot_category_percent_of_target_for_numeric(col)"
      ],
      "execution_count": 0,
      "outputs": []
    },
    {
      "cell_type": "markdown",
      "metadata": {
        "id": "qKTAiTDrINKK",
        "colab_type": "text"
      },
      "source": [
        "## Census_IsTouchEnabled - Это сенсорное устройство"
      ]
    },
    {
      "cell_type": "code",
      "metadata": {
        "id": "wnMvUMUCIY4w",
        "colab_type": "code",
        "colab": {}
      },
      "source": [
        "col = numeric_features[46]\n",
        "\n",
        "plot_kde_hist_for_numeric(col)\n",
        "plot_category_percent_of_target_for_numeric(col)"
      ],
      "execution_count": 0,
      "outputs": []
    },
    {
      "cell_type": "markdown",
      "metadata": {
        "id": "HqZY3fc4IdSI",
        "colab_type": "text"
      },
      "source": [
        "## Census_IsPenCapable - Способно ли устройство к ручному вводу?"
      ]
    },
    {
      "cell_type": "code",
      "metadata": {
        "id": "PqbDrTkJIk5H",
        "colab_type": "code",
        "colab": {}
      },
      "source": [
        "col = numeric_features[47]\n",
        "\n",
        "plot_kde_hist_for_numeric(col)\n",
        "plot_category_percent_of_target_for_numeric(col)"
      ],
      "execution_count": 0,
      "outputs": []
    },
    {
      "cell_type": "markdown",
      "metadata": {
        "id": "sjc_azKXIua6",
        "colab_type": "text"
      },
      "source": [
        "## Census_IsAlwaysOnAlwaysConnectedCapable - Получает информацию о том, позволяет ли аккумулятор постоянно подключать устройство."
      ]
    },
    {
      "cell_type": "code",
      "metadata": {
        "id": "X3NCgUt2I0iZ",
        "colab_type": "code",
        "colab": {}
      },
      "source": [
        "col = numeric_features[48]\n",
        "\n",
        "plot_category_percent_of_target_for_numeric(col)"
      ],
      "execution_count": 0,
      "outputs": []
    },
    {
      "cell_type": "markdown",
      "metadata": {
        "id": "d1-Vx7FPI8Tq",
        "colab_type": "text"
      },
      "source": [
        "## Указывает, является ли устройство игровым устройством или нет на основе его аппаратной комбинации."
      ]
    },
    {
      "cell_type": "code",
      "metadata": {
        "id": "_Hv0mEToJFsZ",
        "colab_type": "code",
        "colab": {}
      },
      "source": [
        "col = numeric_features[49]\n",
        "\n",
        "plot_kde_hist_for_numeric(col)\n",
        "plot_category_percent_of_target_for_numeric(col)"
      ],
      "execution_count": 0,
      "outputs": []
    },
    {
      "cell_type": "markdown",
      "metadata": {
        "id": "Y0d0NmPNJSlV",
        "colab_type": "text"
      },
      "source": [
        "## Wdft_RegionIdentifier "
      ]
    },
    {
      "cell_type": "code",
      "metadata": {
        "id": "pKfQrsxlJW3E",
        "colab_type": "code",
        "colab": {}
      },
      "source": [
        "col = numeric_features[50]\n",
        "\n",
        "plot_kde_hist_for_numeric(col)\n",
        "plot_category_percent_of_target_for_numeric(col)"
      ],
      "execution_count": 0,
      "outputs": []
    },
    {
      "cell_type": "markdown",
      "metadata": {
        "id": "19hHyEm5Jomv",
        "colab_type": "text"
      },
      "source": [
        "# Корреляция"
      ]
    },
    {
      "cell_type": "code",
      "metadata": {
        "id": "LEhaJfWwJtMZ",
        "colab_type": "code",
        "colab": {}
      },
      "source": [
        "gc.enable()\n",
        "corr = train_small.corr()['HasDetections']"
      ],
      "execution_count": 0,
      "outputs": []
    },
    {
      "cell_type": "code",
      "metadata": {
        "id": "jWyOXUWiJ09q",
        "colab_type": "code",
        "colab": {}
      },
      "source": [
        "abs(corr).sort_values(ascending=False)"
      ],
      "execution_count": 0,
      "outputs": []
    },
    {
      "cell_type": "code",
      "metadata": {
        "id": "2OBPIxglJ2p-",
        "colab_type": "code",
        "colab": {}
      },
      "source": [
        "def corr_heatmap(cols):\n",
        "    correlations = train_small[cols+['HasDetections']].corr()\n",
        "    cmap = sns.diverging_palette(220, 10, as_cmap=True)\n",
        "    fig, ax = plt.subplots(figsize=(15, 15))\n",
        "    sns.heatmap(correlations, cmap=cmap, vmax=1.0, center=0, fmt='.2f',\n",
        "                square=True, linewidths=.5, annot=True, cbar_kws={\"shrink\": .75})\n",
        "    plt.show()"
      ],
      "execution_count": 0,
      "outputs": []
    },
    {
      "cell_type": "markdown",
      "metadata": {
        "id": "H00Baz2YKIiC",
        "colab_type": "text"
      },
      "source": [
        "## Делаем кореляцию признаков"
      ]
    },
    {
      "cell_type": "code",
      "metadata": {
        "id": "-PxpN85QXh_a",
        "colab_type": "code",
        "colab": {}
      },
      "source": [
        "numeric_features"
      ],
      "execution_count": 0,
      "outputs": []
    },
    {
      "cell_type": "code",
      "metadata": {
        "id": "ZSnMxgpNKPOZ",
        "colab_type": "code",
        "colab": {}
      },
      "source": [
        "corr_heatmap(numeric_features[:3])"
      ],
      "execution_count": 0,
      "outputs": []
    },
    {
      "cell_type": "code",
      "metadata": {
        "id": "h5A8heKPK0GZ",
        "colab_type": "code",
        "colab": {}
      },
      "source": [
        "corr_heatmap(numeric_features[4:10])"
      ],
      "execution_count": 0,
      "outputs": []
    },
    {
      "cell_type": "code",
      "metadata": {
        "id": "MLg814ChK4Pn",
        "colab_type": "code",
        "colab": {}
      },
      "source": [
        "corr_heatmap(numeric_features[10:20])"
      ],
      "execution_count": 0,
      "outputs": []
    },
    {
      "cell_type": "code",
      "metadata": {
        "id": "kdCcZgJgYe5M",
        "colab_type": "code",
        "colab": {}
      },
      "source": [
        "corr_heatmap(numeric_features[20:30])"
      ],
      "execution_count": 0,
      "outputs": []
    },
    {
      "cell_type": "code",
      "metadata": {
        "id": "oM8J8B2jK9Zp",
        "colab_type": "code",
        "colab": {}
      },
      "source": [
        "corr_heatmap(numeric_features[30:40])"
      ],
      "execution_count": 0,
      "outputs": []
    },
    {
      "cell_type": "code",
      "metadata": {
        "id": "LIRrdDUdLBwz",
        "colab_type": "code",
        "colab": {}
      },
      "source": [
        "corr_heatmap(numeric_features[40:])"
      ],
      "execution_count": 0,
      "outputs": []
    },
    {
      "cell_type": "code",
      "metadata": {
        "id": "xhqzBLlQLHaw",
        "colab_type": "code",
        "colab": {}
      },
      "source": [
        "corr = train_small.corr()"
      ],
      "execution_count": 0,
      "outputs": []
    },
    {
      "cell_type": "code",
      "metadata": {
        "id": "UU_7ur1WLKdf",
        "colab_type": "code",
        "colab": {}
      },
      "source": [
        "upper = corr.where(np.triu(np.ones(corr.shape), k=1).astype(np.bool))\n",
        "upper.head()"
      ],
      "execution_count": 0,
      "outputs": []
    },
    {
      "cell_type": "code",
      "metadata": {
        "id": "Harcuy672raa",
        "colab_type": "code",
        "colab": {}
      },
      "source": [
        "threshold = 0.3\n",
        "for i, df in (upper.iterrows()):\n",
        "    for ele in df[df.abs() > threshold].items():\n",
        "        if ele[0] == i:\n",
        "            break\n",
        "        else:\n",
        "            plt.figure(figsize=(7, 7))\n",
        "            sns.lmplot(x=i, y=ele[0], data=train_small[:100000], hue='HasDetections', palette='Set1', scatter_kws={'alpha':0.3})\n",
        "            plt.show()\n",
        "            print('{:50}, {:50} : {}'.format(i, ele[0], ele[1]))"
      ],
      "execution_count": 0,
      "outputs": []
    },
    {
      "cell_type": "markdown",
      "metadata": {
        "id": "G_YKlLP3LaN_",
        "colab_type": "text"
      },
      "source": [
        "## Многие признаки являются категориальными, и пары, которые имеют высокие корреляции, также состоят из категориальных признаков. Я думаю, что ключевым моментом является создание некоторых функций, которые имеют категории с высокой вероятностью заражения вредоносными программами, а некоторые функции являются избыточными."
      ]
    },
    {
      "cell_type": "code",
      "metadata": {
        "id": "xRKxchZearrd",
        "colab_type": "code",
        "colab": {}
      },
      "source": [
        "train_small.head(3)\n",
        "  \n",
        "gc.collect()    "
      ],
      "execution_count": 0,
      "outputs": []
    },
    {
      "cell_type": "markdown",
      "metadata": {
        "id": "eBydD6d3w_TX",
        "colab_type": "text"
      },
      "source": [
        "# Удаляем на мой взгляд не нужные параметры для определения вероятности заражения, хотя в некоторых моментах они нужны, например для определения глобальной статистики заражения по странам, городам, организациям, группам пользователей"
      ]
    },
    {
      "cell_type": "code",
      "metadata": {
        "id": "6SyDnrjMe111",
        "colab_type": "code",
        "colab": {}
      },
      "source": [
        "train = train_small\n",
        "print(type(train))"
      ],
      "execution_count": 0,
      "outputs": []
    },
    {
      "cell_type": "code",
      "metadata": {
        "id": "gomE-TpMxgOu",
        "colab_type": "code",
        "colab": {}
      },
      "source": [
        "null_remove = ['LocaleEnglishNameIdentifier', 'GeoNameIdentifier', 'OrganizationIdentifier',\n",
        "              'MachineIdentifier']\n",
        "\n",
        "train.drop(null_remove, axis=1, inplace=True)"
      ],
      "execution_count": 0,
      "outputs": []
    },
    {
      "cell_type": "code",
      "metadata": {
        "id": "L7O0lKY0AAK7",
        "colab_type": "code",
        "colab": {}
      },
      "source": [
        "!ls"
      ],
      "execution_count": 0,
      "outputs": []
    },
    {
      "cell_type": "code",
      "metadata": {
        "id": "iG_C6X1vBZZT",
        "colab_type": "code",
        "colab": {}
      },
      "source": [
        "!mv dat.csv /content/drive/My\\ Drive/ugroz"
      ],
      "execution_count": 0,
      "outputs": []
    },
    {
      "cell_type": "code",
      "metadata": {
        "id": "Ne72bbkA2aEX",
        "colab_type": "code",
        "colab": {}
      },
      "source": [
        "train.info()"
      ],
      "execution_count": 0,
      "outputs": []
    },
    {
      "cell_type": "markdown",
      "metadata": {
        "id": "8u0vHf_IT_6D",
        "colab_type": "text"
      },
      "source": [
        "## Кодируем получившиеся данные для обучения"
      ]
    },
    {
      "cell_type": "code",
      "metadata": {
        "id": "yIKA8B5bVJ5y",
        "colab_type": "code",
        "colab": {}
      },
      "source": [
        "import numpy as np \n",
        "import pandas as pd \n",
        "import matplotlib.pyplot as plt\n",
        "import seaborn as sns\n",
        "from sklearn.model_selection import KFold\n",
        "from sklearn.preprocessing import LabelEncoder, OneHotEncoder\n",
        "from sklearn.model_selection import train_test_split\n",
        "from sklearn.preprocessing import StandardScaler\n",
        "import warnings\n",
        "import gc\n",
        "import scipy\n",
        "import os\n",
        "import sys\n",
        "import datetime\n",
        "import matplotlib.pyplot as plt\n",
        "import seaborn as sns\n",
        "from sklearn.metrics import mean_squared_error\n",
        "warnings.simplefilter(action='ignore', category=FutureWarning)\n",
        "warnings.filterwarnings('ignore')\n",
        "from sklearn import metrics\n",
        "\n",
        "%matplotlib inline \n",
        "gc.enable()\n",
        "plt.style.use('seaborn')\n",
        "sns.set(font_scale=2)\n",
        "pd.set_option('display.max_columns', 500)"
      ],
      "execution_count": 0,
      "outputs": []
    },
    {
      "cell_type": "markdown",
      "metadata": {
        "id": "EL5FpdpyjhJJ",
        "colab_type": "text"
      },
      "source": [
        "## Данные которые будем кодировать разделил на FE и OHE"
      ]
    },
    {
      "cell_type": "code",
      "metadata": {
        "id": "_V3ygY90kRIm",
        "colab_type": "code",
        "colab": {}
      },
      "source": [
        "FE = ['EngineVersion','AppVersion','AvSigVersion','Census_OSVersion']\n",
        "\n",
        "\n",
        "OHE = [ 'RtpStateBitfield','IsSxsPassiveMode',\n",
        "        'AVProductStatesIdentifier','AVProductsInstalled', 'AVProductsEnabled',\n",
        "        'Processor', 'OsBuild', 'OsSuite',\n",
        "        'SmartScreen','Census_MDC2FormFactor',\n",
        "        'Census_OEMNameIdentifier', \n",
        "        'Census_ProcessorCoreCount',\n",
        "        'Census_ProcessorModelIdentifier', \n",
        "        'Census_PrimaryDiskTotalCapacity', 'Census_PrimaryDiskTypeName',\n",
        "        'Census_HasOpticalDiskDrive',\n",
        "        'Census_TotalPhysicalRAM', 'Census_ChassisTypeName',\n",
        "        'Census_InternalPrimaryDiagonalDisplaySizeInInches',\n",
        "        'Census_InternalPrimaryDisplayResolutionHorizontal',\n",
        "        'Census_InternalPrimaryDisplayResolutionVertical',\n",
        "        'Census_PowerPlatformRoleName',\n",
        "        'Census_InternalBatteryNumberOfCharges',\n",
        "        'Census_OSEdition', 'Census_OSInstallLanguageIdentifier',\n",
        "        'Census_GenuineStateName','Census_ActivationChannel',\n",
        "        'Census_FirmwareManufacturerIdentifier',\n",
        "        'Census_IsTouchEnabled', 'Census_IsPenCapable','CityIdentifier', \n",
        "        'CountryIdentifier','Census_IsAlwaysOnAlwaysConnectedCapable',\n",
        "        'Wdft_IsGamer','Wdft_RegionIdentifier']"
      ],
      "execution_count": 0,
      "outputs": []
    },
    {
      "cell_type": "code",
      "metadata": {
        "id": "J4ffg62O-1js",
        "colab_type": "code",
        "colab": {}
      },
      "source": [
        "# Загрузка всех как категориальных признаков\n",
        "dtypes = {}\n",
        "for x in FE+OHE: \n",
        "  dtypes[x] = 'category'\n",
        "  dtypes['Unnamed: 0'] = 'str'\n",
        "  dtypes['HasDetections'] = 'int8'\n",
        "\n",
        "# Загрузка данных\n",
        "df_train = pd.read_csv('/content/drive/My Drive/ugroz/dat.csv', usecols=dtypes.keys(), dtype=dtypes)\n",
        "print ('Загруженно',len(df_train),'строк набора предобработанных данных!')\n",
        "\n",
        "# Параметр используемых для обучения и тренировки\n",
        "sm = 2900000\n",
        "df_train = df_train.sample(sm)\n",
        "print ('Использовать буду',sm,' для тренировочных и проверочных данных')\n",
        "x=gc.collect()"
      ],
      "execution_count": 0,
      "outputs": []
    },
    {
      "cell_type": "code",
      "metadata": {
        "id": "Sq37C2ZGFY4G",
        "colab_type": "code",
        "colab": {}
      },
      "source": [
        "import math\n",
        "# Проверка на NaN\n",
        "def nan_check(x):\n",
        "    if isinstance(x,float):\n",
        "        if math.isnan(x):\n",
        "            return True\n",
        "    return False\n",
        "\n",
        "# Частотное кодирование\n",
        "def encode_FE(df,col,verbose=1):\n",
        "    d = df[col].value_counts(dropna=False)\n",
        "    n = col+\"_FE\"\n",
        "    df[n] = df[col].map(d)/d.max()\n",
        "    if verbose==1:\n",
        "        print('FE encoded',col)\n",
        "    return [n]\n",
        "\n",
        "# ONE-HOT-ENCODE ALL CATEGORY VALUES THAT COMPRISE MORE THAN\n",
        "# \"FILTER\" PERCENT OF TOTAL DATA AND HAS SIGNIFICANCE GREATER THAN \"ZVALUE\"\n",
        "def encode_OHE(df, col, filter, zvalue, tar='HasDetections', m=0.5, verbose=1):\n",
        "    cv = df[col].value_counts(dropna=False)\n",
        "    cvd = cv.to_dict()\n",
        "    vals = len(cv)\n",
        "    th = filter * len(df)\n",
        "    sd = zvalue * 0.5/ math.sqrt(th)\n",
        "    print('Отклонение', sd)\n",
        "    n = []; ct = 0; d = {}\n",
        "    for x in cv.index:\n",
        "        try:\n",
        "            if cv[x]<th: break\n",
        "            sd = zvalue * 0.5/ math.sqrt(cv[x])\n",
        "        except:\n",
        "            if cvd[x]<th: break\n",
        "            sd = zvalue * 0.5/ math.sqrt(cvd[x])\n",
        "        if nan_check(x): r = df[df[col].isna()][tar].mean()\n",
        "        else: r = df[df[col]==x][tar].mean()\n",
        "        if abs(r-m)>sd:\n",
        "            nm = col+'_BE_'+str(x)\n",
        "            if nan_check(x): df[nm] = (df[col].isna()).astype('int8')\n",
        "            else: df[nm] = (df[col]==x).astype('int8')\n",
        "            n.append(nm)\n",
        "            d[x] = 1\n",
        "        ct += 1\n",
        "        if (ct+1)>=vals: break\n",
        "    if verbose==1:\n",
        "        print('OHE encoded',col,'- Created',len(d),'booleans')\n",
        "    return [n,d]\n",
        "\n",
        "# ONE-HOT-ENCODING\n",
        "def encode_OHE_test(df,col,dt):\n",
        "    n = []\n",
        "    for x in dt: \n",
        "        n += encode_BE(df,col,x)\n",
        "    return n\n",
        "\n",
        "# BOOLEAN ENCODING\n",
        "def encode_BE(df,col,val):\n",
        "    n = col+\"_BE_\"+str(val)\n",
        "    if nan_check(val):\n",
        "        df[n] = df[col].isna()\n",
        "    else:\n",
        "        df[n] = df[col]==val\n",
        "    df[n] = df[n].astype('int8')\n",
        "    return [n]"
      ],
      "execution_count": 0,
      "outputs": []
    },
    {
      "cell_type": "code",
      "metadata": {
        "id": "Vv9Eza8U__lY",
        "colab_type": "code",
        "colab": {}
      },
      "source": [
        "from sklearn.preprocessing import LabelEncoder\n",
        "LabelEncoder()\n",
        "cols = []; dd = []\n",
        "\n",
        "# ENCODE NEW\n",
        "for x in FE:\n",
        "    cols += encode_FE(df_train,x)\n",
        "for x in OHE:\n",
        "    tmp = encode_OHE(df_train,x,0.005,5)\n",
        "    cols += tmp[0]; dd.append(tmp[1])\n",
        "print('Encoded',len(cols),'new variables')\n",
        "\n",
        "# REMOVE OLD\n",
        "for x in FE+OHE:\n",
        "    del df_train[x]\n",
        "print('Removed original',len(FE+OHE),'variables')\n",
        "x = gc.collect()"
      ],
      "execution_count": 0,
      "outputs": []
    },
    {
      "cell_type": "markdown",
      "metadata": {
        "id": "C_hA3E8sV2TA",
        "colab_type": "text"
      },
      "source": [
        "## Создаем callback с лучшим результатом"
      ]
    },
    {
      "cell_type": "code",
      "metadata": {
        "id": "7iwMmlVZGDHf",
        "colab_type": "code",
        "colab": {}
      },
      "source": [
        "from keras import callbacks\n",
        "from sklearn.metrics import roc_auc_score\n",
        "\n",
        "class printAUC(callbacks.Callback):\n",
        "    def __init__(self, X_train, Y_train):\n",
        "        super(printAUC, self).__init__()\n",
        "        self.bestAUC = 0\n",
        "        self.X_train = X_train\n",
        "        self.y_train = Y_train\n",
        "        \n",
        "    def on_epoch_end(self, epoch, logs={}):\n",
        "        pred = self.model.predict(np.array(self.X_train))\n",
        "        auc = roc_auc_score(self.y_train, pred)\n",
        "        print(\"Тренировочная AUC: \" + str(auc))\n",
        "        pred = self.model.predict(self.validation_data[0])\n",
        "        auc = roc_auc_score(self.validation_data[1], pred)\n",
        "        print (\"Проверочная AUC: \" + str(auc))\n",
        "        if (self.bestAUC < auc) :\n",
        "            self.bestAUC = auc\n",
        "            self.model.save(\"bestNet.h5\", overwrite=True)\n",
        "            gc.enable()\n",
        "        return"
      ],
      "execution_count": 0,
      "outputs": []
    },
    {
      "cell_type": "code",
      "metadata": {
        "id": "WkoiBxuQAM2N",
        "colab_type": "code",
        "colab": {}
      },
      "source": [
        "from sklearn.model_selection import train_test_split\n",
        "from keras.models import Sequential\n",
        "from keras.layers import Dense, Dropout,LSTM, GRU, BatchNormalization, Embedding,Flatten, SpatialDropout1D ,MaxPooling1D, Conv1D, GlobalMaxPooling1D, Activation\n",
        "from keras.callbacks import LearningRateScheduler\n",
        "from keras.optimizers import Adam, Adamax, Adagrad\n",
        "\n"
      ],
      "execution_count": 0,
      "outputs": []
    },
    {
      "cell_type": "markdown",
      "metadata": {
        "id": "C-MvQBjNvvA7",
        "colab_type": "text"
      },
      "source": [
        "## Проверил содержание данных на наличие пропусков"
      ]
    },
    {
      "cell_type": "code",
      "metadata": {
        "id": "VNpLeCAhGrE2",
        "colab_type": "code",
        "colab": {}
      },
      "source": [
        "df_train.isnull().sum()"
      ],
      "execution_count": 0,
      "outputs": []
    },
    {
      "cell_type": "markdown",
      "metadata": {
        "id": "GgTX6SnoWNTJ",
        "colab_type": "text"
      },
      "source": [
        "## Разбиваем данные для обучения и проверки"
      ]
    },
    {
      "cell_type": "code",
      "metadata": {
        "id": "wrbSesIhLKFF",
        "colab_type": "code",
        "colab": {}
      },
      "source": [
        "X_train, X_val, Y_train, Y_val = train_test_split(\n",
        "    df_train[cols], df_train['HasDetections'], test_size = 0.3)\n"
      ],
      "execution_count": 0,
      "outputs": []
    },
    {
      "cell_type": "code",
      "metadata": {
        "id": "J28PZqu7Nqem",
        "colab_type": "code",
        "colab": {}
      },
      "source": [
        "Y_train.shape"
      ],
      "execution_count": 0,
      "outputs": []
    },
    {
      "cell_type": "code",
      "metadata": {
        "id": "bTvVvTInsoLr",
        "colab_type": "code",
        "colab": {}
      },
      "source": [
        "X_train.shape\n"
      ],
      "execution_count": 0,
      "outputs": []
    },
    {
      "cell_type": "code",
      "metadata": {
        "id": "K7d-ImWjOTQb",
        "colab_type": "code",
        "colab": {}
      },
      "source": [
        "X_val.shape"
      ],
      "execution_count": 0,
      "outputs": []
    },
    {
      "cell_type": "code",
      "metadata": {
        "id": "ipy7Xi96OYg-",
        "colab_type": "code",
        "colab": {}
      },
      "source": [
        "Y_val.shape"
      ],
      "execution_count": 0,
      "outputs": []
    },
    {
      "cell_type": "markdown",
      "metadata": {
        "id": "R2NociqTWhK1",
        "colab_type": "text"
      },
      "source": [
        "## Сохраняем получившиеся данные для обчения и проверки на диск"
      ]
    },
    {
      "cell_type": "code",
      "metadata": {
        "id": "RBCMXDD7Zw46",
        "colab_type": "code",
        "colab": {}
      },
      "source": [
        "X_train.to_csv('X_train4.csv', header=False, index=False)\n",
        "!mv X_train4.csv /content/drive/My\\ Drive/ugroz/train_dan"
      ],
      "execution_count": 0,
      "outputs": []
    },
    {
      "cell_type": "code",
      "metadata": {
        "id": "Rarv7GtQZ2a1",
        "colab_type": "code",
        "colab": {}
      },
      "source": [
        "X_val.to_csv('X_val4.csv',header=False, index=False)\n",
        "!mv X_val4.csv /content/drive/My\\ Drive/ugroz/train_dan"
      ],
      "execution_count": 0,
      "outputs": []
    },
    {
      "cell_type": "code",
      "metadata": {
        "id": "LPChcDyKZ7Fd",
        "colab_type": "code",
        "colab": {}
      },
      "source": [
        "Y_train.to_csv('Y_train4.csv', header=False, index=False)\n",
        "!mv Y_train4.csv /content/drive/My\\ Drive/ugroz/train_dan"
      ],
      "execution_count": 0,
      "outputs": []
    },
    {
      "cell_type": "code",
      "metadata": {
        "id": "gM7ssFj0Z9zL",
        "colab_type": "code",
        "colab": {}
      },
      "source": [
        "Y_val.to_csv('Y_val4.csv', header=False, index=False)\n",
        "!mv Y_val4.csv /content/drive/My\\ Drive/ugroz/train_dan"
      ],
      "execution_count": 0,
      "outputs": []
    },
    {
      "cell_type": "markdown",
      "metadata": {
        "id": "7i50VBITWv7P",
        "colab_type": "text"
      },
      "source": [
        "# Обработка и анализ данных завершили, переходим к построению сетей"
      ]
    },
    {
      "cell_type": "markdown",
      "metadata": {
        "id": "OX6Zb2Smp4aN",
        "colab_type": "text"
      },
      "source": [
        "## Dense с tanh"
      ]
    },
    {
      "cell_type": "code",
      "metadata": {
        "id": "QJzdK775qSTV",
        "colab_type": "code",
        "colab": {}
      },
      "source": [
        "import keras"
      ],
      "execution_count": 0,
      "outputs": []
    },
    {
      "cell_type": "code",
      "metadata": {
        "id": "VAzs5-6Np_dt",
        "colab_type": "code",
        "colab": {}
      },
      "source": [
        "model = Sequential()\n",
        "model.add(Dense(100,input_dim=len(cols), kernel_initializer='normal', activation='tanh'))\n",
        "model.add(Dense(160,kernel_initializer='normal', activation='tanh'))\n",
        "model.add(Dropout(0.4))\n",
        "model.add(BatchNormalization())\n",
        "model.add(Dense(1, activation='sigmoid'))\n",
        "model.summary()"
      ],
      "execution_count": 0,
      "outputs": []
    },
    {
      "cell_type": "code",
      "metadata": {
        "id": "wqhhqLwDrHT_",
        "colab_type": "code",
        "colab": {}
      },
      "source": [
        "model.compile(optimizer=Adam(lr=0.01), loss=\"binary_crossentropy\", metrics=[\"accuracy\"])\n",
        "annealer = LearningRateScheduler(lambda x: 1e-2 * 0.65 ** x)"
      ],
      "execution_count": 0,
      "outputs": []
    },
    {
      "cell_type": "code",
      "metadata": {
        "id": "JRZTjsSJrQOr",
        "colab_type": "code",
        "colab": {}
      },
      "source": [
        "history=model.fit(X_train,Y_train, batch_size=128, epochs = 15, validation_data = (X_val,Y_val), \n",
        "                  verbose=1, callbacks=[annealer, printAUC(X_train, Y_train)])"
      ],
      "execution_count": 0,
      "outputs": []
    },
    {
      "cell_type": "code",
      "metadata": {
        "id": "A0FGTH-MrnRa",
        "colab_type": "code",
        "colab": {}
      },
      "source": [
        "plt.plot(history.history['acc'], \n",
        "         label='Доля верных ответов на обучающем наборе')\n",
        "plt.plot(history.history['val_acc'], \n",
        "         label='Доля верных ответов на проверочном наборе')\n",
        "plt.xlabel('Эпоха обучения')\n",
        "plt.ylabel('Доля верных ответов')\n",
        "plt.legend()\n",
        "plt.show()\n",
        "\n",
        "gc.enable()"
      ],
      "execution_count": 0,
      "outputs": []
    },
    {
      "cell_type": "code",
      "metadata": {
        "id": "7ocbxl0ycxSQ",
        "colab_type": "code",
        "colab": {}
      },
      "source": [
        "!ls"
      ],
      "execution_count": 0,
      "outputs": []
    },
    {
      "cell_type": "code",
      "metadata": {
        "id": "ii7mr4Pr71Bs",
        "colab_type": "code",
        "colab": {}
      },
      "source": [
        "!mv bestNet.h5 /content/drive/My\\ Drive/ugroz/DENSE/tanh"
      ],
      "execution_count": 0,
      "outputs": []
    },
    {
      "cell_type": "markdown",
      "metadata": {
        "id": "68MuJQy9rXlZ",
        "colab_type": "text"
      },
      "source": [
        "## Dense с relu"
      ]
    },
    {
      "cell_type": "code",
      "metadata": {
        "id": "ROWqQPkbAYhQ",
        "colab_type": "code",
        "colab": {}
      },
      "source": [
        "model1 = Sequential()\n",
        "model1.add(Dense(800,input_dim=len(cols)))\n",
        "model1.add(Dropout(0.25))\n",
        "model1.add(BatchNormalization()\n",
        "model1.add(Activation('relu'))\n",
        "model1.add(Dense(260))\n",
        "model1.add(Dense(260))\n",
        "model1.add(Dropout(0.3))\n",
        "model1.add(BatchNormalization())\n",
        "model1.add(Activation('relu'))\n",
        "model1.add(Dense(180))\n",
        "model1.add(Dense(180))\n",
        "model1.add(Dropout(0.4))\n",
        "model1.add(BatchNormalization())\n",
        "model1.add(Activation('relu'))\n",
        "model1.add(Dense(1, activation='sigmoid'))\n",
        "model1.summary()"
      ],
      "execution_count": 0,
      "outputs": []
    },
    {
      "cell_type": "code",
      "metadata": {
        "id": "eQxESRdAAZGc",
        "colab_type": "code",
        "colab": {}
      },
      "source": [
        "model1.compile(optimizer=Adam(lr=0.01), loss=\"binary_crossentropy\", metrics=[\"accuracy\"])\n",
        "annealer = LearningRateScheduler(lambda x: 1e-2 * 0.65 ** x)"
      ],
      "execution_count": 0,
      "outputs": []
    },
    {
      "cell_type": "code",
      "metadata": {
        "id": "n0x7C0V5Limk",
        "colab_type": "code",
        "colab": {}
      },
      "source": [
        "history1=model1.fit(X_train,Y_train, batch_size=128, epochs = 15, validation_data = (X_val,Y_val), \n",
        "                  verbose=1, callbacks=[annealer, printAUC(X_train, Y_train)])"
      ],
      "execution_count": 0,
      "outputs": []
    },
    {
      "cell_type": "code",
      "metadata": {
        "id": "IA3f3Mt7eXD4",
        "colab_type": "code",
        "colab": {}
      },
      "source": [
        "plt.plot(history1.history['acc'], \n",
        "         label='Доля верных ответов на обучающем наборе')\n",
        "plt.plot(history1.history['val_acc'], \n",
        "         label='Доля верных ответов на проверочном наборе')\n",
        "plt.xlabel('Эпоха обучения')\n",
        "plt.ylabel('Доля верных ответов')\n",
        "plt.legend()\n",
        "plt.show()\n",
        "\n",
        "gc.enable()"
      ],
      "execution_count": 0,
      "outputs": []
    },
    {
      "cell_type": "code",
      "metadata": {
        "id": "9Xpn0Xxn_hBI",
        "colab_type": "code",
        "colab": {}
      },
      "source": [
        "!ls"
      ],
      "execution_count": 0,
      "outputs": []
    },
    {
      "cell_type": "code",
      "metadata": {
        "id": "4lH9ypV__cvO",
        "colab_type": "code",
        "colab": {}
      },
      "source": [
        "!mv bestNet.h5 /content/drive/My\\ Drive/ugroz/DENSE/relu"
      ],
      "execution_count": 0,
      "outputs": []
    },
    {
      "cell_type": "markdown",
      "metadata": {
        "id": "Q8TfH0KRa4dB",
        "colab_type": "text"
      },
      "source": [
        "# Другая сетка c LSTM"
      ]
    },
    {
      "cell_type": "code",
      "metadata": {
        "id": "Y-IcehrlL9UO",
        "colab_type": "code",
        "colab": {}
      },
      "source": [
        "model2 = Sequential()\n",
        "model2.add(Embedding(len(cols), 64))\n",
        "model2.add(LSTM(64, return_sequences=True))\n",
        "model2.add(BatchNormalization())\n",
        "model2.add(LSTM(32))\n",
        "model2.add(BatchNormalization())\n",
        "model2.add(Dense(1, activation='sigmoid'))\n",
        "model2.summary()"
      ],
      "execution_count": 0,
      "outputs": []
    },
    {
      "cell_type": "code",
      "metadata": {
        "id": "kCugRkqFL9sP",
        "colab_type": "code",
        "colab": {}
      },
      "source": [
        "model2.compile(optimizer='adagrad', \n",
        "              loss='binary_crossentropy', \n",
        "              metrics=['accuracy'])\n"
      ],
      "execution_count": 0,
      "outputs": []
    },
    {
      "cell_type": "code",
      "metadata": {
        "id": "V7bXgCl5LjBx",
        "colab_type": "code",
        "colab": {}
      },
      "source": [
        "history2=model2.fit(X_train,Y_train, batch_size=1024, epochs = 5, validation_data = (X_val,Y_val), \n",
        "                    verbose=1) \n",
        "                  "
      ],
      "execution_count": 0,
      "outputs": []
    },
    {
      "cell_type": "code",
      "metadata": {
        "id": "T-xrb3sjebJu",
        "colab_type": "code",
        "colab": {}
      },
      "source": [
        "plt.plot(history2.history['acc'], \n",
        "         label='Доля верных ответов на обучающем наборе')\n",
        "plt.plot(history2.history['val_acc'], \n",
        "         label='Доля верных ответов на проверочном наборе')\n",
        "plt.xlabel('Эпоха обучения')\n",
        "plt.ylabel('Доля верных ответов')\n",
        "plt.legend()\n",
        "plt.show()"
      ],
      "execution_count": 0,
      "outputs": []
    },
    {
      "cell_type": "code",
      "metadata": {
        "id": "mKwUgokY8Xy4",
        "colab_type": "code",
        "colab": {}
      },
      "source": [
        "model2.save(\"bestNetLSTM.h5\", overwrite=True)"
      ],
      "execution_count": 0,
      "outputs": []
    },
    {
      "cell_type": "code",
      "metadata": {
        "id": "5dZo9aaYVLId",
        "colab_type": "code",
        "colab": {}
      },
      "source": [
        "!ls "
      ],
      "execution_count": 0,
      "outputs": []
    },
    {
      "cell_type": "code",
      "metadata": {
        "id": "oP0sw6FT77sW",
        "colab_type": "code",
        "colab": {}
      },
      "source": [
        "!mv bestNetLSTM.h5 /content/drive/My\\ Drive/ugroz/LSTM"
      ],
      "execution_count": 0,
      "outputs": []
    },
    {
      "cell_type": "markdown",
      "metadata": {
        "id": "ZK1IDowkemwI",
        "colab_type": "text"
      },
      "source": [
        "# Сетка со слоем GRU"
      ]
    },
    {
      "cell_type": "code",
      "metadata": {
        "id": "Yedi3QteeljL",
        "colab_type": "code",
        "colab": {}
      },
      "source": [
        "model3 = Sequential()\n",
        "model3.add(Embedding(len(cols), 32))\n",
        "model3.add(GRU(32))\n",
        "model3.add(Dense(64))\n",
        "model3.add(Dropout(0.25))\n",
        "model3.add(BatchNormalization())\n",
        "model3.add(Dense(1, activation='sigmoid'))\n",
        "model3.summary()"
      ],
      "execution_count": 0,
      "outputs": []
    },
    {
      "cell_type": "code",
      "metadata": {
        "id": "2yxxShoZel-e",
        "colab_type": "code",
        "colab": {}
      },
      "source": [
        "model3.compile(optimizer='rmsprop', \n",
        "              loss='binary_crossentropy', \n",
        "              metrics=['accuracy'])\n"
      ],
      "execution_count": 0,
      "outputs": []
    },
    {
      "cell_type": "code",
      "metadata": {
        "id": "hboLJK3Ce4gP",
        "colab_type": "code",
        "colab": {}
      },
      "source": [
        "history3=model3.fit(X_train,Y_train, batch_size=1024, epochs = 15, validation_data = (X_val,Y_val), \n",
        "                    verbose=1)\n"
      ],
      "execution_count": 0,
      "outputs": []
    },
    {
      "cell_type": "code",
      "metadata": {
        "id": "aREMl9RRfEjm",
        "colab_type": "code",
        "colab": {}
      },
      "source": [
        "plt.plot(history3.history['acc'], \n",
        "         label='Доля верных ответов на обучающем наборе')\n",
        "plt.plot(history3.history['val_acc'], \n",
        "         label='Доля верных ответов на проверочном наборе')\n",
        "plt.xlabel('Эпоха обучения')\n",
        "plt.ylabel('Доля верных ответов')\n",
        "plt.legend()\n",
        "plt.show()"
      ],
      "execution_count": 0,
      "outputs": []
    },
    {
      "cell_type": "code",
      "metadata": {
        "id": "vZeLchEwMuHI",
        "colab_type": "code",
        "colab": {}
      },
      "source": [
        "model3.save(\"bestNetGRU.h5\", overwrite=True)"
      ],
      "execution_count": 0,
      "outputs": []
    },
    {
      "cell_type": "code",
      "metadata": {
        "id": "5GNLe8Jp8CH0",
        "colab_type": "code",
        "colab": {}
      },
      "source": [
        "!mv bestNetGRU.h5 /content/drive/My\\ Drive/ugroz/GRU"
      ],
      "execution_count": 0,
      "outputs": []
    },
    {
      "cell_type": "markdown",
      "metadata": {
        "id": "pnna1tInrgry",
        "colab_type": "text"
      },
      "source": [
        "# Одномерная свёртка"
      ]
    },
    {
      "cell_type": "code",
      "metadata": {
        "id": "2ThQAB10DOCi",
        "colab_type": "code",
        "colab": {}
      },
      "source": [
        "model4 = Sequential()\n",
        "model4.add(Embedding(len(cols), 128))\n",
        "model4.add(Conv1D(128, 5))\n",
        "model4.add(Activation('relu'))\n",
        "model4.add(Conv1D(128, 5))\n",
        "model4.add(Activation('relu'))\n",
        "model4.add(BatchNormalization())\n",
        "model4.add(GlobalMaxPooling1D())\n",
        "model4.add(Dense(64))\n",
        "model4.add(Activation('relu'))\n",
        "model4.add(Dense(1, activation='sigmoid'))\n",
        "model4.summary()"
      ],
      "execution_count": 0,
      "outputs": []
    },
    {
      "cell_type": "code",
      "metadata": {
        "id": "5p_H78aag0k_",
        "colab_type": "code",
        "colab": {}
      },
      "source": [
        "model4.compile(optimizer=Adam(lr=0.01), loss=\"binary_crossentropy\", metrics=[\"accuracy\"])\n"
      ],
      "execution_count": 0,
      "outputs": []
    },
    {
      "cell_type": "code",
      "metadata": {
        "id": "IqfAdVtwhCgO",
        "colab_type": "code",
        "colab": {}
      },
      "source": [
        "history4=model4.fit(X_train,Y_train, batch_size=128, epochs = 15, validation_data = (X_val,Y_val), \n",
        "                  verbose=1)"
      ],
      "execution_count": 0,
      "outputs": []
    },
    {
      "cell_type": "code",
      "metadata": {
        "id": "ofF6BW2Uscie",
        "colab_type": "code",
        "colab": {}
      },
      "source": [
        "plt.plot(history4.history['acc'], \n",
        "         label='Доля верных ответов на обучающем наборе')\n",
        "plt.plot(history4.history['val_acc'], \n",
        "         label='Доля верных ответов на проверочном наборе')\n",
        "plt.xlabel('Эпоха обучения')\n",
        "plt.ylabel('Доля верных ответов')\n",
        "plt.legend()\n",
        "plt.show()\n",
        "\n",
        "gc.enable()"
      ],
      "execution_count": 0,
      "outputs": []
    },
    {
      "cell_type": "code",
      "metadata": {
        "id": "cfFRst-NtOSL",
        "colab_type": "code",
        "colab": {}
      },
      "source": [
        "model4.save(\"bestNet1D.h5\", overwrite=True)\n",
        "\n",
        "gc.enable()"
      ],
      "execution_count": 0,
      "outputs": []
    },
    {
      "cell_type": "code",
      "metadata": {
        "id": "GZX9SJrbRhyi",
        "colab_type": "code",
        "colab": {}
      },
      "source": [
        "!mv bestNet1D.h5 /content/drive/My\\ Drive/ugroz/1D"
      ],
      "execution_count": 0,
      "outputs": []
    },
    {
      "cell_type": "markdown",
      "metadata": {
        "id": "M4wnQDdpqgnN",
        "colab_type": "text"
      },
      "source": [
        "# Построение моделей на основе машинного обучения"
      ]
    },
    {
      "cell_type": "markdown",
      "metadata": {
        "id": "kHVsJ-SzTdpo",
        "colab_type": "text"
      },
      "source": [
        "## RandomForestClassifier"
      ]
    },
    {
      "cell_type": "code",
      "metadata": {
        "id": "iGGVzdT7ThuF",
        "colab_type": "code",
        "colab": {}
      },
      "source": [
        "from sklearn.ensemble import RandomForestClassifier\n",
        "from sklearn.externals import joblib\n",
        "from sklearn.metrics import accuracy_score\n",
        "# Создадим классификатор\n",
        "random_forest = RandomForestClassifier(n_estimators = 100, random_state = 50)"
      ],
      "execution_count": 0,
      "outputs": []
    },
    {
      "cell_type": "code",
      "metadata": {
        "id": "PLjZKXgMTw0p",
        "colab_type": "code",
        "colab": {}
      },
      "source": [
        "random_forest.fit(X_train, Y_train)"
      ],
      "execution_count": 0,
      "outputs": []
    },
    {
      "cell_type": "code",
      "metadata": {
        "id": "CQcKI4xNkhKB",
        "colab_type": "code",
        "colab": {}
      },
      "source": [
        "joblib.dump(random_forest, 'random.pkl')"
      ],
      "execution_count": 0,
      "outputs": []
    },
    {
      "cell_type": "code",
      "metadata": {
        "id": "3W_GM8Ql_ljq",
        "colab_type": "code",
        "colab": {}
      },
      "source": [
        "r_pred = random_forest.predict(X_val)\n",
        "predictions = [round(value) for value in r_pred]\n",
        "\n",
        "accuracy = accuracy_score(Y_val, predictions)\n",
        "print(\"Accuracy: %.2f%%\" % (accuracy * 100.0))"
      ],
      "execution_count": 0,
      "outputs": []
    },
    {
      "cell_type": "code",
      "metadata": {
        "id": "oogLjL8v2-Yw",
        "colab_type": "code",
        "colab": {}
      },
      "source": [
        "!ls"
      ],
      "execution_count": 0,
      "outputs": []
    },
    {
      "cell_type": "code",
      "metadata": {
        "id": "QHsRGS8TmAPa",
        "colab_type": "code",
        "colab": {}
      },
      "source": [
        "!mv random.pkl /content/drive/My\\ Drive/ugroz/FOOREST"
      ],
      "execution_count": 0,
      "outputs": []
    },
    {
      "cell_type": "markdown",
      "metadata": {
        "id": "t5HSfL5qYVTN",
        "colab_type": "text"
      },
      "source": [
        "# XGBoost"
      ]
    },
    {
      "cell_type": "code",
      "metadata": {
        "id": "K3BDQG8OXxp9",
        "colab_type": "code",
        "colab": {}
      },
      "source": [
        "import xgboost\n",
        "from sklearn.metrics import accuracy_score"
      ],
      "execution_count": 0,
      "outputs": []
    },
    {
      "cell_type": "code",
      "metadata": {
        "id": "vDWShc65YpN3",
        "colab_type": "code",
        "colab": {}
      },
      "source": [
        "xgb = xgboost.XGBClassifier()\n"
      ],
      "execution_count": 0,
      "outputs": []
    },
    {
      "cell_type": "code",
      "metadata": {
        "id": "xrliDXgfqWlo",
        "colab_type": "code",
        "colab": {}
      },
      "source": [
        "xgb.fit(X_train, Y_train)"
      ],
      "execution_count": 0,
      "outputs": []
    },
    {
      "cell_type": "code",
      "metadata": {
        "id": "2Cgtn4mCx4r0",
        "colab_type": "code",
        "colab": {}
      },
      "source": [
        "xgb.save_model('xgb.model')"
      ],
      "execution_count": 0,
      "outputs": []
    },
    {
      "cell_type": "code",
      "metadata": {
        "id": "HKtfu54yz679",
        "colab_type": "code",
        "colab": {}
      },
      "source": [
        "mv xgb.model /content/drive/My\\ Drive/ugroz/XBOOST"
      ],
      "execution_count": 0,
      "outputs": []
    },
    {
      "cell_type": "code",
      "metadata": {
        "id": "2xlooRINYdYG",
        "colab_type": "code",
        "colab": {}
      },
      "source": [
        "y_pred = xgb.predict(X_val)\n",
        "predictions = [round(value) for value in y_pred]\n",
        "\n",
        "accuracy = accuracy_score(Y_val, predictions)\n",
        "print(\"Accuracy: %.2f%%\" % (accuracy * 100.0))"
      ],
      "execution_count": 0,
      "outputs": []
    },
    {
      "cell_type": "markdown",
      "metadata": {
        "id": "ylOomEWBWheO",
        "colab_type": "text"
      },
      "source": [
        "# LGB"
      ]
    },
    {
      "cell_type": "code",
      "metadata": {
        "id": "n5UOQx65Ye1T",
        "colab_type": "code",
        "colab": {}
      },
      "source": [
        "import lightgbm as lgb\n",
        "from sklearn.model_selection import StratifiedKFold\n",
        "gc.enable()"
      ],
      "execution_count": 0,
      "outputs": []
    },
    {
      "cell_type": "code",
      "metadata": {
        "id": "aaI1uYaHHf0H",
        "colab_type": "code",
        "colab": {}
      },
      "source": [
        "# CV Folds\n",
        "seed = 42\n",
        "folds = StratifiedKFold(n_splits = 5, shuffle = True, random_state = seed)"
      ],
      "execution_count": 0,
      "outputs": []
    },
    {
      "cell_type": "code",
      "metadata": {
        "id": "5iHChP_7GoYH",
        "colab_type": "code",
        "colab": {}
      },
      "source": [
        "lgbm = lgb.LGBMClassifier(\n",
        "        objective = 'binary',\n",
        "        boosting_type = 'gbdt',\n",
        "        n_estimators = 3500,\n",
        "        learning_rate = 0.05, \n",
        "        num_leaves = 250,\n",
        "        min_data_in_leaf = 125, \n",
        "        bagging_fraction = 0.901,\n",
        "        max_depth = 13, \n",
        "        reg_alpha = 2.5,\n",
        "        reg_lambda = 2.5,\n",
        "        min_split_gain = 0.0001,\n",
        "        min_child_weight = 25,\n",
        "        feature_fraction = 0.5, \n",
        "        silent = -1,\n",
        "        verbose = -1,\n",
        "        n_jobs = -1) \n"
      ],
      "execution_count": 0,
      "outputs": []
    },
    {
      "cell_type": "code",
      "metadata": {
        "id": "uS_HSOy1GpvC",
        "colab_type": "code",
        "colab": {}
      },
      "source": [
        "   history_lgb = lgbm.fit(X_train, Y_train, \n",
        "                         eval_set=[(X_train, Y_train), (X_val, Y_val)], \n",
        "                         eval_metric = 'auc', \n",
        "                         verbose = 250, \n",
        "                         early_stopping_rounds = 100)"
      ],
      "execution_count": 0,
      "outputs": []
    },
    {
      "cell_type": "code",
      "metadata": {
        "id": "huZMFdWpZHAN",
        "colab_type": "code",
        "colab": {}
      },
      "source": [
        "history_lgb.booster_.save_model('lgb.txt')"
      ],
      "execution_count": 0,
      "outputs": []
    },
    {
      "cell_type": "code",
      "metadata": {
        "id": "_oLzNToXZtbF",
        "colab_type": "code",
        "colab": {}
      },
      "source": [
        "!ls"
      ],
      "execution_count": 0,
      "outputs": []
    },
    {
      "cell_type": "code",
      "metadata": {
        "id": "9NvSBmp6ZvSL",
        "colab_type": "code",
        "colab": {}
      },
      "source": [
        "!mv lgb.txt /content/drive/My\\ Drive/ugroz/LGM"
      ],
      "execution_count": 0,
      "outputs": []
    },
    {
      "cell_type": "markdown",
      "metadata": {
        "id": "Z4gVNHQSI7nX",
        "colab_type": "text"
      },
      "source": [
        "## Подгружаем данные на случай сбоя при обработке данных"
      ]
    },
    {
      "cell_type": "code",
      "metadata": {
        "id": "UEkMNU5jq0jc",
        "colab_type": "code",
        "colab": {}
      },
      "source": [
        "X_train = pd.read_csv('/content/drive/My Drive/ugroz/train_dan/X_train4.csv')\n",
        "X_train.shape"
      ],
      "execution_count": 0,
      "outputs": []
    },
    {
      "cell_type": "code",
      "metadata": {
        "id": "Wn5UVMurrFXR",
        "colab_type": "code",
        "colab": {}
      },
      "source": [
        "X_val = pd.read_csv('/content/drive/My Drive/ugroz/train_dan/X_val4.csv')\n",
        "X_val.shape"
      ],
      "execution_count": 0,
      "outputs": []
    },
    {
      "cell_type": "code",
      "metadata": {
        "id": "6JSw_AfWrLt1",
        "colab_type": "code",
        "colab": {}
      },
      "source": [
        "Y_val = pd.read_csv('/content/drive/My Drive/ugroz/train_dan/Y_val4.csv')\n",
        "Y_val.shape"
      ],
      "execution_count": 0,
      "outputs": []
    },
    {
      "cell_type": "code",
      "metadata": {
        "id": "kuu281TKrRuy",
        "colab_type": "code",
        "colab": {}
      },
      "source": [
        "Y_train = pd.read_csv('/content/drive/My Drive/ugroz/train_dan/Y_train4.csv')\n",
        "Y_train.shape"
      ],
      "execution_count": 0,
      "outputs": []
    },
    {
      "cell_type": "markdown",
      "metadata": {
        "id": "KJvbPF9lpjxU",
        "colab_type": "text"
      },
      "source": [
        "## Визулизируем важные признаки"
      ]
    },
    {
      "cell_type": "code",
      "metadata": {
        "id": "CqNDCapABrtk",
        "colab_type": "code",
        "colab": {}
      },
      "source": [
        "x = df_train[cols]\n",
        "y = df_train['HasDetections']"
      ],
      "execution_count": 0,
      "outputs": []
    },
    {
      "cell_type": "code",
      "metadata": {
        "id": "yUZwq4XuprUm",
        "colab_type": "code",
        "colab": {}
      },
      "source": [
        "from sklearn.ensemble import ExtraTreesClassifier\n",
        "import matplotlib.pyplot as plt\n",
        "\n",
        "mo = ExtraTreesClassifier()\n",
        "mo.fit(x, y)\n",
        "print(mo.feature_importances_) \n",
        "feat_importances = pd.Series(mo.feature_importances_, index=x.columns)\n",
        "feat_importances.nlargest(10).plot(kind='barh')\n",
        "plt.show()"
      ],
      "execution_count": 0,
      "outputs": []
    }
  ]
}