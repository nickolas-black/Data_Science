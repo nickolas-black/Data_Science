{
 "cells": [
  {
   "cell_type": "markdown",
   "metadata": {},
   "source": [
    "## Подгружаем библиотеки"
   ]
  },
  {
   "cell_type": "code",
   "execution_count": 1,
   "metadata": {},
   "outputs": [],
   "source": [
    "import happybase\n",
    "import pandas as pd\n",
    "import matplotlib.pyplot as plt\n",
    "import seaborn as sns\n",
    "import warnings\n",
    "warnings.simplefilter(action='ignore', category=FutureWarning)\n",
    "warnings.filterwarnings('ignore')\n",
    "%matplotlib inline "
   ]
  },
  {
   "cell_type": "markdown",
   "metadata": {},
   "source": [
    "## Устанавливаем соединение с БД"
   ]
  },
  {
   "cell_type": "code",
   "execution_count": 2,
   "metadata": {},
   "outputs": [],
   "source": [
    "connection = happybase.Connection(host='89.208.221.132', port=9090, autoconnect=True)"
   ]
  },
  {
   "cell_type": "code",
   "execution_count": 3,
   "metadata": {},
   "outputs": [],
   "source": [
    "table = connection.table('student4_2_table')"
   ]
  },
  {
   "cell_type": "markdown",
   "metadata": {},
   "source": [
    "## Читаем данные из БД"
   ]
  },
  {
   "cell_type": "code",
   "execution_count": 4,
   "metadata": {},
   "outputs": [],
   "source": [
    "data_df = {}\n",
    "i=0\n",
    "for key,data in table.scan():\n",
    "    data_df[i] = data\n",
    "    if i<10000:\n",
    "        i +=1\n",
    "    else:\n",
    "        break"
   ]
  },
  {
   "cell_type": "code",
   "execution_count": 5,
   "metadata": {
    "scrolled": true
   },
   "outputs": [],
   "source": [
    "i=0\n",
    "for k in [i for i in data_df.values()]:\n",
    "    k=list(k.values())[0].decode('utf8').split('b')[0].split(',')\n",
    "    data_df[i] = k\n",
    "    i+=1"
   ]
  },
  {
   "cell_type": "markdown",
   "metadata": {},
   "source": [
    "## Собирем датасет"
   ]
  },
  {
   "cell_type": "code",
   "execution_count": 6,
   "metadata": {},
   "outputs": [],
   "source": [
    "data_df = pd.DataFrame(data_df.values(),columns=['date','date_block_num','shop_id','item_id','item_price','item_cnt_dayr'])"
   ]
  },
  {
   "cell_type": "markdown",
   "metadata": {},
   "source": [
    "## Просмотрел данные"
   ]
  },
  {
   "cell_type": "code",
   "execution_count": 7,
   "metadata": {},
   "outputs": [
    {
     "data": {
      "text/html": [
       "<div>\n",
       "<style scoped>\n",
       "    .dataframe tbody tr th:only-of-type {\n",
       "        vertical-align: middle;\n",
       "    }\n",
       "\n",
       "    .dataframe tbody tr th {\n",
       "        vertical-align: top;\n",
       "    }\n",
       "\n",
       "    .dataframe thead th {\n",
       "        text-align: right;\n",
       "    }\n",
       "</style>\n",
       "<table border=\"1\" class=\"dataframe\">\n",
       "  <thead>\n",
       "    <tr style=\"text-align: right;\">\n",
       "      <th></th>\n",
       "      <th>date</th>\n",
       "      <th>date_block_num</th>\n",
       "      <th>shop_id</th>\n",
       "      <th>item_id</th>\n",
       "      <th>item_price</th>\n",
       "      <th>item_cnt_dayr</th>\n",
       "    </tr>\n",
       "  </thead>\n",
       "  <tbody>\n",
       "    <tr>\n",
       "      <td>0</td>\n",
       "      <td>13.01.2013</td>\n",
       "      <td>0</td>\n",
       "      <td>3</td>\n",
       "      <td>11041</td>\n",
       "      <td>349.0</td>\n",
       "      <td>1.0</td>\n",
       "    </tr>\n",
       "    <tr>\n",
       "      <td>1</td>\n",
       "      <td>02.01.2013</td>\n",
       "      <td>0</td>\n",
       "      <td>16</td>\n",
       "      <td>9507</td>\n",
       "      <td>149.0</td>\n",
       "      <td>1.0</td>\n",
       "    </tr>\n",
       "    <tr>\n",
       "      <td>2</td>\n",
       "      <td>08.01.2013</td>\n",
       "      <td>0</td>\n",
       "      <td>47</td>\n",
       "      <td>15060</td>\n",
       "      <td>399.0</td>\n",
       "      <td>1.0</td>\n",
       "    </tr>\n",
       "    <tr>\n",
       "      <td>3</td>\n",
       "      <td>18.01.2013</td>\n",
       "      <td>0</td>\n",
       "      <td>16</td>\n",
       "      <td>21916</td>\n",
       "      <td>149.0</td>\n",
       "      <td>1.0</td>\n",
       "    </tr>\n",
       "    <tr>\n",
       "      <td>4</td>\n",
       "      <td>20.01.2013</td>\n",
       "      <td>0</td>\n",
       "      <td>31</td>\n",
       "      <td>11417</td>\n",
       "      <td>499.0</td>\n",
       "      <td>1.0</td>\n",
       "    </tr>\n",
       "  </tbody>\n",
       "</table>\n",
       "</div>"
      ],
      "text/plain": [
       "         date date_block_num shop_id item_id item_price item_cnt_dayr\n",
       "0  13.01.2013              0       3   11041      349.0           1.0\n",
       "1  02.01.2013              0      16    9507      149.0           1.0\n",
       "2  08.01.2013              0      47   15060      399.0           1.0\n",
       "3  18.01.2013              0      16   21916      149.0           1.0\n",
       "4  20.01.2013              0      31   11417      499.0           1.0"
      ]
     },
     "execution_count": 7,
     "metadata": {},
     "output_type": "execute_result"
    }
   ],
   "source": [
    "data_df.head()"
   ]
  },
  {
   "cell_type": "code",
   "execution_count": 8,
   "metadata": {},
   "outputs": [
    {
     "name": "stdout",
     "output_type": "stream",
     "text": [
      "<class 'pandas.core.frame.DataFrame'>\n",
      "RangeIndex: 10001 entries, 0 to 10000\n",
      "Data columns (total 6 columns):\n",
      "date              10001 non-null object\n",
      "date_block_num    10001 non-null object\n",
      "shop_id           10001 non-null object\n",
      "item_id           10001 non-null object\n",
      "item_price        10001 non-null object\n",
      "item_cnt_dayr     10001 non-null object\n",
      "dtypes: object(6)\n",
      "memory usage: 468.9+ KB\n"
     ]
    }
   ],
   "source": [
    "data_df.info()"
   ]
  },
  {
   "cell_type": "code",
   "execution_count": 9,
   "metadata": {},
   "outputs": [
    {
     "data": {
      "text/html": [
       "<div>\n",
       "<style scoped>\n",
       "    .dataframe tbody tr th:only-of-type {\n",
       "        vertical-align: middle;\n",
       "    }\n",
       "\n",
       "    .dataframe tbody tr th {\n",
       "        vertical-align: top;\n",
       "    }\n",
       "\n",
       "    .dataframe thead th {\n",
       "        text-align: right;\n",
       "    }\n",
       "</style>\n",
       "<table border=\"1\" class=\"dataframe\">\n",
       "  <thead>\n",
       "    <tr style=\"text-align: right;\">\n",
       "      <th></th>\n",
       "      <th>date</th>\n",
       "      <th>date_block_num</th>\n",
       "      <th>shop_id</th>\n",
       "      <th>item_id</th>\n",
       "      <th>item_price</th>\n",
       "      <th>item_cnt_dayr</th>\n",
       "    </tr>\n",
       "  </thead>\n",
       "  <tbody>\n",
       "    <tr>\n",
       "      <td>count</td>\n",
       "      <td>10001</td>\n",
       "      <td>10001</td>\n",
       "      <td>10001</td>\n",
       "      <td>10001</td>\n",
       "      <td>10001</td>\n",
       "      <td>10001</td>\n",
       "    </tr>\n",
       "    <tr>\n",
       "      <td>unique</td>\n",
       "      <td>31</td>\n",
       "      <td>1</td>\n",
       "      <td>44</td>\n",
       "      <td>3631</td>\n",
       "      <td>637</td>\n",
       "      <td>17</td>\n",
       "    </tr>\n",
       "    <tr>\n",
       "      <td>top</td>\n",
       "      <td>02.01.2013</td>\n",
       "      <td>0</td>\n",
       "      <td>25</td>\n",
       "      <td>3432</td>\n",
       "      <td>149.0</td>\n",
       "      <td>1.0</td>\n",
       "    </tr>\n",
       "    <tr>\n",
       "      <td>freq</td>\n",
       "      <td>558</td>\n",
       "      <td>10001</td>\n",
       "      <td>728</td>\n",
       "      <td>60</td>\n",
       "      <td>1201</td>\n",
       "      <td>9055</td>\n",
       "    </tr>\n",
       "  </tbody>\n",
       "</table>\n",
       "</div>"
      ],
      "text/plain": [
       "              date date_block_num shop_id item_id item_price item_cnt_dayr\n",
       "count        10001          10001   10001   10001      10001         10001\n",
       "unique          31              1      44    3631        637            17\n",
       "top     02.01.2013              0      25    3432      149.0           1.0\n",
       "freq           558          10001     728      60       1201          9055"
      ]
     },
     "execution_count": 9,
     "metadata": {},
     "output_type": "execute_result"
    }
   ],
   "source": [
    "data_df.describe()"
   ]
  },
  {
   "cell_type": "markdown",
   "metadata": {},
   "source": [
    "## Визуализируем данные"
   ]
  },
  {
   "cell_type": "code",
   "execution_count": 10,
   "metadata": {},
   "outputs": [
    {
     "data": {
      "image/png": "[encoded data removed]",
      "text/plain": [
       "<Figure size 1008x1152 with 1 Axes>"
      ]
     },
     "metadata": {
      "needs_background": "light"
     },
     "output_type": "display_data"
    }
   ],
   "source": [
    "plt.figure(figsize=(14,16))\n",
    "sns.boxplot(data=data_df, palette=sns.color_palette('Greens'))\n",
    "plt.show()"
   ]
  },
  {
   "cell_type": "markdown",
   "metadata": {},
   "source": [
    "## Преобразуем данные"
   ]
  },
  {
   "cell_type": "code",
   "execution_count": 11,
   "metadata": {},
   "outputs": [],
   "source": [
    "data_df['item_price'] = data_df['item_price'].astype(float)\n",
    "data_df = data_df.loc[data_df['item_price']>0,:]\n",
    "data_df['sum_by_shop'] = data_df['item_price'].copy()\n",
    "for k,i in enumerate(data_df['shop_id']):\n",
    "    data_df['sum_by_shop'][k] = data_df.loc[data_df['shop_id'] == i,'item_price'].sum()"
   ]
  },
  {
   "cell_type": "code",
   "execution_count": 12,
   "metadata": {},
   "outputs": [
    {
     "name": "stdout",
     "output_type": "stream",
     "text": [
      "<class 'pandas.core.frame.DataFrame'>\n",
      "Int64Index: 10001 entries, 0 to 10000\n",
      "Data columns (total 7 columns):\n",
      "date              10001 non-null object\n",
      "date_block_num    10001 non-null object\n",
      "shop_id           10001 non-null object\n",
      "item_id           10001 non-null object\n",
      "item_price        10001 non-null float64\n",
      "item_cnt_dayr     10001 non-null object\n",
      "sum_by_shop       10001 non-null float64\n",
      "dtypes: float64(2), object(5)\n",
      "memory usage: 945.1+ KB\n"
     ]
    }
   ],
   "source": [
    "data_df.info()"
   ]
  },
  {
   "cell_type": "code",
   "execution_count": 13,
   "metadata": {},
   "outputs": [],
   "source": [
    "data_df['item_price_quant']=data_df['sum_by_shop'].copy()\n",
    "quant_list = data_df['sum_by_shop'].quantile([0.25,0.5,0.75,1])\n",
    "for k,i in enumerate(data_df['sum_by_shop']):\n",
    "    if i<=quant_list[0.25]:\n",
    "        data_df['item_price_quant'][k] = 0\n",
    "    if i<=quant_list[0.5] and i>quant_list[0.25]:\n",
    "        data_df['item_price_quant'][k] = 1\n",
    "    if i<=quant_list[0.75] and i>quant_list[0.5]:\n",
    "        data_df['item_price_quant'][k] = 2\n",
    "    if i<=quant_list[1] and i>quant_list[0.75]:\n",
    "        data_df['item_price_quant'][k] = 3\n"
   ]
  },
  {
   "cell_type": "code",
   "execution_count": 14,
   "metadata": {},
   "outputs": [],
   "source": [
    "income_by_shop = data_df[['sum_by_shop','item_price_quant']].groupby('item_price_quant').sum()"
   ]
  },
  {
   "cell_type": "code",
   "execution_count": 15,
   "metadata": {},
   "outputs": [
    {
     "data": {
      "image/png": "[encoded data removed]",
      "text/plain": [
       "<Figure size 432x288 with 1 Axes>"
      ]
     },
     "metadata": {
      "needs_background": "light"
     },
     "output_type": "display_data"
    }
   ],
   "source": [
    "plt.bar(income_by_shop.index,income_by_shop['sum_by_shop'])\n",
    "plt.title('Доход от разных групп магазинов')\n",
    "plt.xlabel('Группа')\n",
    "plt.ylabel('Доход')\n",
    "plt.show()"
   ]
  },
  {
   "cell_type": "markdown",
   "metadata": {},
   "source": [
    "## Просмотрел корреляцию"
   ]
  },
  {
   "cell_type": "code",
   "execution_count": 16,
   "metadata": {},
   "outputs": [
    {
     "data": {
      "image/png": "[encoded data removed]",
      "text/plain": [
       "<Figure size 504x72 with 1 Axes>"
      ]
     },
     "metadata": {
      "needs_background": "light"
     },
     "output_type": "display_data"
    }
   ],
   "source": [
    "sns.palplot(sns.diverging_palette(8, 240, sep=20, n=7))"
   ]
  },
  {
   "cell_type": "code",
   "execution_count": 17,
   "metadata": {},
   "outputs": [
    {
     "data": {
      "text/plain": [
       "<matplotlib.axes._subplots.AxesSubplot at 0x7f496e494d10>"
      ]
     },
     "execution_count": 17,
     "metadata": {},
     "output_type": "execute_result"
    },
    {
     "data": {
      "image/png": "[encoded data removed]",
      "text/plain": [
       "<Figure size 1008x864 with 2 Axes>"
      ]
     },
     "metadata": {
      "needs_background": "light"
     },
     "output_type": "display_data"
    }
   ],
   "source": [
    "plt.figure(figsize=(14,12))\n",
    "corr = data_df.corr()\n",
    "sns.heatmap(corr, cmap=sns.color_palette(\"RdBu_r\", 1000), vmin=-1, center=0, annot=True)"
   ]
  },
  {
   "cell_type": "code",
   "execution_count": null,
   "metadata": {},
   "outputs": [],
   "source": []
  }
 ],
 "metadata": {
  "kernelspec": {
   "display_name": "Python 3",
   "language": "python",
   "name": "python3"
  },
  "language_info": {
   "codemirror_mode": {
    "name": "ipython",
    "version": 3
   },
   "file_extension": ".py",
   "mimetype": "text/x-python",
   "name": "python",
   "nbconvert_exporter": "python",
   "pygments_lexer": "ipython3",
   "version": "3.7.4"
  }
 },
 "nbformat": 4,
 "nbformat_minor": 2
}
