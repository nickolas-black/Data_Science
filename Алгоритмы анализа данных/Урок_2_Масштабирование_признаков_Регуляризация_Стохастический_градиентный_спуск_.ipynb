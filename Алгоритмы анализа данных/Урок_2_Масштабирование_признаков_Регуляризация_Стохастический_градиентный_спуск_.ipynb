{
  "nbformat": 4,
  "nbformat_minor": 0,
  "metadata": {
    "kernelspec": {
      "display_name": "Python 3",
      "language": "python",
      "name": "python3"
    },
    "language_info": {
      "codemirror_mode": {
        "name": "ipython",
        "version": 3
      },
      "file_extension": ".py",
      "mimetype": "text/x-python",
      "name": "python",
      "nbconvert_exporter": "python",
      "pygments_lexer": "ipython3",
      "version": "3.7.4"
    },
    "colab": {
      "name": "Урок 2. Масштабирование признаков. Регуляризация. Стохастический градиентный спуск.",
      "provenance": [],
      "collapsed_sections": []
    }
  },
  "cells": [
    {
      "cell_type": "markdown",
      "metadata": {
        "id": "zdSh1_KRIs2e",
        "colab_type": "text"
      },
      "source": [
        "# Урок 2. Масштабирование признаков. Регуляризация. Стохастический градиентный спуск.\n",
        "\n",
        "## Выполнил - Колеганов Н.Д."
      ]
    },
    {
      "cell_type": "code",
      "metadata": {
        "colab_type": "code",
        "id": "ak8b3KV45kVW",
        "colab": {}
      },
      "source": [
        "import numpy as np\n",
        "import matplotlib.pyplot as plt"
      ],
      "execution_count": 1,
      "outputs": []
    },
    {
      "cell_type": "code",
      "metadata": {
        "colab_type": "code",
        "id": "_n6il-AZaLuA",
        "colab": {}
      },
      "source": [
        "X = np.array([[1, 1, 1, 1, 1, 1, 1, 1, 1, 1],\n",
        "              [1, 1, 2, 5, 3, 0, 5, 10, 1, 2],\n",
        "              [500, 700, 750, 600, 1450, 800, 1500, 2000, 450, 1000],\n",
        "              [1, 1, 2, 1, 2, 1, 3, 3, 1, 2]])"
      ],
      "execution_count": 2,
      "outputs": []
    },
    {
      "cell_type": "code",
      "metadata": {
        "colab_type": "code",
        "id": "x8yoci01ni-t",
        "colab": {}
      },
      "source": [
        "y = [45, 55, 50, 55, 60, 35, 75, 80, 50, 60]"
      ],
      "execution_count": 3,
      "outputs": []
    },
    {
      "cell_type": "code",
      "metadata": {
        "colab_type": "code",
        "id": "Ei5qeZO_aT6m",
        "colab": {
          "base_uri": "https://localhost:8080/",
          "height": 34
        },
        "outputId": "d92a5d74-2f13-4162-aec2-3c21224703ea"
      },
      "source": [
        "X[1].min(), X[1].max()"
      ],
      "execution_count": 4,
      "outputs": [
        {
          "output_type": "execute_result",
          "data": {
            "text/plain": [
              "(0, 10)"
            ]
          },
          "metadata": {
            "tags": []
          },
          "execution_count": 4
        }
      ]
    },
    {
      "cell_type": "code",
      "metadata": {
        "colab_type": "code",
        "id": "L7wsW1Q7b4Ts",
        "colab": {
          "base_uri": "https://localhost:8080/",
          "height": 34
        },
        "outputId": "293f1176-b440-495b-ee61-7e99074922e8"
      },
      "source": [
        "X[2].min(), X[2].max()"
      ],
      "execution_count": 5,
      "outputs": [
        {
          "output_type": "execute_result",
          "data": {
            "text/plain": [
              "(450, 2000)"
            ]
          },
          "metadata": {
            "tags": []
          },
          "execution_count": 5
        }
      ]
    },
    {
      "cell_type": "code",
      "metadata": {
        "colab_type": "code",
        "id": "E55S9Bzob9Xa",
        "colab": {
          "base_uri": "https://localhost:8080/",
          "height": 156
        },
        "outputId": "c6b94e8d-78f9-4d65-cccd-494596319768"
      },
      "source": [
        "X_norm = X.copy()\n",
        "X_norm = X_norm.astype(np.float64)\n",
        "X_norm"
      ],
      "execution_count": 6,
      "outputs": [
        {
          "output_type": "execute_result",
          "data": {
            "text/plain": [
              "array([[1.00e+00, 1.00e+00, 1.00e+00, 1.00e+00, 1.00e+00, 1.00e+00,\n",
              "        1.00e+00, 1.00e+00, 1.00e+00, 1.00e+00],\n",
              "       [1.00e+00, 1.00e+00, 2.00e+00, 5.00e+00, 3.00e+00, 0.00e+00,\n",
              "        5.00e+00, 1.00e+01, 1.00e+00, 2.00e+00],\n",
              "       [5.00e+02, 7.00e+02, 7.50e+02, 6.00e+02, 1.45e+03, 8.00e+02,\n",
              "        1.50e+03, 2.00e+03, 4.50e+02, 1.00e+03],\n",
              "       [1.00e+00, 1.00e+00, 2.00e+00, 1.00e+00, 2.00e+00, 1.00e+00,\n",
              "        3.00e+00, 3.00e+00, 1.00e+00, 2.00e+00]])"
            ]
          },
          "metadata": {
            "tags": []
          },
          "execution_count": 6
        }
      ]
    },
    {
      "cell_type": "code",
      "metadata": {
        "colab_type": "code",
        "id": "7x-6IuPOcIo0",
        "colab": {
          "base_uri": "https://localhost:8080/",
          "height": 156
        },
        "outputId": "742fcc5b-39a9-48b1-f073-9a4fb1757f9b"
      },
      "source": [
        "X_norm[1] = (X[1] - X[1].min()) / (X[1].max() - X[1].min())\n",
        "X_norm"
      ],
      "execution_count": 7,
      "outputs": [
        {
          "output_type": "execute_result",
          "data": {
            "text/plain": [
              "array([[1.00e+00, 1.00e+00, 1.00e+00, 1.00e+00, 1.00e+00, 1.00e+00,\n",
              "        1.00e+00, 1.00e+00, 1.00e+00, 1.00e+00],\n",
              "       [1.00e-01, 1.00e-01, 2.00e-01, 5.00e-01, 3.00e-01, 0.00e+00,\n",
              "        5.00e-01, 1.00e+00, 1.00e-01, 2.00e-01],\n",
              "       [5.00e+02, 7.00e+02, 7.50e+02, 6.00e+02, 1.45e+03, 8.00e+02,\n",
              "        1.50e+03, 2.00e+03, 4.50e+02, 1.00e+03],\n",
              "       [1.00e+00, 1.00e+00, 2.00e+00, 1.00e+00, 2.00e+00, 1.00e+00,\n",
              "        3.00e+00, 3.00e+00, 1.00e+00, 2.00e+00]])"
            ]
          },
          "metadata": {
            "tags": []
          },
          "execution_count": 7
        }
      ]
    },
    {
      "cell_type": "code",
      "metadata": {
        "colab_type": "code",
        "id": "izkMRdXFcjyK",
        "colab": {
          "base_uri": "https://localhost:8080/",
          "height": 156
        },
        "outputId": "efb2a73f-41ef-492d-ecf9-d2d6a53168af"
      },
      "source": [
        "X_norm[2] = (X[2] - X[2].min()) / (X[2].max() - X[2].min())\n",
        "X_norm"
      ],
      "execution_count": 8,
      "outputs": [
        {
          "output_type": "execute_result",
          "data": {
            "text/plain": [
              "array([[1.        , 1.        , 1.        , 1.        , 1.        ,\n",
              "        1.        , 1.        , 1.        , 1.        , 1.        ],\n",
              "       [0.1       , 0.1       , 0.2       , 0.5       , 0.3       ,\n",
              "        0.        , 0.5       , 1.        , 0.1       , 0.2       ],\n",
              "       [0.03225806, 0.16129032, 0.19354839, 0.09677419, 0.64516129,\n",
              "        0.22580645, 0.67741935, 1.        , 0.        , 0.35483871],\n",
              "       [1.        , 1.        , 2.        , 1.        , 2.        ,\n",
              "        1.        , 3.        , 3.        , 1.        , 2.        ]])"
            ]
          },
          "metadata": {
            "tags": []
          },
          "execution_count": 8
        }
      ]
    },
    {
      "cell_type": "markdown",
      "metadata": {
        "id": "kHaRhJz8h7CE",
        "colab_type": "text"
      },
      "source": [
        "##Стандартизация"
      ]
    },
    {
      "cell_type": "code",
      "metadata": {
        "colab_type": "code",
        "id": "8i9pB-3-fMD4",
        "colab": {
          "base_uri": "https://localhost:8080/",
          "height": 265
        },
        "outputId": "a110e608-345d-4a3a-f093-99eb44d886fa"
      },
      "source": [
        "plt.hist(X[1])\n",
        "plt.show()"
      ],
      "execution_count": 9,
      "outputs": [
        {
          "output_type": "display_data",
          "data": {
            "image/png": "[encoded data removed]",
            "text/plain": [
              "<Figure size 432x288 with 1 Axes>"
            ]
          },
          "metadata": {
            "tags": [],
            "needs_background": "light"
          }
        }
      ]
    },
    {
      "cell_type": "code",
      "metadata": {
        "colab_type": "code",
        "id": "-bnAYQqVfRX-",
        "colab": {
          "base_uri": "https://localhost:8080/",
          "height": 265
        },
        "outputId": "c7022cc6-311e-40b7-ddd6-511b64e232fd"
      },
      "source": [
        "plt.hist(X[2])\n",
        "plt.show()"
      ],
      "execution_count": 10,
      "outputs": [
        {
          "output_type": "display_data",
          "data": {
            "image/png": "[encoded data removed]",
            "text/plain": [
              "<Figure size 432x288 with 1 Axes>"
            ]
          },
          "metadata": {
            "tags": [],
            "needs_background": "light"
          }
        }
      ]
    },
    {
      "cell_type": "code",
      "metadata": {
        "colab_type": "code",
        "id": "M57-Pzl_f_rF",
        "colab": {
          "base_uri": "https://localhost:8080/",
          "height": 34
        },
        "outputId": "259947d7-5c9b-489f-cbcb-aa123430b573"
      },
      "source": [
        "X_st = X.copy().astype(np.float64)\n",
        "X1_mean = X[1].mean()\n",
        "X1_std = X[1].std()\n",
        "print(X1_mean, X1_std)"
      ],
      "execution_count": 11,
      "outputs": [
        {
          "output_type": "stream",
          "text": [
            "3.0 2.8284271247461903\n"
          ],
          "name": "stdout"
        }
      ]
    },
    {
      "cell_type": "code",
      "metadata": {
        "colab_type": "code",
        "id": "btJMY0YbgKLb",
        "colab": {
          "base_uri": "https://localhost:8080/",
          "height": 294
        },
        "outputId": "227c8eb2-cb77-4a57-8dff-c2b73c074c30"
      },
      "source": [
        "X_st[1] = (X[1] - X1_mean) / X1_std\n",
        "X_st"
      ],
      "execution_count": 12,
      "outputs": [
        {
          "output_type": "execute_result",
          "data": {
            "text/plain": [
              "array([[ 1.00000000e+00,  1.00000000e+00,  1.00000000e+00,\n",
              "         1.00000000e+00,  1.00000000e+00,  1.00000000e+00,\n",
              "         1.00000000e+00,  1.00000000e+00,  1.00000000e+00,\n",
              "         1.00000000e+00],\n",
              "       [-7.07106781e-01, -7.07106781e-01, -3.53553391e-01,\n",
              "         7.07106781e-01,  0.00000000e+00, -1.06066017e+00,\n",
              "         7.07106781e-01,  2.47487373e+00, -7.07106781e-01,\n",
              "        -3.53553391e-01],\n",
              "       [ 5.00000000e+02,  7.00000000e+02,  7.50000000e+02,\n",
              "         6.00000000e+02,  1.45000000e+03,  8.00000000e+02,\n",
              "         1.50000000e+03,  2.00000000e+03,  4.50000000e+02,\n",
              "         1.00000000e+03],\n",
              "       [ 1.00000000e+00,  1.00000000e+00,  2.00000000e+00,\n",
              "         1.00000000e+00,  2.00000000e+00,  1.00000000e+00,\n",
              "         3.00000000e+00,  3.00000000e+00,  1.00000000e+00,\n",
              "         2.00000000e+00]])"
            ]
          },
          "metadata": {
            "tags": []
          },
          "execution_count": 12
        }
      ]
    },
    {
      "cell_type": "code",
      "metadata": {
        "colab_type": "code",
        "id": "-Y1tzWGCgYjA",
        "colab": {
          "base_uri": "https://localhost:8080/",
          "height": 265
        },
        "outputId": "e2283164-3345-4f2d-fcb8-837157f73d5d"
      },
      "source": [
        "plt.hist(X_st[1])\n",
        "plt.show()"
      ],
      "execution_count": 13,
      "outputs": [
        {
          "output_type": "display_data",
          "data": {
            "image/png": "[encoded data removed]",
            "text/plain": [
              "<Figure size 432x288 with 1 Axes>"
            ]
          },
          "metadata": {
            "tags": [],
            "needs_background": "light"
          }
        }
      ]
    },
    {
      "cell_type": "code",
      "metadata": {
        "colab_type": "code",
        "id": "ZlJUBOyzgkJV",
        "colab": {}
      },
      "source": [
        "def calc_std_fit(x):\n",
        "    res = (x - x.mean()) / x.std()\n",
        "    return res"
      ],
      "execution_count": 14,
      "outputs": []
    },
    {
      "cell_type": "markdown",
      "metadata": {
        "id": "td5r1B9giI49",
        "colab_type": "text"
      },
      "source": [
        "## sklearn.StandartScaler() #Стандартизайия\n",
        "\n",
        "## sklearn.MinMaxScaler() #Нормализация"
      ]
    },
    {
      "cell_type": "code",
      "metadata": {
        "colab_type": "code",
        "id": "6PlDlFY0hGZA",
        "colab": {}
      },
      "source": [
        "X_st[2] = calc_std_fit(X[2])"
      ],
      "execution_count": 16,
      "outputs": []
    },
    {
      "cell_type": "code",
      "metadata": {
        "colab_type": "code",
        "id": "LOKhmhJjt9TR",
        "colab": {
          "base_uri": "https://localhost:8080/",
          "height": 156
        },
        "outputId": "444ce2d7-3e9a-49cd-9c6d-f96b9ee9d614"
      },
      "source": [
        "X_st[3] = calc_std_fit(X[3])\n",
        "X_st"
      ],
      "execution_count": 17,
      "outputs": [
        {
          "output_type": "execute_result",
          "data": {
            "text/plain": [
              "array([[ 1.        ,  1.        ,  1.        ,  1.        ,  1.        ,\n",
              "         1.        ,  1.        ,  1.        ,  1.        ,  1.        ],\n",
              "       [-0.70710678, -0.70710678, -0.35355339,  0.70710678,  0.        ,\n",
              "        -1.06066017,  0.70710678,  2.47487373, -0.70710678, -0.35355339],\n",
              "       [-0.97958969, -0.56713087, -0.46401617, -0.77336028,  0.97958969,\n",
              "        -0.36090146,  1.08270439,  2.11385144, -1.08270439,  0.05155735],\n",
              "       [-0.89625816, -0.89625816,  0.38411064, -0.89625816,  0.38411064,\n",
              "        -0.89625816,  1.66447944,  1.66447944, -0.89625816,  0.38411064]])"
            ]
          },
          "metadata": {
            "tags": []
          },
          "execution_count": 17
        }
      ]
    },
    {
      "cell_type": "markdown",
      "metadata": {
        "id": "OToZQrsNiRmY",
        "colab_type": "text"
      },
      "source": [
        "## SGD (Stochastic gradient descent)"
      ]
    },
    {
      "cell_type": "code",
      "metadata": {
        "colab_type": "code",
        "id": "VDpN7UxYnrcS",
        "colab": {}
      },
      "source": [
        "def calc_mse(y, y_pred):\n",
        "    err = np.mean((y - y_pred)**2)\n",
        "    return err"
      ],
      "execution_count": 18,
      "outputs": []
    },
    {
      "cell_type": "code",
      "metadata": {
        "id": "nl38uyZ1guQz",
        "colab_type": "code",
        "colab": {
          "base_uri": "https://localhost:8080/",
          "height": 34
        },
        "outputId": "148807b1-5d9b-47c6-d2b1-4dbd0213d83f"
      },
      "source": [
        "W = np.random.randn(X.shape[0])\n",
        "W"
      ],
      "execution_count": 19,
      "outputs": [
        {
          "output_type": "execute_result",
          "data": {
            "text/plain": [
              "array([1.65796832, 0.82691402, 0.34443825, 0.34761319])"
            ]
          },
          "metadata": {
            "tags": []
          },
          "execution_count": 19
        }
      ]
    },
    {
      "cell_type": "code",
      "metadata": {
        "colab_type": "code",
        "id": "SgEyis2zlJeb",
        "colab": {}
      },
      "source": [
        "# классический  GD\n",
        "def eval_model(X, y, iterations, alpha=1e-4):\n",
        "    W = np.random.randn(X.shape[0])\n",
        "    n = X.shape[1]\n",
        "    for i in range(1, iterations+1):\n",
        "        y_pred = np.dot(W, X)\n",
        "        err = calc_mse(y, y_pred)\n",
        "        W -= (alpha * (1/n * 2 * np.dot((y_pred - y), X.T)))\n",
        "        if i % (iterations / 10) == 0:\n",
        "            print(i, W, err)\n",
        "    return W"
      ],
      "execution_count": 20,
      "outputs": []
    },
    {
      "cell_type": "code",
      "metadata": {
        "colab_type": "code",
        "id": "4nsYMAGjmFlB",
        "colab": {
          "base_uri": "https://localhost:8080/",
          "height": 208
        },
        "outputId": "6246af08-679a-4c78-e3da-99dc29e5e4f0"
      },
      "source": [
        "eval_model(X_st, y, iterations=1000, alpha=1e-2)"
      ],
      "execution_count": 21,
      "outputs": [
        {
          "output_type": "stream",
          "text": [
            "100 [48.98022763  5.18634839  2.33650929  4.81104317] 85.0720413181192\n",
            "200 [55.50273113  5.56076487  1.8114919   5.06121694] 26.741194301729543\n",
            "300 [56.36774265  5.78062989  1.38495265  5.28831021] 25.439213376445785\n",
            "400 [56.48246009  5.92276305  1.04878258  5.49670766] 25.243232565696324\n",
            "500 [56.49767386  6.01820407  0.78116205  5.67948214] 25.127945416765044\n",
            "600 [56.49969151  6.08473575  0.56654642  5.83559025] 25.052566157321298\n",
            "700 [56.49995909  6.13275187  0.3935522   5.96677139] 25.002792618316235\n",
            "800 [56.49999457  6.16846161  0.25361094  6.0758729 ] 24.969813382156982\n",
            "900 [56.49999928  6.19567749  0.14013029  6.16600461] 24.947927734978908\n",
            "1000 [5.64999999e+01 6.21681807e+00 4.79528693e-02 6.24013685e+00] 24.933393609298264\n"
          ],
          "name": "stdout"
        },
        {
          "output_type": "execute_result",
          "data": {
            "text/plain": [
              "array([5.64999999e+01, 6.21681807e+00, 4.79528693e-02, 6.24013685e+00])"
            ]
          },
          "metadata": {
            "tags": []
          },
          "execution_count": 21
        }
      ]
    },
    {
      "cell_type": "code",
      "metadata": {
        "id": "VwhRaM8HguRB",
        "colab_type": "code",
        "colab": {}
      },
      "source": [
        "# стохастический GS\n",
        "def eval_sgd_model(X, y, iterations, qty_in_batch, alpha=1e-4):\n",
        "    W = np.random.randn(X.shape[0])\n",
        "    n = X.shape[1]\n",
        "    n_batch = n // qty_in_batch\n",
        "    \n",
        "    if n % qty_in_batch != 0:\n",
        "        n_batch += 1\n",
        "        \n",
        "    for i in range(1, iterations+1):\n",
        "        for b in range(n_batch):\n",
        "            start_ = qty_in_batch*b\n",
        "            end_ = qty_in_batch*(b+1)\n",
        "#             print(b, n_batch, start_, end_)\n",
        "            X_tmp = X[:, start_ : end_]\n",
        "            y_tmp = y[start_ : end_]\n",
        "\n",
        "            y_pred_tmp = np.dot(W, X_tmp)\n",
        "            err = calc_mse(y_tmp, y_pred_tmp)\n",
        "\n",
        "            W -= (alpha * (1/n * 2 * np.dot((y_pred_tmp - y_tmp), X_tmp.T)))\n",
        "        \n",
        "        if i % (iterations / 10) == 0:\n",
        "            print(i, W, err)\n",
        "    return W"
      ],
      "execution_count": 22,
      "outputs": []
    },
    {
      "cell_type": "code",
      "metadata": {
        "colab_type": "code",
        "id": "2aXap4Vsm3GV",
        "colab": {
          "base_uri": "https://localhost:8080/",
          "height": 208
        },
        "outputId": "b7cd2808-6dc9-4838-97b2-4e1b0c33db9b"
      },
      "source": [
        "eval_sgd_model(X_st, y, iterations=50000, qty_in_batch=4, alpha=1e-2)"
      ],
      "execution_count": 23,
      "outputs": [
        {
          "output_type": "stream",
          "text": [
            "5000 [56.51062031  6.31269482 -0.3644565   6.58451438] 11.289358668224802\n",
            "10000 [56.51062035  6.31272262 -0.3645908   6.58462533] 11.289182005743097\n",
            "15000 [56.51062035  6.31272262 -0.3645908   6.58462533] 11.289181999330378\n",
            "20000 [56.51062035  6.31272262 -0.3645908   6.58462533] 11.289181999330424\n",
            "25000 [56.51062035  6.31272262 -0.3645908   6.58462533] 11.289181999330424\n",
            "30000 [56.51062035  6.31272262 -0.3645908   6.58462533] 11.289181999330424\n",
            "35000 [56.51062035  6.31272262 -0.3645908   6.58462533] 11.289181999330424\n",
            "40000 [56.51062035  6.31272262 -0.3645908   6.58462533] 11.289181999330424\n",
            "45000 [56.51062035  6.31272262 -0.3645908   6.58462533] 11.289181999330424\n",
            "50000 [56.51062035  6.31272262 -0.3645908   6.58462533] 11.289181999330424\n"
          ],
          "name": "stdout"
        },
        {
          "output_type": "execute_result",
          "data": {
            "text/plain": [
              "array([56.51062035,  6.31272262, -0.3645908 ,  6.58462533])"
            ]
          },
          "metadata": {
            "tags": []
          },
          "execution_count": 23
        }
      ]
    },
    {
      "cell_type": "markdown",
      "metadata": {
        "id": "AvJLq-GriZnO",
        "colab_type": "text"
      },
      "source": [
        "## L1 регуляризация"
      ]
    },
    {
      "cell_type": "markdown",
      "metadata": {
        "id": "Yg-5cKYfi2mq",
        "colab_type": "text"
      },
      "source": [
        "f(x, W) + (lambda_) * np.sum(np.abs(W))"
      ]
    },
    {
      "cell_type": "markdown",
      "metadata": {
        "id": "CJYoqgyQij03",
        "colab_type": "text"
      },
      "source": [
        "## L2 регуляризация"
      ]
    },
    {
      "cell_type": "code",
      "metadata": {
        "id": "adBCDjR3guRd",
        "colab_type": "code",
        "colab": {}
      },
      "source": [
        "# lambda = lambda_/2"
      ],
      "execution_count": 25,
      "outputs": []
    },
    {
      "cell_type": "markdown",
      "metadata": {
        "id": "nvg1O2pJizJk",
        "colab_type": "text"
      },
      "source": [
        "Производная\n",
        "f'(x, W) + (lambda_)* np.sum(W))"
      ]
    },
    {
      "cell_type": "code",
      "metadata": {
        "colab_type": "code",
        "id": "7AVoe1Mswjni",
        "colab": {}
      },
      "source": [
        "def eval_model_reg2(X, y, iterations, alpha=1e-4, lambda_=1e-8):\n",
        "    np.random.seed(42)\n",
        "    W = np.random.randn(X.shape[0])\n",
        "    n = X.shape[1]\n",
        "    for i in range(1, iterations+1):\n",
        "        y_pred = np.dot(W, X)\n",
        "        err = calc_mse(y, y_pred)\n",
        "        W -= alpha * (1/n * 2 * np.dot((y_pred - y), X.T) + lambda_ * W) \n",
        "#         if i % (iterations / 10) == 0:\n",
        "#             print(i, W, err)\n",
        "    return W"
      ],
      "execution_count": 28,
      "outputs": []
    },
    {
      "cell_type": "code",
      "metadata": {
        "colab_type": "code",
        "id": "vLJL6j8Lw6OA",
        "colab": {}
      },
      "source": [
        "W = eval_model_reg2(X_st, y, iterations=5000, alpha=1e-2, lambda_=1e-4)"
      ],
      "execution_count": 29,
      "outputs": []
    },
    {
      "cell_type": "code",
      "metadata": {
        "id": "0oHC4eqXguRv",
        "colab_type": "code",
        "colab": {
          "base_uri": "https://localhost:8080/",
          "height": 34
        },
        "outputId": "94b4799d-bf43-4c4b-b11f-1354febf7d16"
      },
      "source": [
        "W"
      ],
      "execution_count": 30,
      "outputs": [
        {
          "output_type": "execute_result",
          "data": {
            "text/plain": [
              "array([56.49717514,  6.30231751, -0.35424091,  6.56978425])"
            ]
          },
          "metadata": {
            "tags": []
          },
          "execution_count": 30
        }
      ]
    },
    {
      "cell_type": "code",
      "metadata": {
        "colab_type": "code",
        "id": "0Lu0S95VguRz",
        "colab": {
          "base_uri": "https://localhost:8080/",
          "height": 208
        },
        "outputId": "3fcd7b2f-4e35-4ef7-e713-73e6fb372f4f"
      },
      "source": [
        "eval_model(X_st, y, iterations=5000, alpha=1e-2)"
      ],
      "execution_count": 31,
      "outputs": [
        {
          "output_type": "stream",
          "text": [
            "500 [56.49767254  5.83477719  1.36781865  5.25424451] 25.41382962551478\n",
            "1000 [56.4999999   6.17124081  0.25269258  6.07416416] 24.96978439147539\n",
            "1500 [56.5         6.2575128  -0.13774522  6.39128671] 24.913059475565504\n",
            "2000 [56.5         6.28678323 -0.27772011  6.50655795] 24.905712417850072\n",
            "2500 [56.5         6.29722767 -0.32807425  6.54810646] 24.9047605537917\n",
            "3000 [56.5         6.30098239 -0.34619733  6.56306445] 24.904637232271703\n",
            "3500 [56.5         6.30233363 -0.3527205   6.5684486 ] 24.904621254991206\n",
            "4000 [56.5         6.30281999 -0.35506846  6.57038658] 24.904619185007856\n",
            "4500 [56.5         6.30299505 -0.35591359  6.57108415] 24.904618916825118\n",
            "5000 [56.5         6.30305806 -0.35621778  6.57133523] 24.90461888207991\n"
          ],
          "name": "stdout"
        },
        {
          "output_type": "execute_result",
          "data": {
            "text/plain": [
              "array([56.5       ,  6.30305806, -0.35621778,  6.57133523])"
            ]
          },
          "metadata": {
            "tags": []
          },
          "execution_count": 31
        }
      ]
    },
    {
      "cell_type": "markdown",
      "metadata": {
        "id": "yQQE-sk2rkKM",
        "colab_type": "text"
      },
      "source": [
        "# Задание"
      ]
    },
    {
      "cell_type": "markdown",
      "metadata": {
        "id": "7ITS45eNjGVk",
        "colab_type": "text"
      },
      "source": [
        "* Постройте график зависимости весов всех признаков от lambda в L2-регуляризации (на данных из урока). Сделайте вывод\n",
        "* Можно ли к одному и тому же признаку применить сразу и нормализацию, и стандартизацию?\n",
        "* Напишите функцию наподобие eval_model_reg2, но для применения L1-регуляризации"
      ]
    },
    {
      "cell_type": "markdown",
      "metadata": {
        "id": "MYGYUQqFr1ME",
        "colab_type": "text"
      },
      "source": [
        "## 1. Постройте график зависимости весов всех признаков от lambda в L2-регуляризации (на данных из урока). Сделайте вывод"
      ]
    },
    {
      "cell_type": "code",
      "metadata": {
        "id": "beRz5gQ4jl3e",
        "colab_type": "code",
        "colab": {}
      },
      "source": [
        "def calc_std_feat(x):\n",
        "    res = (x - x.mean()) / x.std()\n",
        "    return res"
      ],
      "execution_count": 32,
      "outputs": []
    },
    {
      "cell_type": "code",
      "metadata": {
        "id": "17jLuKA1jp1X",
        "colab_type": "code",
        "colab": {}
      },
      "source": [
        "X_st = X.copy().astype(np.float64)\n",
        "for i in range(1,4):\n",
        "    X_st[i] = calc_std_feat(X[i])"
      ],
      "execution_count": 33,
      "outputs": []
    },
    {
      "cell_type": "code",
      "metadata": {
        "id": "TB6rOtlNjsbx",
        "colab_type": "code",
        "colab": {
          "base_uri": "https://localhost:8080/",
          "height": 156
        },
        "outputId": "f0a6afd5-1f09-40f1-c9e8-ef7de53aaf1d"
      },
      "source": [
        "X_st"
      ],
      "execution_count": 34,
      "outputs": [
        {
          "output_type": "execute_result",
          "data": {
            "text/plain": [
              "array([[ 1.        ,  1.        ,  1.        ,  1.        ,  1.        ,\n",
              "         1.        ,  1.        ,  1.        ,  1.        ,  1.        ],\n",
              "       [-0.70710678, -0.70710678, -0.35355339,  0.70710678,  0.        ,\n",
              "        -1.06066017,  0.70710678,  2.47487373, -0.70710678, -0.35355339],\n",
              "       [-0.97958969, -0.56713087, -0.46401617, -0.77336028,  0.97958969,\n",
              "        -0.36090146,  1.08270439,  2.11385144, -1.08270439,  0.05155735],\n",
              "       [-0.89625816, -0.89625816,  0.38411064, -0.89625816,  0.38411064,\n",
              "        -0.89625816,  1.66447944,  1.66447944, -0.89625816,  0.38411064]])"
            ]
          },
          "metadata": {
            "tags": []
          },
          "execution_count": 34
        }
      ]
    },
    {
      "cell_type": "code",
      "metadata": {
        "id": "wogcPMKJjxFf",
        "colab_type": "code",
        "colab": {}
      },
      "source": [
        "def calc_mse(y, y_pred):\n",
        "    err = np.mean((y - y_pred)**2)\n",
        "    return err"
      ],
      "execution_count": 35,
      "outputs": []
    },
    {
      "cell_type": "code",
      "metadata": {
        "id": "9qPpjZl-jzd8",
        "colab_type": "code",
        "colab": {}
      },
      "source": [
        "def eval_model_reg2(X, y, iterations, alpha=1e-4, lambda_=1e-8):\n",
        "    np.random.seed(42)\n",
        "    W = np.random.randn(X.shape[0])\n",
        "    n = X.shape[1]\n",
        "    for i in range(1, iterations+1):\n",
        "        y_pred = np.dot(W, X)\n",
        "        err = calc_mse(y, y_pred)\n",
        "        W -= alpha * (1/n * 2 * np.dot((y_pred - y), X.T) + lambda_ * W) \n",
        "\n",
        "    return W"
      ],
      "execution_count": 36,
      "outputs": []
    },
    {
      "cell_type": "code",
      "metadata": {
        "id": "JCXtF-ynj2ff",
        "colab_type": "code",
        "colab": {}
      },
      "source": [
        "array_W = []\n",
        "for i in range(1, 1000): \n",
        "    W = eval_model_reg2(X_st, y, iterations=5000, alpha=1e-2, lambda_=i*5e-3)\n",
        "    array_W.append(W)"
      ],
      "execution_count": 37,
      "outputs": []
    },
    {
      "cell_type": "code",
      "metadata": {
        "id": "uqkhcG6uj6AD",
        "colab_type": "code",
        "colab": {
          "base_uri": "https://localhost:8080/",
          "height": 406
        },
        "outputId": "b433635f-13c5-4195-87c3-34dddd753135"
      },
      "source": [
        "plt.figure(figsize=(13, 6))\n",
        "plt.title('Dependence of features weights on lambda')\n",
        "plt.xlabel(r'$lambda$')\n",
        "plt.ylabel(r'$weights$')\n",
        "plt.plot(np.arange(1,1000)*5e-3, array_W)\n",
        "\n",
        "plt.show()"
      ],
      "execution_count": 38,
      "outputs": [
        {
          "output_type": "display_data",
          "data": {
            "image/png": "[encoded data removed]",
            "text/plain": [
              "<Figure size 936x432 with 1 Axes>"
            ]
          },
          "metadata": {
            "tags": [],
            "needs_background": "light"
          }
        }
      ]
    },
    {
      "cell_type": "markdown",
      "metadata": {
        "id": "aG9HracxkPaA",
        "colab_type": "text"
      },
      "source": [
        "## 2. Можно ли к одному и тому же признаку применить сразу и нормализацию, и стандартизацию?"
      ]
    },
    {
      "cell_type": "markdown",
      "metadata": {
        "id": "gcLj1zFPkVlM",
        "colab_type": "text"
      },
      "source": [
        "Нет, т.к. нормализация приводит данные к размеру от 0 до 1,\n",
        "а стандартизация - это отклонение от среднего, нормализованное на среднеквадратичное отклонение."
      ]
    },
    {
      "cell_type": "markdown",
      "metadata": {
        "id": "6uCjy42okhT_",
        "colab_type": "text"
      },
      "source": [
        "## 3.Напишите функцию наподобие eval_model_reg2, но для применения L1-регуляризации"
      ]
    },
    {
      "cell_type": "code",
      "metadata": {
        "id": "xdje-H7ekjaJ",
        "colab_type": "code",
        "colab": {}
      },
      "source": [
        "def eval_model_reg1(X, y, iterations, alpha=1e-4, lambda_=1e-8):\n",
        "    np.random.seed(42)\n",
        "    W = np.random.randn(X.shape[0])\n",
        "    n = X.shape[1]\n",
        "    for i in range(1, iterations+1):\n",
        "        y_pred = np.dot(W, X)\n",
        "        err = calc_mse(y, y_pred)\n",
        "        W -= alpha * (1/n * 2 * np.dot((y_pred - y), X.T) + lambda_ * np.sign(W)) \n",
        "\n",
        "    return W"
      ],
      "execution_count": 39,
      "outputs": []
    },
    {
      "cell_type": "code",
      "metadata": {
        "id": "PpWiASG3kniA",
        "colab_type": "code",
        "colab": {}
      },
      "source": [
        "array_W_1 = []\n",
        "for i in range(1, 1000): \n",
        "    W_1 = eval_model_reg1(X_st, y, iterations=5000, alpha=1e-2, lambda_=i*3e-2)\n",
        "    array_W_1.append(W_1)"
      ],
      "execution_count": 40,
      "outputs": []
    },
    {
      "cell_type": "code",
      "metadata": {
        "id": "KLMAXrASkqTn",
        "colab_type": "code",
        "colab": {
          "base_uri": "https://localhost:8080/",
          "height": 265
        },
        "outputId": "898e18d0-1528-4aba-c444-cac5d8b7927d"
      },
      "source": [
        "plt.plot(np.arange(1,1000)*3e-2, array_W_1);"
      ],
      "execution_count": 41,
      "outputs": [
        {
          "output_type": "display_data",
          "data": {
            "image/png": "[encoded data removed]",
            "text/plain": [
              "<Figure size 432x288 with 1 Axes>"
            ]
          },
          "metadata": {
            "tags": [],
            "needs_background": "light"
          }
        }
      ]
    }
  ]
}