{
  "nbformat": 4,
  "nbformat_minor": 0,
  "metadata": {
    "colab": {
      "name": "Урок 4. Алгоритм построения дерева решений",
      "provenance": [],
      "collapsed_sections": []
    },
    "kernelspec": {
      "display_name": "Python 3",
      "language": "python",
      "name": "python3"
    },
    "language_info": {
      "codemirror_mode": {
        "name": "ipython",
        "version": 3
      },
      "file_extension": ".py",
      "mimetype": "text/x-python",
      "name": "python",
      "nbconvert_exporter": "python",
      "pygments_lexer": "ipython3",
      "version": "3.7.3"
    }
  },
  "cells": [
    {
      "cell_type": "markdown",
      "metadata": {
        "id": "5TESKTQZz0lw",
        "colab_type": "text"
      },
      "source": [
        "# Урок 4. Деревья решений\n",
        "\n",
        "## Выполнил - Колеганов Н.Д."
      ]
    },
    {
      "cell_type": "markdown",
      "metadata": {
        "id": "bi9Tc_ULGgIS",
        "colab_type": "text"
      },
      "source": [
        "1. В коде из методички реализуйте один или несколько из критериев останова (количество листьев, количество используемых признаков, глубина дерева и т.д.)\n",
        "2. Реализуйте дерево для задачи регрессии. Возьмите за основу дерево, реализованное в методичке, заменив механизм предсказания в листе на взятие среднего значения по выборке, и критерий Джини на дисперсию значений."
      ]
    },
    {
      "cell_type": "code",
      "metadata": {
        "id": "57OX6KFIGo_G",
        "colab_type": "code",
        "colab": {}
      },
      "source": [
        "import matplotlib.pyplot as plt\n",
        "import random\n",
        "\n",
        "from matplotlib.colors import ListedColormap\n",
        "from sklearn import datasets\n",
        "\n",
        "import numpy as np"
      ],
      "execution_count": 1,
      "outputs": []
    },
    {
      "cell_type": "markdown",
      "metadata": {
        "id": "OR5i0iApGzBV",
        "colab_type": "text"
      },
      "source": [
        "## **В коде из методички реализуйте один или несколько из критериев останова (количество листьев, количество используемых признаков, глубина дерева и т.д.)**"
      ]
    },
    {
      "cell_type": "code",
      "metadata": {
        "id": "gLHgo9aJG3Le",
        "colab_type": "code",
        "colab": {}
      },
      "source": [
        "# сгенерируем данные\n",
        "classification_data, classification_labels = datasets.make_classification(n_features = 2, n_informative = 2, \n",
        "                                                      n_classes = 2, n_redundant=0, \n",
        "                                                      n_clusters_per_class=1, random_state=5)"
      ],
      "execution_count": 2,
      "outputs": []
    },
    {
      "cell_type": "code",
      "metadata": {
        "id": "lXXMM9aoG8he",
        "colab_type": "code",
        "colab": {
          "base_uri": "https://localhost:8080/",
          "height": 483
        },
        "outputId": "46de1625-e486-49cb-e8aa-a56f97843ac8"
      },
      "source": [
        "# визуализируем сгенерированные данные\n",
        "\n",
        "colors = ListedColormap(['red', 'blue'])\n",
        "light_colors = ListedColormap(['lightcoral', 'lightblue'])\n",
        "\n",
        "plt.figure(figsize=(8,8))\n",
        "plt.scatter(list(map(lambda x: x[0], classification_data)), list(map(lambda x: x[1], classification_data)), \n",
        "              c=classification_labels, cmap=colors);"
      ],
      "execution_count": 3,
      "outputs": [
        {
          "output_type": "display_data",
          "data": {
            "image/png": "[encoded data removed]",
            "text/plain": [
              "<Figure size 576x576 with 1 Axes>"
            ]
          },
          "metadata": {
            "tags": [],
            "needs_background": "light"
          }
        }
      ]
    },
    {
      "cell_type": "code",
      "metadata": {
        "id": "oDw3nWCyHB0N",
        "colab_type": "code",
        "colab": {}
      },
      "source": [
        "# Реализуем класс узла\n",
        "\n",
        "class Node:\n",
        "    \n",
        "    def __init__(self, index, t, true_branch, false_branch):\n",
        "        self.index = index  # индекс признака, по которому ведется сравнение с порогом в этом узле\n",
        "        self.t = t  # значение порога\n",
        "        self.true_branch = true_branch  # поддерево, удовлетворяющее условию в узле\n",
        "        self.false_branch = false_branch  # поддерево, не удовлетворяющее условию в узле"
      ],
      "execution_count": 4,
      "outputs": []
    },
    {
      "cell_type": "code",
      "metadata": {
        "id": "MxFtOyHRHIRd",
        "colab_type": "code",
        "colab": {}
      },
      "source": [
        "# И класс терминального узла (листа)\n",
        "\n",
        "class Leaf:\n",
        "    \n",
        "    def __init__(self, data, labels):\n",
        "        self.data = data\n",
        "        self.labels = labels\n",
        "        self.prediction = self.predict()\n",
        "        \n",
        "    def predict(self):\n",
        "        # подсчет количества объектов разных классов\n",
        "        classes = {}  # сформируем словарь \"класс: количество объектов\"\n",
        "        for label in self.labels:\n",
        "            if label not in classes:\n",
        "                classes[label] = 0\n",
        "            classes[label] += 1\n",
        "        #  найдем класс, количество объектов которого будет максимальным в этом листе и вернем его    \n",
        "        prediction = max(classes, key=classes.get)\n",
        "        print(f'Сlasses in Leaf: {classes}')\n",
        "        return prediction"
      ],
      "execution_count": 5,
      "outputs": []
    },
    {
      "cell_type": "code",
      "metadata": {
        "id": "KIZ5BM_IHMyV",
        "colab_type": "code",
        "colab": {}
      },
      "source": [
        "# Расчет критерия Джини\n",
        "\n",
        "def gini(labels):\n",
        "    #  подсчет количества объектов разных классов\n",
        "    classes = {}\n",
        "    for label in labels:\n",
        "        if label not in classes:\n",
        "            classes[label] = 0\n",
        "        classes[label] += 1\n",
        "    \n",
        "    #  расчет критерия\n",
        "    impurity = 1\n",
        "    for label in classes:\n",
        "        p = classes[label] / len(labels)\n",
        "        impurity -= p ** 2\n",
        "        \n",
        "    return impurity"
      ],
      "execution_count": 6,
      "outputs": []
    },
    {
      "cell_type": "code",
      "metadata": {
        "id": "W2n4dSkvHQvX",
        "colab_type": "code",
        "colab": {}
      },
      "source": [
        "# Расчет качества\n",
        "\n",
        "def quality(left_labels, right_labels, current_gini):\n",
        "\n",
        "    # доля выбоки, ушедшая в левое поддерево\n",
        "    p = float(left_labels.shape[0]) / (left_labels.shape[0] + right_labels.shape[0])\n",
        "    \n",
        "    return current_gini - p * gini(left_labels) - (1 - p) * gini(right_labels)"
      ],
      "execution_count": 7,
      "outputs": []
    },
    {
      "cell_type": "code",
      "metadata": {
        "id": "_IxDok3FHTL1",
        "colab_type": "code",
        "colab": {}
      },
      "source": [
        "# Разбиение датасета в узле\n",
        "\n",
        "def split(data, labels, index, t):\n",
        "    \n",
        "    left = np.where(data[:, index] <= t)\n",
        "    right = np.where(data[:, index] > t)\n",
        "        \n",
        "    true_data = data[left]\n",
        "    false_data = data[right]\n",
        "    true_labels = labels[left]\n",
        "    false_labels = labels[right]\n",
        "        \n",
        "    return true_data, false_data, true_labels, false_labels"
      ],
      "execution_count": 8,
      "outputs": []
    },
    {
      "cell_type": "code",
      "metadata": {
        "id": "_Io_Lpr2Hbwk",
        "colab_type": "code",
        "colab": {}
      },
      "source": [
        "# Нахождение наилучшего разбиения\n",
        "\n",
        "def find_best_split(data, labels):\n",
        "    \n",
        "    #  обозначим минимальное количество объектов в узле\n",
        "    min_leaf = 5\n",
        "\n",
        "    current_gini = gini(labels)\n",
        "\n",
        "    best_quality = 0\n",
        "    best_t = None\n",
        "    best_index = None\n",
        "    \n",
        "    n_features = data.shape[1]\n",
        "    \n",
        "    for index in range(n_features):\n",
        "        # будем проверять только уникальные значения признака, исключая повторения\n",
        "        t_values = np.unique([row[index] for row in data])\n",
        "        \n",
        "        for t in t_values:\n",
        "            true_data, false_data, true_labels, false_labels = split(data, labels, index, t)\n",
        "            #  пропускаем разбиения, в которых в узле остается менее 5 объектов\n",
        "            if len(true_data) < min_leaf or len(false_data) < min_leaf:\n",
        "                continue\n",
        "            \n",
        "            current_quality = quality(true_labels, false_labels, current_gini)\n",
        "            \n",
        "            #  выбираем порог, на котором получается максимальный прирост качества\n",
        "            if current_quality > best_quality:\n",
        "                best_quality, best_t, best_index = current_quality, t, index\n",
        "\n",
        "    return best_quality, best_t, best_index"
      ],
      "execution_count": 9,
      "outputs": []
    },
    {
      "cell_type": "markdown",
      "metadata": {
        "id": "qYu4pYiEHzUT",
        "colab_type": "text"
      },
      "source": [
        "**Критерий останова - количество листьев**"
      ]
    },
    {
      "cell_type": "code",
      "metadata": {
        "id": "cAKfEYELHyZ0",
        "colab_type": "code",
        "colab": {}
      },
      "source": [
        "leaf_quantity = 1\n",
        "\n",
        "def build_tree(data, labels, max_leaf_quantity):\n",
        "\n",
        "    quality, t, index = find_best_split(data, labels)\n",
        "\n",
        "    global leaf_quantity\n",
        "     \n",
        "    if quality == 0 or leaf_quantity == max_leaf_quantity:\n",
        "    \n",
        "        return Leaf(data, labels)\n",
        "\n",
        "    true_data, false_data, true_labels, false_labels = split(data, labels, index, t)\n",
        "    leaf_quantity += 1\n",
        "\n",
        "    # Рекурсивно строим два поддерева\n",
        "    true_branch = build_tree(true_data, true_labels, max_leaf_quantity)\n",
        "    false_branch = build_tree(false_data, false_labels, max_leaf_quantity)\n",
        "\n",
        "    # Возвращаем класс узла со всеми поддеревьями, то есть целого дерева\n",
        "    return Node(index, t, true_branch, false_branch)"
      ],
      "execution_count": 10,
      "outputs": []
    },
    {
      "cell_type": "code",
      "metadata": {
        "id": "WBTebkhtH5HM",
        "colab_type": "code",
        "colab": {}
      },
      "source": [
        "def classify_object(obj, node):\n",
        "\n",
        "    #  Останавливаем рекурсию, если достигли листа\n",
        "    if isinstance(node, Leaf):\n",
        "        answer = node.prediction\n",
        "        return answer\n",
        "\n",
        "    if obj[node.index] <= node.t:\n",
        "        return classify_object(obj, node.true_branch)\n",
        "    else:\n",
        "        return classify_object(obj, node.false_branch)"
      ],
      "execution_count": 11,
      "outputs": []
    },
    {
      "cell_type": "code",
      "metadata": {
        "id": "t4iDpye1H7vU",
        "colab_type": "code",
        "colab": {}
      },
      "source": [
        "def predict(data, tree):\n",
        "    \n",
        "    classes = []\n",
        "    for obj in data:\n",
        "        prediction = classify_object(obj, tree)\n",
        "        classes.append(prediction)\n",
        "    return classes"
      ],
      "execution_count": 12,
      "outputs": []
    },
    {
      "cell_type": "code",
      "metadata": {
        "id": "aOcvZytFIB-E",
        "colab_type": "code",
        "colab": {}
      },
      "source": [
        "# Разобьем выборку на обучающую и тестовую\n",
        "\n",
        "from sklearn import model_selection\n",
        "\n",
        "train_data, test_data, train_labels, test_labels = model_selection.train_test_split(classification_data, \n",
        "                                                                                     classification_labels, \n",
        "                                                                                     test_size = 0.3,\n",
        "                                                                                     random_state = 1)"
      ],
      "execution_count": 13,
      "outputs": []
    },
    {
      "cell_type": "code",
      "metadata": {
        "id": "au2l00SKIEp2",
        "colab_type": "code",
        "colab": {
          "base_uri": "https://localhost:8080/",
          "height": 68
        },
        "outputId": "50c6d625-6d1d-4519-cb9e-3b00d2e1221e"
      },
      "source": [
        "# Построим дерево по обучающей выборке\n",
        "leaf_quantity = 1\n",
        "my_tree = build_tree(train_data, train_labels, max_leaf_quantity=3)"
      ],
      "execution_count": 14,
      "outputs": [
        {
          "output_type": "stream",
          "text": [
            "Сlasses in Leaf: {0: 7, 1: 5}\n",
            "Сlasses in Leaf: {0: 28}\n",
            "Сlasses in Leaf: {1: 30}\n"
          ],
          "name": "stdout"
        }
      ]
    },
    {
      "cell_type": "code",
      "metadata": {
        "id": "6tIrRpgBIH1D",
        "colab_type": "code",
        "colab": {
          "base_uri": "https://localhost:8080/",
          "height": 204
        },
        "outputId": "5b3550ef-bbf6-4c4a-906a-b2ed545bc364"
      },
      "source": [
        "# Напечатаем ход нашего дерева\n",
        "def print_tree(node, spacing=\"\"):\n",
        "\n",
        "    # Если лист, то выводим его прогноз\n",
        "    if isinstance(node, Leaf):\n",
        "        print(spacing + \"Прогноз:\", node.prediction)\n",
        "        return\n",
        "\n",
        "    # Выведем значение индекса и порога на этом узле\n",
        "    print(spacing + 'Индекс', str(node.index))\n",
        "    print(spacing + 'Порог', str(node.t))\n",
        "\n",
        "    # Рекурсионный вызов функции на положительном поддереве\n",
        "    print (spacing + '--> True:')\n",
        "    print_tree(node.true_branch, spacing + \"  \")\n",
        "\n",
        "    # Рекурсионный вызов функции на положительном поддереве\n",
        "    print (spacing + '--> False:')\n",
        "    print_tree(node.false_branch, spacing + \"  \")\n",
        "    \n",
        "print_tree(my_tree)"
      ],
      "execution_count": 15,
      "outputs": [
        {
          "output_type": "stream",
          "text": [
            "Индекс 0\n",
            "Порог 0.16261402870113306\n",
            "--> True:\n",
            "  Индекс 1\n",
            "  Порог -1.5208896621663803\n",
            "  --> True:\n",
            "    Прогноз: 0\n",
            "  --> False:\n",
            "    Прогноз: 0\n",
            "--> False:\n",
            "  Прогноз: 1\n"
          ],
          "name": "stdout"
        }
      ]
    },
    {
      "cell_type": "code",
      "metadata": {
        "id": "9o6-EuLaIKr2",
        "colab_type": "code",
        "colab": {}
      },
      "source": [
        "# Получим ответы для обучающей выборки \n",
        "train_answers = predict(train_data, my_tree)"
      ],
      "execution_count": 16,
      "outputs": []
    },
    {
      "cell_type": "code",
      "metadata": {
        "id": "BQIiVuMoIMvo",
        "colab_type": "code",
        "colab": {}
      },
      "source": [
        "# И получим ответы для тестовой выборки\n",
        "answers = predict(test_data, my_tree)"
      ],
      "execution_count": 17,
      "outputs": []
    },
    {
      "cell_type": "code",
      "metadata": {
        "id": "J1Y0eOsjIVcq",
        "colab_type": "code",
        "colab": {}
      },
      "source": [
        "# Введем функцию подсчета точности как доли правильных ответов\n",
        "def accuracy_metric(actual, predicted):\n",
        "    correct = 0\n",
        "    for i in range(len(actual)):\n",
        "        if actual[i] == predicted[i]:\n",
        "            correct += 1\n",
        "    return correct / float(len(actual)) * 100.0"
      ],
      "execution_count": 18,
      "outputs": []
    },
    {
      "cell_type": "code",
      "metadata": {
        "id": "sFdum-uIIZWy",
        "colab_type": "code",
        "colab": {
          "base_uri": "https://localhost:8080/",
          "height": 34
        },
        "outputId": "a85abf9c-a5b2-45fb-bd26-93c989a1050c"
      },
      "source": [
        "# Точность на обучающей выборке\n",
        "train_accuracy = accuracy_metric(train_labels, train_answers)\n",
        "train_accuracy"
      ],
      "execution_count": 19,
      "outputs": [
        {
          "output_type": "execute_result",
          "data": {
            "text/plain": [
              "92.85714285714286"
            ]
          },
          "metadata": {
            "tags": []
          },
          "execution_count": 19
        }
      ]
    },
    {
      "cell_type": "code",
      "metadata": {
        "id": "sVNB6xUEIb7i",
        "colab_type": "code",
        "colab": {
          "base_uri": "https://localhost:8080/",
          "height": 34
        },
        "outputId": "a725c0aa-67a7-4657-fe86-2f4bcd0176f0"
      },
      "source": [
        "# Точность на тестовой выборке\n",
        "test_accuracy = accuracy_metric(test_labels, answers)\n",
        "test_accuracy"
      ],
      "execution_count": 20,
      "outputs": [
        {
          "output_type": "execute_result",
          "data": {
            "text/plain": [
              "96.66666666666667"
            ]
          },
          "metadata": {
            "tags": []
          },
          "execution_count": 20
        }
      ]
    },
    {
      "cell_type": "code",
      "metadata": {
        "id": "YnUN_M0hI_2L",
        "colab_type": "code",
        "colab": {
          "base_uri": "https://localhost:8080/",
          "height": 461
        },
        "outputId": "5738fd37-83ab-476d-9ae1-1b89feccee2c"
      },
      "source": [
        "# Визуализируем дерево на графике\n",
        "\n",
        "def get_meshgrid(data, step=.05, border=1.2):\n",
        "    x_min, x_max = data[:, 0].min() - border, data[:, 0].max() + border\n",
        "    y_min, y_max = data[:, 1].min() - border, data[:, 1].max() + border\n",
        "    return np.meshgrid(np.arange(x_min, x_max, step), np.arange(y_min, y_max, step))\n",
        "\n",
        "plt.figure(figsize = (16, 7))\n",
        "\n",
        "# график обучающей выборки\n",
        "plt.subplot(1,2,1)\n",
        "xx, yy = get_meshgrid(train_data)\n",
        "mesh_predictions = np.array(predict(np.c_[xx.ravel(), yy.ravel()], my_tree)).reshape(xx.shape)\n",
        "plt.pcolormesh(xx, yy, mesh_predictions, cmap = light_colors)\n",
        "plt.scatter(train_data[:, 0], train_data[:, 1], c = train_labels, cmap = colors)\n",
        "plt.title(f'Train accuracy={train_accuracy:.2f}')\n",
        "\n",
        "# график тестовой выборки\n",
        "plt.subplot(1,2,2)\n",
        "plt.pcolormesh(xx, yy, mesh_predictions, cmap = light_colors)\n",
        "plt.scatter(test_data[:, 0], test_data[:, 1], c = test_labels, cmap = colors)\n",
        "plt.title(f'Test accuracy={test_accuracy:.2f}')"
      ],
      "execution_count": 21,
      "outputs": [
        {
          "output_type": "execute_result",
          "data": {
            "text/plain": [
              "Text(0.5, 1.0, 'Test accuracy=96.67')"
            ]
          },
          "metadata": {
            "tags": []
          },
          "execution_count": 21
        },
        {
          "output_type": "display_data",
          "data": {
            "image/png": "[encoded data removed]",
            "text/plain": [
              "<Figure size 1152x504 with 2 Axes>"
            ]
          },
          "metadata": {
            "tags": [],
            "needs_background": "light"
          }
        }
      ]
    },
    {
      "cell_type": "markdown",
      "metadata": {
        "id": "Kp2LcYF4JHSw",
        "colab_type": "text"
      },
      "source": [
        "## **Реализуйте дерево для задачи регрессии. Возьмите за основу дерево, реализованное в методичке, заменив механизм предсказания в листе на взятие среднего значения по выборке, и критерий Джини на дисперсию значений**"
      ]
    },
    {
      "cell_type": "code",
      "metadata": {
        "id": "zu9ee1JqJYYv",
        "colab_type": "code",
        "colab": {}
      },
      "source": [
        "regress_data, regress_target = datasets.make_regression(n_samples=100, n_features=4, \n",
        "                                                        n_informative=4, n_targets=1, \n",
        "                                                        bias=0.0, effective_rank=None, tail_strength=0.5, \n",
        "                                                        noise=0.0, shuffle=True, coef=False, random_state=5)"
      ],
      "execution_count": 22,
      "outputs": []
    },
    {
      "cell_type": "code",
      "metadata": {
        "id": "YJ6U24OZJeS_",
        "colab_type": "code",
        "colab": {}
      },
      "source": [
        "# Реализуем класс узла\n",
        "\n",
        "class Node:\n",
        "    \n",
        "    def __init__(self, index, t, true_branch, false_branch):\n",
        "        self.index = index  # индекс признака, по которому ведется сравнение с порогом в этом узле\n",
        "        self.t = t  # значение порога\n",
        "        self.true_branch = true_branch  # поддерево, удовлетворяющее условию в узле\n",
        "        self.false_branch = false_branch  # поддерево, не удовлетворяющее условию в узле"
      ],
      "execution_count": 23,
      "outputs": []
    },
    {
      "cell_type": "code",
      "metadata": {
        "id": "5rTOYW_VJo75",
        "colab_type": "code",
        "colab": {}
      },
      "source": [
        "class Leaf:\n",
        "    \n",
        "    def __init__(self, data, values):\n",
        "        self.data = data\n",
        "        self.values = values\n",
        "        self.prediction = self.predict()\n",
        "        \n",
        "    def predict(self):\n",
        "        prediction = np.mean(self.values) \n",
        "        return prediction"
      ],
      "execution_count": 24,
      "outputs": []
    },
    {
      "cell_type": "code",
      "metadata": {
        "id": "s_tjzx_JJ8Ha",
        "colab_type": "code",
        "colab": {}
      },
      "source": [
        "def dispersion(values):\n",
        "   \n",
        "    disp = values.var()     \n",
        "    return disp"
      ],
      "execution_count": 25,
      "outputs": []
    },
    {
      "cell_type": "code",
      "metadata": {
        "id": "eqAMdiYlKBJn",
        "colab_type": "code",
        "colab": {}
      },
      "source": [
        "def quality(left_values, right_values, current_dispersion):\n",
        "\n",
        "    # доля выбоки, ушедшая в левое поддерево\n",
        "    left_q = float(left_values.shape[0]) / (left_values.shape[0] + right_values.shape[0])\n",
        "    right_q = 1 - left_q\n",
        "    \n",
        "    return current_dispersion - left_q * dispersion(left_values) - right_q * dispersion(right_values)"
      ],
      "execution_count": 26,
      "outputs": []
    },
    {
      "cell_type": "code",
      "metadata": {
        "id": "4B6qxFfQKFr1",
        "colab_type": "code",
        "colab": {}
      },
      "source": [
        "def split(data, target, index, t):\n",
        "    \n",
        "    left = np.where(data[:, index] <= t)\n",
        "    right = np.where(data[:, index] > t)\n",
        "        \n",
        "    true_data = data[left]\n",
        "    false_data = data[right]\n",
        "    true_target = target[left]\n",
        "    false_target = target[right]\n",
        "        \n",
        "    return true_data, false_data, true_target, false_target"
      ],
      "execution_count": 27,
      "outputs": []
    },
    {
      "cell_type": "code",
      "metadata": {
        "id": "7l1kDBvJKI9x",
        "colab_type": "code",
        "colab": {}
      },
      "source": [
        "def find_best_split(data, target):\n",
        "    \n",
        "    min_leaf = 5\n",
        "\n",
        "    current_dispersion = dispersion(target)\n",
        "\n",
        "    best_quality = 0\n",
        "    best_t = None\n",
        "    best_index = None\n",
        "    \n",
        "    n_features = data.shape[1]\n",
        "    \n",
        "    for index in range(n_features):\n",
        "       \n",
        "        t_values = np.unique([row[index] for row in data])\n",
        "        \n",
        "        for t in t_values:\n",
        "            true_data, false_data, true_target, false_target = split(data, target, index, t)\n",
        "          \n",
        "            if len(true_data) < min_leaf or len(false_data) < min_leaf:\n",
        "                continue\n",
        "            \n",
        "            current_quality = quality(true_target, false_target, current_dispersion)\n",
        "            \n",
        "            if current_quality > best_quality:\n",
        "                best_quality, best_t, best_index = current_quality, t, index\n",
        "\n",
        "    return best_quality, best_t, best_index"
      ],
      "execution_count": 28,
      "outputs": []
    },
    {
      "cell_type": "markdown",
      "metadata": {
        "id": "6syPnve1KLZn",
        "colab_type": "text"
      },
      "source": [
        "**Критерий останова - количество листьев**"
      ]
    },
    {
      "cell_type": "code",
      "metadata": {
        "id": "rNADLS8_KNsG",
        "colab_type": "code",
        "colab": {}
      },
      "source": [
        "leaf_quantity = 1\n",
        "\n",
        "def build_tree(data, target, max_leaf_quantity):\n",
        "\n",
        "    quality, t, index = find_best_split(data, target)\n",
        "\n",
        "    global leaf_quantity\n",
        "     \n",
        "    if quality == 0 or leaf_quantity == max_leaf_quantity:\n",
        "    \n",
        "        return Leaf(data, target)\n",
        "\n",
        "    true_data, false_data, true_target, false_target = split(data, target, index, t)\n",
        "    leaf_quantity += 1\n",
        "\n",
        "    true_branch = build_tree(true_data, true_target, max_leaf_quantity)\n",
        "    false_branch = build_tree(false_data, false_target, max_leaf_quantity)\n",
        "\n",
        "    return Node(index, t, true_branch, false_branch)"
      ],
      "execution_count": 29,
      "outputs": []
    },
    {
      "cell_type": "code",
      "metadata": {
        "id": "kDatIjKkKR2F",
        "colab_type": "code",
        "colab": {}
      },
      "source": [
        "def probability(obj, node):\n",
        "\n",
        "    if isinstance(node, Leaf):\n",
        "        answer = node.prediction\n",
        "        return answer\n",
        "\n",
        "    if obj[node.index] <= node.t:\n",
        "        return probability(obj, node.true_branch)\n",
        "    else:\n",
        "        return probability(obj, node.false_branch)"
      ],
      "execution_count": 30,
      "outputs": []
    },
    {
      "cell_type": "code",
      "metadata": {
        "id": "TVOQOySzKT2_",
        "colab_type": "code",
        "colab": {}
      },
      "source": [
        "def predict(data, tree):\n",
        "    \n",
        "    values = []\n",
        "    for obj in data:\n",
        "        prediction = probability(obj, tree)\n",
        "        values.append(prediction)\n",
        "        \n",
        "    return values"
      ],
      "execution_count": 31,
      "outputs": []
    },
    {
      "cell_type": "code",
      "metadata": {
        "id": "ATLoAR5BKXvA",
        "colab_type": "code",
        "colab": {}
      },
      "source": [
        "train_data, test_data, train_target, test_target = model_selection.train_test_split(regress_data, regress_target, \n",
        "                                                                                     test_size = 0.3,\n",
        "                                                                                     random_state = 1)"
      ],
      "execution_count": 32,
      "outputs": []
    },
    {
      "cell_type": "code",
      "metadata": {
        "id": "GBHa9hNGKacm",
        "colab_type": "code",
        "colab": {}
      },
      "source": [
        "my_tree = build_tree(train_data, train_target, max_leaf_quantity=5)"
      ],
      "execution_count": 33,
      "outputs": []
    },
    {
      "cell_type": "code",
      "metadata": {
        "id": "XmE4vZw2Kcix",
        "colab_type": "code",
        "colab": {
          "base_uri": "https://localhost:8080/",
          "height": 374
        },
        "outputId": "a030ecbe-b33a-4007-c747-b4dd004ff3ef"
      },
      "source": [
        "def print_tree(node, spacing=\"\"):\n",
        "\n",
        "    # Если лист, то выводим его прогноз\n",
        "    if isinstance(node, Leaf):\n",
        "        print(spacing + \"Прогноз:\", node.prediction)\n",
        "        return\n",
        "\n",
        "    # Выведем значение индекса и порога на этом узле\n",
        "    print(spacing + 'Индекс', str(node.index))\n",
        "    print(spacing + 'Порог', str(node.t))\n",
        "\n",
        "    # Рекурсионный вызов функции на положительном поддереве\n",
        "    print (spacing + '--> True:')\n",
        "    print_tree(node.true_branch, spacing + \"  \")\n",
        "\n",
        "    # Рекурсионный вызов функции на положительном поддереве\n",
        "    print (spacing + '--> False:')\n",
        "    print_tree(node.false_branch, spacing + \"  \")\n",
        "    \n",
        "print_tree(my_tree)"
      ],
      "execution_count": 34,
      "outputs": [
        {
          "output_type": "stream",
          "text": [
            "Индекс 3\n",
            "Порог -0.37562084407857\n",
            "--> True:\n",
            "  Индекс 2\n",
            "  Порог 0.1707644524655671\n",
            "  --> True:\n",
            "    Индекс 0\n",
            "    Порог -0.25551774227104695\n",
            "    --> True:\n",
            "      Прогноз: -182.28747989189276\n",
            "    --> False:\n",
            "      Прогноз: -119.69629671100799\n",
            "  --> False:\n",
            "    Индекс 2\n",
            "    Порог 0.9939689768716928\n",
            "    --> True:\n",
            "      Прогноз: -57.74690326991821\n",
            "    --> False:\n",
            "      Прогноз: 6.820316373801859\n",
            "--> False:\n",
            "  Прогноз: 66.08763979134609\n"
          ],
          "name": "stdout"
        }
      ]
    },
    {
      "cell_type": "code",
      "metadata": {
        "id": "Tvb9g4WJKfZt",
        "colab_type": "code",
        "colab": {}
      },
      "source": [
        "# Получим ответы для обучающей выборки \n",
        "train_answers = predict(train_data, my_tree)"
      ],
      "execution_count": 35,
      "outputs": []
    },
    {
      "cell_type": "code",
      "metadata": {
        "id": "RAdnuDfLKhpU",
        "colab_type": "code",
        "colab": {}
      },
      "source": [
        "# И получим ответы для тестовой выборки\n",
        "answers = predict(test_data, my_tree)"
      ],
      "execution_count": 36,
      "outputs": []
    },
    {
      "cell_type": "code",
      "metadata": {
        "id": "BxK5oHemKjqV",
        "colab_type": "code",
        "colab": {}
      },
      "source": [
        "from sklearn.metrics import mean_squared_error, r2_score\n",
        "\n",
        "def mse(actual, predicted):\n",
        "    return mean_squared_error(actual, predicted)\n",
        "def r2(actual, predicted):\n",
        "    return r2_score(actual, predicted)*100."
      ],
      "execution_count": 37,
      "outputs": []
    },
    {
      "cell_type": "code",
      "metadata": {
        "id": "oMOQRhtWKm5N",
        "colab_type": "code",
        "colab": {}
      },
      "source": [
        "train_mse = mse(train_target, train_answers)\n",
        "train_r2 = r2(train_target, train_answers)\n",
        "test_mse = mse(test_target, answers)\n",
        "test_r2 = r2(test_target, answers)"
      ],
      "execution_count": 38,
      "outputs": []
    },
    {
      "cell_type": "code",
      "metadata": {
        "id": "39MWfOTvKox9",
        "colab_type": "code",
        "colab": {
          "base_uri": "https://localhost:8080/",
          "height": 34
        },
        "outputId": "046e8161-b2f1-4b0b-c8f6-b16325b40726"
      },
      "source": [
        "train_mse, test_mse"
      ],
      "execution_count": 39,
      "outputs": [
        {
          "output_type": "execute_result",
          "data": {
            "text/plain": [
              "(4206.737922391044, 6709.462974741096)"
            ]
          },
          "metadata": {
            "tags": []
          },
          "execution_count": 39
        }
      ]
    },
    {
      "cell_type": "code",
      "metadata": {
        "id": "MjHz3ZbTKqu0",
        "colab_type": "code",
        "colab": {
          "base_uri": "https://localhost:8080/",
          "height": 34
        },
        "outputId": "0903271a-667d-4549-8c98-5fa197775d0f"
      },
      "source": [
        "train_r2, test_r2"
      ],
      "execution_count": 40,
      "outputs": [
        {
          "output_type": "execute_result",
          "data": {
            "text/plain": [
              "(61.78944069972739, 33.116324336443284)"
            ]
          },
          "metadata": {
            "tags": []
          },
          "execution_count": 40
        }
      ]
    }
  ]
}