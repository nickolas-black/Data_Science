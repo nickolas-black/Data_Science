{
  "nbformat": 4,
  "nbformat_minor": 0,
  "metadata": {
    "kernelspec": {
      "display_name": "Python 3",
      "language": "python",
      "name": "python3"
    },
    "language_info": {
      "codemirror_mode": {
        "name": "ipython",
        "version": 3
      },
      "file_extension": ".py",
      "mimetype": "text/x-python",
      "name": "python",
      "nbconvert_exporter": "python",
      "pygments_lexer": "ipython3",
      "version": "3.7.4"
    },
    "colab": {
      "name": "Урок 3. Логистическая регрессия",
      "provenance": [],
      "collapsed_sections": []
    }
  },
  "cells": [
    {
      "cell_type": "markdown",
      "metadata": {
        "id": "zdSh1_KRIs2e",
        "colab_type": "text"
      },
      "source": [
        "# Урок 3. Классификация. Логистическая регрессия.\n",
        "\n",
        "## Выполнил - Колеганов Н.Д."
      ]
    },
    {
      "cell_type": "code",
      "metadata": {
        "id": "KLMAXrASkqTn",
        "colab_type": "code",
        "colab": {}
      },
      "source": [
        "import numpy as np\n",
        "import matplotlib.pyplot as plt\n",
        "\n",
        "%matplotlib inline"
      ],
      "execution_count": 1,
      "outputs": []
    },
    {
      "cell_type": "markdown",
      "metadata": {
        "id": "ByzwOE5Silpe",
        "colab_type": "text"
      },
      "source": [
        "## Задание"
      ]
    },
    {
      "cell_type": "markdown",
      "metadata": {
        "id": "jggQ6ZGbilpf",
        "colab_type": "text"
      },
      "source": [
        "1*. Измените функцию calc_logloss так, чтобы нули по возможности не попадали в np.log.\n",
        "\n",
        "2. Подберите аргументы функции eval_model для логистической регрессии таким образом, чтобы log loss был минимальным.\n",
        "3. Создайте функцию calc_pred_proba, возвращающую предсказанную вероятность класса 1 (на вход подаются W, который уже посчитан функцией eval_model и X, на выходе - массив y_pred_proba).\n",
        "4. Создайте функцию calc_pred, возвращающую предсказанный класс (на вход подаются W, который уже посчитан функцией eval_model и X, на выходе - массив y_pred).\n",
        "\n",
        "5*. Посчитайте Accuracy, матрицу ошибок, точность и полноту, а также F1 score.\n",
        "6. Могла ли модель переобучиться? Почему?"
      ]
    },
    {
      "cell_type": "markdown",
      "metadata": {
        "id": "oz2vATf8ka7v",
        "colab_type": "text"
      },
      "source": [
        "## РЕШЕНИЯ"
      ]
    },
    {
      "cell_type": "markdown",
      "metadata": {
        "id": "5DsRsKHpkdz3",
        "colab_type": "text"
      },
      "source": [
        "**Измените функцию calc_logloss так, чтобы нули по возможности не попадали в np.log.**"
      ]
    },
    {
      "cell_type": "markdown",
      "metadata": {
        "id": "qXM26QgVkq-z",
        "colab_type": "text"
      },
      "source": [
        "Первоначальный вариант calc_logloss"
      ]
    },
    {
      "cell_type": "code",
      "metadata": {
        "id": "c59CeiRdkjMd",
        "colab_type": "code",
        "colab": {}
      },
      "source": [
        "def calc_logloss(y, y_pred):\n",
        "    err = - np.mean(y * np.log(y_pred) + (1.0 - y) * np.log(1.0 - y_pred))\n",
        "    return err"
      ],
      "execution_count": 2,
      "outputs": []
    },
    {
      "cell_type": "markdown",
      "metadata": {
        "id": "PZfoffkvkxmI",
        "colab_type": "text"
      },
      "source": [
        "Вариант calc_logloss \"без нулей\""
      ]
    },
    {
      "cell_type": "code",
      "metadata": {
        "id": "k3oXsjAhk0Pi",
        "colab_type": "code",
        "colab": {}
      },
      "source": [
        "def calc_logloss_new(y, y_pred):\n",
        "    err = np.empty_like(y)\n",
        "    for i in range(len(y)):\n",
        "        if y_pred[i] == 0:\n",
        "            err[i] = - (1.0 - y[i])* np.log(1.0 - y_pred[i])\n",
        "        elif y_pred[i] == 1:\n",
        "            err[i] = - y[i]* np.log(y_pred[i])\n",
        "        else:\n",
        "            err[i] = - (y[i] * np.log(y_pred[i]) + (1.0 - y[i]) * np.log(1.0 - y_pred[i]))\n",
        "\n",
        "    return np.mean(err)"
      ],
      "execution_count": 3,
      "outputs": []
    },
    {
      "cell_type": "code",
      "metadata": {
        "id": "gOjPHWrSk3ez",
        "colab_type": "code",
        "colab": {
          "base_uri": "https://localhost:8080/",
          "height": 34
        },
        "outputId": "691db2e8-b847-4de1-f7db-53e224399815"
      },
      "source": [
        "y1 = np.linspace(0, 1, 101)\n",
        "y_pred1 = np.random.permutation(np.linspace(0, 1, 101))\n",
        "calc_logloss_new(y1, y_pred1)"
      ],
      "execution_count": 4,
      "outputs": [
        {
          "output_type": "execute_result",
          "data": {
            "text/plain": [
              "0.92658985433933"
            ]
          },
          "metadata": {
            "tags": []
          },
          "execution_count": 4
        }
      ]
    },
    {
      "cell_type": "markdown",
      "metadata": {
        "id": "E7SvGiZ3k7J7",
        "colab_type": "text"
      },
      "source": [
        "**Подберите аргументы функции eval_model для логистической регрессии таким образом, чтобы log loss был минимальным.**"
      ]
    },
    {
      "cell_type": "code",
      "metadata": {
        "id": "I0Vs6OAmk9Oa",
        "colab_type": "code",
        "colab": {}
      },
      "source": [
        "def sigmoid(z):\n",
        "    res = 1 / (1 + np.exp(-z))\n",
        "    return res\n",
        "\n",
        "def eval_model(X, y, iterations, alpha=1e-4):\n",
        "    \n",
        "    np.random.seed(42)\n",
        "    W = np.random.randn(X.shape[0])\n",
        "    n = X.shape[1]\n",
        "    for i in range(1, iterations+1):\n",
        "        z = np.dot(W, X)\n",
        "        y_pred = sigmoid(z)\n",
        "        err = calc_logloss_new(y, y_pred)\n",
        "        W -= alpha * (1/n * np.dot((y_pred - y), X.T))\n",
        "\n",
        "    return W, err"
      ],
      "execution_count": 5,
      "outputs": []
    },
    {
      "cell_type": "code",
      "metadata": {
        "id": "w4-lEVg7lCSN",
        "colab_type": "code",
        "colab": {}
      },
      "source": [
        "X = np.array([[1, 1, 1, 1, 1, 1, 1, 1, 1, 1],\n",
        "              [1, 1, 2, 1, 3, 0, 5, 10, 1, 2],\n",
        "              [500, 700, 750, 600, 1450,\n",
        "               800, 1500, 2000, 450, 1000],\n",
        "              [1, 1, 2, 1, 2, \n",
        "               1, 3, 3, 1, 2]], dtype = np.float64)\n",
        "y = np.array([0, 0, 1, 0, 1, 0, 1, 0, 1, 1], dtype = np.float64)"
      ],
      "execution_count": 6,
      "outputs": []
    },
    {
      "cell_type": "code",
      "metadata": {
        "id": "DMApRph1lPkn",
        "colab_type": "code",
        "colab": {
          "base_uri": "https://localhost:8080/",
          "height": 153
        },
        "outputId": "3879503e-9dc2-4d61-8054-9a141109f0b9"
      },
      "source": [
        "X"
      ],
      "execution_count": 7,
      "outputs": [
        {
          "output_type": "execute_result",
          "data": {
            "text/plain": [
              "array([[1.00e+00, 1.00e+00, 1.00e+00, 1.00e+00, 1.00e+00, 1.00e+00,\n",
              "        1.00e+00, 1.00e+00, 1.00e+00, 1.00e+00],\n",
              "       [1.00e+00, 1.00e+00, 2.00e+00, 1.00e+00, 3.00e+00, 0.00e+00,\n",
              "        5.00e+00, 1.00e+01, 1.00e+00, 2.00e+00],\n",
              "       [5.00e+02, 7.00e+02, 7.50e+02, 6.00e+02, 1.45e+03, 8.00e+02,\n",
              "        1.50e+03, 2.00e+03, 4.50e+02, 1.00e+03],\n",
              "       [1.00e+00, 1.00e+00, 2.00e+00, 1.00e+00, 2.00e+00, 1.00e+00,\n",
              "        3.00e+00, 3.00e+00, 1.00e+00, 2.00e+00]])"
            ]
          },
          "metadata": {
            "tags": []
          },
          "execution_count": 7
        }
      ]
    },
    {
      "cell_type": "code",
      "metadata": {
        "id": "ENJH0hyalQ36",
        "colab_type": "code",
        "colab": {
          "base_uri": "https://localhost:8080/",
          "height": 34
        },
        "outputId": "e1af6e25-2632-4cab-b323-742aa4133555"
      },
      "source": [
        "y"
      ],
      "execution_count": 8,
      "outputs": [
        {
          "output_type": "execute_result",
          "data": {
            "text/plain": [
              "array([0., 0., 1., 0., 1., 0., 1., 0., 1., 1.])"
            ]
          },
          "metadata": {
            "tags": []
          },
          "execution_count": 8
        }
      ]
    },
    {
      "cell_type": "code",
      "metadata": {
        "id": "l_QuohJqlUUn",
        "colab_type": "code",
        "colab": {}
      },
      "source": [
        "from sklearn import datasets\n",
        "from matplotlib.colors import ListedColormap\n",
        "\n",
        "classes = datasets.make_classification(n_samples=100, n_features=2, n_informative=2,\n",
        "                                       n_redundant=0, n_classes=2, random_state=1)\n",
        "np.random.seed(12)\n",
        "shuffle_index = np.random.permutation(classes[0].shape[0])\n",
        "X_1, y_1 = classes[0][shuffle_index], classes[1][shuffle_index]"
      ],
      "execution_count": 9,
      "outputs": []
    },
    {
      "cell_type": "code",
      "metadata": {
        "id": "m83eZkGvleQc",
        "colab_type": "code",
        "colab": {}
      },
      "source": [
        "def calc_std_feat(x):\n",
        "    res = (x - x.mean()) / x.std()\n",
        "    return res"
      ],
      "execution_count": 10,
      "outputs": []
    },
    {
      "cell_type": "markdown",
      "metadata": {
        "id": "hs3sSJtqlgkG",
        "colab_type": "text"
      },
      "source": [
        "Первый набор для проверки"
      ]
    },
    {
      "cell_type": "code",
      "metadata": {
        "id": "Kz-2Qw_hlhqg",
        "colab_type": "code",
        "colab": {}
      },
      "source": [
        "X_st = X.copy().astype(np.float64)\n",
        "for i in range(1,4):\n",
        "    X_st[i] = calc_std_feat(X[i])"
      ],
      "execution_count": 11,
      "outputs": []
    },
    {
      "cell_type": "markdown",
      "metadata": {
        "id": "peFinv-HllYp",
        "colab_type": "text"
      },
      "source": [
        "Второй набор для проверки"
      ]
    },
    {
      "cell_type": "code",
      "metadata": {
        "id": "wEAH1VVOlnaF",
        "colab_type": "code",
        "colab": {}
      },
      "source": [
        "X_11 = np.array([x for x in range(100)])\n",
        "X__ = np.hstack((X_11.reshape(X_1.shape[0], -1), X_1))\n",
        "\n",
        "X_st_1 = X__.copy().astype(np.float64)\n",
        "for i in range(1,3):\n",
        "    X_st_1[i] = calc_std_feat(X__[i])\n",
        "    \n",
        "X_st_1 = X_st_1.transpose()"
      ],
      "execution_count": 12,
      "outputs": []
    },
    {
      "cell_type": "markdown",
      "metadata": {
        "id": "S8N_iPPGlq67",
        "colab_type": "text"
      },
      "source": [
        "Поиск минимальной ошибки"
      ]
    },
    {
      "cell_type": "code",
      "metadata": {
        "id": "hSbQ5qgClriY",
        "colab_type": "code",
        "colab": {
          "base_uri": "https://localhost:8080/",
          "height": 34
        },
        "outputId": "f3b92eff-9a62-4238-bfa0-43b07e237958"
      },
      "source": [
        "err_min = np.inf\n",
        "alpha_min = 0\n",
        "iteration_min = 0\n",
        "\n",
        "err_array = []\n",
        "iteration_array = []\n",
        "\n",
        "for iter_ in range(100, 10001, 1000):\n",
        "    for al in range(1, 10001, 1000):\n",
        "        alpha_ = al*1e-8\n",
        "        W, err = eval_model(X_st, y, iterations=iter_, alpha=alpha_)\n",
        "        \n",
        "        err_array.append(err)\n",
        "        iteration_array.append(iter_)\n",
        "        \n",
        "        if err < err_min:\n",
        "            err_min = err\n",
        "            alpha_min = alpha_\n",
        "            iteration_min = iter_\n",
        "            \n",
        "alpha_min, iteration_min"
      ],
      "execution_count": 13,
      "outputs": [
        {
          "output_type": "execute_result",
          "data": {
            "text/plain": [
              "(9.001e-05, 9100)"
            ]
          },
          "metadata": {
            "tags": []
          },
          "execution_count": 13
        }
      ]
    },
    {
      "cell_type": "code",
      "metadata": {
        "id": "5-RXyfgolv86",
        "colab_type": "code",
        "colab": {
          "base_uri": "https://localhost:8080/",
          "height": 265
        },
        "outputId": "d98ca1c2-bd05-42eb-a920-d3bc24fa4d96"
      },
      "source": [
        "plt.scatter(iteration_array, err_array);\n",
        "plt.scatter(iteration_min, err_min, c='r');"
      ],
      "execution_count": 14,
      "outputs": [
        {
          "output_type": "display_data",
          "data": {
            "image/png": "[encoded data removed]",
            "text/plain": [
              "<Figure size 432x288 with 1 Axes>"
            ]
          },
          "metadata": {
            "tags": [],
            "needs_background": "light"
          }
        }
      ]
    },
    {
      "cell_type": "markdown",
      "metadata": {
        "id": "C9xr7nyDlyEi",
        "colab_type": "text"
      },
      "source": [
        "**Создайте функцию calc_pred_proba, возвращающую предсказанную вероятность класса 1 (на вход подаются W, который уже посчитан функцией eval_model и X, на выходе - массив y_pred_proba).**"
      ]
    },
    {
      "cell_type": "code",
      "metadata": {
        "id": "ojCNGvOyl2Rq",
        "colab_type": "code",
        "colab": {}
      },
      "source": [
        "def calc_pred_proba(W, X):\n",
        "    y_pred_proba = 1/(1 + np.exp(-W @ X))\n",
        "    return y_pred_proba"
      ],
      "execution_count": 15,
      "outputs": []
    },
    {
      "cell_type": "code",
      "metadata": {
        "id": "1O6k70RCl49Y",
        "colab_type": "code",
        "colab": {
          "base_uri": "https://localhost:8080/",
          "height": 51
        },
        "outputId": "e0df17d8-522d-4f8f-8c17-c9e59a2e325c"
      },
      "source": [
        "W_1, err = eval_model(X_st, y, iterations=iteration_min, alpha=alpha_min)\n",
        "\n",
        "y_pred_proba = calc_pred_proba(W_1, X_st)\n",
        "y_pred_proba"
      ],
      "execution_count": 16,
      "outputs": [
        {
          "output_type": "execute_result",
          "data": {
            "text/plain": [
              "array([0.24977731, 0.28792905, 0.70337703, 0.26842428, 0.80608757,\n",
              "       0.33415087, 0.95584358, 0.95104108, 0.24078428, 0.75144844])"
            ]
          },
          "metadata": {
            "tags": []
          },
          "execution_count": 16
        }
      ]
    },
    {
      "cell_type": "markdown",
      "metadata": {
        "id": "GM2tClYJl8bx",
        "colab_type": "text"
      },
      "source": [
        "**Создайте функцию calc_pred, возвращающую предсказанный класс (на вход подаются W, который уже посчитан функцией eval_model и X, на выходе - массив y_pred).**"
      ]
    },
    {
      "cell_type": "code",
      "metadata": {
        "id": "fwz2ZIXDl_5Y",
        "colab_type": "code",
        "colab": {}
      },
      "source": [
        "def calc_pred(W, X):\n",
        "    \n",
        "    y_pred_class_ = np.sign(np.dot(W, X))\n",
        "    y_pred_class = np.empty_like(y_pred_class_)\n",
        "    \n",
        "    for i in range(len(y_pred_class_)):\n",
        "        \n",
        "        if y_pred_class_[i] == -1.0:\n",
        "            y_pred_class[i] = 0\n",
        "        elif y_pred_class_[i] == 1.0:\n",
        "            y_pred_class[i] = 1\n",
        "    \n",
        "    return y_pred_class"
      ],
      "execution_count": 17,
      "outputs": []
    },
    {
      "cell_type": "code",
      "metadata": {
        "id": "gjQzlDVgmDfh",
        "colab_type": "code",
        "colab": {
          "base_uri": "https://localhost:8080/",
          "height": 34
        },
        "outputId": "f342bf53-23f4-49db-8afc-ee025b82222e"
      },
      "source": [
        "y_pred_class = calc_pred(W_1, X_st)\n",
        "y_pred_class"
      ],
      "execution_count": 18,
      "outputs": [
        {
          "output_type": "execute_result",
          "data": {
            "text/plain": [
              "array([0., 0., 1., 0., 1., 0., 1., 1., 0., 1.])"
            ]
          },
          "metadata": {
            "tags": []
          },
          "execution_count": 18
        }
      ]
    },
    {
      "cell_type": "markdown",
      "metadata": {
        "id": "McD32XikmI0q",
        "colab_type": "text"
      },
      "source": [
        "**Посчитайте Accuracy, матрицу ошибок, точность и полноту, а также F1 score.**"
      ]
    },
    {
      "cell_type": "code",
      "metadata": {
        "id": "zs2dgnh3mKFy",
        "colab_type": "code",
        "colab": {
          "base_uri": "https://localhost:8080/",
          "height": 34
        },
        "outputId": "afb60247-c362-46f7-98f3-92dac6499080"
      },
      "source": [
        "Accuracy_ = 100.0 - np.mean(np.abs(y_pred_class - y)*100.0)\n",
        "Accuracy_"
      ],
      "execution_count": 19,
      "outputs": [
        {
          "output_type": "execute_result",
          "data": {
            "text/plain": [
              "80.0"
            ]
          },
          "metadata": {
            "tags": []
          },
          "execution_count": 19
        }
      ]
    },
    {
      "cell_type": "code",
      "metadata": {
        "id": "YpaocXY5mPIz",
        "colab_type": "code",
        "colab": {}
      },
      "source": [
        "positive_true = []\n",
        "negative_true = []\n",
        "positive_pred = []\n",
        "negative_pred = []\n",
        "\n",
        "for i in range(len(y)):\n",
        "    if y[i] > 0:\n",
        "        positive_true.append(i)\n",
        "    else:\n",
        "        negative_true.append(i)\n",
        "    if y_pred_class[i] > 0:\n",
        "        positive_pred.append(i)\n",
        "    else:\n",
        "        negative_pred.append(i)"
      ],
      "execution_count": 20,
      "outputs": []
    },
    {
      "cell_type": "code",
      "metadata": {
        "id": "TRKO_BjKmRgL",
        "colab_type": "code",
        "colab": {
          "base_uri": "https://localhost:8080/",
          "height": 34
        },
        "outputId": "f51fd872-0218-4693-ed14-098a8edb981e"
      },
      "source": [
        "positive_true, negative_true"
      ],
      "execution_count": 21,
      "outputs": [
        {
          "output_type": "execute_result",
          "data": {
            "text/plain": [
              "([2, 4, 6, 8, 9], [0, 1, 3, 5, 7])"
            ]
          },
          "metadata": {
            "tags": []
          },
          "execution_count": 21
        }
      ]
    },
    {
      "cell_type": "code",
      "metadata": {
        "id": "nNNsbYgEmTgQ",
        "colab_type": "code",
        "colab": {
          "base_uri": "https://localhost:8080/",
          "height": 34
        },
        "outputId": "80295cb7-325b-4cee-c5cf-943b715f6377"
      },
      "source": [
        "positive_pred, negative_pred"
      ],
      "execution_count": 22,
      "outputs": [
        {
          "output_type": "execute_result",
          "data": {
            "text/plain": [
              "([2, 4, 6, 7, 9], [0, 1, 3, 5, 8])"
            ]
          },
          "metadata": {
            "tags": []
          },
          "execution_count": 22
        }
      ]
    },
    {
      "cell_type": "code",
      "metadata": {
        "id": "eBbla2KgmVsS",
        "colab_type": "code",
        "colab": {
          "base_uri": "https://localhost:8080/",
          "height": 51
        },
        "outputId": "c0c09ac9-46ee-420d-c602-cb01b234dcd7"
      },
      "source": [
        "TP = 0\n",
        "FP = 0\n",
        "TN = 0\n",
        "FN = 0\n",
        "\n",
        "for i in positive_true:\n",
        "    if i in positive_pred:\n",
        "        TP += 1\n",
        "    else:\n",
        "        FN += 1\n",
        "        \n",
        "for i in negative_true:\n",
        "    if i in negative_pred:\n",
        "        TN += 1\n",
        "    else:\n",
        "        FP += 1\n",
        "\n",
        "Confussion_matrix = np.matrix([[TP, FP], [TN, FN]])\n",
        "Confussion_matrix"
      ],
      "execution_count": 23,
      "outputs": [
        {
          "output_type": "execute_result",
          "data": {
            "text/plain": [
              "matrix([[4, 1],\n",
              "        [4, 1]])"
            ]
          },
          "metadata": {
            "tags": []
          },
          "execution_count": 23
        }
      ]
    },
    {
      "cell_type": "code",
      "metadata": {
        "id": "-PPuk-gGmYDS",
        "colab_type": "code",
        "colab": {
          "base_uri": "https://localhost:8080/",
          "height": 34
        },
        "outputId": "15d3e0a8-4716-4b42-e2c2-5162097bf81d"
      },
      "source": [
        "precision = TP/(TP + FP)*100\n",
        "recall = TP/(TP + FN)*100\n",
        "f1_score = 2*precision*recall/(precision + recall)\n",
        "print(f'Precision = {precision}, recall = {recall}, f1_score = {f1_score}')"
      ],
      "execution_count": 24,
      "outputs": [
        {
          "output_type": "stream",
          "text": [
            "Precision = 80.0, recall = 80.0, f1_score = 80.0\n"
          ],
          "name": "stdout"
        }
      ]
    },
    {
      "cell_type": "markdown",
      "metadata": {
        "id": "p8lqMwyRmkQ_",
        "colab_type": "text"
      },
      "source": [
        "**Могла ли модель переобучиться? Почему?**"
      ]
    },
    {
      "cell_type": "markdown",
      "metadata": {
        "id": "pVUxDuwLmlqK",
        "colab_type": "text"
      },
      "source": [
        "Да, т.к. модель может чрезмерно подстроиться под обучающий датасет и тем самым возникнет переобучение."
      ]
    }
  ]
}