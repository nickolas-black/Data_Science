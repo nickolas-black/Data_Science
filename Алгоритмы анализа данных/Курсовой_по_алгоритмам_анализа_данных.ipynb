{
  "nbformat": 4,
  "nbformat_minor": 0,
  "metadata": {
    "kernelspec": {
      "display_name": "Python 3",
      "language": "python",
      "name": "python3"
    },
    "language_info": {
      "codemirror_mode": {
        "name": "ipython",
        "version": 3
      },
      "file_extension": ".py",
      "mimetype": "text/x-python",
      "name": "python",
      "nbconvert_exporter": "python",
      "pygments_lexer": "ipython3",
      "version": "3.8.0"
    },
    "colab": {
      "name": "Курсовой_по_алгоритмам_анализа_данных",
      "provenance": [],
      "collapsed_sections": []
    }
  },
  "cells": [
    {
      "cell_type": "code",
      "metadata": {
        "id": "UcI3K8YoC0Bj"
      },
      "source": [
        "import numpy as np\n",
        "import pandas as pd\n",
        "from sklearn.model_selection import train_test_split\n",
        "import matplotlib.pyplot as plt\n",
        "import seaborn as sns"
      ],
      "execution_count": null,
      "outputs": []
    },
    {
      "cell_type": "code",
      "metadata": {
        "id": "7BT_-kh4C0Bk"
      },
      "source": [
        "df_train = pd.read_csv('train.csv')\n",
        "df_test= pd.read_csv('test.csv')"
      ],
      "execution_count": null,
      "outputs": []
    },
    {
      "cell_type": "code",
      "metadata": {
        "id": "KfJMuLIaC0Bl"
      },
      "source": [
        "answer = pd.read_csv('submission_example.csv')"
      ],
      "execution_count": null,
      "outputs": []
    },
    {
      "cell_type": "code",
      "metadata": {
        "id": "wUKnHNH9C0Bl",
        "outputId": "ca1accc1-6c9e-4918-ade6-a2303c701f73"
      },
      "source": [
        "type(answer)"
      ],
      "execution_count": null,
      "outputs": [
        {
          "output_type": "execute_result",
          "data": {
            "text/plain": [
              "pandas.core.frame.DataFrame"
            ]
          },
          "metadata": {
            "tags": []
          },
          "execution_count": 4
        }
      ]
    },
    {
      "cell_type": "code",
      "metadata": {
        "id": "YzbRx8gEC0Bm",
        "outputId": "b6192af6-c876-4747-e466-24a1e235c1c5"
      },
      "source": [
        "answer.head()"
      ],
      "execution_count": null,
      "outputs": [
        {
          "output_type": "execute_result",
          "data": {
            "text/html": [
              "<div>\n",
              "<style scoped>\n",
              "    .dataframe tbody tr th:only-of-type {\n",
              "        vertical-align: middle;\n",
              "    }\n",
              "\n",
              "    .dataframe tbody tr th {\n",
              "        vertical-align: top;\n",
              "    }\n",
              "\n",
              "    .dataframe thead th {\n",
              "        text-align: right;\n",
              "    }\n",
              "</style>\n",
              "<table border=\"1\" class=\"dataframe\">\n",
              "  <thead>\n",
              "    <tr style=\"text-align: right;\">\n",
              "      <th></th>\n",
              "      <th>Id</th>\n",
              "      <th>mean_exam_points</th>\n",
              "    </tr>\n",
              "  </thead>\n",
              "  <tbody>\n",
              "    <tr>\n",
              "      <th>0</th>\n",
              "      <td>10000</td>\n",
              "      <td>50.0</td>\n",
              "    </tr>\n",
              "    <tr>\n",
              "      <th>1</th>\n",
              "      <td>10001</td>\n",
              "      <td>50.0</td>\n",
              "    </tr>\n",
              "    <tr>\n",
              "      <th>2</th>\n",
              "      <td>10002</td>\n",
              "      <td>50.0</td>\n",
              "    </tr>\n",
              "    <tr>\n",
              "      <th>3</th>\n",
              "      <td>10003</td>\n",
              "      <td>50.0</td>\n",
              "    </tr>\n",
              "    <tr>\n",
              "      <th>4</th>\n",
              "      <td>10004</td>\n",
              "      <td>50.0</td>\n",
              "    </tr>\n",
              "  </tbody>\n",
              "</table>\n",
              "</div>"
            ],
            "text/plain": [
              "      Id  mean_exam_points\n",
              "0  10000              50.0\n",
              "1  10001              50.0\n",
              "2  10002              50.0\n",
              "3  10003              50.0\n",
              "4  10004              50.0"
            ]
          },
          "metadata": {
            "tags": []
          },
          "execution_count": 5
        }
      ]
    },
    {
      "cell_type": "code",
      "metadata": {
        "id": "OrmNsCuDC0Bm",
        "outputId": "14cf25f8-35c3-4061-ccf4-1669b2776a01"
      },
      "source": [
        "df_train.info()"
      ],
      "execution_count": null,
      "outputs": [
        {
          "output_type": "stream",
          "text": [
            "<class 'pandas.core.frame.DataFrame'>\n",
            "RangeIndex: 10000 entries, 0 to 9999\n",
            "Data columns (total 12 columns):\n",
            "Id                     10000 non-null int64\n",
            "age                    10000 non-null float64\n",
            "years_of_experience    10000 non-null float64\n",
            "lesson_price           10000 non-null float64\n",
            "qualification          10000 non-null float64\n",
            "physics                10000 non-null float64\n",
            "chemistry              10000 non-null float64\n",
            "biology                10000 non-null float64\n",
            "english                10000 non-null float64\n",
            "geography              10000 non-null float64\n",
            "history                10000 non-null float64\n",
            "mean_exam_points       10000 non-null float64\n",
            "dtypes: float64(11), int64(1)\n",
            "memory usage: 937.6 KB\n"
          ],
          "name": "stdout"
        }
      ]
    },
    {
      "cell_type": "code",
      "metadata": {
        "id": "aHMhW5RJC0Bm",
        "outputId": "14832985-1ec6-4a83-af66-82a6e5ed16d0"
      },
      "source": [
        "df_train.describe()"
      ],
      "execution_count": null,
      "outputs": [
        {
          "output_type": "execute_result",
          "data": {
            "text/html": [
              "<div>\n",
              "<style scoped>\n",
              "    .dataframe tbody tr th:only-of-type {\n",
              "        vertical-align: middle;\n",
              "    }\n",
              "\n",
              "    .dataframe tbody tr th {\n",
              "        vertical-align: top;\n",
              "    }\n",
              "\n",
              "    .dataframe thead th {\n",
              "        text-align: right;\n",
              "    }\n",
              "</style>\n",
              "<table border=\"1\" class=\"dataframe\">\n",
              "  <thead>\n",
              "    <tr style=\"text-align: right;\">\n",
              "      <th></th>\n",
              "      <th>Id</th>\n",
              "      <th>age</th>\n",
              "      <th>years_of_experience</th>\n",
              "      <th>lesson_price</th>\n",
              "      <th>qualification</th>\n",
              "      <th>physics</th>\n",
              "      <th>chemistry</th>\n",
              "      <th>biology</th>\n",
              "      <th>english</th>\n",
              "      <th>geography</th>\n",
              "      <th>history</th>\n",
              "      <th>mean_exam_points</th>\n",
              "    </tr>\n",
              "  </thead>\n",
              "  <tbody>\n",
              "    <tr>\n",
              "      <th>count</th>\n",
              "      <td>10000.00000</td>\n",
              "      <td>10000.000000</td>\n",
              "      <td>10000.000000</td>\n",
              "      <td>10000.000000</td>\n",
              "      <td>10000.000000</td>\n",
              "      <td>10000.000000</td>\n",
              "      <td>10000.000000</td>\n",
              "      <td>10000.000000</td>\n",
              "      <td>10000.000000</td>\n",
              "      <td>10000.000000</td>\n",
              "      <td>10000.000000</td>\n",
              "      <td>10000.000000</td>\n",
              "    </tr>\n",
              "    <tr>\n",
              "      <th>mean</th>\n",
              "      <td>4999.50000</td>\n",
              "      <td>45.878000</td>\n",
              "      <td>1.986800</td>\n",
              "      <td>1699.105000</td>\n",
              "      <td>1.719500</td>\n",
              "      <td>0.375000</td>\n",
              "      <td>0.132900</td>\n",
              "      <td>0.109600</td>\n",
              "      <td>0.053700</td>\n",
              "      <td>0.032100</td>\n",
              "      <td>0.019400</td>\n",
              "      <td>64.340800</td>\n",
              "    </tr>\n",
              "    <tr>\n",
              "      <th>std</th>\n",
              "      <td>2886.89568</td>\n",
              "      <td>8.043929</td>\n",
              "      <td>1.772213</td>\n",
              "      <td>524.886654</td>\n",
              "      <td>0.792264</td>\n",
              "      <td>0.484147</td>\n",
              "      <td>0.339484</td>\n",
              "      <td>0.312406</td>\n",
              "      <td>0.225436</td>\n",
              "      <td>0.176274</td>\n",
              "      <td>0.137933</td>\n",
              "      <td>13.536823</td>\n",
              "    </tr>\n",
              "    <tr>\n",
              "      <th>min</th>\n",
              "      <td>0.00000</td>\n",
              "      <td>23.000000</td>\n",
              "      <td>0.000000</td>\n",
              "      <td>200.000000</td>\n",
              "      <td>1.000000</td>\n",
              "      <td>0.000000</td>\n",
              "      <td>0.000000</td>\n",
              "      <td>0.000000</td>\n",
              "      <td>0.000000</td>\n",
              "      <td>0.000000</td>\n",
              "      <td>0.000000</td>\n",
              "      <td>32.000000</td>\n",
              "    </tr>\n",
              "    <tr>\n",
              "      <th>25%</th>\n",
              "      <td>2499.75000</td>\n",
              "      <td>40.000000</td>\n",
              "      <td>0.000000</td>\n",
              "      <td>1300.000000</td>\n",
              "      <td>1.000000</td>\n",
              "      <td>0.000000</td>\n",
              "      <td>0.000000</td>\n",
              "      <td>0.000000</td>\n",
              "      <td>0.000000</td>\n",
              "      <td>0.000000</td>\n",
              "      <td>0.000000</td>\n",
              "      <td>55.000000</td>\n",
              "    </tr>\n",
              "    <tr>\n",
              "      <th>50%</th>\n",
              "      <td>4999.50000</td>\n",
              "      <td>46.000000</td>\n",
              "      <td>2.000000</td>\n",
              "      <td>1500.000000</td>\n",
              "      <td>2.000000</td>\n",
              "      <td>0.000000</td>\n",
              "      <td>0.000000</td>\n",
              "      <td>0.000000</td>\n",
              "      <td>0.000000</td>\n",
              "      <td>0.000000</td>\n",
              "      <td>0.000000</td>\n",
              "      <td>63.000000</td>\n",
              "    </tr>\n",
              "    <tr>\n",
              "      <th>75%</th>\n",
              "      <td>7499.25000</td>\n",
              "      <td>51.000000</td>\n",
              "      <td>3.000000</td>\n",
              "      <td>2150.000000</td>\n",
              "      <td>2.000000</td>\n",
              "      <td>1.000000</td>\n",
              "      <td>0.000000</td>\n",
              "      <td>0.000000</td>\n",
              "      <td>0.000000</td>\n",
              "      <td>0.000000</td>\n",
              "      <td>0.000000</td>\n",
              "      <td>73.000000</td>\n",
              "    </tr>\n",
              "    <tr>\n",
              "      <th>max</th>\n",
              "      <td>9999.00000</td>\n",
              "      <td>68.000000</td>\n",
              "      <td>10.000000</td>\n",
              "      <td>3950.000000</td>\n",
              "      <td>4.000000</td>\n",
              "      <td>1.000000</td>\n",
              "      <td>1.000000</td>\n",
              "      <td>1.000000</td>\n",
              "      <td>1.000000</td>\n",
              "      <td>1.000000</td>\n",
              "      <td>1.000000</td>\n",
              "      <td>100.000000</td>\n",
              "    </tr>\n",
              "  </tbody>\n",
              "</table>\n",
              "</div>"
            ],
            "text/plain": [
              "                Id           age  years_of_experience  lesson_price  \\\n",
              "count  10000.00000  10000.000000         10000.000000  10000.000000   \n",
              "mean    4999.50000     45.878000             1.986800   1699.105000   \n",
              "std     2886.89568      8.043929             1.772213    524.886654   \n",
              "min        0.00000     23.000000             0.000000    200.000000   \n",
              "25%     2499.75000     40.000000             0.000000   1300.000000   \n",
              "50%     4999.50000     46.000000             2.000000   1500.000000   \n",
              "75%     7499.25000     51.000000             3.000000   2150.000000   \n",
              "max     9999.00000     68.000000            10.000000   3950.000000   \n",
              "\n",
              "       qualification       physics     chemistry       biology       english  \\\n",
              "count   10000.000000  10000.000000  10000.000000  10000.000000  10000.000000   \n",
              "mean        1.719500      0.375000      0.132900      0.109600      0.053700   \n",
              "std         0.792264      0.484147      0.339484      0.312406      0.225436   \n",
              "min         1.000000      0.000000      0.000000      0.000000      0.000000   \n",
              "25%         1.000000      0.000000      0.000000      0.000000      0.000000   \n",
              "50%         2.000000      0.000000      0.000000      0.000000      0.000000   \n",
              "75%         2.000000      1.000000      0.000000      0.000000      0.000000   \n",
              "max         4.000000      1.000000      1.000000      1.000000      1.000000   \n",
              "\n",
              "          geography       history  mean_exam_points  \n",
              "count  10000.000000  10000.000000      10000.000000  \n",
              "mean       0.032100      0.019400         64.340800  \n",
              "std        0.176274      0.137933         13.536823  \n",
              "min        0.000000      0.000000         32.000000  \n",
              "25%        0.000000      0.000000         55.000000  \n",
              "50%        0.000000      0.000000         63.000000  \n",
              "75%        0.000000      0.000000         73.000000  \n",
              "max        1.000000      1.000000        100.000000  "
            ]
          },
          "metadata": {
            "tags": []
          },
          "execution_count": 7
        }
      ]
    },
    {
      "cell_type": "code",
      "metadata": {
        "id": "It12iPNgC0Bn",
        "outputId": "3fccc241-01ab-441d-cf44-3f5e4f4d286a"
      },
      "source": [
        "\n",
        "df_test.describe()"
      ],
      "execution_count": null,
      "outputs": [
        {
          "output_type": "execute_result",
          "data": {
            "text/html": [
              "<div>\n",
              "<style scoped>\n",
              "    .dataframe tbody tr th:only-of-type {\n",
              "        vertical-align: middle;\n",
              "    }\n",
              "\n",
              "    .dataframe tbody tr th {\n",
              "        vertical-align: top;\n",
              "    }\n",
              "\n",
              "    .dataframe thead th {\n",
              "        text-align: right;\n",
              "    }\n",
              "</style>\n",
              "<table border=\"1\" class=\"dataframe\">\n",
              "  <thead>\n",
              "    <tr style=\"text-align: right;\">\n",
              "      <th></th>\n",
              "      <th>Id</th>\n",
              "      <th>age</th>\n",
              "      <th>years_of_experience</th>\n",
              "      <th>lesson_price</th>\n",
              "      <th>qualification</th>\n",
              "      <th>physics</th>\n",
              "      <th>chemistry</th>\n",
              "      <th>biology</th>\n",
              "      <th>english</th>\n",
              "      <th>geography</th>\n",
              "      <th>history</th>\n",
              "    </tr>\n",
              "  </thead>\n",
              "  <tbody>\n",
              "    <tr>\n",
              "      <th>count</th>\n",
              "      <td>10000.00000</td>\n",
              "      <td>10000.00000</td>\n",
              "      <td>10000.000000</td>\n",
              "      <td>10000.000000</td>\n",
              "      <td>10000.000000</td>\n",
              "      <td>10000.00000</td>\n",
              "      <td>10000.000000</td>\n",
              "      <td>10000.000000</td>\n",
              "      <td>10000.000000</td>\n",
              "      <td>10000.000000</td>\n",
              "      <td>10000.0000</td>\n",
              "    </tr>\n",
              "    <tr>\n",
              "      <th>mean</th>\n",
              "      <td>14999.50000</td>\n",
              "      <td>45.97280</td>\n",
              "      <td>1.980000</td>\n",
              "      <td>1697.095000</td>\n",
              "      <td>1.709400</td>\n",
              "      <td>0.38130</td>\n",
              "      <td>0.123500</td>\n",
              "      <td>0.120100</td>\n",
              "      <td>0.056000</td>\n",
              "      <td>0.031400</td>\n",
              "      <td>0.0184</td>\n",
              "    </tr>\n",
              "    <tr>\n",
              "      <th>std</th>\n",
              "      <td>2886.89568</td>\n",
              "      <td>7.95628</td>\n",
              "      <td>1.783289</td>\n",
              "      <td>524.262621</td>\n",
              "      <td>0.793483</td>\n",
              "      <td>0.48573</td>\n",
              "      <td>0.329027</td>\n",
              "      <td>0.325095</td>\n",
              "      <td>0.229933</td>\n",
              "      <td>0.174405</td>\n",
              "      <td>0.1344</td>\n",
              "    </tr>\n",
              "    <tr>\n",
              "      <th>min</th>\n",
              "      <td>10000.00000</td>\n",
              "      <td>23.00000</td>\n",
              "      <td>0.000000</td>\n",
              "      <td>200.000000</td>\n",
              "      <td>1.000000</td>\n",
              "      <td>0.00000</td>\n",
              "      <td>0.000000</td>\n",
              "      <td>0.000000</td>\n",
              "      <td>0.000000</td>\n",
              "      <td>0.000000</td>\n",
              "      <td>0.0000</td>\n",
              "    </tr>\n",
              "    <tr>\n",
              "      <th>25%</th>\n",
              "      <td>12499.75000</td>\n",
              "      <td>41.00000</td>\n",
              "      <td>0.000000</td>\n",
              "      <td>1300.000000</td>\n",
              "      <td>1.000000</td>\n",
              "      <td>0.00000</td>\n",
              "      <td>0.000000</td>\n",
              "      <td>0.000000</td>\n",
              "      <td>0.000000</td>\n",
              "      <td>0.000000</td>\n",
              "      <td>0.0000</td>\n",
              "    </tr>\n",
              "    <tr>\n",
              "      <th>50%</th>\n",
              "      <td>14999.50000</td>\n",
              "      <td>46.00000</td>\n",
              "      <td>2.000000</td>\n",
              "      <td>1500.000000</td>\n",
              "      <td>2.000000</td>\n",
              "      <td>0.00000</td>\n",
              "      <td>0.000000</td>\n",
              "      <td>0.000000</td>\n",
              "      <td>0.000000</td>\n",
              "      <td>0.000000</td>\n",
              "      <td>0.0000</td>\n",
              "    </tr>\n",
              "    <tr>\n",
              "      <th>75%</th>\n",
              "      <td>17499.25000</td>\n",
              "      <td>51.00000</td>\n",
              "      <td>3.000000</td>\n",
              "      <td>2150.000000</td>\n",
              "      <td>2.000000</td>\n",
              "      <td>1.00000</td>\n",
              "      <td>0.000000</td>\n",
              "      <td>0.000000</td>\n",
              "      <td>0.000000</td>\n",
              "      <td>0.000000</td>\n",
              "      <td>0.0000</td>\n",
              "    </tr>\n",
              "    <tr>\n",
              "      <th>max</th>\n",
              "      <td>19999.00000</td>\n",
              "      <td>68.00000</td>\n",
              "      <td>10.000000</td>\n",
              "      <td>4050.000000</td>\n",
              "      <td>4.000000</td>\n",
              "      <td>1.00000</td>\n",
              "      <td>1.000000</td>\n",
              "      <td>1.000000</td>\n",
              "      <td>1.000000</td>\n",
              "      <td>1.000000</td>\n",
              "      <td>1.0000</td>\n",
              "    </tr>\n",
              "  </tbody>\n",
              "</table>\n",
              "</div>"
            ],
            "text/plain": [
              "                Id          age  years_of_experience  lesson_price  \\\n",
              "count  10000.00000  10000.00000         10000.000000  10000.000000   \n",
              "mean   14999.50000     45.97280             1.980000   1697.095000   \n",
              "std     2886.89568      7.95628             1.783289    524.262621   \n",
              "min    10000.00000     23.00000             0.000000    200.000000   \n",
              "25%    12499.75000     41.00000             0.000000   1300.000000   \n",
              "50%    14999.50000     46.00000             2.000000   1500.000000   \n",
              "75%    17499.25000     51.00000             3.000000   2150.000000   \n",
              "max    19999.00000     68.00000            10.000000   4050.000000   \n",
              "\n",
              "       qualification      physics     chemistry       biology       english  \\\n",
              "count   10000.000000  10000.00000  10000.000000  10000.000000  10000.000000   \n",
              "mean        1.709400      0.38130      0.123500      0.120100      0.056000   \n",
              "std         0.793483      0.48573      0.329027      0.325095      0.229933   \n",
              "min         1.000000      0.00000      0.000000      0.000000      0.000000   \n",
              "25%         1.000000      0.00000      0.000000      0.000000      0.000000   \n",
              "50%         2.000000      0.00000      0.000000      0.000000      0.000000   \n",
              "75%         2.000000      1.00000      0.000000      0.000000      0.000000   \n",
              "max         4.000000      1.00000      1.000000      1.000000      1.000000   \n",
              "\n",
              "          geography     history  \n",
              "count  10000.000000  10000.0000  \n",
              "mean       0.031400      0.0184  \n",
              "std        0.174405      0.1344  \n",
              "min        0.000000      0.0000  \n",
              "25%        0.000000      0.0000  \n",
              "50%        0.000000      0.0000  \n",
              "75%        0.000000      0.0000  \n",
              "max        1.000000      1.0000  "
            ]
          },
          "metadata": {
            "tags": []
          },
          "execution_count": 8
        }
      ]
    },
    {
      "cell_type": "code",
      "metadata": {
        "id": "R-PutC9-C0Bn"
      },
      "source": [
        "df_train_labels = df_train['mean_exam_points'].values\n",
        "df_train_data = df_train.drop('mean_exam_points', axis=1).values\n",
        "df_test_data = df_test.values"
      ],
      "execution_count": null,
      "outputs": []
    },
    {
      "cell_type": "code",
      "metadata": {
        "id": "_JoWO6RQC0Bo"
      },
      "source": [
        "train_data, test_data, train_labels, test_labels = train_test_split(df_train_data, \n",
        "                                                                    df_train_labels, \n",
        "                                                                    test_size = 0.3,\n",
        "                                                                    random_state = 1)"
      ],
      "execution_count": null,
      "outputs": []
    },
    {
      "cell_type": "code",
      "metadata": {
        "id": "PRJX2dqlC0Bo"
      },
      "source": [
        "def get_bootstrap(data, labels, N):\n",
        "    n_samples = data.shape[0]\n",
        "    bootstrap = []\n",
        "    \n",
        "    for i in range(N):\n",
        "        b_data = np.zeros(data.shape)\n",
        "        b_labels = np.zeros(labels.shape)\n",
        "        \n",
        "        for j in range(n_samples):\n",
        "            sample_index = np.random.randint(0, n_samples-1)\n",
        "            b_data[j] = data[sample_index]\n",
        "            b_labels[j] = labels[sample_index]\n",
        "        bootstrap.append((b_data, b_labels))\n",
        "        \n",
        "    return bootstrap"
      ],
      "execution_count": null,
      "outputs": []
    },
    {
      "cell_type": "code",
      "metadata": {
        "id": "3xyOgFW_C0Bo"
      },
      "source": [
        "def get_subsample(len_sample):\n",
        "    # будем сохранять не сами признаки, а их индексы\n",
        "    sample_indexes = [i for i in range(len_sample)]\n",
        "    \n",
        "    len_subsample = int(np.sqrt(len_sample))\n",
        "    subsample = []\n",
        "    \n",
        "    np.random.shuffle(sample_indexes)\n",
        "    for _ in range(len_subsample):\n",
        "        subsample.append(sample_indexes.pop())\n",
        "        \n",
        "    return subsample"
      ],
      "execution_count": null,
      "outputs": []
    },
    {
      "cell_type": "code",
      "metadata": {
        "id": "XAxQT6gpC0Bo"
      },
      "source": [
        "# Реализуем класс узла\n",
        "\n",
        "class Node:\n",
        "    \n",
        "    def __init__(self, index, t, true_branch, false_branch):\n",
        "        self.index = index  # индекс признака, по которому ведется сравнение с порогом в этом узле\n",
        "        self.t = t  # значение порога\n",
        "        self.true_branch = true_branch  # поддерево, удовлетворяющее условию в узле\n",
        "        self.false_branch = false_branch  # поддерево, не удовлетворяющее условию в узле"
      ],
      "execution_count": null,
      "outputs": []
    },
    {
      "cell_type": "code",
      "metadata": {
        "id": "zxu9y5eiC0Bp"
      },
      "source": [
        "# И класс терминального узла (листа)\n",
        "\n",
        "class Leaf:\n",
        "    \n",
        "    def __init__(self, data, labels):\n",
        "        self.data = data\n",
        "        self.labels = labels\n",
        "        self.prediction = self.predict()\n",
        "        \n",
        "    def predict(self):\n",
        "        # подсчет среднего значения по выборке\n",
        "        prediction = np.mean(self.labels)\n",
        "        \n",
        "        return prediction"
      ],
      "execution_count": null,
      "outputs": []
    },
    {
      "cell_type": "code",
      "metadata": {
        "id": "U_SQ2x6fC0Bp"
      },
      "source": [
        "# Критерий информативности\n",
        "\n",
        "def dispersion(labels):\n",
        "    impurity = 0\n",
        "    labels_mean = np.mean(labels)\n",
        "    \n",
        "    for label in labels:\n",
        "        impurity += (label - labels_mean) ** 2\n",
        "    \n",
        "    impurity = impurity / len(labels)\n",
        "        \n",
        "    return impurity"
      ],
      "execution_count": null,
      "outputs": []
    },
    {
      "cell_type": "code",
      "metadata": {
        "id": "95tUmoZMC0Bp"
      },
      "source": [
        "# Расчет качества\n",
        "\n",
        "def quality(left_labels, right_labels, current_dispersion):\n",
        "\n",
        "    # доля выбоки, ушедшая в левое поддерево\n",
        "    p = float(left_labels.shape[0]) / (left_labels.shape[0] + right_labels.shape[0])\n",
        "    \n",
        "    return current_dispersion - p * dispersion(left_labels) - (1 - p) * dispersion(right_labels)"
      ],
      "execution_count": null,
      "outputs": []
    },
    {
      "cell_type": "code",
      "metadata": {
        "id": "plr4K0kQC0Bp"
      },
      "source": [
        "# Разбиение датасета в узле\n",
        "\n",
        "def split(data, labels, index, t):\n",
        "    \n",
        "    left = np.where(data[:, index] <= t)\n",
        "    right = np.where(data[:, index] > t)\n",
        "        \n",
        "    true_data = data[left]\n",
        "    false_data = data[right]\n",
        "    true_labels = labels[left]\n",
        "    false_labels = labels[right]\n",
        "        \n",
        "    return true_data, false_data, true_labels, false_labels"
      ],
      "execution_count": null,
      "outputs": []
    },
    {
      "cell_type": "code",
      "metadata": {
        "id": "HYPewQHSC0Bp"
      },
      "source": [
        "# Нахождение наилучшего разбиения\n",
        "\n",
        "def find_best_split(data, labels):\n",
        "    \n",
        "    #  обозначим минимальное количество объектов в узле\n",
        "    min_leaf = 1\n",
        "\n",
        "    current_dispersion = dispersion(labels)\n",
        "\n",
        "    best_quality = 0\n",
        "    best_t = None\n",
        "    best_index = None\n",
        "    \n",
        "    n_features = data.shape[1]\n",
        "    \n",
        "    # выбор индекса из подвыборки длиной sqrt(n_features)\n",
        "    subsample = get_subsample(n_features)\n",
        "    \n",
        "    for index in subsample:\n",
        "        # будем проверять только уникальные значения признака, исключая повторения\n",
        "        t_values = np.unique([row[index] for row in data])\n",
        "        \n",
        "        for t in t_values:\n",
        "            true_data, false_data, true_labels, false_labels = split(data, labels, index, t)\n",
        "            #  пропускаем разбиения, в которых в узле остается менее 5 объектов\n",
        "            if len(true_data) < min_leaf or len(false_data) < min_leaf:\n",
        "                continue\n",
        "            \n",
        "            current_quality = quality(true_labels, false_labels, current_dispersion)\n",
        "            \n",
        "            #  выбираем порог, на котором получается максимальный прирост качества\n",
        "            if current_quality > best_quality:\n",
        "                best_quality, best_t, best_index = current_quality, t, index\n",
        "\n",
        "    return best_quality, best_t, best_index"
      ],
      "execution_count": null,
      "outputs": []
    },
    {
      "cell_type": "code",
      "metadata": {
        "id": "r1zs7drOC0Bq"
      },
      "source": [
        "# Построение дерева с помощью рекурсивной функции\n",
        "\n",
        "def build_tree(data, labels, depth=1, max_depth=9):\n",
        "\n",
        "    quality, t, index = find_best_split(data, labels)\n",
        "    \n",
        "    #  Базовый случай - прекращаем рекурсию, когда нет прироста в качества\n",
        "    if quality == 0 or depth == max_depth:\n",
        "        return Leaf(data, labels)\n",
        "\n",
        "    true_data, false_data, true_labels, false_labels = split(data, labels, index, t)\n",
        "\n",
        "    # Рекурсивно строим два поддерева\n",
        "    true_branch = build_tree(true_data, true_labels, depth+1, max_depth)\n",
        "    false_branch = build_tree(false_data, false_labels, depth+1, max_depth)\n",
        "\n",
        "    # Возвращаем класс узла со всеми поддеревьями, то есть целого дерева\n",
        "    return Node(index, t, true_branch, false_branch)"
      ],
      "execution_count": null,
      "outputs": []
    },
    {
      "cell_type": "code",
      "metadata": {
        "id": "zBWWr_h-C0Bq"
      },
      "source": [
        "def random_forest(data, labels, n_trees, depth=9):\n",
        "    forest = []\n",
        "    bootstrap = get_bootstrap(data, labels, n_trees)\n",
        "    \n",
        "    for b_data, b_labels in bootstrap:\n",
        "        forest.append(build_tree(b_data, b_labels, max_depth=depth))\n",
        "        \n",
        "    return forest"
      ],
      "execution_count": null,
      "outputs": []
    },
    {
      "cell_type": "code",
      "metadata": {
        "id": "qa6eliPRC0Bq"
      },
      "source": [
        "# Функция регрессии для отдельного объекта\n",
        "\n",
        "def reg_object(obj, node):\n",
        "\n",
        "    #  Останавливаем рекурсию, если достигли листа\n",
        "    if isinstance(node, Leaf):\n",
        "        answer = node.prediction\n",
        "        return answer\n",
        "\n",
        "    if obj[node.index] <= node.t:\n",
        "        return reg_object(obj, node.true_branch)\n",
        "    else:\n",
        "        return reg_object(obj, node.false_branch)"
      ],
      "execution_count": null,
      "outputs": []
    },
    {
      "cell_type": "code",
      "metadata": {
        "id": "hmF4jM7tC0Bq"
      },
      "source": [
        "# функция формирования предсказания по выборке на одном дереве\n",
        "\n",
        "def predict(data, tree):\n",
        "    \n",
        "    reg = []\n",
        "    for obj in data:\n",
        "        prediction = reg_object(obj, tree)\n",
        "        reg.append(prediction)\n",
        "    return reg"
      ],
      "execution_count": null,
      "outputs": []
    },
    {
      "cell_type": "code",
      "metadata": {
        "id": "DR4APOWJC0Bq"
      },
      "source": [
        "# предсказание голосованием деревьев\n",
        "\n",
        "def tree_vote(forest, data):\n",
        "\n",
        "    # добавим предсказания всех деревьев в список\n",
        "    predictions = []\n",
        "    for tree in forest:\n",
        "        predictions.append(predict(data, tree))\n",
        "    \n",
        "    # сформируем список с предсказаниями для каждого объекта\n",
        "    predictions_per_object = list(zip(*predictions))\n",
        "    \n",
        "    # выберем в качестве итогового предсказания для каждого объекта среднее значение по предсказаниям\n",
        "    voted_predictions = []\n",
        "    for obj in predictions_per_object:\n",
        "        voted_predictions.append(np.mean(obj))\n",
        "        \n",
        "    return voted_predictions"
      ],
      "execution_count": null,
      "outputs": []
    },
    {
      "cell_type": "code",
      "metadata": {
        "id": "xEvfhN1mC0Br"
      },
      "source": [
        "def R_2(actual, predicted):\n",
        "    ESS = 0\n",
        "    TSS = 0\n",
        "    \n",
        "    y_mean = np.mean(actual)\n",
        "    \n",
        "    for y_i, a_i in zip(actual, predicted):\n",
        "        ESS += (a_i - y_i) ** 2\n",
        "        TSS += (y_i - y_mean) ** 2\n",
        "         \n",
        "    return 1 - ESS/TSS"
      ],
      "execution_count": null,
      "outputs": []
    },
    {
      "cell_type": "code",
      "metadata": {
        "id": "M1ydS6ExC0Br"
      },
      "source": [
        "max_depth_list = [9, 10]\n",
        "n_tree_list = [10, 20, 50]"
      ],
      "execution_count": null,
      "outputs": []
    },
    {
      "cell_type": "code",
      "metadata": {
        "id": "BCUnTkiGC0Br",
        "outputId": "5f3f2748-a699-4220-9c2d-b4c43463f041"
      },
      "source": [
        "for max_depth in max_depth_list:\n",
        "    print(max_depth, '\\n')\n",
        "    for n_trees in n_tree_list:\n",
        "        print(n_trees)\n",
        "        my_forest_1 = random_forest(train_data, train_labels, n_trees, depth=max_depth)\n",
        "        \n",
        "        # Получим ответы для обучающей выборки \n",
        "        train_answers = tree_vote(my_forest_1, train_data)\n",
        "        \n",
        "        # Получим ответы для обучающей выборки \n",
        "        train_answers = tree_vote(my_forest_1, train_data)\n",
        "        \n",
        "        # И получим ответы для тестовой выборки\n",
        "        test_answers = tree_vote(my_forest_1, test_data)\n",
        "        \n",
        "        # Точность на обучающей выборке\n",
        "        train_R_2 = R_2(train_labels, train_answers)\n",
        "        print(f'Точность случайного леса из {n_trees} деревьев на обучающей выборке: {train_R_2:.3f}')\n",
        "        \n",
        "        # Точность на тестовой выборке\n",
        "        test_R_2 = R_2(test_labels, test_answers)\n",
        "        print(f'Точность случайного леса из {n_trees} деревьев на тестовой выборке: {test_R_2:.3f}')"
      ],
      "execution_count": null,
      "outputs": [
        {
          "output_type": "stream",
          "text": [
            "9 \n",
            "\n",
            "10\n",
            "Точность случайного леса из 10 деревьев на обучающей выборке: 0.771\n",
            "Точность случайного леса из 10 деревьев на тестовой выборке: 0.736\n",
            "20\n",
            "Точность случайного леса из 20 деревьев на обучающей выборке: 0.779\n",
            "Точность случайного леса из 20 деревьев на тестовой выборке: 0.745\n",
            "50\n",
            "Точность случайного леса из 50 деревьев на обучающей выборке: 0.774\n",
            "Точность случайного леса из 50 деревьев на тестовой выборке: 0.741\n",
            "10 \n",
            "\n",
            "10\n",
            "Точность случайного леса из 10 деревьев на обучающей выборке: 0.794\n",
            "Точность случайного леса из 10 деревьев на тестовой выборке: 0.750\n",
            "20\n",
            "Точность случайного леса из 20 деревьев на обучающей выборке: 0.788\n",
            "Точность случайного леса из 20 деревьев на тестовой выборке: 0.743\n",
            "50\n",
            "Точность случайного леса из 50 деревьев на обучающей выборке: 0.797\n",
            "Точность случайного леса из 50 деревьев на тестовой выборке: 0.754\n"
          ],
          "name": "stdout"
        }
      ]
    },
    {
      "cell_type": "code",
      "metadata": {
        "id": "2zBoLOO3C0Br",
        "outputId": "07bcc3d2-6f7d-4bf5-aeaf-54d069d8b0af"
      },
      "source": [
        "n_trees = 200\n",
        "max_depth = 9\n",
        "\n",
        "my_forest_200 = random_forest(train_data, train_labels, n_trees, depth=max_depth)\n",
        "        \n",
        "# Получим ответы для обучающей выборки \n",
        "train_answers = tree_vote(my_forest_200, train_data)\n",
        "\n",
        "# Получим ответы для обучающей выборки \n",
        "train_answers = tree_vote(my_forest_200, train_data)\n",
        "\n",
        "# И получим ответы для тестовой выборки\n",
        "test_answers = tree_vote(my_forest_200, test_data)\n",
        "\n",
        "# Точность на обучающей выборке\n",
        "train_R_2 = R_2(train_labels, train_answers)\n",
        "print(f'R_2 случайного леса из {n_trees} деревьев на обучающей выборке: {train_R_2:.3f}')\n",
        "\n",
        "# Точность на тестовой выборке\n",
        "test_R_2 = R_2(test_labels, test_answers)\n",
        "print(f'R_2 случайного леса из {n_trees} деревьев на тестовой выборке: {test_R_2:.3f}')"
      ],
      "execution_count": null,
      "outputs": [
        {
          "output_type": "stream",
          "text": [
            "R_2 случайного леса из 200 деревьев на обучающей выборке: 0.778\n",
            "R_2 случайного леса из 200 деревьев на тестовой выборке: 0.746\n"
          ],
          "name": "stdout"
        }
      ]
    },
    {
      "cell_type": "code",
      "metadata": {
        "id": "vyspy9bDC0Bs",
        "outputId": "75a780e1-bff6-4da5-eb91-1ea04a252adb"
      },
      "source": [
        "n_trees = 100\n",
        "max_depth = 9\n",
        "\n",
        "my_forest_100 = random_forest(train_data, train_labels, n_trees, depth=max_depth)\n",
        "        \n",
        "# Получим ответы для обучающей выборки \n",
        "train_answers = tree_vote(my_forest_100, train_data)\n",
        "\n",
        "# Получим ответы для обучающей выборки \n",
        "train_answers = tree_vote(my_forest_100, train_data)\n",
        "\n",
        "# И получим ответы для тестовой выборки\n",
        "test_answers = tree_vote(my_forest_100, test_data)\n",
        "\n",
        "# Точность на обучающей выборке\n",
        "train_R_2 = R_2(train_labels, train_answers)\n",
        "print(f'R_2 случайного леса из {n_trees} деревьев на обучающей выборке: {train_R_2:.3f}')\n",
        "\n",
        "# Точность на тестовой выборке\n",
        "test_R_2 = R_2(test_labels, test_answers)\n",
        "print(f'R_2 случайного леса из {n_trees} деревьев на тестовой выборке: {test_R_2:.3f}')"
      ],
      "execution_count": null,
      "outputs": [
        {
          "output_type": "stream",
          "text": [
            "R_2 случайного леса из 100 деревьев на обучающей выборке: 0.776\n",
            "R_2 случайного леса из 100 деревьев на тестовой выборке: 0.742\n"
          ],
          "name": "stdout"
        }
      ]
    },
    {
      "cell_type": "code",
      "metadata": {
        "id": "zBtva3uyC0Bs",
        "outputId": "30db8894-c001-4112-e7a8-ff564f3a8403"
      },
      "source": [
        "n_trees = 50\n",
        "max_depth = 10\n",
        "\n",
        "my_forest_50 = random_forest(train_data, train_labels, n_trees, depth=max_depth)\n",
        "        \n",
        "# Получим ответы для обучающей выборки \n",
        "train_answers = tree_vote(my_forest_50, train_data)\n",
        "\n",
        "# Получим ответы для обучающей выборки \n",
        "train_answers = tree_vote(my_forest_50, train_data)\n",
        "\n",
        "# И получим ответы для тестовой выборки\n",
        "test_answers = tree_vote(my_forest_50, test_data)\n",
        "\n",
        "# Точность на обучающей выборке\n",
        "train_R_2 = R_2(train_labels, train_answers)\n",
        "print(f'R_2 случайного леса из {n_trees} деревьев на обучающей выборке: {train_R_2:.3f}')\n",
        "\n",
        "# Точность на тестовой выборке\n",
        "test_R_2 = R_2(test_labels, test_answers)\n",
        "print(f'R_2 случайного леса из {n_trees} деревьев на тестовой выборке: {test_R_2:.3f}')"
      ],
      "execution_count": null,
      "outputs": [
        {
          "output_type": "stream",
          "text": [
            "R_2 случайного леса из 50 деревьев на обучающей выборке: 0.793\n",
            "R_2 случайного леса из 50 деревьев на тестовой выборке: 0.750\n"
          ],
          "name": "stdout"
        }
      ]
    },
    {
      "cell_type": "code",
      "metadata": {
        "id": "fnrO8dvJC0Bt"
      },
      "source": [
        "answer['mean_exam_points'] = tree_vote(my_forest_50, df_test_data)"
      ],
      "execution_count": null,
      "outputs": []
    },
    {
      "cell_type": "code",
      "metadata": {
        "id": "Z3PO9jVVC0Bt",
        "outputId": "e0c76e64-76c0-4a3d-9685-834f9347c4f8"
      },
      "source": [
        "answer.head()"
      ],
      "execution_count": null,
      "outputs": [
        {
          "output_type": "execute_result",
          "data": {
            "text/html": [
              "<div>\n",
              "<style scoped>\n",
              "    .dataframe tbody tr th:only-of-type {\n",
              "        vertical-align: middle;\n",
              "    }\n",
              "\n",
              "    .dataframe tbody tr th {\n",
              "        vertical-align: top;\n",
              "    }\n",
              "\n",
              "    .dataframe thead th {\n",
              "        text-align: right;\n",
              "    }\n",
              "</style>\n",
              "<table border=\"1\" class=\"dataframe\">\n",
              "  <thead>\n",
              "    <tr style=\"text-align: right;\">\n",
              "      <th></th>\n",
              "      <th>Id</th>\n",
              "      <th>mean_exam_points</th>\n",
              "    </tr>\n",
              "  </thead>\n",
              "  <tbody>\n",
              "    <tr>\n",
              "      <th>0</th>\n",
              "      <td>10000</td>\n",
              "      <td>53.956919</td>\n",
              "    </tr>\n",
              "    <tr>\n",
              "      <th>1</th>\n",
              "      <td>10001</td>\n",
              "      <td>63.082979</td>\n",
              "    </tr>\n",
              "    <tr>\n",
              "      <th>2</th>\n",
              "      <td>10002</td>\n",
              "      <td>54.907057</td>\n",
              "    </tr>\n",
              "    <tr>\n",
              "      <th>3</th>\n",
              "      <td>10003</td>\n",
              "      <td>89.784568</td>\n",
              "    </tr>\n",
              "    <tr>\n",
              "      <th>4</th>\n",
              "      <td>10004</td>\n",
              "      <td>88.670483</td>\n",
              "    </tr>\n",
              "  </tbody>\n",
              "</table>\n",
              "</div>"
            ],
            "text/plain": [
              "      Id  mean_exam_points\n",
              "0  10000         53.956919\n",
              "1  10001         63.082979\n",
              "2  10002         54.907057\n",
              "3  10003         89.784568\n",
              "4  10004         88.670483"
            ]
          },
          "metadata": {
            "tags": []
          },
          "execution_count": 34
        }
      ]
    },
    {
      "cell_type": "code",
      "metadata": {
        "id": "q5IVNHikC0Bt"
      },
      "source": [
        "answer.to_csv('submission.csv', index=None)"
      ],
      "execution_count": null,
      "outputs": []
    }
  ]
}